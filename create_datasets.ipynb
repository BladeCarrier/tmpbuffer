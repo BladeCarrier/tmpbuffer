{
 "cells": [
  {
   "cell_type": "code",
   "execution_count": 1,
   "metadata": {
    "collapsed": true
   },
   "outputs": [],
   "source": [
    "import numpy as np\n",
    "import pandas as pd\n",
    "from matplotlib import pyplot as plt\n",
    "%matplotlib inline"
   ]
  },
  {
   "cell_type": "code",
   "execution_count": 2,
   "metadata": {
    "collapsed": false
   },
   "outputs": [
    {
     "data": {
      "text/html": [
       "<div>\n",
       "<table border=\"1\" class=\"dataframe\">\n",
       "  <thead>\n",
       "    <tr style=\"text-align: right;\">\n",
       "      <th></th>\n",
       "      <th>cancel_time</th>\n",
       "      <th>dist</th>\n",
       "      <th>driver_found</th>\n",
       "      <th>due</th>\n",
       "      <th>f_class</th>\n",
       "      <th>lat</th>\n",
       "      <th>lon</th>\n",
       "      <th>s_class</th>\n",
       "      <th>t_class</th>\n",
       "    </tr>\n",
       "  </thead>\n",
       "  <tbody>\n",
       "    <tr>\n",
       "      <th>0</th>\n",
       "      <td>-1</td>\n",
       "      <td>17466.814282</td>\n",
       "      <td>False</td>\n",
       "      <td>2014-01-01 00:15:00.000</td>\n",
       "      <td>econom</td>\n",
       "      <td>55.861125</td>\n",
       "      <td>37.468335</td>\n",
       "      <td>NaN</td>\n",
       "      <td>NaN</td>\n",
       "    </tr>\n",
       "    <tr>\n",
       "      <th>1</th>\n",
       "      <td>-1</td>\n",
       "      <td>19200.533178</td>\n",
       "      <td>True</td>\n",
       "      <td>2014-01-01 00:15:00.000</td>\n",
       "      <td>econom</td>\n",
       "      <td>55.872102</td>\n",
       "      <td>37.672998</td>\n",
       "      <td>NaN</td>\n",
       "      <td>NaN</td>\n",
       "    </tr>\n",
       "    <tr>\n",
       "      <th>2</th>\n",
       "      <td>-1</td>\n",
       "      <td>19406.264026</td>\n",
       "      <td>True</td>\n",
       "      <td>2014-01-01 00:14:59.000</td>\n",
       "      <td>econom</td>\n",
       "      <td>55.899335</td>\n",
       "      <td>37.584883</td>\n",
       "      <td>NaN</td>\n",
       "      <td>NaN</td>\n",
       "    </tr>\n",
       "    <tr>\n",
       "      <th>3</th>\n",
       "      <td>-1</td>\n",
       "      <td>7384.500873</td>\n",
       "      <td>True</td>\n",
       "      <td>2014-01-01 00:15:00.000</td>\n",
       "      <td>econom</td>\n",
       "      <td>55.749035</td>\n",
       "      <td>37.657377</td>\n",
       "      <td>business</td>\n",
       "      <td>NaN</td>\n",
       "    </tr>\n",
       "    <tr>\n",
       "      <th>4</th>\n",
       "      <td>347</td>\n",
       "      <td>18475.892895</td>\n",
       "      <td>False</td>\n",
       "      <td>2014-01-01 00:30:00.000</td>\n",
       "      <td>econom</td>\n",
       "      <td>55.765954</td>\n",
       "      <td>37.609119</td>\n",
       "      <td>NaN</td>\n",
       "      <td>NaN</td>\n",
       "    </tr>\n",
       "    <tr>\n",
       "      <th>5</th>\n",
       "      <td>-1</td>\n",
       "      <td>-1.000000</td>\n",
       "      <td>True</td>\n",
       "      <td>2014-01-01 01:00:00.000</td>\n",
       "      <td>econom</td>\n",
       "      <td>55.541556</td>\n",
       "      <td>37.448638</td>\n",
       "      <td>NaN</td>\n",
       "      <td>NaN</td>\n",
       "    </tr>\n",
       "    <tr>\n",
       "      <th>6</th>\n",
       "      <td>-1</td>\n",
       "      <td>16756.166625</td>\n",
       "      <td>True</td>\n",
       "      <td>2014-01-01 00:15:00.000</td>\n",
       "      <td>econom</td>\n",
       "      <td>55.886539</td>\n",
       "      <td>37.589105</td>\n",
       "      <td>NaN</td>\n",
       "      <td>NaN</td>\n",
       "    </tr>\n",
       "    <tr>\n",
       "      <th>7</th>\n",
       "      <td>-1</td>\n",
       "      <td>1267.743236</td>\n",
       "      <td>True</td>\n",
       "      <td>2014-01-01 00:15:00.000</td>\n",
       "      <td>econom</td>\n",
       "      <td>55.782572</td>\n",
       "      <td>37.531936</td>\n",
       "      <td>business</td>\n",
       "      <td>NaN</td>\n",
       "    </tr>\n",
       "    <tr>\n",
       "      <th>8</th>\n",
       "      <td>117</td>\n",
       "      <td>8540.243014</td>\n",
       "      <td>True</td>\n",
       "      <td>2014-01-01 00:30:00.000</td>\n",
       "      <td>econom</td>\n",
       "      <td>55.721265</td>\n",
       "      <td>37.623196</td>\n",
       "      <td>business</td>\n",
       "      <td>NaN</td>\n",
       "    </tr>\n",
       "    <tr>\n",
       "      <th>9</th>\n",
       "      <td>632</td>\n",
       "      <td>4905.943311</td>\n",
       "      <td>False</td>\n",
       "      <td>2014-01-01 00:15:00.000</td>\n",
       "      <td>econom</td>\n",
       "      <td>51.668344</td>\n",
       "      <td>39.207752</td>\n",
       "      <td>business</td>\n",
       "      <td>NaN</td>\n",
       "    </tr>\n",
       "  </tbody>\n",
       "</table>\n",
       "</div>"
      ],
      "text/plain": [
       "   cancel_time          dist driver_found                      due f_class  \\\n",
       "0           -1  17466.814282        False  2014-01-01 00:15:00.000  econom   \n",
       "1           -1  19200.533178         True  2014-01-01 00:15:00.000  econom   \n",
       "2           -1  19406.264026         True  2014-01-01 00:14:59.000  econom   \n",
       "3           -1   7384.500873         True  2014-01-01 00:15:00.000  econom   \n",
       "4          347  18475.892895        False  2014-01-01 00:30:00.000  econom   \n",
       "5           -1     -1.000000         True  2014-01-01 01:00:00.000  econom   \n",
       "6           -1  16756.166625         True  2014-01-01 00:15:00.000  econom   \n",
       "7           -1   1267.743236         True  2014-01-01 00:15:00.000  econom   \n",
       "8          117   8540.243014         True  2014-01-01 00:30:00.000  econom   \n",
       "9          632   4905.943311        False  2014-01-01 00:15:00.000  econom   \n",
       "\n",
       "         lat        lon   s_class t_class  \n",
       "0  55.861125  37.468335       NaN     NaN  \n",
       "1  55.872102  37.672998       NaN     NaN  \n",
       "2  55.899335  37.584883       NaN     NaN  \n",
       "3  55.749035  37.657377  business     NaN  \n",
       "4  55.765954  37.609119       NaN     NaN  \n",
       "5  55.541556  37.448638       NaN     NaN  \n",
       "6  55.886539  37.589105       NaN     NaN  \n",
       "7  55.782572  37.531936  business     NaN  \n",
       "8  55.721265  37.623196  business     NaN  \n",
       "9  51.668344  39.207752  business     NaN  "
      ]
     },
     "execution_count": 2,
     "metadata": {},
     "output_type": "execute_result"
    }
   ],
   "source": [
    "data = pd.DataFrame.from_csv(\"./orders.csv\",index_col=None)\n",
    "\n",
    "data[:10]"
   ]
  },
  {
   "cell_type": "code",
   "execution_count": 3,
   "metadata": {
    "collapsed": true
   },
   "outputs": [],
   "source": [
    "data[\"burned\"] = data[\"cancel_time\"]>40 | (~data[\"driver_found\"])"
   ]
  },
  {
   "cell_type": "markdown",
   "metadata": {},
   "source": [
    "# order by datetime"
   ]
  },
  {
   "cell_type": "code",
   "execution_count": 4,
   "metadata": {
    "collapsed": true
   },
   "outputs": [],
   "source": [
    "from dateutil import parser\n",
    "\n",
    "datetimes = list(data.due.apply(lambda x: parser.parse(x)))\n",
    "\n",
    "rel_times = map(lambda dt: (dt.hour*60 + dt.minute)/(24.*60), datetimes)\n",
    "\n",
    "week_days = map( lambda x: x.isoweekday() , datetimes)\n",
    "\n",
    "ord_days = map( lambda x: x.toordinal() , datetimes)\n",
    "\n",
    "ord_days = np.array(ord_days)\n",
    "ord_days -= np.min(ord_days)\n",
    "rel_times = np.array(rel_times)\n",
    "week_days = np.array(week_days)"
   ]
  },
  {
   "cell_type": "code",
   "execution_count": 5,
   "metadata": {
    "collapsed": false
   },
   "outputs": [
    {
     "data": {
      "image/png": "[encoded data removed]",
      "text/plain": [
       "<matplotlib.figure.Figure at 0x7f270f46f390>"
      ]
     },
     "metadata": {},
     "output_type": "display_data"
    }
   ],
   "source": [
    "_=plt.hist(week_days[::10000],bins=7)"
   ]
  },
  {
   "cell_type": "code",
   "execution_count": 6,
   "metadata": {
    "collapsed": false
   },
   "outputs": [
    {
     "data": {
      "image/png": "[encoded data removed]",
      "text/plain": [
       "<matplotlib.figure.Figure at 0x7f271625e0d0>"
      ]
     },
     "metadata": {},
     "output_type": "display_data"
    }
   ],
   "source": [
    "_=plt.hist(rel_times[::1000],bins = 48)"
   ]
  },
  {
   "cell_type": "code",
   "execution_count": 7,
   "metadata": {
    "collapsed": false
   },
   "outputs": [
    {
     "data": {
      "image/png": "[encoded data removed]",
      "text/plain": [
       "<matplotlib.figure.Figure at 0x7f26e790c150>"
      ]
     },
     "metadata": {},
     "output_type": "display_data"
    }
   ],
   "source": [
    "_= plt.hist(ord_days[::100],bins=150)"
   ]
  },
  {
   "cell_type": "code",
   "execution_count": 8,
   "metadata": {
    "collapsed": true
   },
   "outputs": [],
   "source": [
    "abs_time = rel_times + ord_days\n",
    "sort_by_time = np.argsort(abs_time)"
   ]
  },
  {
   "cell_type": "markdown",
   "metadata": {
    "collapsed": false
   },
   "source": [
    "# Split data in chronological order"
   ]
  },
  {
   "cell_type": "code",
   "execution_count": 16,
   "metadata": {
    "collapsed": false
   },
   "outputs": [],
   "source": [
    "from sklearn.cross_validation import train_test_split\n",
    "\n",
    "data_sorted = data.iloc[sort_by_time]\n",
    "abs_time_sorted = abs_time[sort_by_time]\n",
    "\n",
    "data_sorted = data_sorted[abs_time_sorted <= 150]\n",
    "abs_time_sorted = abs_time_sorted[abs_time_sorted<=150]\n",
    "\n",
    "\n",
    "train = data_sorted.iloc[abs_time_sorted<90] #handout for participants\n",
    "evaluation = data_sorted.iloc[abs_time_sorted>=90] #public and private test\n",
    "\n",
    "#holdoff for shotgun AND final test\n",
    "\n",
    "\n",
    "holdoff , test = train_test_split(evaluation,test_size=0.49,random_state=32) #final test to be split into public/private"
   ]
  },
  {
   "cell_type": "code",
   "execution_count": 17,
   "metadata": {
    "collapsed": false
   },
   "outputs": [
    {
     "name": "stdout",
     "output_type": "stream",
     "text": [
      "1793300 657387 631609\n"
     ]
    }
   ],
   "source": [
    "print len(train),len(holdoff),len(test)"
   ]
  },
  {
   "cell_type": "code",
   "execution_count": 18,
   "metadata": {
    "collapsed": false
   },
   "outputs": [
    {
     "data": {
      "text/plain": [
       "[<matplotlib.lines.Line2D at 0x7f26e75c9ed0>]"
      ]
     },
     "execution_count": 18,
     "metadata": {},
     "output_type": "execute_result"
    },
    {
     "data": {
      "image/png": "[encoded data removed]",
      "text/plain": [
       "<matplotlib.figure.Figure at 0x7f26e7a5edd0>"
      ]
     },
     "metadata": {},
     "output_type": "display_data"
    }
   ],
   "source": [
    "plt.plot(abs_time_sorted,marker='+')"
   ]
  },
  {
   "cell_type": "markdown",
   "metadata": {},
   "source": [
    "# Add weights"
   ]
  },
  {
   "cell_type": "code",
   "execution_count": 33,
   "metadata": {
    "collapsed": true
   },
   "outputs": [],
   "source": [
    "def add_weights(data):\n",
    "    data = pd.DataFrame.copy(data)\n",
    "    posclass_prob = data.burned.mean()\n",
    "\n",
    "    weights = np.ones(len(data))\n",
    "    weights[data.burned.values] = ((1.-posclass_prob)/posclass_prob)**0.5\n",
    "    weights[~data.burned.values] =( posclass_prob/(1.-posclass_prob))**.5\n",
    "    \n",
    "    data[\"weights\"] = weights\n",
    "    return data"
   ]
  },
  {
   "cell_type": "code",
   "execution_count": 34,
   "metadata": {
    "collapsed": false
   },
   "outputs": [],
   "source": [
    "train,holdoff,test = map(add_weights, [train,holdoff,test])"
   ]
  },
  {
   "cell_type": "code",
   "execution_count": 35,
   "metadata": {
    "collapsed": false
   },
   "outputs": [
    {
     "data": {
      "text/plain": [
       "(662980.56421813753, 662980.56421813823)"
      ]
     },
     "execution_count": 35,
     "metadata": {},
     "output_type": "execute_result"
    }
   ],
   "source": [
    "train.weights[train.burned].sum(),train.weights[~train.burned].sum()"
   ]
  },
  {
   "cell_type": "code",
   "execution_count": 36,
   "metadata": {
    "collapsed": false
   },
   "outputs": [
    {
     "name": "stdout",
     "output_type": "stream",
     "text": [
      "train  : \t wsum = 1325961.13 \t len = 1793300 \t w_pos = 2.263 \t w_neg = 0.442 \t w_mean = 0.739 \n",
      "holdoff  : \t wsum = 473756.32 \t len = 657387 \t w_pos = 2.350 \t w_neg = 0.426 \t w_mean = 0.721 \n",
      "test  : \t wsum = 455348.78 \t len = 631609 \t w_pos = 2.348 \t w_neg = 0.426 \t w_mean = 0.721 \n"
     ]
    }
   ],
   "source": [
    "stats = [\n",
    "    ('train',train.weights.sum(), len(train), train.weights.max(),train.weights.min(),train.weights.mean()),\n",
    "    ('holdoff',holdoff.weights.sum(), len(holdoff), holdoff.weights.max(),holdoff.weights.min(),holdoff.weights.mean()),\n",
    "    ('test',test.weights.sum(), len(test), test.weights.max(),test.weights.min(),test.weights.mean())\n",
    "    ] \n",
    "for tpl in stats:\n",
    "    print \"%s  : \\t wsum = %.2f \\t len = %i \\t w_pos = %.3f \\t w_neg = %.3f \\t w_mean = %.3f \"%(tpl)"
   ]
  },
  {
   "cell_type": "markdown",
   "metadata": {},
   "source": [
    "# Compose data files"
   ]
  },
  {
   "cell_type": "code",
   "execution_count": 37,
   "metadata": {
    "collapsed": true
   },
   "outputs": [],
   "source": [
    "train[\"source\"] = \"training\"\n",
    "holdoff[\"source\"] = \"holdoff\"\n",
    "test[\"source\"] = \"testing\""
   ]
  },
  {
   "cell_type": "code",
   "execution_count": 38,
   "metadata": {
    "collapsed": false
   },
   "outputs": [],
   "source": [
    "#student handout of test dataset\n",
    "evaluation = pd.concat([holdoff,test])\n",
    "\n",
    "evaluation_handout = pd.DataFrame.copy(evaluation)\n",
    "\n",
    "del evaluation_handout[\"weights\"]\n",
    "del evaluation_handout[\"driver_found\"]\n",
    "del evaluation_handout[\"cancel_time\"]\n",
    "del evaluation_handout[\"burned\"]"
   ]
  },
  {
   "cell_type": "code",
   "execution_count": 39,
   "metadata": {
    "collapsed": true
   },
   "outputs": [],
   "source": [
    "evaluation_answers = evaluation[[\"burned\",\"source\",\"weights\"]]"
   ]
  },
  {
   "cell_type": "code",
   "execution_count": 40,
   "metadata": {
    "collapsed": false
   },
   "outputs": [
    {
     "name": "stdout",
     "output_type": "stream",
     "text": [
      "Index([u'cancel_time', u'dist', u'driver_found', u'due', u'f_class', u'lat',\n",
      "       u'lon', u's_class', u't_class', u'burned', u'weights', u'source'],\n",
      "      dtype='object')\n",
      "Index([u'dist', u'due', u'f_class', u'lat', u'lon', u's_class', u't_class',\n",
      "       u'source'],\n",
      "      dtype='object')\n"
     ]
    }
   ],
   "source": [
    "print evaluation.columns\n",
    "print evaluation_handout.columns"
   ]
  },
  {
   "cell_type": "code",
   "execution_count": 41,
   "metadata": {
    "collapsed": true
   },
   "outputs": [],
   "source": [
    "train.to_csv(\"train.csv\")\n",
    "holdoff.to_csv(\"holdoff.csv\")\n",
    "test.to_csv(\"test.csv\")\n",
    "evaluation.to_csv(\"evaluation.private.csv\")\n",
    "\n",
    "evaluation_handout.to_csv(\"evaluation.handout.csv\")"
   ]
  },
  {
   "cell_type": "code",
   "execution_count": 42,
   "metadata": {
    "collapsed": true
   },
   "outputs": [],
   "source": [
    "evaluation_answers.to_csv(\"evaluation.answers.csv\")"
   ]
  },
  {
   "cell_type": "code",
   "execution_count": null,
   "metadata": {
    "collapsed": true
   },
   "outputs": [],
   "source": []
  }
 ],
 "metadata": {
  "kernelspec": {
   "display_name": "Python 2",
   "language": "python",
   "name": "python2"
  },
  "language_info": {
   "codemirror_mode": {
    "name": "ipython",
    "version": 2
   },
   "file_extension": ".py",
   "mimetype": "text/x-python",
   "name": "python",
   "nbconvert_exporter": "python",
   "pygments_lexer": "ipython2",
   "version": "2.7.6"
  }
 },
 "nbformat": 4,
 "nbformat_minor": 0
}
