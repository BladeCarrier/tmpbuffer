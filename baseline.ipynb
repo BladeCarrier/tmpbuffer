{
 "cells": [
  {
   "cell_type": "code",
   "execution_count": 1,
   "metadata": {
    "collapsed": true
   },
   "outputs": [],
   "source": [
    "import numpy as np\n",
    "import pandas as pd\n",
    "from matplotlib import pyplot as plt\n",
    "%matplotlib inline"
   ]
  },
  {
   "cell_type": "code",
   "execution_count": 2,
   "metadata": {
    "collapsed": false
   },
   "outputs": [],
   "source": [
    "data = pd.DataFrame.from_csv(\"./train.csv\")"
   ]
  },
  {
   "cell_type": "code",
   "execution_count": 3,
   "metadata": {
    "collapsed": false
   },
   "outputs": [],
   "source": [
    "x_col = [ 'dist','due', 'lat','lon','f_class','s_class','t_class',]\n",
    "X_raw = data[x_col]\n",
    "y = data['burned'].values\n",
    "w = data['weights'].values"
   ]
  },
  {
   "cell_type": "code",
   "execution_count": 4,
   "metadata": {
    "collapsed": true
   },
   "outputs": [],
   "source": [
    "#Если у вас слабый компьютер - можно взять подвыборку данных\n",
    "#data = data[::2]"
   ]
  },
  {
   "cell_type": "markdown",
   "metadata": {
    "collapsed": true
   },
   "source": [
    "# Простое решение\n",
    "- Сделаем One-Hot encoding для всех категориальных фичей\n",
    "- Научим Random Forest"
   ]
  },
  {
   "cell_type": "markdown",
   "metadata": {},
   "source": [
    "### Предобработка данных"
   ]
  },
  {
   "cell_type": "code",
   "execution_count": 5,
   "metadata": {
    "collapsed": false
   },
   "outputs": [],
   "source": [
    "from sklearn.feature_extraction import DictVectorizer\n",
    "\n",
    "#вытаскиватель категориальных фичей\n",
    "vectorizer = DictVectorizer(sparse=False,dtype=np.bool)\n",
    "\n",
    "def preprocess_data(X_raw):\n",
    "    data_dict = [ {'f_class':f,'s_class':s,'t_class':t}\n",
    "               for f,s,t in X_raw[['f_class','s_class','t_class']].values ]\n",
    "\n",
    "    Xcat = vectorizer.fit_transform(data_dict)\n",
    "    \n",
    "    real_features = [\"dist\",\"lat\",\"lon\"]\n",
    "    Xreal = X_raw[real_features].values\n",
    "    Xfull = np.concatenate([\n",
    "            Xreal,\n",
    "            Xcat            \n",
    "        ],axis=1)\n",
    "    \n",
    "    return pd.DataFrame(Xfull,columns=real_features+vectorizer.feature_names_)"
   ]
  },
  {
   "cell_type": "code",
   "execution_count": 6,
   "metadata": {
    "collapsed": false
   },
   "outputs": [],
   "source": [
    "X = preprocess_data(X_raw)"
   ]
  },
  {
   "cell_type": "markdown",
   "metadata": {},
   "source": [
    "### Поделим на обучение и валидацию\n",
    "* Важно, что мы делим не случайно, а по времени:\n",
    " * Валидационная выборка вся находится строго раньше тестовой\n",
    " * Это вызвано тем, что тестовые данные по времени дальше обучающих"
   ]
  },
  {
   "cell_type": "code",
   "execution_count": 7,
   "metadata": {
    "collapsed": false
   },
   "outputs": [],
   "source": [
    "\n",
    "Xtr = X[:1000000]\n",
    "Xval = X[1000000:]\n",
    "Ytr = y[:1000000]\n",
    "Yval = y[1000000:]\n",
    "Wtr = w[:1000000]\n",
    "Wval = w[1000000:]\n"
   ]
  },
  {
   "cell_type": "markdown",
   "metadata": {},
   "source": [
    "### Обучим модель"
   ]
  },
  {
   "cell_type": "code",
   "execution_count": 8,
   "metadata": {
    "collapsed": false
   },
   "outputs": [
    {
     "data": {
      "text/plain": [
       "RandomForestClassifier(bootstrap=True, class_weight=None, criterion='gini',\n",
       "            max_depth=12, max_features='auto', max_leaf_nodes=None,\n",
       "            min_samples_leaf=1, min_samples_split=2,\n",
       "            min_weight_fraction_leaf=0.0, n_estimators=100, n_jobs=-1,\n",
       "            oob_score=False, random_state=None, verbose=0,\n",
       "            warm_start=False)"
      ]
     },
     "execution_count": 8,
     "metadata": {},
     "output_type": "execute_result"
    }
   ],
   "source": [
    "\n",
    "from sklearn.ensemble import RandomForestClassifier\n",
    "\n",
    "model = RandomForestClassifier(n_estimators=100,n_jobs=-1,max_depth=12)\n",
    "\n",
    "model.fit(Xtr,Ytr,sample_weight=Wtr)\n"
   ]
  },
  {
   "cell_type": "markdown",
   "metadata": {},
   "source": [
    "# Оценим качество"
   ]
  },
  {
   "cell_type": "code",
   "execution_count": 9,
   "metadata": {
    "collapsed": false
   },
   "outputs": [
    {
     "name": "stdout",
     "output_type": "stream",
     "text": [
      "train: \t AUC = 0.63934 \t Accuracy = 0.60739 \t Precision = 0.65604 \t Recall = 0.42735\n",
      "val: \t AUC = 0.64519 \t Accuracy = 0.61036 \t Precision = 0.67875 \t Recall = 0.44492\n"
     ]
    },
    {
     "data": {
      "text/plain": [
       "<matplotlib.legend.Legend at 0x7f587177b850>"
      ]
     },
     "execution_count": 9,
     "metadata": {},
     "output_type": "execute_result"
    },
    {
     "data": {
      "image/png": "[encoded data removed]",
      "text/plain": [
       "<matplotlib.figure.Figure at 0x7f5875306d50>"
      ]
     },
     "metadata": {},
     "output_type": "display_data"
    }
   ],
   "source": [
    "from sklearn.metrics import roc_auc_score,accuracy_score,precision_score,recall_score\n",
    "from sklearn.metrics import roc_curve\n",
    "\n",
    "\n",
    "for source_i, Xi,Yi,Wi in [\n",
    "                            [\"train\",Xtr,Ytr,Wtr],\n",
    "                            [\"val\",Xval,Yval,Wval]\n",
    "                                ]:\n",
    "    \n",
    "    # Предскажем вероятность сгорания\n",
    "    Yi_pred_proba = model.predict_proba(Xi)[:,1]\n",
    "    \n",
    "    #Поделим предсказание на сгоревшие и не сгоревшие по порогу (0.5)\n",
    "    thr = 0.5\n",
    "    Yi_pred_class = Yi_pred_proba>thr\n",
    "\n",
    "    auc = roc_auc_score(Yi,Yi_pred_proba,sample_weight = Wi)\n",
    "    acc = accuracy_score(Yi,Yi_pred_class,sample_weight = Wi)\n",
    "    prc = precision_score(Yi,Yi_pred_class,sample_weight = Wi)\n",
    "    rcl = recall_score(Yi,Yi_pred_class,sample_weight = Wi)\n",
    "    \n",
    "    print '%s: \\t AUC = %.5f \\t Accuracy = %.5f \\t Precision = %.5f \\t Recall = %.5f'%(source_i, auc, acc,prc,rcl)\n",
    "    \n",
    "    fpr,tpr,_ = roc_curve(Yi,Yi_pred_proba,sample_weight=Wi)\n",
    "    \n",
    "    plt.plot(fpr,tpr,label = source_i)\n",
    "    \n",
    "plt.legend()\n"
   ]
  },
  {
   "cell_type": "markdown",
   "metadata": {},
   "source": [
    "# Оценим полезность признаков"
   ]
  },
  {
   "cell_type": "code",
   "execution_count": 11,
   "metadata": {
    "collapsed": false
   },
   "outputs": [],
   "source": [
    "def plot_forest_feature_importances(rf,feature_names):\n",
    "    importances = rf.feature_importances_\n",
    "    std = np.std([tree.feature_importances_ for tree in rf.estimators_],\n",
    "                 axis=0)\n",
    "    indices = np.argsort(importances)[::-1]\n",
    "\n",
    "    # Print the feature ranking\n",
    "    print(\"Feature ranking:\")\n",
    "\n",
    "    for f in range(X.shape[1]):\n",
    "        print(\"%d. %s (%f)\" % (f + 1, feature_names[f], importances[indices[f]]))\n",
    "\n",
    "    # Plot the feature importances of the forest\n",
    "    plt.figure()\n",
    "    plt.title(\"Feature importances\")\n",
    "    plt.bar(range(X.shape[1]), importances[indices],\n",
    "           color=\"r\", yerr=std[indices], align=\"center\")\n",
    "    plt.xticks(range(X.shape[1]), indices)\n",
    "    plt.xlim([-1, X.shape[1]])\n",
    "    \n",
    "    plt.yscale(\"log\")\n",
    "    plt.show()"
   ]
  },
  {
   "cell_type": "code",
   "execution_count": 12,
   "metadata": {
    "collapsed": false
   },
   "outputs": [
    {
     "name": "stdout",
     "output_type": "stream",
     "text": [
      "Feature ranking:\n",
      "1. dist (0.357885)\n",
      "2. lat (0.314754)\n",
      "3. lon (0.312378)\n",
      "4. f_class (0.003039)\n",
      "5. f_class=business (0.002882)\n",
      "6. f_class=econom (0.001688)\n",
      "7. f_class=vip (0.001514)\n",
      "8. s_class (0.001355)\n",
      "9. s_class=business (0.001137)\n",
      "10. s_class=econom (0.001119)\n",
      "11. s_class=vip (0.000752)\n",
      "12. t_class (0.000745)\n",
      "13. t_class=business (0.000472)\n",
      "14. t_class=econom (0.000159)\n",
      "15. t_class=vip (0.000122)\n"
     ]
    },
    {
     "name": "stderr",
     "output_type": "stream",
     "text": [
      "/usr/lib/pymodules/python2.7/matplotlib/collections.py:548: FutureWarning: elementwise comparison failed; returning scalar instead, but in the future will perform elementwise comparison\n",
      "  if self._edgecolors == 'face':\n"
     ]
    },
    {
     "data": {
      "image/png": "[encoded data removed]",
      "text/plain": [
       "<matplotlib.figure.Figure at 0x7f0fdde69490>"
      ]
     },
     "metadata": {},
     "output_type": "display_data"
    }
   ],
   "source": [
    "plot_forest_feature_importances(model,X.columns)"
   ]
  },
  {
   "cell_type": "markdown",
   "metadata": {},
   "source": [
    "# Отгрузим решение в файл"
   ]
  },
  {
   "cell_type": "code",
   "execution_count": 13,
   "metadata": {
    "collapsed": false
   },
   "outputs": [],
   "source": [
    "def generate_submission(preproc_fun,model,filename=\"submission.csv\"):\n",
    "    \n",
    "    data_eval = pd.DataFrame.from_csv(\"./evaluation.handout.csv\")\n",
    "    \n",
    "    \n",
    "    x_col = [ 'dist','due', 'lat','lon','f_class','s_class','t_class',]\n",
    "    X_eval = preproc_fun(data_eval[x_col])\n",
    "    \n",
    "    # Предскажем вероятность сгорания\n",
    "    Y_pred_proba_eval = model.predict_proba(X_eval)[:,1]\n",
    "    \n",
    "    #Поделим предсказание на сгоревшие и не сгоревшие по порогу (thr)\n",
    "    thr = 0.5\n",
    "    Y_pred_class_eval = Y_pred_proba_eval>thr\n",
    "    \n",
    "    \n",
    "    response = pd.DataFrame()\n",
    "    response[\"Y_class\"] = Y_pred_class_eval.astype(int)\n",
    "    response[\"Y_prob\"] = map(\"{0:.5f}\".format,Y_pred_proba_eval)\n",
    "    \n",
    "    \n",
    "    response.to_csv(filename,index=None)"
   ]
  },
  {
   "cell_type": "code",
   "execution_count": 14,
   "metadata": {
    "collapsed": false
   },
   "outputs": [],
   "source": [
    "generate_submission(preprocess_data,model,\"submission.csv\")"
   ]
  },
  {
   "cell_type": "markdown",
   "metadata": {},
   "source": [
    "# Используем время и внешние данные\n",
    "* признаки - \n",
    " * день недели (1-7 от понедельника до воскресенья категориальными признаками) \n",
    " * время дня (вещественное число от 0 до 1 - от 00.00 до 23.59)\n",
    "* абсолютное время не используем т.к. обучение и тест не пересекаются по времени\n",
    "* отдельно посмотрим список праздников в этом году и сделаем из этого отдельный признак"
   ]
  },
  {
   "cell_type": "code",
   "execution_count": 16,
   "metadata": {
    "collapsed": false
   },
   "outputs": [],
   "source": [
    "\n",
    "\n",
    "#вытаскиватель категориальных фичей\n",
    "from sklearn.feature_extraction import DictVectorizer\n",
    "vectorizer = DictVectorizer(sparse=False,dtype=np.bool)\n",
    "\n",
    "# используем встроенный питоновый парсер времени\n",
    "from dateutil import parser\n",
    "\n",
    "def preprocess_with_time(X_raw):\n",
    "\n",
    "    #распарсим время\n",
    "    datetimes = list(X_raw.due.apply(lambda x: parser.parse(x)))\n",
    "\n",
    "    #время дня от 0 до 1\n",
    "    rel_times = map(lambda dt: (dt.hour*60 + dt.minute)/(24.*60), datetimes)\n",
    "\n",
    "    #день недели\n",
    "    week_days = map( lambda x: x.isoweekday() , datetimes)\n",
    "\n",
    "    rel_times = np.array(rel_times)\n",
    "    week_days = np.array(week_days)\n",
    "\n",
    "    \n",
    "    \n",
    "    dow_names = ['mon','tue','wed','thu','fri','sat','sun']\n",
    "    \n",
    "    data_dict = ( {'f_class':f,'s_class':s,'t_class':t,'day_of_week':dow_names[day_of_week-1]}\n",
    "               for (f,s,t),day_of_week in zip(X_raw[['f_class','s_class','t_class']].values, week_days) )\n",
    "\n",
    "    Xcat = vectorizer.fit_transform(data_dict)\n",
    "\n",
    "    X_raw[\"time_of_day_rel\"] = rel_times\n",
    "    real_features = [\"dist\",\"lat\",\"lon\",\"time_of_day_rel\"]\n",
    "    Xreal = X_raw[real_features].values\n",
    "    \n",
    "    \n",
    "    Xfull = np.concatenate([\n",
    "            Xreal,\n",
    "            Xcat            \n",
    "        ],axis=1)\n",
    "    \n",
    "    return pd.DataFrame(Xfull,columns=real_features+vectorizer.feature_names_)\n",
    "\n",
    "\n"
   ]
  },
  {
   "cell_type": "code",
   "execution_count": 18,
   "metadata": {
    "collapsed": false
   },
   "outputs": [
    {
     "name": "stderr",
     "output_type": "stream",
     "text": [
      "/usr/local/lib/python2.7/dist-packages/ipykernel/__main__.py:33: SettingWithCopyWarning: \n",
      "A value is trying to be set on a copy of a slice from a DataFrame.\n",
      "Try using .loc[row_indexer,col_indexer] = value instead\n",
      "\n",
      "See the caveats in the documentation: http://pandas.pydata.org/pandas-docs/stable/indexing.html#indexing-view-versus-copy\n"
     ]
    }
   ],
   "source": [
    "x_col = [ 'dist','due', 'lat','lon','f_class','s_class','t_class',]\n",
    "X = data[x_col]\n",
    "y = data['burned'].values\n",
    "w = data['weights'].values\n",
    "\n",
    "X = preprocess_with_time(X_raw)"
   ]
  },
  {
   "cell_type": "code",
   "execution_count": 19,
   "metadata": {
    "collapsed": false
   },
   "outputs": [],
   "source": [
    "#делим на обучение и тест\n",
    "Xtr = X[:1000000]\n",
    "Xval = X[1000000:]\n",
    "Ytr = y[:1000000]\n",
    "Yval = y[1000000:]\n",
    "Wtr = w[:1000000]\n",
    "Wval = w[1000000:]\n"
   ]
  },
  {
   "cell_type": "code",
   "execution_count": 20,
   "metadata": {
    "collapsed": false
   },
   "outputs": [
    {
     "data": {
      "text/plain": [
       "RandomForestClassifier(bootstrap=True, class_weight=None, criterion='gini',\n",
       "            max_depth=None, max_features='auto', max_leaf_nodes=None,\n",
       "            min_samples_leaf=1, min_samples_split=75,\n",
       "            min_weight_fraction_leaf=0.0, n_estimators=100, n_jobs=-1,\n",
       "            oob_score=False, random_state=None, verbose=0,\n",
       "            warm_start=False)"
      ]
     },
     "execution_count": 20,
     "metadata": {},
     "output_type": "execute_result"
    }
   ],
   "source": [
    "\n",
    "from sklearn.ensemble import RandomForestClassifier\n",
    "\n",
    "model = RandomForestClassifier(n_estimators=100,n_jobs=-1,min_samples_split=75,)\n",
    "\n",
    "model.fit(Xtr,Ytr,sample_weight=Wtr)\n"
   ]
  },
  {
   "cell_type": "markdown",
   "metadata": {},
   "source": [
    "# Оценим качество модели\n",
    "* старым методом"
   ]
  },
  {
   "cell_type": "code",
   "execution_count": 21,
   "metadata": {
    "collapsed": false
   },
   "outputs": [
    {
     "name": "stdout",
     "output_type": "stream",
     "text": [
      "train: \t AUC = 0.88071 \t Accuracy = 0.76753 \t Precision = 0.82094 \t Recall = 0.67562\n",
      "val: \t AUC = 0.64591 \t Accuracy = 0.59758 \t Precision = 0.70793 \t Recall = 0.35615\n"
     ]
    },
    {
     "data": {
      "text/plain": [
       "<matplotlib.legend.Legend at 0x7f0fd0447ed0>"
      ]
     },
     "execution_count": 21,
     "metadata": {},
     "output_type": "execute_result"
    },
    {
     "data": {
      "image/png": "[encoded data removed]",
      "text/plain": [
       "<matplotlib.figure.Figure at 0x7f0f2c2cb510>"
      ]
     },
     "metadata": {},
     "output_type": "display_data"
    }
   ],
   "source": [
    "from sklearn.metrics import roc_auc_score,accuracy_score,precision_score,recall_score\n",
    "from sklearn.metrics import roc_curve\n",
    "\n",
    "\n",
    "for source_i, Xi,Yi,Wi in [\n",
    "                            [\"train\",Xtr,Ytr,Wtr],\n",
    "                            [\"val\",Xval,Yval,Wval]\n",
    "                                ]:\n",
    "    \n",
    "    # Предскажем вероятность сгорания\n",
    "    Yi_pred_proba = model.predict_proba(Xi)[:,1]\n",
    "    \n",
    "    #Поделим предсказание на сгоревшие и не сгоревшие по порогу (0.5)\n",
    "    thr = 0.5\n",
    "    Yi_pred_class = Yi_pred_proba>thr\n",
    "\n",
    "    auc = roc_auc_score(Yi,Yi_pred_proba,sample_weight = Wi)\n",
    "    acc = accuracy_score(Yi,Yi_pred_class,sample_weight = Wi)\n",
    "    prc = precision_score(Yi,Yi_pred_class,sample_weight = Wi)\n",
    "    rcl = recall_score(Yi,Yi_pred_class,sample_weight = Wi)\n",
    "    \n",
    "    print '%s: \\t AUC = %.5f \\t Accuracy = %.5f \\t Precision = %.5f \\t Recall = %.5f'%(source_i, auc, acc,prc,rcl)\n",
    "    \n",
    "    fpr,tpr,_ = roc_curve(Yi,Yi_pred_proba,sample_weight=Wi)\n",
    "    \n",
    "    plt.plot(fpr,tpr,label = source_i)\n",
    "    \n",
    "plt.legend()\n"
   ]
  },
  {
   "cell_type": "code",
   "execution_count": 22,
   "metadata": {
    "collapsed": false
   },
   "outputs": [
    {
     "name": "stdout",
     "output_type": "stream",
     "text": [
      "Feature ranking:\n",
      "1. dist (0.286148)\n",
      "2. lat (0.239546)\n",
      "3. lon (0.237580)\n",
      "4. time_of_day_rel (0.191029)\n",
      "5. day_of_week=fri (0.003751)\n",
      "6. day_of_week=mon (0.003480)\n",
      "7. day_of_week=sat (0.003357)\n",
      "8. day_of_week=sun (0.003237)\n",
      "9. day_of_week=thu (0.003157)\n",
      "10. day_of_week=tue (0.003110)\n",
      "11. day_of_week=wed (0.003075)\n",
      "12. f_class (0.002968)\n",
      "13. f_class=business (0.002954)\n",
      "14. f_class=econom (0.002899)\n",
      "15. f_class=vip (0.002839)\n",
      "16. s_class (0.002781)\n",
      "17. s_class=business (0.002338)\n",
      "18. s_class=econom (0.002065)\n",
      "19. s_class=vip (0.001212)\n",
      "20. t_class (0.001154)\n",
      "21. t_class=business (0.000934)\n",
      "22. t_class=econom (0.000235)\n",
      "23. t_class=vip (0.000151)\n"
     ]
    },
    {
     "data": {
      "image/png": "[encoded data removed]",
      "text/plain": [
       "<matplotlib.figure.Figure at 0x7f0fd07f2fd0>"
      ]
     },
     "metadata": {},
     "output_type": "display_data"
    }
   ],
   "source": [
    "plot_forest_feature_importances(model,X.columns)"
   ]
  },
  {
   "cell_type": "code",
   "execution_count": 27,
   "metadata": {
    "collapsed": false
   },
   "outputs": [],
   "source": [
    "#Используем данные о праздниках отсюда - http://eduscan.net/help/calendar2014 http://newslab.ru/article/559455\n",
    "\n",
    "holidays = \"1.01,2.01,3.01,4.01,5.01,6.01,7.01,8.01,\"\\\n",
    "\"23.02,8.03,9.03,10.03,1.05,2.05,3.05,4.05,9.05,10.05,11.05,12.06,13.06\".split(',')\n",
    "\n",
    "holidays = map(lambda s: tuple(map(int,s.split('.'))),holidays)\n",
    "\n",
    "#вытаскиватель категориальных фичей\n",
    "from sklearn.feature_extraction import DictVectorizer\n",
    "vectorizer = DictVectorizer(sparse=False,dtype=np.bool)\n",
    "\n",
    "# используем встроенный питоновый парсер времени\n",
    "from dateutil import parser\n",
    "\n",
    "def preprocess_with_holidays(X_raw):\n",
    "\n",
    "    #распарсим время\n",
    "    datetimes = list(X_raw.due.apply(lambda x: parser.parse(x)))\n",
    "\n",
    "    #время дня от 0 до 1\n",
    "    rel_times = map(lambda dt: (dt.hour*60 + dt.minute)/(24.*60), datetimes)\n",
    "\n",
    "    #день недели\n",
    "    week_days = map( lambda x: x.isoweekday() , datetimes)\n",
    "\n",
    "    rel_times = np.array(rel_times)\n",
    "    week_days = np.array(week_days)\n",
    "    \n",
    "    is_holiday = map(lambda dt: (dt.day,dt.month) in holidays,\n",
    "                 datetimes)\n",
    "\n",
    "    \n",
    "    \n",
    "    dow_names = ['mon','tue','wed','thu','fri','sat','sun']\n",
    "    \n",
    "    data_dict = ( {'f_class':f,'s_class':s,'t_class':t,'day_of_week':dow_names[day_of_week-1]}\n",
    "               for (f,s,t),day_of_week in zip(X_raw[['f_class','s_class','t_class']].values, week_days) )\n",
    "\n",
    "    Xcat = vectorizer.fit_transform(data_dict)\n",
    "\n",
    "    X_raw[\"time_of_day_rel\"] = rel_times\n",
    "    X_raw[\"is_holiday\"] = is_holiday\n",
    "    other_features = [\"dist\",\"lat\",\"lon\",\"time_of_day_rel\",\"is_holiday\"]\n",
    "    Xreal = X_raw[other_features].values\n",
    "    \n",
    "    \n",
    "    Xfull = np.concatenate([\n",
    "            Xreal,\n",
    "            Xcat            \n",
    "        ],axis=1)\n",
    "    \n",
    "    return pd.DataFrame(Xfull,columns=other_features+vectorizer.feature_names_)"
   ]
  },
  {
   "cell_type": "code",
   "execution_count": 28,
   "metadata": {
    "collapsed": false
   },
   "outputs": [
    {
     "name": "stderr",
     "output_type": "stream",
     "text": [
      "/usr/local/lib/python2.7/dist-packages/ipykernel/__main__.py:40: SettingWithCopyWarning: \n",
      "A value is trying to be set on a copy of a slice from a DataFrame.\n",
      "Try using .loc[row_indexer,col_indexer] = value instead\n",
      "\n",
      "See the caveats in the documentation: http://pandas.pydata.org/pandas-docs/stable/indexing.html#indexing-view-versus-copy\n",
      "/usr/local/lib/python2.7/dist-packages/ipykernel/__main__.py:41: SettingWithCopyWarning: \n",
      "A value is trying to be set on a copy of a slice from a DataFrame.\n",
      "Try using .loc[row_indexer,col_indexer] = value instead\n",
      "\n",
      "See the caveats in the documentation: http://pandas.pydata.org/pandas-docs/stable/indexing.html#indexing-view-versus-copy\n"
     ]
    }
   ],
   "source": [
    "#обработаем данные\n",
    "x_col = [ 'dist','due', 'lat','lon','f_class','s_class','t_class',]\n",
    "X = data[x_col]\n",
    "y = data['burned'].values\n",
    "w = data['weights'].values\n",
    "\n",
    "X = preprocess_with_holidays(X_raw)"
   ]
  },
  {
   "cell_type": "code",
   "execution_count": 29,
   "metadata": {
    "collapsed": true
   },
   "outputs": [],
   "source": [
    "#обучение и тест\n",
    "Xtr = X[:1000000]\n",
    "Xval = X[1000000:]\n",
    "Ytr = y[:1000000]\n",
    "Yval = y[1000000:]\n",
    "Wtr = w[:1000000]\n",
    "Wval = w[1000000:]\n"
   ]
  },
  {
   "cell_type": "code",
   "execution_count": 30,
   "metadata": {
    "collapsed": false
   },
   "outputs": [
    {
     "data": {
      "text/plain": [
       "RandomForestClassifier(bootstrap=True, class_weight=None, criterion='gini',\n",
       "            max_depth=None, max_features='auto', max_leaf_nodes=None,\n",
       "            min_samples_leaf=20, min_samples_split=75,\n",
       "            min_weight_fraction_leaf=0.0, n_estimators=100, n_jobs=-1,\n",
       "            oob_score=False, random_state=None, verbose=0,\n",
       "            warm_start=False)"
      ]
     },
     "execution_count": 30,
     "metadata": {},
     "output_type": "execute_result"
    }
   ],
   "source": [
    "\n",
    "from sklearn.ensemble import RandomForestClassifier\n",
    "\n",
    "#Также обучим более \"случайную\" версию RandomForest\n",
    "model = RandomForestClassifier(n_estimators=100,n_jobs=-1,min_samples_split=75,min_samples_leaf=20)\n",
    "\n",
    "model.fit(Xtr,Ytr,sample_weight=Wtr)\n"
   ]
  },
  {
   "cell_type": "code",
   "execution_count": 31,
   "metadata": {
    "collapsed": false
   },
   "outputs": [
    {
     "name": "stdout",
     "output_type": "stream",
     "text": [
      "train: \t AUC = 0.81707 \t Accuracy = 0.71432 \t Precision = 0.75312 \t Recall = 0.62523\n",
      "val: \t AUC = 0.65071 \t Accuracy = 0.60863 \t Precision = 0.69070 \t Recall = 0.41821\n"
     ]
    },
    {
     "data": {
      "text/plain": [
       "<matplotlib.legend.Legend at 0x7f0f2c2cb090>"
      ]
     },
     "execution_count": 31,
     "metadata": {},
     "output_type": "execute_result"
    },
    {
     "data": {
      "image/png": "[encoded data removed]",
      "text/plain": [
       "<matplotlib.figure.Figure at 0x7f0fd080a110>"
      ]
     },
     "metadata": {},
     "output_type": "display_data"
    }
   ],
   "source": [
    "from sklearn.metrics import roc_auc_score,accuracy_score,precision_score,recall_score\n",
    "from sklearn.metrics import roc_curve\n",
    "\n",
    "\n",
    "for source_i, Xi,Yi,Wi in [\n",
    "                            [\"train\",Xtr,Ytr,Wtr],\n",
    "                            [\"val\",Xval,Yval,Wval]\n",
    "                                ]:\n",
    "    \n",
    "    # Предскажем вероятность сгорания\n",
    "    Yi_pred_proba = model.predict_proba(Xi)[:,1]\n",
    "    \n",
    "    #Поделим предсказание на сгоревшие и не сгоревшие по порогу (0.5)\n",
    "    thr = 0.5\n",
    "    Yi_pred_class = Yi_pred_proba>thr\n",
    "\n",
    "    auc = roc_auc_score(Yi,Yi_pred_proba,sample_weight = Wi)\n",
    "    acc = accuracy_score(Yi,Yi_pred_class,sample_weight = Wi)\n",
    "    prc = precision_score(Yi,Yi_pred_class,sample_weight = Wi)\n",
    "    rcl = recall_score(Yi,Yi_pred_class,sample_weight = Wi)\n",
    "    \n",
    "    print '%s: \\t AUC = %.5f \\t Accuracy = %.5f \\t Precision = %.5f \\t Recall = %.5f'%(source_i, auc, acc,prc,rcl)\n",
    "    \n",
    "    fpr,tpr,_ = roc_curve(Yi,Yi_pred_proba,sample_weight=Wi)\n",
    "    \n",
    "    plt.plot(fpr,tpr,label = source_i)\n",
    "    \n",
    "plt.legend()\n"
   ]
  },
  {
   "cell_type": "code",
   "execution_count": 32,
   "metadata": {
    "collapsed": false
   },
   "outputs": [
    {
     "name": "stdout",
     "output_type": "stream",
     "text": [
      "Feature ranking:\n",
      "1. dist (0.306147)\n",
      "2. lat (0.224653)\n",
      "3. lon (0.223434)\n",
      "4. time_of_day_rel (0.179746)\n",
      "5. is_holiday (0.008543)\n",
      "6. day_of_week=fri (0.005353)\n",
      "7. day_of_week=mon (0.004624)\n",
      "8. day_of_week=sat (0.004437)\n",
      "9. day_of_week=sun (0.004349)\n",
      "10. day_of_week=thu (0.004240)\n",
      "11. day_of_week=tue (0.004149)\n",
      "12. day_of_week=wed (0.003924)\n",
      "13. f_class (0.003588)\n",
      "14. f_class=business (0.003542)\n",
      "15. f_class=econom (0.003385)\n",
      "16. f_class=vip (0.003375)\n",
      "17. s_class (0.003164)\n",
      "18. s_class=business (0.002870)\n",
      "19. s_class=econom (0.002408)\n",
      "20. s_class=vip (0.001590)\n",
      "21. t_class (0.001437)\n",
      "22. t_class=business (0.000736)\n",
      "23. t_class=econom (0.000175)\n",
      "24. t_class=vip (0.000131)\n"
     ]
    },
    {
     "data": {
      "image/png": "[encoded data removed]",
      "text/plain": [
       "<matplotlib.figure.Figure at 0x7f0fd04e8910>"
      ]
     },
     "metadata": {},
     "output_type": "display_data"
    }
   ],
   "source": [
    "plot_forest_feature_importances(model,X.columns)"
   ]
  },
  {
   "cell_type": "code",
   "execution_count": 33,
   "metadata": {
    "collapsed": false
   },
   "outputs": [
    {
     "ename": "KeyboardInterrupt",
     "evalue": "",
     "output_type": "error",
     "traceback": [
      "\u001b[1;31m---------------------------------------------------------------------------\u001b[0m",
      "\u001b[1;31mKeyboardInterrupt\u001b[0m                         Traceback (most recent call last)",
      "\u001b[1;32m<ipython-input-33-0eb827d7af10>\u001b[0m in \u001b[0;36m<module>\u001b[1;34m()\u001b[0m\n\u001b[1;32m----> 1\u001b[1;33m \u001b[0mgenerate_submission\u001b[0m\u001b[1;33m(\u001b[0m\u001b[0mpreprocess_with_holidays\u001b[0m\u001b[1;33m,\u001b[0m\u001b[0mmodel\u001b[0m\u001b[1;33m,\u001b[0m\u001b[1;34m\"submission2.csv\"\u001b[0m\u001b[1;33m)\u001b[0m\u001b[1;33m\u001b[0m\u001b[0m\n\u001b[0m",
      "\u001b[1;32m<ipython-input-13-491946d0a3ae>\u001b[0m in \u001b[0;36mgenerate_submission\u001b[1;34m(preproc_fun, model, filename)\u001b[0m\n\u001b[0;32m      5\u001b[0m \u001b[1;33m\u001b[0m\u001b[0m\n\u001b[0;32m      6\u001b[0m     \u001b[0mx_col\u001b[0m \u001b[1;33m=\u001b[0m \u001b[1;33m[\u001b[0m \u001b[1;34m'dist'\u001b[0m\u001b[1;33m,\u001b[0m\u001b[1;34m'due'\u001b[0m\u001b[1;33m,\u001b[0m \u001b[1;34m'lat'\u001b[0m\u001b[1;33m,\u001b[0m\u001b[1;34m'lon'\u001b[0m\u001b[1;33m,\u001b[0m\u001b[1;34m'f_class'\u001b[0m\u001b[1;33m,\u001b[0m\u001b[1;34m's_class'\u001b[0m\u001b[1;33m,\u001b[0m\u001b[1;34m't_class'\u001b[0m\u001b[1;33m,\u001b[0m\u001b[1;33m]\u001b[0m\u001b[1;33m\u001b[0m\u001b[0m\n\u001b[1;32m----> 7\u001b[1;33m     \u001b[0mX_eval\u001b[0m \u001b[1;33m=\u001b[0m \u001b[0mpreproc_fun\u001b[0m\u001b[1;33m(\u001b[0m\u001b[0mdata_eval\u001b[0m\u001b[1;33m[\u001b[0m\u001b[0mx_col\u001b[0m\u001b[1;33m]\u001b[0m\u001b[1;33m)\u001b[0m\u001b[1;33m\u001b[0m\u001b[0m\n\u001b[0m\u001b[0;32m      8\u001b[0m \u001b[1;33m\u001b[0m\u001b[0m\n\u001b[0;32m      9\u001b[0m     \u001b[1;31m# Предскажем вероятность сгорания\u001b[0m\u001b[1;33m\u001b[0m\u001b[1;33m\u001b[0m\u001b[0m\n",
      "\u001b[1;32m<ipython-input-27-2634ad5ebff7>\u001b[0m in \u001b[0;36mpreprocess_with_holidays\u001b[1;34m(X_raw)\u001b[0m\n\u001b[0;32m     15\u001b[0m \u001b[1;33m\u001b[0m\u001b[0m\n\u001b[0;32m     16\u001b[0m     \u001b[1;31m#распарсим время\u001b[0m\u001b[1;33m\u001b[0m\u001b[1;33m\u001b[0m\u001b[0m\n\u001b[1;32m---> 17\u001b[1;33m     \u001b[0mdatetimes\u001b[0m \u001b[1;33m=\u001b[0m \u001b[0mlist\u001b[0m\u001b[1;33m(\u001b[0m\u001b[0mX_raw\u001b[0m\u001b[1;33m.\u001b[0m\u001b[0mdue\u001b[0m\u001b[1;33m.\u001b[0m\u001b[0mapply\u001b[0m\u001b[1;33m(\u001b[0m\u001b[1;32mlambda\u001b[0m \u001b[0mx\u001b[0m\u001b[1;33m:\u001b[0m \u001b[0mparser\u001b[0m\u001b[1;33m.\u001b[0m\u001b[0mparse\u001b[0m\u001b[1;33m(\u001b[0m\u001b[0mx\u001b[0m\u001b[1;33m)\u001b[0m\u001b[1;33m)\u001b[0m\u001b[1;33m)\u001b[0m\u001b[1;33m\u001b[0m\u001b[0m\n\u001b[0m\u001b[0;32m     18\u001b[0m \u001b[1;33m\u001b[0m\u001b[0m\n\u001b[0;32m     19\u001b[0m     \u001b[1;31m#время дня от 0 до 1\u001b[0m\u001b[1;33m\u001b[0m\u001b[1;33m\u001b[0m\u001b[0m\n",
      "\u001b[1;32m/usr/local/lib/python2.7/dist-packages/pandas/core/series.pyc\u001b[0m in \u001b[0;36mapply\u001b[1;34m(self, func, convert_dtype, args, **kwds)\u001b[0m\n\u001b[0;32m   2167\u001b[0m             \u001b[0mvalues\u001b[0m \u001b[1;33m=\u001b[0m \u001b[0mlib\u001b[0m\u001b[1;33m.\u001b[0m\u001b[0mmap_infer\u001b[0m\u001b[1;33m(\u001b[0m\u001b[0mvalues\u001b[0m\u001b[1;33m,\u001b[0m \u001b[0mlib\u001b[0m\u001b[1;33m.\u001b[0m\u001b[0mTimestamp\u001b[0m\u001b[1;33m)\u001b[0m\u001b[1;33m\u001b[0m\u001b[0m\n\u001b[0;32m   2168\u001b[0m \u001b[1;33m\u001b[0m\u001b[0m\n\u001b[1;32m-> 2169\u001b[1;33m         \u001b[0mmapped\u001b[0m \u001b[1;33m=\u001b[0m \u001b[0mlib\u001b[0m\u001b[1;33m.\u001b[0m\u001b[0mmap_infer\u001b[0m\u001b[1;33m(\u001b[0m\u001b[0mvalues\u001b[0m\u001b[1;33m,\u001b[0m \u001b[0mf\u001b[0m\u001b[1;33m,\u001b[0m \u001b[0mconvert\u001b[0m\u001b[1;33m=\u001b[0m\u001b[0mconvert_dtype\u001b[0m\u001b[1;33m)\u001b[0m\u001b[1;33m\u001b[0m\u001b[0m\n\u001b[0m\u001b[0;32m   2170\u001b[0m         \u001b[1;32mif\u001b[0m \u001b[0mlen\u001b[0m\u001b[1;33m(\u001b[0m\u001b[0mmapped\u001b[0m\u001b[1;33m)\u001b[0m \u001b[1;32mand\u001b[0m \u001b[0misinstance\u001b[0m\u001b[1;33m(\u001b[0m\u001b[0mmapped\u001b[0m\u001b[1;33m[\u001b[0m\u001b[1;36m0\u001b[0m\u001b[1;33m]\u001b[0m\u001b[1;33m,\u001b[0m \u001b[0mSeries\u001b[0m\u001b[1;33m)\u001b[0m\u001b[1;33m:\u001b[0m\u001b[1;33m\u001b[0m\u001b[0m\n\u001b[0;32m   2171\u001b[0m             \u001b[1;32mfrom\u001b[0m \u001b[0mpandas\u001b[0m\u001b[1;33m.\u001b[0m\u001b[0mcore\u001b[0m\u001b[1;33m.\u001b[0m\u001b[0mframe\u001b[0m \u001b[1;32mimport\u001b[0m \u001b[0mDataFrame\u001b[0m\u001b[1;33m\u001b[0m\u001b[0m\n",
      "\u001b[1;32mpandas/src/inference.pyx\u001b[0m in \u001b[0;36mpandas.lib.map_infer (pandas/lib.c:62578)\u001b[1;34m()\u001b[0m\n",
      "\u001b[1;32m<ipython-input-27-2634ad5ebff7>\u001b[0m in \u001b[0;36m<lambda>\u001b[1;34m(x)\u001b[0m\n\u001b[0;32m     15\u001b[0m \u001b[1;33m\u001b[0m\u001b[0m\n\u001b[0;32m     16\u001b[0m     \u001b[1;31m#распарсим время\u001b[0m\u001b[1;33m\u001b[0m\u001b[1;33m\u001b[0m\u001b[0m\n\u001b[1;32m---> 17\u001b[1;33m     \u001b[0mdatetimes\u001b[0m \u001b[1;33m=\u001b[0m \u001b[0mlist\u001b[0m\u001b[1;33m(\u001b[0m\u001b[0mX_raw\u001b[0m\u001b[1;33m.\u001b[0m\u001b[0mdue\u001b[0m\u001b[1;33m.\u001b[0m\u001b[0mapply\u001b[0m\u001b[1;33m(\u001b[0m\u001b[1;32mlambda\u001b[0m \u001b[0mx\u001b[0m\u001b[1;33m:\u001b[0m \u001b[0mparser\u001b[0m\u001b[1;33m.\u001b[0m\u001b[0mparse\u001b[0m\u001b[1;33m(\u001b[0m\u001b[0mx\u001b[0m\u001b[1;33m)\u001b[0m\u001b[1;33m)\u001b[0m\u001b[1;33m)\u001b[0m\u001b[1;33m\u001b[0m\u001b[0m\n\u001b[0m\u001b[0;32m     18\u001b[0m \u001b[1;33m\u001b[0m\u001b[0m\n\u001b[0;32m     19\u001b[0m     \u001b[1;31m#время дня от 0 до 1\u001b[0m\u001b[1;33m\u001b[0m\u001b[1;33m\u001b[0m\u001b[0m\n",
      "\u001b[1;32m/usr/local/lib/python2.7/dist-packages/dateutil/parser.pyc\u001b[0m in \u001b[0;36mparse\u001b[1;34m(timestr, parserinfo, **kwargs)\u001b[0m\n\u001b[0;32m   1006\u001b[0m         \u001b[1;32mreturn\u001b[0m \u001b[0mparser\u001b[0m\u001b[1;33m(\u001b[0m\u001b[0mparserinfo\u001b[0m\u001b[1;33m)\u001b[0m\u001b[1;33m.\u001b[0m\u001b[0mparse\u001b[0m\u001b[1;33m(\u001b[0m\u001b[0mtimestr\u001b[0m\u001b[1;33m,\u001b[0m \u001b[1;33m**\u001b[0m\u001b[0mkwargs\u001b[0m\u001b[1;33m)\u001b[0m\u001b[1;33m\u001b[0m\u001b[0m\n\u001b[0;32m   1007\u001b[0m     \u001b[1;32melse\u001b[0m\u001b[1;33m:\u001b[0m\u001b[1;33m\u001b[0m\u001b[0m\n\u001b[1;32m-> 1008\u001b[1;33m         \u001b[1;32mreturn\u001b[0m \u001b[0mDEFAULTPARSER\u001b[0m\u001b[1;33m.\u001b[0m\u001b[0mparse\u001b[0m\u001b[1;33m(\u001b[0m\u001b[0mtimestr\u001b[0m\u001b[1;33m,\u001b[0m \u001b[1;33m**\u001b[0m\u001b[0mkwargs\u001b[0m\u001b[1;33m)\u001b[0m\u001b[1;33m\u001b[0m\u001b[0m\n\u001b[0m\u001b[0;32m   1009\u001b[0m \u001b[1;33m\u001b[0m\u001b[0m\n\u001b[0;32m   1010\u001b[0m \u001b[1;33m\u001b[0m\u001b[0m\n",
      "\u001b[1;32m/usr/local/lib/python2.7/dist-packages/dateutil/parser.pyc\u001b[0m in \u001b[0;36mparse\u001b[1;34m(self, timestr, default, ignoretz, tzinfos, **kwargs)\u001b[0m\n\u001b[0;32m    387\u001b[0m                                                       second=0, microsecond=0)\n\u001b[0;32m    388\u001b[0m \u001b[1;33m\u001b[0m\u001b[0m\n\u001b[1;32m--> 389\u001b[1;33m         \u001b[1;32mif\u001b[0m \u001b[0mkwargs\u001b[0m\u001b[1;33m.\u001b[0m\u001b[0mget\u001b[0m\u001b[1;33m(\u001b[0m\u001b[1;34m'fuzzy_with_tokens'\u001b[0m\u001b[1;33m,\u001b[0m \u001b[0mFalse\u001b[0m\u001b[1;33m)\u001b[0m\u001b[1;33m:\u001b[0m\u001b[1;33m\u001b[0m\u001b[0m\n\u001b[0m\u001b[0;32m    390\u001b[0m             \u001b[0mres\u001b[0m\u001b[1;33m,\u001b[0m \u001b[0mskipped_tokens\u001b[0m \u001b[1;33m=\u001b[0m \u001b[0mself\u001b[0m\u001b[1;33m.\u001b[0m\u001b[0m_parse\u001b[0m\u001b[1;33m(\u001b[0m\u001b[0mtimestr\u001b[0m\u001b[1;33m,\u001b[0m \u001b[1;33m**\u001b[0m\u001b[0mkwargs\u001b[0m\u001b[1;33m)\u001b[0m\u001b[1;33m\u001b[0m\u001b[0m\n\u001b[0;32m    391\u001b[0m         \u001b[1;32melse\u001b[0m\u001b[1;33m:\u001b[0m\u001b[1;33m\u001b[0m\u001b[0m\n",
      "\u001b[1;31mKeyboardInterrupt\u001b[0m: "
     ]
    }
   ],
   "source": [
    "generate_submission(preprocess_with_holidays,model,\"submission2.csv\")"
   ]
  },
  {
   "cell_type": "markdown",
   "metadata": {},
   "source": [
    "# Советы по улучшению модели:\n",
    "\n",
    "* Смотри глазами на данные - строй графики, исследуй аномалия \n",
    " * это может принести новые идеи и отбросить нежизнеспособные намного раньше \n",
    " * Туториал по библиотеке, в которой можно строить графики \n",
    "   * http://matplotlib.org/users/pyplot_tutorial.html\n",
    " * Ключевой вопрос самому себе - __\"От чего ещё может зависеть, сгорит ли заказ?\"__\n",
    "\n",
    "\n",
    "* Попробуй более точно настроить модель или выбрать другую\n",
    " * Random Forest с текущими параметрами можно улучшить\n",
    "   * Документация по нему - http://scikit-learn.org/stable/modules/generated/sklearn.ensemble.RandomForestClassifier.html\n",
    " * А можно использовать другие, более подходящие методы\n",
    "   * Документация по методам - http://scikit-learn.org/stable/supervised_learning.html\n",
    " * Наконец, модели можно комбинировать\n",
    "   * Например, усреднять с весами\n",
    "   * В итоге качество может быть лучше, чем у каждой модели по отдельности\n",
    " * Важно не увлечься - зачастую качественные изменения решения намного лучше подкручивания параметров\n",
    "\n",
    "\n",
    "* Подумай, какие ещё дополнительные данные можно провязать с выборкой? \n",
    " * насколько реально применить их за отведённое время?\n",
    "\n",
    "\n",
    "* __Главное__ - пытайся понять, дадут ли твои улучшения прирост на новых данных\n",
    " * Тестовая выборка находится по времени дальше, чем обучающая.\n",
    "   * Например, нельзя использовать номер дня в году, потому что мы обучаемся на выборке __ДО__ начала контрольной\n",
    " * Это не значит, что нужно отправлять миллион решений на проверку и выбирать лучшее - это приведёт к переобучению\n",
    " "
   ]
  },
  {
   "cell_type": "code",
   "execution_count": null,
   "metadata": {
    "collapsed": true
   },
   "outputs": [],
   "source": []
  }
 ],
 "metadata": {
  "kernelspec": {
   "display_name": "Python 2",
   "language": "python",
   "name": "python2"
  },
  "language_info": {
   "codemirror_mode": {
    "name": "ipython",
    "version": 2
   },
   "file_extension": ".py",
   "mimetype": "text/x-python",
   "name": "python",
   "nbconvert_exporter": "python",
   "pygments_lexer": "ipython2",
   "version": "2.7.6"
  }
 },
 "nbformat": 4,
 "nbformat_minor": 0
}
