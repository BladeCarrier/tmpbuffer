{
 "cells": [
  {
   "cell_type": "code",
   "execution_count": 1,
   "metadata": {
    "collapsed": true
   },
   "outputs": [],
   "source": [
    "import pandas as pd"
   ]
  },
  {
   "cell_type": "markdown",
   "metadata": {},
   "source": [
    "# Скрипт для оценки решения\n",
    " * Вовзращает 2 числа - точность на публичном(предварительном) и приватном(окончательном) датасете.\n",
    " * Формат выходных данных - ниже"
   ]
  },
  {
   "cell_type": "code",
   "execution_count": 2,
   "metadata": {
    "collapsed": false
   },
   "outputs": [],
   "source": [
    "answers = pd.DataFrame.from_csv(\"evaluation.answers.csv\")"
   ]
  },
  {
   "cell_type": "code",
   "execution_count": 3,
   "metadata": {
    "collapsed": true
   },
   "outputs": [],
   "source": [
    "from sklearn.metrics import accuracy_score\n",
    "def check_submission(sbm):\n",
    "    \n",
    "    \n",
    "    sbm_public = sbm[answers.source.values == \"holdoff\"]\n",
    "    sbm_private = sbm[answers.source.values == \"testing\"]\n",
    "    \n",
    "    answers_public = answers[answers.source.values == \"holdoff\"]\n",
    "    answers_private = answers[answers.source.values == \"testing\"]\n",
    "    \n",
    "    \n",
    "    acc_public = accuracy_score(answers_public.burned.values,sbm_public.Y_class.values,\n",
    "                                sample_weight= answers_public.weights)\n",
    "    acc_private = accuracy_score(answers_private.burned.values,sbm_private.Y_class.values,\n",
    "                                 sample_weight= answers_private.weights)\n",
    "        \n",
    "    return acc_public,acc_private\n",
    "    "
   ]
  },
  {
   "cell_type": "code",
   "execution_count": 4,
   "metadata": {
    "collapsed": false
   },
   "outputs": [
    {
     "name": "stdout",
     "output_type": "stream",
     "text": [
      "Y_class,Y_prob\r\n",
      "1,0.51096\r\n",
      "1,0.70106\r\n",
      "1,0.67464\r\n",
      "1,0.55783\r\n",
      "1,0.62854\r\n",
      "1,0.57744\r\n",
      "1,0.68923\r\n",
      "1,0.67852\r\n",
      "1,0.88330\r\n",
      "1,0.77440\r\n",
      "1,0.72918\r\n",
      "1,0.69711\r\n",
      "1,0.59106\r\n",
      "1,0.63751\r\n",
      "0,0.47027\r\n",
      "1,0.71159\r\n",
      "1,0.84851\r\n",
      "1,0.82671\r\n",
      "1,0.50255\r\n"
     ]
    }
   ],
   "source": [
    "#Пример посланного решения (gthdst 20 строчек)\n",
    "!head submissions/submission.csv -n20"
   ]
  },
  {
   "cell_type": "code",
   "execution_count": 5,
   "metadata": {
    "collapsed": false
   },
   "outputs": [
    {
     "name": "stdout",
     "output_type": "stream",
     "text": [
      "acc_public= 0.73368 \t acc_private = 0.73347\n"
     ]
    }
   ],
   "source": [
    "#А вот-так её можно вызывать\n",
    "print \"acc_public= %.5f \\t acc_private = %.5f\" % check_submission(\n",
    "    pd.DataFrame.from_csv(\n",
    "        \"submissions/submission.csv\",\n",
    "        index_col = None)\n",
    ")"
   ]
  },
  {
   "cell_type": "code",
   "execution_count": null,
   "metadata": {
    "collapsed": true
   },
   "outputs": [],
   "source": []
  }
 ],
 "metadata": {
  "kernelspec": {
   "display_name": "Python 2",
   "language": "python",
   "name": "python2"
  },
  "language_info": {
   "codemirror_mode": {
    "name": "ipython",
    "version": 2
   },
   "file_extension": ".py",
   "mimetype": "text/x-python",
   "name": "python",
   "nbconvert_exporter": "python",
   "pygments_lexer": "ipython2",
   "version": "2.7.6"
  }
 },
 "nbformat": 4,
 "nbformat_minor": 0
}
