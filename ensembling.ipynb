{
 "cells": [
  {
   "cell_type": "code",
   "execution_count": 1,
   "metadata": {
    "collapsed": true
   },
   "outputs": [],
   "source": [
    "import numpy as np\n",
    "import pandas as pd\n",
    "from matplotlib import pyplot as plt\n",
    "%matplotlib inline"
   ]
  },
  {
   "cell_type": "markdown",
   "metadata": {},
   "source": [
    "# Utility-тетрадка которая учит ансамбль"
   ]
  },
  {
   "cell_type": "code",
   "execution_count": 18,
   "metadata": {
    "collapsed": false
   },
   "outputs": [],
   "source": [
    "#обработаем данные\n",
    "\n",
    "data = pd.DataFrame.from_csv(\"./evaluation.private.csv\")\n",
    "\n",
    "y = data['burned'].values\n",
    "w = data['weights'].values\n"
   ]
  },
  {
   "cell_type": "markdown",
   "metadata": {},
   "source": [
    "# Прочитаем решения участников\n",
    "в обычном формате\n",
    "\n",
    "Пока мя не знаю, как именно они хранятся, предположим, что хранятся в файлах с именами участников"
   ]
  },
  {
   "cell_type": "code",
   "execution_count": 48,
   "metadata": {
    "collapsed": false
   },
   "outputs": [],
   "source": [
    "import os\n",
    "\n",
    "\n",
    "metafeatures = {}\n",
    "subm_names = os.listdir(\"./submissions\")\n",
    "for subm_name in subm_names:\n",
    "    subm = pd.DataFrame.from_csv(os.path.join(\"submissions/\",subm_name),index_col=None)\n",
    "    \n",
    "    metafeatures[subm_name] = subm.Y_prob\n",
    "    \n",
    "    \n",
    "    "
   ]
  },
  {
   "cell_type": "code",
   "execution_count": 49,
   "metadata": {
    "collapsed": false,
    "scrolled": true
   },
   "outputs": [],
   "source": [
    "X = pd.DataFrame(metafeatures)\n",
    "\n",
    "in_test = data.source.values == 'holdoff'\n",
    "\n",
    "Xtr = X[~in_test]\n",
    "Xts = X[in_test]\n",
    "Ytr = y[~in_test]\n",
    "Yts = y[in_test]\n",
    "Wtr = w[~in_test]\n",
    "Wts = w[in_test]"
   ]
  },
  {
   "cell_type": "code",
   "execution_count": 50,
   "metadata": {
    "collapsed": false
   },
   "outputs": [],
   "source": [
    "from sklearn.linear_model import LogisticRegression\n",
    "from sklearn.svm import SVC,LinearSVC\n",
    "from sklearn.ensemble import ExtraTreesClassifier"
   ]
  },
  {
   "cell_type": "code",
   "execution_count": 51,
   "metadata": {
    "collapsed": false
   },
   "outputs": [
    {
     "data": {
      "text/plain": [
       "((678013, 13), (678013,), (678013,))"
      ]
     },
     "execution_count": 51,
     "metadata": {},
     "output_type": "execute_result"
    }
   ],
   "source": [
    "Xtr.shape,Ytr.shape,Wtr.shape"
   ]
  },
  {
   "cell_type": "code",
   "execution_count": 52,
   "metadata": {
    "collapsed": false
   },
   "outputs": [],
   "source": [
    "model = ExtraTreesClassifier(n_estimators=10,n_jobs=-1,min_samples_leaf=30).fit(Xtr,Ytr,sample_weight=Wtr)"
   ]
  },
  {
   "cell_type": "code",
   "execution_count": 56,
   "metadata": {
    "collapsed": false
   },
   "outputs": [
    {
     "name": "stdout",
     "output_type": "stream",
     "text": [
      "train: \t AUC = 0.72372 \t Accuracy = 0.84903 \t Precision = 0.84903 \t Recall = 1.00000\n",
      "val: \t AUC = 0.63237 \t Accuracy = 0.84440 \t Precision = 0.84443 \t Recall = 0.99995\n"
     ]
    },
    {
     "data": {
      "text/plain": [
       "<matplotlib.legend.Legend at 0x7f0895079090>"
      ]
     },
     "execution_count": 56,
     "metadata": {},
     "output_type": "execute_result"
    },
    {
     "data": {
      "image/png": "[encoded data removed]",
      "text/plain": [
       "<matplotlib.figure.Figure at 0x7f088d574f50>"
      ]
     },
     "metadata": {},
     "output_type": "display_data"
    }
   ],
   "source": [
    "from sklearn.metrics import roc_auc_score,accuracy_score,precision_score,recall_score\n",
    "from sklearn.metrics import roc_curve\n",
    "\n",
    "\n",
    "for source_i, Xi,Yi,Wi in [\n",
    "                            [\"train\",Xtr,Ytr,Wtr],\n",
    "                            [\"val\",Xts,Yts,Wts]\n",
    "                                ]:\n",
    "    \n",
    "    # Предскажем вероятность сгорания\n",
    "    Yi_pred_proba = model.predict_proba(Xi)[:,1]\n",
    "    \n",
    "    #Поделим предсказание на сгоревшие и не сгоревшие по порогу (0.5)\n",
    "    thr = 0.5\n",
    "    Yi_pred_class = Yi_pred_proba>thr\n",
    "\n",
    "    auc = roc_auc_score(Yi,Yi_pred_proba,sample_weight = Wi)\n",
    "    acc = accuracy_score(Yi,Yi_pred_class,sample_weight = Wi)\n",
    "    prc = precision_score(Yi,Yi_pred_class,sample_weight = Wi)\n",
    "    rcl = recall_score(Yi,Yi_pred_class,sample_weight = Wi)\n",
    "    \n",
    "    print '%s: \\t AUC = %.5f \\t Accuracy = %.5f \\t Precision = %.5f \\t Recall = %.5f'%(source_i, auc, acc,prc,rcl)\n",
    "    \n",
    "    fpr,tpr,_ = roc_curve(Yi,Yi_pred_proba,sample_weight=Wi)\n",
    "    \n",
    "    plt.plot(fpr,tpr,label = source_i)\n",
    "    \n",
    "plt.legend()\n"
   ]
  },
  {
   "cell_type": "code",
   "execution_count": 60,
   "metadata": {
    "collapsed": true
   },
   "outputs": [],
   "source": [
    "def plot_forest_feature_importances(rf,feature_names):\n",
    "    importances = rf.feature_importances_\n",
    "    std = np.std([tree.feature_importances_ for tree in rf.estimators_],\n",
    "                 axis=0)\n",
    "    indices = np.argsort(importances)[::-1]\n",
    "\n",
    "    # Print the feature ranking\n",
    "    print(\"Feature ranking:\")\n",
    "\n",
    "    for f in range(X.shape[1]):\n",
    "        print(\"%d. %s (%f)\" % (f + 1, feature_names[f], importances[indices[f]]))\n",
    "\n",
    "    # Plot the feature importances of the forest\n",
    "    plt.figure()\n",
    "    plt.title(\"Feature importances\")\n",
    "    plt.bar(range(X.shape[1]), importances[indices],\n",
    "           color=\"r\", yerr=std[indices], align=\"center\")\n",
    "    plt.xticks(range(X.shape[1]), indices)\n",
    "    plt.xlim([-1, X.shape[1]])\n",
    "    \n",
    "    plt.yscale(\"log\")\n",
    "    plt.show()\n",
    "    \n",
    "    return dict(zip(feature_names,importances))"
   ]
  },
  {
   "cell_type": "code",
   "execution_count": 62,
   "metadata": {
    "collapsed": false
   },
   "outputs": [
    {
     "name": "stdout",
     "output_type": "stream",
     "text": [
      "Feature ranking:\n",
      "1. 0.csv (0.111187)\n",
      "2. 1.csv (0.103207)\n",
      "3. 10.csv (0.102475)\n",
      "4. 2.csv (0.102473)\n",
      "5. 3.csv (0.093154)\n",
      "6. 4.csv (0.082840)\n",
      "7. 5.csv (0.072528)\n",
      "8. 6.csv (0.072031)\n",
      "9. 7.csv (0.063086)\n",
      "10. 9.csv (0.062624)\n",
      "11. submission.csv (0.051258)\n",
      "12. submission1.csv (0.041837)\n",
      "13. submission2.csv (0.041300)\n"
     ]
    },
    {
     "data": {
      "image/png": "[encoded data removed]",
      "text/plain": [
       "<matplotlib.figure.Figure at 0x7f0894bb4250>"
      ]
     },
     "metadata": {},
     "output_type": "display_data"
    }
   ],
   "source": [
    "importances = plot_forest_feature_importances(model,X.columns)"
   ]
  },
  {
   "cell_type": "markdown",
   "metadata": {},
   "source": [
    "# Формат вывода\n",
    "<имя участника>,<балл>\n",
    "\n",
    "То, что имя участника - файл - спишем на первое приближение ^_^\n",
    "\n",
    "Алсо по яндексячей традиции хотелось бы отображать эту метрику как \"попугаи\" :)"
   ]
  },
  {
   "cell_type": "code",
   "execution_count": 75,
   "metadata": {
    "collapsed": false
   },
   "outputs": [],
   "source": [
    "with open(\"example_output.txt\",'w') as fout:\n",
    "    for k,v in importances.items():\n",
    "        fout.write( '%s,%i\\n'%( k, int(v*10**9)))"
   ]
  },
  {
   "cell_type": "code",
   "execution_count": 76,
   "metadata": {
    "collapsed": false
   },
   "outputs": [
    {
     "name": "stdout",
     "output_type": "stream",
     "text": [
      "6.csv,41836517\r\n",
      "10.csv,62623851\r\n",
      "2.csv,41300017\r\n",
      "submission2.csv,93154208\r\n",
      "7.csv,72030730\r\n",
      "submission1.csv,63086311\r\n",
      "3.csv,102473459\r\n",
      "submission.csv,72528485\r\n",
      "9.csv,111186564\r\n",
      "4.csv,103206561\r\n"
     ]
    }
   ],
   "source": [
    "!head example_output.txt"
   ]
  },
  {
   "cell_type": "code",
   "execution_count": null,
   "metadata": {
    "collapsed": true
   },
   "outputs": [],
   "source": []
  }
 ],
 "metadata": {
  "kernelspec": {
   "display_name": "Python 2",
   "language": "python",
   "name": "python2"
  },
  "language_info": {
   "codemirror_mode": {
    "name": "ipython",
    "version": 2
   },
   "file_extension": ".py",
   "mimetype": "text/x-python",
   "name": "python",
   "nbconvert_exporter": "python",
   "pygments_lexer": "ipython2",
   "version": "2.7.6"
  }
 },
 "nbformat": 4,
 "nbformat_minor": 0
}
