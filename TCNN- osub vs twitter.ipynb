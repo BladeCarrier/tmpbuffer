{
 "cells": [
  {
   "cell_type": "code",
   "execution_count": 1,
   "metadata": {
    "collapsed": false
   },
   "outputs": [],
   "source": [
    "import pandas as pd\n",
    "import numpy as np\n",
    "import matplotlib.pyplot as plt\n",
    "%matplotlib inline\n",
    "\n",
    "import pickle\n",
    "import os\n"
   ]
  },
  {
   "cell_type": "code",
   "execution_count": null,
   "metadata": {
    "collapsed": true
   },
   "outputs": [],
   "source": [
    "#Препроцесснуть опенсубтитры в тот же формат, что и твиты\n",
    "\n",
    "opensub_path = \"путь до plain subtitles/\"\n",
    "\n",
    "with open(\"где сохранить выход\",'w') as fout:\n",
    "    opensubtitles = {}\n",
    "    for fname in os.listdir(opensub_path):\n",
    "        with open(os.path.join(opensub_path,fname)) as fin:\n",
    "            lines = [ln.decode('utf8')[:-1].replace('\\n',' ').replace('\\t',' ') for ln in fin]\n",
    "            fout.write('%s\\t[\"%s\"]\\n'%(fname, '\", \"'.join(lines).encode('utf8')))\n",
    "\n",
    "\n",
    "\n",
    "            \n",
    "            "
   ]
  },
  {
   "cell_type": "code",
   "execution_count": 2,
   "metadata": {
    "collapsed": false
   },
   "outputs": [],
   "source": [
    "#Препроцесснуть опенсубтитры в тот же формат, что и твиты\n",
    "\n",
    "\n",
    "with open(\"Downloads/opensubtitles_all\",'w') as fout:\n",
    "    opensubtitles = {}\n",
    "\n",
    "    for fname in os.listdir(\"./Downloads/plain_subtitles/\"):\n",
    "\n",
    "        with open(\"./Downloads/plain_subtitles/\"+fname) as fin:\n",
    "\n",
    "            lines = [ln.decode('utf8')[:-1].replace('\\n',' ').replace('\\t',' ') for ln in fin]\n",
    "            \n",
    "            fout.write('%s\\t[\"%s\"]\\n'%(fname, '\", \"'.join(lines).encode('utf8')))\n",
    "\n",
    "\n",
    "\n",
    "            \n",
    "            "
   ]
  },
  {
   "cell_type": "markdown",
   "metadata": {},
   "source": [
    "# Посчитаем частоты всех токенов\n",
    "И заодно прихватим длины всех предложений"
   ]
  },
  {
   "cell_type": "code",
   "execution_count": 4,
   "metadata": {
    "collapsed": false
   },
   "outputs": [
    {
     "name": "stdout",
     "output_type": "stream",
     "text": [
      "CPU times: user 18min 59s, sys: 5.72 s, total: 19min 4s\n",
      "Wall time: 19min 4s\n"
     ]
    }
   ],
   "source": [
    "%%time\n",
    "from nltk.tokenize import RegexpTokenizer\n",
    "from collections import Counter,defaultdict\n",
    "tokenizer = RegexpTokenizer(r\"\\w+\")\n",
    "\n",
    "\n",
    "token_counts = Counter()\n",
    "lengths= []\n",
    "\n",
    "with open(\"Downloads/opensubtitles_all\",'r') as fin:\n",
    "    for ln in fin:\n",
    "        ln = ln.decode('utf8')\n",
    "        phrases_blob = ln.split('\\t')[-1]\n",
    "        \n",
    "        phrases = phrases_blob[2:-2].lower().split('\", \"')\n",
    "        \n",
    "        phrases_tokens = map(tokenizer.tokenize,phrases)\n",
    "        \n",
    "        \n",
    "        for line in phrases_tokens:\n",
    "            for token in line:\n",
    "                token_counts[token]+=1\n",
    "        lengths += map(len,phrases)\n",
    "\n",
    "with open(\"Downloads/twitter_dialogues\",'r') as fin:\n",
    "    for ln in fin:\n",
    "        ln = ln.decode('utf8')\n",
    "        phrases_blob = ln.split('\\t')[-1]\n",
    "        \n",
    "        phrases = phrases_blob[2:-2].lower().split('\", \"')\n",
    "        \n",
    "        phrases_tokens = map(tokenizer.tokenize,phrases)\n",
    "        \n",
    "        \n",
    "        for line in phrases_tokens:\n",
    "            for token in line:\n",
    "                token_counts[token]+=1\n",
    "        lengths += map(len,phrases)\n",
    "        "
   ]
  },
  {
   "cell_type": "markdown",
   "metadata": {},
   "source": [
    "# Выберем порог по частоте и построим словарь"
   ]
  },
  {
   "cell_type": "code",
   "execution_count": 6,
   "metadata": {
    "collapsed": false
   },
   "outputs": [
    {
     "data": {
      "image/png": "[encoded data removed]",
      "text/plain": [
       "<matplotlib.figure.Figure at 0x3b22bd0>"
      ]
     },
     "metadata": {},
     "output_type": "display_data"
    }
   ],
   "source": [
    "#распределение частот слов - большинство слов встречаются очень редко - для нас это мусор\n",
    "_=plt.hist(token_counts.values(),range=[0,50],bins=50)"
   ]
  },
  {
   "cell_type": "code",
   "execution_count": 70,
   "metadata": {
    "collapsed": false
   },
   "outputs": [
    {
     "name": "stdout",
     "output_type": "stream",
     "text": [
      "Всего токенов: 406012\n",
      "Покрытие выборки:"
     ]
    },
    {
     "ename": "NameError",
     "evalue": "name 'token_counts' is not defined",
     "output_type": "error",
     "traceback": [
      "\u001b[1;31m---------------------------------------------------------------------------\u001b[0m",
      "\u001b[1;31mNameError\u001b[0m                                 Traceback (most recent call last)",
      "\u001b[1;32m<ipython-input-70-9c972003fa21>\u001b[0m in \u001b[0;36m<module>\u001b[1;34m()\u001b[0m\n\u001b[0;32m     15\u001b[0m \u001b[0mn_tokens\u001b[0m \u001b[1;33m=\u001b[0m \u001b[0mlen\u001b[0m\u001b[1;33m(\u001b[0m\u001b[0mtoken_to_id\u001b[0m\u001b[1;33m)\u001b[0m\u001b[1;33m\u001b[0m\u001b[0m\n\u001b[0;32m     16\u001b[0m \u001b[1;32mprint\u001b[0m \u001b[1;34m\"Всего токенов:\"\u001b[0m\u001b[1;33m,\u001b[0m\u001b[0mn_tokens\u001b[0m\u001b[1;33m\u001b[0m\u001b[0m\n\u001b[1;32m---> 17\u001b[1;33m \u001b[1;32mprint\u001b[0m \u001b[1;34m\"Покрытие выборки:\"\u001b[0m\u001b[1;33m,\u001b[0m\u001b[0msum\u001b[0m\u001b[1;33m(\u001b[0m\u001b[0mmap\u001b[0m\u001b[1;33m(\u001b[0m\u001b[0mtoken_counts\u001b[0m\u001b[1;33m.\u001b[0m\u001b[0mget\u001b[0m\u001b[1;33m,\u001b[0m\u001b[0mtokens\u001b[0m\u001b[1;33m[\u001b[0m\u001b[1;36m2\u001b[0m\u001b[1;33m:\u001b[0m\u001b[1;33m]\u001b[0m\u001b[1;33m)\u001b[0m\u001b[1;33m)\u001b[0m \u001b[1;33m*\u001b[0m\u001b[1;36m1.\u001b[0m\u001b[1;33m/\u001b[0m \u001b[0msum\u001b[0m\u001b[1;33m(\u001b[0m\u001b[0mtoken_counts\u001b[0m\u001b[1;33m.\u001b[0m\u001b[0mvalues\u001b[0m\u001b[1;33m(\u001b[0m\u001b[1;33m)\u001b[0m\u001b[1;33m)\u001b[0m\u001b[1;33m\u001b[0m\u001b[0m\n\u001b[0m",
      "\u001b[1;31mNameError\u001b[0m: name 'token_counts' is not defined"
     ]
    }
   ],
   "source": [
    "#возьмём только те токены, которые встретились хотя бы 10 раз в обучающей выборке\n",
    "min_count = 25\n",
    "\n",
    "\n",
    "special_tokens = [\"UNK\",\"PAD\"]\n",
    "\n",
    "\n",
    "tokens = special_tokens+[token for (token,count) in token_counts.items() if count >= min_count ]\n",
    "\n",
    "token_to_id = {t:i for i,t in enumerate(tokens)}\n",
    "\n",
    "\n",
    "\n",
    "\n",
    "n_tokens = len(token_to_id)\n",
    "print \"Всего токенов:\",n_tokens\n",
    "print \"Покрытие выборки:\",sum(map(token_counts.get,tokens[2:])) *1./ sum(token_counts.values())"
   ]
  },
  {
   "cell_type": "markdown",
   "metadata": {},
   "source": [
    "# Выберем предельную длину"
   ]
  },
  {
   "cell_type": "code",
   "execution_count": 11,
   "metadata": {
    "collapsed": false
   },
   "outputs": [
    {
     "data": {
      "image/png": "[encoded data removed]",
      "text/plain": [
       "<matplotlib.figure.Figure at 0x20a56d0>"
      ]
     },
     "metadata": {},
     "output_type": "display_data"
    }
   ],
   "source": [
    "#Распределение на длину\n",
    "_=plt.hist(lengths,range=[0,200],bins=200)"
   ]
  },
  {
   "cell_type": "code",
   "execution_count": 12,
   "metadata": {
    "collapsed": false
   },
   "outputs": [
    {
     "name": "stdout",
     "output_type": "stream",
     "text": [
      "Покрытие по длине: 0.99920809457\n"
     ]
    }
   ],
   "source": [
    "max_len = 150\n",
    "print \"Покрытие по длине:\",(np.array(lengths)<=max_len).mean()"
   ]
  },
  {
   "cell_type": "code",
   "execution_count": 13,
   "metadata": {
    "collapsed": false
   },
   "outputs": [],
   "source": [
    "# Порежем выборку на train/test\n",
    "# я просто оставлю это сдесь на случай, если ты перезапустил всё во време шаффла и убил данные \n",
    "!head -n 13000000 Downloads/twitter_dialogues >Downloads/twitter_train\n",
    "!tail -n +13000001 Downloads/twitter_dialogues >Downloads/twitter_test\n",
    "!head -n 12000 Downloads/opensubtitles_all >Downloads/opensubtitles_train\n",
    "!tail -n +12001 Downloads/opensubtitles_all >Downloads/opensubtitles_test"
   ]
  },
  {
   "cell_type": "code",
   "execution_count": 6,
   "metadata": {
    "collapsed": true
   },
   "outputs": [],
   "source": [
    "with open(\"Downloads/metadata\",'w') as fout:\n",
    "    pickle.dump((tokens,token_to_id,n_tokens,min_count,max_len),fout)"
   ]
  },
  {
   "cell_type": "code",
   "execution_count": 68,
   "metadata": {
    "collapsed": true
   },
   "outputs": [],
   "source": []
  },
  {
   "cell_type": "markdown",
   "metadata": {},
   "source": [
    "# Применение\n",
    "Теперь тетрадку можно гонять начиная с этой табы"
   ]
  },
  {
   "cell_type": "code",
   "execution_count": 1,
   "metadata": {
    "collapsed": true
   },
   "outputs": [],
   "source": [
    "import pandas as pd\n",
    "import numpy as np\n",
    "import matplotlib.pyplot as plt\n",
    "%matplotlib inline\n",
    "\n",
    "import pickle\n"
   ]
  },
  {
   "cell_type": "markdown",
   "metadata": {
    "collapsed": false
   },
   "source": [
    "# Токенизируем примеры\n",
    "\n",
    "Сначала соберём словарь всех возможных слов.\n",
    "Поставим каждому слову в соответствие целое число - его id"
   ]
  },
  {
   "cell_type": "code",
   "execution_count": 2,
   "metadata": {
    "collapsed": true
   },
   "outputs": [],
   "source": [
    "from nltk.tokenize import RegexpTokenizer\n",
    "from collections import Counter,defaultdict\n",
    "tokenizer = RegexpTokenizer(r\"\\w+\")\n"
   ]
  },
  {
   "cell_type": "code",
   "execution_count": 3,
   "metadata": {
    "collapsed": false
   },
   "outputs": [
    {
     "name": "stdout",
     "output_type": "stream",
     "text": [
      "406011 25 150\n"
     ]
    }
   ],
   "source": [
    "with open(\"Downloads/metadata\",'r') as fin:\n",
    "    (tokens,token_to_id,n_tokens,min_count,max_len) = pickle.load(fin)\n",
    "\n",
    "\n",
    "print n_tokens,min_count,max_len"
   ]
  },
  {
   "cell_type": "markdown",
   "metadata": {},
   "source": [
    "### Заменим слова на их id\n",
    "Для каждого описания установим максимальную длину. \n",
    " * Если описание больше длины - обрежем, если меньше - дополним нулями.\n",
    " * Таким образом, у нас получится матрица размера (число объявлений)x(максимальная длина)\n",
    " * Элемент под индексами i,j - номер j-того слова i-того объявления"
   ]
  },
  {
   "cell_type": "code",
   "execution_count": 4,
   "metadata": {
    "collapsed": true
   },
   "outputs": [],
   "source": [
    "import random\n",
    "def shuffle_lines(fname):\n",
    "    lines = open(fname).readlines()\n",
    "    random.shuffle(lines)\n",
    "    open(fname, 'w').writelines(lines)"
   ]
  },
  {
   "cell_type": "code",
   "execution_count": 5,
   "metadata": {
    "collapsed": false
   },
   "outputs": [],
   "source": [
    "from itertools import izip\n",
    "def FileIterator(filename, token_to_id,\n",
    "                 batch_size=10,max_len=max_len,\n",
    "                 null_token=0,padding_token=1, \n",
    "                 pre_shuffle=False,shuffle=True\n",
    "                 \n",
    "                     ):\n",
    "    \n",
    "    if pre_shuffle:\n",
    "        print \"shuffling\",filename,\"...\"\n",
    "        shuffle_lines(filename)\n",
    "\n",
    "    batch_ix = []\n",
    "\n",
    "    while True:\n",
    "\n",
    "        with open(filename) as fin:\n",
    "\n",
    "            for ln in fin:\n",
    "                \n",
    "                ln = ln.decode('utf8')\n",
    "                phrases_blob = ln.split('\\t')[-1]\n",
    "                phrases = phrases_blob[2:-2].lower().split('\", \"')\n",
    "                phrases_tokens = map(tokenizer.tokenize,phrases)\n",
    "                \n",
    "                for phrase_tokens in phrases_tokens:\n",
    "                    token_ids = map(lambda token: token_to_id.get(token,null_token), phrase_tokens)[:max_len]\n",
    "                    token_ids += [padding_token]*(max_len - len(token_ids))\n",
    "                    \n",
    "                    \n",
    "                    batch_ix.append(token_ids)\n",
    "                    \n",
    "                    if len(batch_ix) ==batch_size: \n",
    "                        #Batch generated\n",
    "                        yield np.array(batch_ix,dtype='int32')\n",
    "                        batch_ix = []\n",
    "        if shuffle:\n",
    "            print \"shuffling\",filename,\"...\"\n",
    "            shuffle_lines(filename)\n"
   ]
  },
  {
   "cell_type": "markdown",
   "metadata": {},
   "source": [
    "# Поучим нейронку\n",
    "\n",
    "Поскольку у нас есть несколько источников данных, наша нейронная сеть будет немного отличаться от того, что вы учили раньше.\n",
    "\n",
    "* Отдельный вход для заголовка\n",
    " * свёртка + global max pool или RNN\n",
    "* Отдельный вход для описания\n",
    " * свёртка + global max pool или RNN\n",
    "* Отдельный вход для категориальных признаков\n",
    " * обычные полносвязные слои или какие-нибудь трюки\n",
    " \n",
    "Всё это нужно как-то смешать - например, сконкатенировать\n",
    "\n",
    "* Выход - обычный двухклассовый выход\n",
    " * 1 сигмоидальный нейрон и binary_crossentropy\n",
    " * 2 нейрона с softmax и categorical_crossentropy - то же самое, что 1 сигмоидальный\n",
    " * 1 нейрон без нелинейности (lambda x: x) и hinge loss\n",
    " "
   ]
  },
  {
   "cell_type": "code",
   "execution_count": 6,
   "metadata": {
    "collapsed": false
   },
   "outputs": [
    {
     "name": "stdout",
     "output_type": "stream",
     "text": [
      "env: THEANO_FLAGS=\"device=gpu3\"\n"
     ]
    },
    {
     "name": "stderr",
     "output_type": "stream",
     "text": [
      "Using gpu device 3: Tesla K40m (CNMeM is disabled, CuDNN 4004)\n"
     ]
    }
   ],
   "source": [
    "%env THEANO_FLAGS=\"device=gpu3\"\n",
    "#загрузим библиотеки\n",
    "import lasagne\n",
    "from theano import tensor as T\n",
    "import theano"
   ]
  },
  {
   "cell_type": "code",
   "execution_count": 7,
   "metadata": {
    "collapsed": true
   },
   "outputs": [],
   "source": [
    "#3 входа и 1 выход\n",
    "input_text_ids = T.matrix(\"phrase_token_ids\",dtype='int32')\n",
    "\n",
    "target_y = T.ivector(\"is_blocked\")"
   ]
  },
  {
   "cell_type": "markdown",
   "metadata": {},
   "source": [
    "# Архитектура нейронной сети"
   ]
  },
  {
   "cell_type": "code",
   "execution_count": 9,
   "metadata": {
    "collapsed": false
   },
   "outputs": [],
   "source": [
    "\n",
    "text_inp = lasagne.layers.InputLayer((None,max_len),input_var=input_text_ids)\n",
    "\n",
    "\n",
    "nn = lasagne.layers.EmbeddingLayer(text_inp,input_size=len(token_to_id)+1,output_size=128)\n",
    "nn = lasagne.layers.Conv1DLayer(nn,num_filters=256,filter_size=3)\n",
    "nn = lasagne.layers.Conv1DLayer(nn,num_filters=256,filter_size=3)\n",
    "nn = lasagne.layers.Pool1DLayer(nn,3)\n",
    "nn = lasagne.layers.Conv1DLayer(nn,num_filters=512,filter_size=3)\n",
    "nn = lasagne.layers.Pool1DLayer(nn,3)\n",
    "nn = lasagne.layers.Conv1DLayer(nn,num_filters=1024,filter_size=3)\n",
    "nn = lasagne.layers.GlobalPoolLayer(nn,pool_function=T.max)\n",
    "\n",
    "\n",
    "\n",
    "\n",
    "\n",
    "nn = lasagne.layers.DenseLayer(nn,2048)\n",
    "nn = lasagne.layers.DropoutLayer(nn,p=0.1)\n",
    "nn = lasagne.layers.DenseLayer(nn,2048)\n",
    "\n",
    "nn = lasagne.layers.DenseLayer(nn,2,nonlinearity=lasagne.nonlinearities.softmax)"
   ]
  },
  {
   "cell_type": "markdown",
   "metadata": {},
   "source": [
    "# Целевая функция и обновления весов\n",
    "\n",
    "* Делаем всё стандартно:\n",
    " * получаем предсказание\n",
    " * считаем функцию потерь\n",
    " * вычисляем обновления весов\n",
    " * компилируем итерацию обучения и оценки весов"
   ]
  },
  {
   "cell_type": "code",
   "execution_count": 10,
   "metadata": {
    "collapsed": true
   },
   "outputs": [],
   "source": [
    "#Все обучаемые параметры сети\n",
    "weights = lasagne.layers.get_all_params(nn,trainable=True)"
   ]
  },
  {
   "cell_type": "code",
   "execution_count": 11,
   "metadata": {
    "collapsed": false
   },
   "outputs": [],
   "source": [
    "#Обычное предсказание нейронки\n",
    "prediction = lasagne.layers.get_output(nn)\n",
    "\n",
    "\n",
    "#функция потерь для prediction\n",
    "loss = lasagne.objectives.categorical_crossentropy(prediction,target_y).mean()\n",
    "\n"
   ]
  },
  {
   "cell_type": "code",
   "execution_count": 12,
   "metadata": {
    "collapsed": false
   },
   "outputs": [],
   "source": [
    "#Шаг оптимизации весов\n",
    "updates = lasagne.updates.adadelta(loss,weights)"
   ]
  },
  {
   "cell_type": "markdown",
   "metadata": {},
   "source": [
    "### Чтобы оценивать качество сети, в которой есть элемент случайности \n",
    " * Dropout, например,\n",
    " * Нужно отдельно вычислить ошибку для случая, когда dropout выключен (deterministic = True)\n",
    " * К слову, неплохо бы убедиться, что droput нам вообще нужен"
   ]
  },
  {
   "cell_type": "code",
   "execution_count": 13,
   "metadata": {
    "collapsed": false
   },
   "outputs": [],
   "source": [
    "#Предсказание нейронки без учёта dropout и прочего шума - если он есть\n",
    "det_prediction = lasagne.layers.get_output(nn,deterministic=True)\n",
    "\n",
    "#функция потерь для det_prediction\n",
    "det_loss = lasagne.objectives.categorical_crossentropy(det_prediction,target_y).mean()\n"
   ]
  },
  {
   "cell_type": "markdown",
   "metadata": {},
   "source": [
    "### Скомпилируем функции обучения и оценки качества"
   ]
  },
  {
   "cell_type": "code",
   "execution_count": 14,
   "metadata": {
    "collapsed": false
   },
   "outputs": [],
   "source": [
    "train_fun = theano.function([input_text_ids,target_y],[loss,prediction[:,1]],updates = updates)\n",
    "eval_fun = theano.function([input_text_ids,target_y],[det_loss,det_prediction[:,1]])"
   ]
  },
  {
   "cell_type": "markdown",
   "metadata": {},
   "source": [
    "# Главный цикл обучения\n",
    "* Всё как обычно - в цикле по минибатчам запускаем функцию обновления весов.\n",
    "* Поскольку выборка огромна, а чашки чая хватает в среднем на  100к примеров, будем на каждой эпохе пробегать только часть примеров."
   ]
  },
  {
   "cell_type": "code",
   "execution_count": 15,
   "metadata": {
    "collapsed": false
   },
   "outputs": [],
   "source": [
    "# наш старый знакомый - итератор по корзинкам - теперь умеет работать с произвольным числом каналов (название, описание, категории, таргет)\n",
    "from itertools import izip\n",
    "def iterate_minibatches(corpora_0,corpora_1,\n",
    "                        batch_0= 50,batch_1=50,\n",
    "                        seq_len=max_len):\n",
    "    \n",
    "    itr_0 = FileIterator(corpora_0,token_to_id,\n",
    "                         batch_0,seq_len,)\n",
    "    itr_1 = FileIterator(corpora_1,token_to_id,\n",
    "                         batch_1,seq_len,)\n",
    "    \n",
    "    batch_y = np.concatenate([np.zeros(batch_0,dtype='int32'),np.ones(batch_1,dtype='int32')])\n",
    "    \n",
    "    for batch_x0,batch_x1 in izip(itr_0,itr_1):\n",
    "        \n",
    "        batch_x = np.concatenate([batch_x0,batch_x1],axis=0)\n",
    "        \n",
    "        yield batch_x,batch_y\n"
   ]
  },
  {
   "cell_type": "code",
   "execution_count": 16,
   "metadata": {
    "collapsed": true
   },
   "outputs": [],
   "source": [
    "batch_size = 100\n",
    "minibatches_per_epoch = 10**2\n",
    "n_epochs=1000"
   ]
  },
  {
   "cell_type": "code",
   "execution_count": 73,
   "metadata": {
    "collapsed": false
   },
   "outputs": [],
   "source": [
    "train_iterator = iterate_minibatches(\n",
    "    \"Downloads/opensubtitles_train\",\"Downloads/twitter_train\",\n",
    "    batch_size/2,batch_size/2,max_len\n",
    ")\n",
    "test_iterator = iterate_minibatches(\n",
    "    \"Downloads/opensubtitles_test\",\"Downloads/twitter_test\",\n",
    "    batch_size/2,batch_size/2,max_len\n",
    ")"
   ]
  },
  {
   "cell_type": "code",
   "execution_count": null,
   "metadata": {
    "collapsed": true
   },
   "outputs": [],
   "source": [
    "from collections import defaultdict\n",
    "\n",
    "metrics = defaultdict(dict)"
   ]
  },
  {
   "cell_type": "code",
   "execution_count": null,
   "metadata": {
    "collapsed": false
   },
   "outputs": [],
   "source": [
    "from sklearn.metrics import roc_auc_score, accuracy_score\n",
    "\n",
    "\n",
    "\n",
    "for e in range(n_epochs):\n",
    "    \n",
    "    #training\n",
    "    epoch_y_true = []\n",
    "    epoch_y_pred = []\n",
    "    \n",
    "    b_c = b_loss = 0\n",
    "    for j, (b_x, b_y) in enumerate(train_iterator):\n",
    "        if j > minibatches_per_epoch:break\n",
    "            \n",
    "        loss,pred_probas = train_fun(b_x,b_y)\n",
    "        \n",
    "        b_loss += loss\n",
    "        b_c +=1\n",
    "        \n",
    "        epoch_y_true.append(b_y)\n",
    "        epoch_y_pred.append(pred_probas)\n",
    "\n",
    "    \n",
    "    epoch_y_true = np.concatenate(epoch_y_true)\n",
    "    epoch_y_pred = np.concatenate(epoch_y_pred)\n",
    "    \n",
    "    e_loss = b_loss/b_c\n",
    "    e_acc = accuracy_score(epoch_y_true,epoch_y_pred>0.5)\n",
    "    e_auc = roc_auc_score(epoch_y_true,epoch_y_pred)\n",
    "    print \"Train:\"\n",
    "    print '\\tloss:',e_loss\n",
    "    print '\\tacc:',e_acc\n",
    "    print '\\tauc:',e_auc\n",
    "    metrics[\"train loss\"][e] = e_loss\n",
    "    metrics[\"train accuracy\"][e] = e_acc\n",
    "    metrics[\"train auc\"][e] = e_auc\n",
    "    \n",
    "    \n",
    "    \n",
    "    \n",
    "    #evaluation\n",
    "    epoch_y_true = []\n",
    "    epoch_y_pred = []\n",
    "    b_c = b_loss = 0\n",
    "    for j, (b_x, b_y) in enumerate(test_iterator):\n",
    "        if j > minibatches_per_epoch:break\n",
    "            \n",
    "        loss,pred_probas = train_fun(b_x,b_y)\n",
    "        \n",
    "        b_loss += loss\n",
    "        b_c +=1\n",
    "        \n",
    "        epoch_y_true.append(b_y)\n",
    "        epoch_y_pred.append(pred_probas)\n",
    "\n",
    "    \n",
    "    epoch_y_true = np.concatenate(epoch_y_true)\n",
    "    epoch_y_pred = np.concatenate(epoch_y_pred)\n",
    "    \n",
    "    \n",
    "    e_loss = b_loss/b_c\n",
    "    e_acc = accuracy_score(epoch_y_true,epoch_y_pred>0.5)\n",
    "    e_auc = roc_auc_score(epoch_y_true,epoch_y_pred)\n",
    "    print \"Val:\"\n",
    "    print '\\tloss:',e_loss\n",
    "    print '\\tacc:',e_acc\n",
    "    print '\\tauc:',e_auc\n",
    "    metrics[\"val loss\"][e] = e_loss\n",
    "    metrics[\"val accuracy\"][e] = e_acc\n",
    "    metrics[\"val auc\"][e] = e_auc\n",
    "\n"
   ]
  },
  {
   "cell_type": "code",
   "execution_count": 23,
   "metadata": {
    "collapsed": false
   },
   "outputs": [
    {
     "data": {
      "image/png": "[encoded data removed]",
      "text/plain": [
       "<matplotlib.figure.Figure at 0x19fdccd0>"
      ]
     },
     "metadata": {},
     "output_type": "display_data"
    }
   ],
   "source": [
    "plt.figure(figsize=[15,10])\n",
    "for metric_name in metrics:\n",
    "    \n",
    "    x,y = zip(*sorted(metrics[metric_name].items(), key = lambda tpl:tpl[0]))\n",
    "    \n",
    "    plt.plot(x,y,label=metric_name)\n",
    "plt.legend(loc=\"best\")\n",
    "plt.ylim([0,1])\n",
    "plt.yticks(np.arange(21)/20.)\n",
    "plt.grid()"
   ]
  },
  {
   "cell_type": "code",
   "execution_count": 24,
   "metadata": {
    "collapsed": false
   },
   "outputs": [
    {
     "name": "stdout",
     "output_type": "stream",
     "text": [
      "Если ты видишь это сообщение, самое время сделать резервную копию ноутбука. \n",
      "Нет, честно, file->make a copy\n"
     ]
    }
   ],
   "source": [
    "print \"Если ты видишь это сообщение, самое время сделать резервную копию ноутбука. \\nНет, честно, file->make a copy\""
   ]
  },
  {
   "cell_type": "code",
   "execution_count": 25,
   "metadata": {
    "collapsed": false
   },
   "outputs": [],
   "source": [
    "#evaluation\n",
    "epoch_y_true = []\n",
    "epoch_y_pred = []\n",
    "epoch_x = []\n",
    "b_c = b_loss = 0\n",
    "for j, (b_x, b_y) in enumerate(test_iterator):\n",
    "    if j > minibatches_per_epoch:break\n",
    "\n",
    "    loss,pred_probas = train_fun(b_x,b_y)\n",
    "\n",
    "    b_loss += loss\n",
    "    b_c +=1\n",
    "\n",
    "    epoch_y_true.append(b_y)\n",
    "    epoch_y_pred.append(pred_probas)\n",
    "    epoch_x.append(b_x)\n",
    "\n",
    "\n",
    "epoch_y_true = np.concatenate(epoch_y_true)\n",
    "epoch_y_pred = np.concatenate(epoch_y_pred)\n",
    "epoch_x = np.concatenate(epoch_x)"
   ]
  },
  {
   "cell_type": "code",
   "execution_count": 34,
   "metadata": {
    "collapsed": false
   },
   "outputs": [],
   "source": [
    "id_to_token = {i:t for t,i in token_to_id.items()}"
   ]
  },
  {
   "cell_type": "code",
   "execution_count": 43,
   "metadata": {
    "collapsed": false
   },
   "outputs": [
    {
     "name": "stdout",
     "output_type": "stream",
     "text": [
      "osubs ->\tглавное привыкнуть к круглосуточной блевоте и не пугаться когда вены чернеют а кости кажется превращаются в напалм а так почти как на пляже\n",
      "osubs ->\tзавтра будем в каире потом 2 дня в танзании и в субботу в NULL\n",
      "osubs ->\tче за фигня\n",
      "osubs ->\tна самом деле такой себе никола тесла запатентовал базовую идею радио еще в 1896 году\n",
      "osubs ->\tвооот такие сиськи вооот такие соски\n",
      "osubs ->\tэто вообще тут не причем\n",
      "twitter ->\tразумеется\n",
      "osubs ->\tхорошо сделала 3\n",
      "twitter ->\tно прямо вижу того гарри\n",
      "twitter ->\tздесь я здесь\n",
      "osubs ->\tстроители думают только о том как в субботу выпьют с приятелями а на воскресенье выберутся куда то с детьми\n",
      "osubs ->\tлучше сходи купи пару моих любимых NULL круассанов\n",
      "twitter ->\tпростите тот\n",
      "twitter ->\tвы слишком много пьете завязывайте\n",
      "osubs ->\t0 03 процента за 1 месяц\n",
      "osubs ->\tну ладно расскажи мне про вегас да всё должно пройти спокойно ммм\n",
      "twitter ->\tгосподь кришна не велит\n",
      "twitter ->\tвы дне играете\n",
      "osubs ->\tбля\n",
      "osubs ->\tну да маленько посмотрел\n",
      "twitter ->\tкольцо регенерации\n",
      "osubs ->\tмолодец на всё сдал спасибо\n",
      "twitter ->\tэй чика мамочка ищет свою девочку где ты\n",
      "twitter ->\tты действительно считаешь что ты виноват\n",
      "twitter ->\tне тот о котором ты думаешь\n",
      "osubs ->\tмашина понравилась ну не забыл покрышки почистить ммм\n",
      "osubs ->\tхочется сразиться с великолепным бойцом\n",
      "twitter ->\tземля вращается вокруг солнца понимаете\n",
      "twitter ->\tладно\n",
      "twitter ->\tбрызг брызг за отца сына и NULL духа аминь\n",
      "twitter ->\tвозможно один из них слишком хорошо кушал\n",
      "osubs ->\tпозвольте намекнуть это не тот вопрос на который можно ответить да или нет или а то бля\n",
      "twitter ->\tдерево из яйца прорастает\n",
      "twitter ->\tдумаешь я не смогу\n",
      "osubs ->\tтесла воевал с маркони аж до самой смерти в 1943 году\n",
      "osubs ->\tкстати я скоро умру и поэтому ты мне нужна так как я не хочу умереть в одиночестве\n",
      "twitter ->\tона\n",
      "twitter ->\tэто дедушка мой\n",
      "osubs ->\tо класс красота же какая\n",
      "twitter ->\tони сделали что могли они сели на асфальт и всех к тому призвали по международным правилам это обозначает что они не могли физически\n",
      "twitter ->\tя знал что ты так скажешь\n",
      "twitter ->\tэто чудесно\n",
      "osubs ->\tпоздравляю с наградой\n",
      "twitter ->\tу которой месячные которая может забеременеть которая когда нибудь придёт к тому что надо бы семью завести и блаблабла\n",
      "twitter ->\tты не можешь ей стать\n",
      "twitter ->\tлюди которым я не нравлюсь должны постараться принять одну простую вещь цианид калия\n",
      "twitter ->\tмы пока обогнали\n",
      "twitter ->\tя знаю куда мы пойдем\n",
      "osubs ->\tскоро они начали резвиться и скакать на все стороны и их радости не было конца\n",
      "twitter ->\tона сейчас с джерри\n"
     ]
    }
   ],
   "source": [
    "margin = ( (epoch_y_pred -0.5) * (epoch_y_true-0.5))\n",
    "\n",
    "worst = np.argsort(margin)[:50]\n",
    "\n",
    "\n",
    "for i in worst:\n",
    "    \n",
    "    t_seq = map(id_to_token.get,epoch_x[i])\n",
    "    \n",
    "    print  [\"osubs\",\"twitter\"][int(epoch_y_true[i])], '->\\t', ' '.join(filter(lambda s: s!=\"PAD\",t_seq))"
   ]
  },
  {
   "cell_type": "code",
   "execution_count": null,
   "metadata": {
    "collapsed": true
   },
   "outputs": [],
   "source": []
  }
 ],
 "metadata": {
  "kernelspec": {
   "display_name": "Python 2",
   "language": "python",
   "name": "python2"
  },
  "language_info": {
   "codemirror_mode": {
    "name": "ipython",
    "version": 2
   },
   "file_extension": ".py",
   "mimetype": "text/x-python",
   "name": "python",
   "nbconvert_exporter": "python",
   "pygments_lexer": "ipython2",
   "version": "2.7.3"
  }
 },
 "nbformat": 4,
 "nbformat_minor": 0
}
