{
 "cells": [
  {
   "cell_type": "code",
   "execution_count": 1,
   "metadata": {
    "collapsed": true
   },
   "outputs": [],
   "source": [
    "import numpy as np\n",
    "import pandas as pd\n",
    "from matplotlib import pyplot as plt\n",
    "%matplotlib inline"
   ]
  },
  {
   "cell_type": "code",
   "execution_count": 3,
   "metadata": {
    "collapsed": false
   },
   "outputs": [],
   "source": [
    "train = pd.DataFrame.from_csv(\"./train_full.csv\")"
   ]
  },
  {
   "cell_type": "code",
   "execution_count": 169,
   "metadata": {
    "collapsed": false
   },
   "outputs": [
    {
     "data": {
      "text/plain": [
       "0.84088557860039725"
      ]
     },
     "execution_count": 169,
     "metadata": {},
     "output_type": "execute_result"
    }
   ],
   "source": [
    "# Natural accuracy:\n",
    "1.-train.burned.mean()"
   ]
  },
  {
   "cell_type": "markdown",
   "metadata": {
    "collapsed": true
   },
   "source": [
    "# baseline"
   ]
  },
  {
   "cell_type": "code",
   "execution_count": 4,
   "metadata": {
    "collapsed": false
   },
   "outputs": [
    {
     "data": {
      "text/plain": [
       "Index([u'cancel_time', u'dist', u'driver_found', u'due', u'f_class', u'lat',\n",
       "       u'lon', u's_class', u't_class', u'burned', u'time_of_day',\n",
       "       u'day_of_week', u'day_abs'],\n",
       "      dtype='object')"
      ]
     },
     "execution_count": 4,
     "metadata": {},
     "output_type": "execute_result"
    }
   ],
   "source": [
    "train.columns"
   ]
  },
  {
   "cell_type": "code",
   "execution_count": 5,
   "metadata": {
    "collapsed": false
   },
   "outputs": [
    {
     "data": {
      "text/plain": [
       "DictVectorizer(dtype=<type 'bool'>, separator='=', sort=True, sparse=False)"
      ]
     },
     "execution_count": 5,
     "metadata": {},
     "output_type": "execute_result"
    }
   ],
   "source": [
    "from sklearn.feature_extraction import DictVectorizer\n",
    "dictvec = DictVectorizer(sparse=False,dtype=np.bool)\n",
    "\n",
    "\n",
    "categorical = [ {'f_class':f,'s_class':s,'t_class':t,'day_of_week':str(wday)}\n",
    "               for f,s,t,wday in train[['f_class','s_class','t_class','day_of_week']].values[::1000] ]\n",
    "\n",
    "dictvec.fit(categorical)\n"
   ]
  },
  {
   "cell_type": "code",
   "execution_count": 6,
   "metadata": {
    "collapsed": false
   },
   "outputs": [
    {
     "data": {
      "text/plain": [
       "['day_of_week=1',\n",
       " 'day_of_week=2',\n",
       " 'day_of_week=3',\n",
       " 'day_of_week=4',\n",
       " 'day_of_week=5',\n",
       " 'day_of_week=6',\n",
       " 'day_of_week=7',\n",
       " 'f_class',\n",
       " 'f_class=business',\n",
       " 'f_class=econom',\n",
       " 'f_class=vip',\n",
       " 's_class',\n",
       " 's_class=business',\n",
       " 's_class=econom',\n",
       " 's_class=vip',\n",
       " 't_class',\n",
       " 't_class=econom',\n",
       " 't_class=vip']"
      ]
     },
     "execution_count": 6,
     "metadata": {},
     "output_type": "execute_result"
    }
   ],
   "source": [
    "dictvec.feature_names_"
   ]
  },
  {
   "cell_type": "code",
   "execution_count": 7,
   "metadata": {
    "collapsed": false
   },
   "outputs": [
    {
     "data": {
      "text/plain": [
       "count     2180676\n",
       "mean     0.159114\n",
       "std      0.365783\n",
       "min         False\n",
       "25%             0\n",
       "50%             0\n",
       "75%             0\n",
       "max          True\n",
       "Name: burned, dtype: object"
      ]
     },
     "execution_count": 7,
     "metadata": {},
     "output_type": "execute_result"
    }
   ],
   "source": [
    "train.burned.describe()"
   ]
  },
  {
   "cell_type": "code",
   "execution_count": 204,
   "metadata": {
    "collapsed": false
   },
   "outputs": [],
   "source": [
    "def preproc(data):\n",
    "    categorical = [ {'f_class':f,'s_class':s,'t_class':t,'day_of_week':str(wday)}\n",
    "               for f,s,t,wday in data[['f_class','s_class','t_class','day_of_week']].values ]\n",
    "\n",
    "    Xcat = dictvec.transform(categorical)\n",
    "    \n",
    "    real_features = [\"dist\",\"lat\",\"lon\",\"time_of_day\"]\n",
    "    X = np.concatenate([\n",
    "            data[real_features].values,\n",
    "            Xcat            \n",
    "        ],axis=1)\n",
    "    \n",
    "    return pd.DataFrame(X,columns=real_features+dictvec.feature_names_),train[\"burned\"].values"
   ]
  },
  {
   "cell_type": "code",
   "execution_count": 205,
   "metadata": {
    "collapsed": false
   },
   "outputs": [],
   "source": [
    "X,y = preproc(train)"
   ]
  },
  {
   "cell_type": "code",
   "execution_count": 206,
   "metadata": {
    "collapsed": false
   },
   "outputs": [],
   "source": [
    "from sklearn.cross_validation import train_test_split\n",
    "Xtr,Xval,Ytr,Yval = train_test_split(X,y,test_size=0.2,random_state=222)"
   ]
  },
  {
   "cell_type": "code",
   "execution_count": 207,
   "metadata": {
    "collapsed": false
   },
   "outputs": [],
   "source": [
    "#reweighting (mnot used)\n",
    "wpos, wneg = 0.5/Ytr.mean(), 0.5/(1-Ytr.mean())\n",
    "\n",
    "Wtr = np.ones_like(Ytr,dtype='float32')\n",
    "Wtr[Ytr]=wpos\n",
    "Wtr[~Ytr]=wneg"
   ]
  },
  {
   "cell_type": "code",
   "execution_count": 208,
   "metadata": {
    "collapsed": false
   },
   "outputs": [
    {
     "data": {
      "text/plain": [
       "RandomForestClassifier(bootstrap=True, class_weight=None, criterion='gini',\n",
       "            max_depth=None, max_features='auto', max_leaf_nodes=None,\n",
       "            min_samples_leaf=10, min_samples_split=2,\n",
       "            min_weight_fraction_leaf=0.0, n_estimators=128, n_jobs=-1,\n",
       "            oob_score=False, random_state=None, verbose=0,\n",
       "            warm_start=False)"
      ]
     },
     "execution_count": 208,
     "metadata": {},
     "output_type": "execute_result"
    }
   ],
   "source": [
    "from sklearn.ensemble import RandomForestClassifier\n",
    "\n",
    "rf = RandomForestClassifier(n_estimators=128,n_jobs=-1,min_samples_leaf=10)\n",
    "rf.fit(Xtr,Ytr)\n"
   ]
  },
  {
   "cell_type": "code",
   "execution_count": 209,
   "metadata": {
    "collapsed": false
   },
   "outputs": [],
   "source": [
    "Yval_pred_proba = rf.predict_proba(Xval)\n",
    "Ytrain_pred_proba = rf.predict_proba(Xtr)"
   ]
  },
  {
   "cell_type": "code",
   "execution_count": 210,
   "metadata": {
    "collapsed": true
   },
   "outputs": [],
   "source": [
    "thr = 0.5\n",
    "Yval_pred = Yval_pred_proba[:,1]>thr\n",
    "Ytrain_pred = Ytrain_pred_proba[:,1]>thr"
   ]
  },
  {
   "cell_type": "code",
   "execution_count": 211,
   "metadata": {
    "collapsed": false
   },
   "outputs": [
    {
     "name": "stdout",
     "output_type": "stream",
     "text": [
      "auc train = 0.91249 \t auc test=0.66893\n",
      "acc train = 0.84803 \t acc test=0.84354\n"
     ]
    }
   ],
   "source": [
    "from sklearn.metrics import roc_auc_score,accuracy_score\n",
    "\n",
    "print 'auc train = %.5f \\t auc test=%.5f'%(roc_auc_score(Ytr,Ytrain_pred_proba[:,1]),roc_auc_score(Yval,Yval_pred_proba[:,1]))\n",
    "print 'acc train = %.5f \\t acc test=%.5f'%(accuracy_score(Ytr,Ytrain_pred),accuracy_score(Yval,Yval_pred))"
   ]
  },
  {
   "cell_type": "code",
   "execution_count": 212,
   "metadata": {
    "collapsed": false
   },
   "outputs": [
    {
     "name": "stdout",
     "output_type": "stream",
     "text": [
      "Feature ranking:\n",
      "1. feature 0 (0.288669)\n",
      "2. feature 2 (0.250222)\n",
      "3. feature 1 (0.246508)\n",
      "4. feature 3 (0.180719)\n",
      "5. feature 9 (0.003226)\n",
      "6. feature 8 (0.003147)\n",
      "7. feature 7 (0.002943)\n",
      "8. feature 6 (0.002730)\n",
      "9. feature 10 (0.002688)\n",
      "10. feature 5 (0.002662)\n",
      "11. feature 14 (0.002630)\n",
      "12. feature 4 (0.002537)\n",
      "13. feature 15 (0.002089)\n",
      "14. feature 16 (0.001843)\n",
      "15. feature 12 (0.001830)\n",
      "16. feature 13 (0.001732)\n",
      "17. feature 19 (0.000966)\n",
      "18. feature 11 (0.000920)\n",
      "19. feature 18 (0.000835)\n",
      "20. feature 21 (0.000721)\n",
      "21. feature 17 (0.000307)\n",
      "22. feature 20 (0.000077)\n"
     ]
    },
    {
     "data": {
      "image/png": "[encoded data removed]",
      "text/plain": [
       "<matplotlib.figure.Figure at 0x7f5bb7c6f450>"
      ]
     },
     "metadata": {},
     "output_type": "display_data"
    }
   ],
   "source": [
    "importances = rf.feature_importances_\n",
    "std = np.std([tree.feature_importances_ for tree in rf.estimators_],\n",
    "             axis=0)\n",
    "indices = np.argsort(importances)[::-1]\n",
    "\n",
    "# Print the feature ranking\n",
    "print(\"Feature ranking:\")\n",
    "\n",
    "for f in range(X.shape[1]):\n",
    "    print(\"%d. feature %d (%f)\" % (f + 1, indices[f], importances[indices[f]]))\n",
    "\n",
    "# Plot the feature importances of the forest\n",
    "plt.figure()\n",
    "plt.title(\"Feature importances\")\n",
    "plt.bar(range(X.shape[1]), importances[indices],\n",
    "       color=\"r\", yerr=std[indices], align=\"center\")\n",
    "plt.xticks(range(X.shape[1]), indices)\n",
    "plt.xlim([-1, X.shape[1]])\n",
    "plt.show()"
   ]
  },
  {
   "cell_type": "markdown",
   "metadata": {},
   "source": [
    "# Cities"
   ]
  },
  {
   "cell_type": "code",
   "execution_count": 20,
   "metadata": {
    "collapsed": true
   },
   "outputs": [],
   "source": [
    "with open(\"cities.txt\") as fin:\n",
    "    s = fin.read()\n",
    "    \n",
    "lines = s.split('\\n')[1:-1]"
   ]
  },
  {
   "cell_type": "code",
   "execution_count": 21,
   "metadata": {
    "collapsed": true
   },
   "outputs": [],
   "source": [
    "deg = \"\\xc2\\xb0\"\n",
    "\n",
    "\n",
    "rows = []\n",
    "for line in  lines:\n",
    "    sname,sloc = line.split('\\t')\n",
    "    \n",
    "    while sname.startswith(' '): sname = sname[1:]\n",
    "    while sname.endswith(' '): sname= sname[:-1]\n",
    "    \n",
    "    slat,slon = sloc[:-6].split('с.ш.')\n",
    "    \n",
    "    lat_deg = int(slat[:slat.index(deg)])\n",
    "    lat_min = int(slat[slat.index(deg)+2:-2])\n",
    "    lat = lat_deg+lat_min/60.\n",
    "    \n",
    "    lon_deg = int(slon[:slon.index(deg)])\n",
    "    lon_min = int(slon[slon.index(deg)+2:-2])\n",
    "    lon = lon_deg+lon_min/60.\n",
    "\n",
    "    rows.append([sname,lat,lon])\n",
    "    \n",
    "    \n",
    "cities = pd.DataFrame(rows,columns=[\"name\",\"lat\",\"lon\"])"
   ]
  },
  {
   "cell_type": "code",
   "execution_count": 23,
   "metadata": {
    "collapsed": false
   },
   "outputs": [],
   "source": [
    "min_dist = np.zeros_like(cities.name)\n",
    "for i,(city,lat,lon) in cities.iterrows():\n",
    "    \n",
    "    dist = np.sqrt((train.lat - lat)**2 +  (train.lon-lon)**2)\n",
    "    \n",
    "    dist = np.sort(dist)\n",
    "    \n",
    "    min_dist[i]= dist[10]"
   ]
  },
  {
   "cell_type": "code",
   "execution_count": 30,
   "metadata": {
    "collapsed": true
   },
   "outputs": [],
   "source": [
    "active_cities = cities[min_dist <0.1]"
   ]
  },
  {
   "cell_type": "code",
   "execution_count": 73,
   "metadata": {
    "collapsed": false
   },
   "outputs": [],
   "source": [
    "major_city_names = [\"Москва\",\"Санкт-Петербург\",\"Воронеж\",\"Нижний Новгород\",\"Казань\"]\n",
    "\n",
    "major_cities = cities[np.in1d(cities.name.values,major_city_names)]\n"
   ]
  },
  {
   "cell_type": "code",
   "execution_count": 74,
   "metadata": {
    "collapsed": false
   },
   "outputs": [
    {
     "data": {
      "text/plain": [
       "<matplotlib.collections.PathCollection at 0x7f5bb796bcd0>"
      ]
     },
     "execution_count": 74,
     "metadata": {},
     "output_type": "execute_result"
    },
    {
     "data": {
      "image/png": "[encoded data removed]",
      "text/plain": [
       "<matplotlib.figure.Figure at 0x7f5bb7893a10>"
      ]
     },
     "metadata": {},
     "output_type": "display_data"
    }
   ],
   "source": [
    "plt.figure(figsize=[15,15])\n",
    "df = train[:10000]\n",
    "plt.scatter(df.lon,df.lat, c = df.driver_found,alpha = 0.05)\n",
    "\n",
    "#plt.scatter(active_cities.lat,active_cities.lon)\n",
    "plt.scatter(major_cities.lon,major_cities.lat,s=100)\n",
    "\n",
    "\n",
    "#домодедово\n",
    "plt.scatter([37.886248],[55.414108],marker='+',s=500)\n",
    "\n",
    "#plt.xlim(36,39)\n",
    "#plt.ylim(55,57)"
   ]
  },
  {
   "cell_type": "code",
   "execution_count": 201,
   "metadata": {
    "collapsed": false
   },
   "outputs": [
    {
     "data": {
      "text/html": [
       "<div>\n",
       "<table border=\"1\" class=\"dataframe\">\n",
       "  <thead>\n",
       "    <tr style=\"text-align: right;\">\n",
       "      <th></th>\n",
       "      <th>name</th>\n",
       "      <th>lat</th>\n",
       "      <th>lon</th>\n",
       "    </tr>\n",
       "  </thead>\n",
       "  <tbody>\n",
       "    <tr>\n",
       "      <th>0</th>\n",
       "      <td>Москва</td>\n",
       "      <td>55.750000</td>\n",
       "      <td>37.616667</td>\n",
       "    </tr>\n",
       "    <tr>\n",
       "      <th>1</th>\n",
       "      <td>Санкт-Петербург</td>\n",
       "      <td>59.933333</td>\n",
       "      <td>30.316667</td>\n",
       "    </tr>\n",
       "    <tr>\n",
       "      <th>6</th>\n",
       "      <td>Казань</td>\n",
       "      <td>55.783333</td>\n",
       "      <td>49.166667</td>\n",
       "    </tr>\n",
       "    <tr>\n",
       "      <th>12</th>\n",
       "      <td>Воронеж</td>\n",
       "      <td>51.716667</td>\n",
       "      <td>39.266667</td>\n",
       "    </tr>\n",
       "    <tr>\n",
       "      <th>223</th>\n",
       "      <td>Нижний Новгород</td>\n",
       "      <td>56.316667</td>\n",
       "      <td>44.000000</td>\n",
       "    </tr>\n",
       "  </tbody>\n",
       "</table>\n",
       "</div>"
      ],
      "text/plain": [
       "                name        lat        lon\n",
       "0             Москва  55.750000  37.616667\n",
       "1    Санкт-Петербург  59.933333  30.316667\n",
       "6             Казань  55.783333  49.166667\n",
       "12           Воронеж  51.716667  39.266667\n",
       "223  Нижний Новгород  56.316667  44.000000"
      ]
     },
     "execution_count": 201,
     "metadata": {},
     "output_type": "execute_result"
    }
   ],
   "source": [
    "major_cities"
   ]
  },
  {
   "cell_type": "code",
   "execution_count": 213,
   "metadata": {
    "collapsed": true
   },
   "outputs": [],
   "source": [
    "def cart2pol(x, y):\n",
    "    rho = np.sqrt(x**2 + y**2)\n",
    "    phi = np.arctan2(y, x)\n",
    "    return(rho, phi)\n",
    "\n",
    "def preproc_new(data):\n",
    "    X,y = preproc(data)\n",
    "\n",
    "\n",
    "    for i,(cty_name,cty_lat,cty_lon) in major_cities.iterrows():\n",
    "\n",
    "        rho,phi = cart2pol(X.lat.values-cty_lat,X.lon.values-cty_lon)\n",
    "\n",
    "        X[\"dist_to_\"+cty_name] = rho\n",
    "        X[\"angle_to\"+cty_name] = phi\n",
    "\n",
    "    closest_city_ids = np.argmin([X[\"dist_to_\"+cty_name] for cty_name in major_city_names],axis=0)\n",
    "\n",
    "    for i,(cty_name,cty_lat,cty_lon) in major_cities.iterrows():\n",
    "        X[\"closest_to_\"+cty_name] = closest_city_ids == i\n",
    "\n",
    "    del X[\"lat\"], X[\"lon\"]\n",
    "    \n",
    "    return X,y"
   ]
  },
  {
   "cell_type": "code",
   "execution_count": 214,
   "metadata": {
    "collapsed": false
   },
   "outputs": [],
   "source": [
    "X = preproc_new(train)\n",
    "y = train[\"burned\"].values"
   ]
  },
  {
   "cell_type": "code",
   "execution_count": 230,
   "metadata": {
    "collapsed": false
   },
   "outputs": [
    {
     "data": {
      "text/plain": [
       "RandomForestClassifier(bootstrap=True, class_weight=None, criterion='gini',\n",
       "            max_depth=None, max_features='auto', max_leaf_nodes=None,\n",
       "            min_samples_leaf=1, min_samples_split=2,\n",
       "            min_weight_fraction_leaf=0.0, n_estimators=128, n_jobs=-1,\n",
       "            oob_score=False, random_state=None, verbose=0,\n",
       "            warm_start=False)"
      ]
     },
     "execution_count": 230,
     "metadata": {},
     "output_type": "execute_result"
    }
   ],
   "source": [
    "from sklearn.ensemble import RandomForestClassifier\n",
    "\n",
    "rf = RandomForestClassifier(n_estimators=128,n_jobs=-1,min_samples_leaf=3)\n",
    "rf.fit(Xtr,Ytr)\n"
   ]
  },
  {
   "cell_type": "code",
   "execution_count": 231,
   "metadata": {
    "collapsed": true
   },
   "outputs": [],
   "source": [
    "Yval_pred_proba = rf.predict_proba(Xval)\n",
    "Ytrain_pred_proba = rf.predict_proba(Xtr)\n",
    "thr = 0.5\n",
    "Yval_pred = Yval_pred_proba[:,1]>thr\n",
    "Ytrain_pred = Ytrain_pred_proba[:,1]>thr"
   ]
  },
  {
   "cell_type": "code",
   "execution_count": 229,
   "metadata": {
    "collapsed": false
   },
   "outputs": [
    {
     "name": "stdout",
     "output_type": "stream",
     "text": [
      "auc train = 0.98780 \t auc test=0.66364\n",
      "acc train = 0.88437 \t acc test=0.84868\n"
     ]
    }
   ],
   "source": [
    "from sklearn.metrics import roc_auc_score,accuracy_score\n",
    "\n",
    "print 'auc train = %.5f \\t auc test=%.5f'%(roc_auc_score(Ytr,Ytrain_pred_proba[:,1]),roc_auc_score(Yval,Yval_pred_proba[:,1]))\n",
    "print 'acc train = %.5f \\t acc test=%.5f'%(accuracy_score(Ytr,Ytrain_pred),accuracy_score(Yval,Yval_pred))"
   ]
  },
  {
   "cell_type": "markdown",
   "metadata": {},
   "source": [
    "# Are we at least better than natural baseline?"
   ]
  },
  {
   "cell_type": "code",
   "execution_count": 256,
   "metadata": {
    "collapsed": false
   },
   "outputs": [],
   "source": [
    "score_natural = Yval == 0 \n",
    "score_rf = Yval_pred == Yval"
   ]
  },
  {
   "cell_type": "code",
   "execution_count": 259,
   "metadata": {
    "collapsed": true
   },
   "outputs": [],
   "source": [
    "from scipy.stats import ttest_rel"
   ]
  },
  {
   "cell_type": "code",
   "execution_count": 261,
   "metadata": {
    "collapsed": false
   },
   "outputs": [
    {
     "data": {
      "text/plain": [
       "Ttest_relResult(statistic=169.09182893738267, pvalue=0.0)"
      ]
     },
     "execution_count": 261,
     "metadata": {},
     "output_type": "execute_result"
    }
   ],
   "source": [
    "ttest_rel(score_rf,score_natural)"
   ]
  },
  {
   "cell_type": "code",
   "execution_count": 262,
   "metadata": {
    "collapsed": true
   },
   "outputs": [],
   "source": [
    "#because big data"
   ]
  },
  {
   "cell_type": "code",
   "execution_count": null,
   "metadata": {
    "collapsed": true
   },
   "outputs": [],
   "source": []
  }
 ],
 "metadata": {
  "kernelspec": {
   "display_name": "Python 2",
   "language": "python",
   "name": "python2"
  },
  "language_info": {
   "codemirror_mode": {
    "name": "ipython",
    "version": 2
   },
   "file_extension": ".py",
   "mimetype": "text/x-python",
   "name": "python",
   "nbconvert_exporter": "python",
   "pygments_lexer": "ipython2",
   "version": "2.7.6"
  }
 },
 "nbformat": 4,
 "nbformat_minor": 0
}
