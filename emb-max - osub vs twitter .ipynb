{
 "cells": [
  {
   "cell_type": "code",
   "execution_count": 1,
   "metadata": {
    "collapsed": false
   },
   "outputs": [],
   "source": [
    "import pandas as pd\n",
    "import numpy as np\n",
    "import matplotlib.pyplot as plt\n",
    "%matplotlib inline\n",
    "\n",
    "import pickle\n",
    "import os\n"
   ]
  },
  {
   "cell_type": "code",
   "execution_count": null,
   "metadata": {
    "collapsed": true
   },
   "outputs": [],
   "source": [
    "#Препроцесснуть опенсубтитры в тот же формат, что и твиты\n",
    "\n",
    "opensub_path = \"путь до plain subtitles/\"\n",
    "\n",
    "with open(\"где сохранить выход\",'w') as fout:\n",
    "    opensubtitles = {}\n",
    "    for fname in os.listdir(opensub_path):\n",
    "        with open(os.path.join(opensub_path,fname)) as fin:\n",
    "            lines = [ln.decode('utf8')[:-1].replace('\\n',' ').replace('\\t',' ') for ln in fin]\n",
    "            fout.write('%s\\t[\"%s\"]\\n'%(fname, '\", \"'.join(lines).encode('utf8')))\n",
    "\n",
    "\n",
    "\n",
    "            \n",
    "            "
   ]
  },
  {
   "cell_type": "code",
   "execution_count": 2,
   "metadata": {
    "collapsed": false
   },
   "outputs": [],
   "source": [
    "#Препроцесснуть опенсубтитры в тот же формат, что и твиты\n",
    "\n",
    "\n",
    "with open(\"Downloads/opensubtitles_all\",'w') as fout:\n",
    "    opensubtitles = {}\n",
    "\n",
    "    for fname in os.listdir(\"./Downloads/plain_subtitles/\"):\n",
    "\n",
    "        with open(\"./Downloads/plain_subtitles/\"+fname) as fin:\n",
    "\n",
    "            lines = [ln.decode('utf8')[:-1].replace('\\n',' ').replace('\\t',' ') for ln in fin]\n",
    "            \n",
    "            fout.write('%s\\t[\"%s\"]\\n'%(fname, '\", \"'.join(lines).encode('utf8')))\n",
    "\n",
    "\n",
    "\n",
    "            \n",
    "            "
   ]
  },
  {
   "cell_type": "markdown",
   "metadata": {},
   "source": [
    "# Посчитаем частоты всех токенов\n",
    "И заодно прихватим длины всех предложений"
   ]
  },
  {
   "cell_type": "code",
   "execution_count": 4,
   "metadata": {
    "collapsed": false
   },
   "outputs": [
    {
     "name": "stdout",
     "output_type": "stream",
     "text": [
      "CPU times: user 18min 59s, sys: 5.72 s, total: 19min 4s\n",
      "Wall time: 19min 4s\n"
     ]
    }
   ],
   "source": [
    "%%time\n",
    "from nltk.tokenize import RegexpTokenizer\n",
    "from collections import Counter,defaultdict\n",
    "tokenizer = RegexpTokenizer(r\"\\w+\")\n",
    "\n",
    "\n",
    "token_counts = Counter()\n",
    "lengths= []\n",
    "\n",
    "with open(\"Downloads/opensubtitles_all\",'r') as fin:\n",
    "    for ln in fin:\n",
    "        ln = ln.decode('utf8')\n",
    "        phrases_blob = ln.split('\\t')[-1]\n",
    "        \n",
    "        phrases = phrases_blob[2:-2].lower().split('\", \"')\n",
    "        \n",
    "        phrases_tokens = map(tokenizer.tokenize,phrases)\n",
    "        \n",
    "        \n",
    "        for line in phrases_tokens:\n",
    "            for token in line:\n",
    "                token_counts[token]+=1\n",
    "        lengths += map(len,phrases)\n",
    "\n",
    "with open(\"Downloads/twitter_dialogues\",'r') as fin:\n",
    "    for ln in fin:\n",
    "        ln = ln.decode('utf8')\n",
    "        phrases_blob = ln.split('\\t')[-1]\n",
    "        \n",
    "        phrases = phrases_blob[2:-2].lower().split('\", \"')\n",
    "        \n",
    "        phrases_tokens = map(tokenizer.tokenize,phrases)\n",
    "        \n",
    "        \n",
    "        for line in phrases_tokens:\n",
    "            for token in line:\n",
    "                token_counts[token]+=1\n",
    "        lengths += map(len,phrases)\n",
    "        "
   ]
  },
  {
   "cell_type": "markdown",
   "metadata": {},
   "source": [
    "# Выберем порог по частоте и построим словарь"
   ]
  },
  {
   "cell_type": "code",
   "execution_count": 6,
   "metadata": {
    "collapsed": false
   },
   "outputs": [
    {
     "data": {
      "image/png": "[encoded data removed]",
      "text/plain": [
       "<matplotlib.figure.Figure at 0x3b22bd0>"
      ]
     },
     "metadata": {},
     "output_type": "display_data"
    }
   ],
   "source": [
    "#распределение частот слов - большинство слов встречаются очень редко - для нас это мусор\n",
    "_=plt.hist(token_counts.values(),range=[0,50],bins=50)"
   ]
  },
  {
   "cell_type": "code",
   "execution_count": 70,
   "metadata": {
    "collapsed": false
   },
   "outputs": [
    {
     "name": "stdout",
     "output_type": "stream",
     "text": [
      "Всего токенов: 406012\n",
      "Покрытие выборки:"
     ]
    },
    {
     "ename": "NameError",
     "evalue": "name 'token_counts' is not defined",
     "output_type": "error",
     "traceback": [
      "\u001b[1;31m---------------------------------------------------------------------------\u001b[0m",
      "\u001b[1;31mNameError\u001b[0m                                 Traceback (most recent call last)",
      "\u001b[1;32m<ipython-input-70-9c972003fa21>\u001b[0m in \u001b[0;36m<module>\u001b[1;34m()\u001b[0m\n\u001b[0;32m     15\u001b[0m \u001b[0mn_tokens\u001b[0m \u001b[1;33m=\u001b[0m \u001b[0mlen\u001b[0m\u001b[1;33m(\u001b[0m\u001b[0mtoken_to_id\u001b[0m\u001b[1;33m)\u001b[0m\u001b[1;33m\u001b[0m\u001b[0m\n\u001b[0;32m     16\u001b[0m \u001b[1;32mprint\u001b[0m \u001b[1;34m\"Всего токенов:\"\u001b[0m\u001b[1;33m,\u001b[0m\u001b[0mn_tokens\u001b[0m\u001b[1;33m\u001b[0m\u001b[0m\n\u001b[1;32m---> 17\u001b[1;33m \u001b[1;32mprint\u001b[0m \u001b[1;34m\"Покрытие выборки:\"\u001b[0m\u001b[1;33m,\u001b[0m\u001b[0msum\u001b[0m\u001b[1;33m(\u001b[0m\u001b[0mmap\u001b[0m\u001b[1;33m(\u001b[0m\u001b[0mtoken_counts\u001b[0m\u001b[1;33m.\u001b[0m\u001b[0mget\u001b[0m\u001b[1;33m,\u001b[0m\u001b[0mtokens\u001b[0m\u001b[1;33m[\u001b[0m\u001b[1;36m2\u001b[0m\u001b[1;33m:\u001b[0m\u001b[1;33m]\u001b[0m\u001b[1;33m)\u001b[0m\u001b[1;33m)\u001b[0m \u001b[1;33m*\u001b[0m\u001b[1;36m1.\u001b[0m\u001b[1;33m/\u001b[0m \u001b[0msum\u001b[0m\u001b[1;33m(\u001b[0m\u001b[0mtoken_counts\u001b[0m\u001b[1;33m.\u001b[0m\u001b[0mvalues\u001b[0m\u001b[1;33m(\u001b[0m\u001b[1;33m)\u001b[0m\u001b[1;33m)\u001b[0m\u001b[1;33m\u001b[0m\u001b[0m\n\u001b[0m",
      "\u001b[1;31mNameError\u001b[0m: name 'token_counts' is not defined"
     ]
    }
   ],
   "source": [
    "#возьмём только те токены, которые встретились хотя бы 10 раз в обучающей выборке\n",
    "min_count = 25\n",
    "\n",
    "\n",
    "special_tokens = [\"UNK\",\"PAD\"]\n",
    "\n",
    "\n",
    "tokens = special_tokens+[token for (token,count) in token_counts.items() if count >= min_count ]\n",
    "\n",
    "token_to_id = {t:i for i,t in enumerate(tokens)}\n",
    "\n",
    "\n",
    "\n",
    "\n",
    "n_tokens = len(token_to_id)\n",
    "print \"Всего токенов:\",n_tokens\n",
    "print \"Покрытие выборки:\",sum(map(token_counts.get,tokens[2:])) *1./ sum(token_counts.values())"
   ]
  },
  {
   "cell_type": "markdown",
   "metadata": {},
   "source": [
    "# Выберем предельную длину"
   ]
  },
  {
   "cell_type": "code",
   "execution_count": 11,
   "metadata": {
    "collapsed": false
   },
   "outputs": [
    {
     "data": {
      "image/png": "[encoded data removed]",
      "text/plain": [
       "<matplotlib.figure.Figure at 0x20a56d0>"
      ]
     },
     "metadata": {},
     "output_type": "display_data"
    }
   ],
   "source": [
    "#Распределение на длину\n",
    "_=plt.hist(lengths,range=[0,200],bins=200)"
   ]
  },
  {
   "cell_type": "code",
   "execution_count": 12,
   "metadata": {
    "collapsed": false
   },
   "outputs": [
    {
     "name": "stdout",
     "output_type": "stream",
     "text": [
      "Покрытие по длине: 0.99920809457\n"
     ]
    }
   ],
   "source": [
    "max_len = 150\n",
    "print \"Покрытие по длине:\",(np.array(lengths)<=max_len).mean()"
   ]
  },
  {
   "cell_type": "code",
   "execution_count": 13,
   "metadata": {
    "collapsed": false
   },
   "outputs": [],
   "source": [
    "# Порежем выборку на train/test\n",
    "# я просто оставлю это сдесь на случай, если ты перезапустил всё во време шаффла и убил данные \n",
    "!head -n 13000000 Downloads/twitter_dialogues >Downloads/twitter_train\n",
    "!tail -n +13000001 Downloads/twitter_dialogues >Downloads/twitter_test\n",
    "!head -n 12000 Downloads/opensubtitles_all >Downloads/opensubtitles_train\n",
    "!tail -n +12001 Downloads/opensubtitles_all >Downloads/opensubtitles_test"
   ]
  },
  {
   "cell_type": "code",
   "execution_count": 6,
   "metadata": {
    "collapsed": true
   },
   "outputs": [],
   "source": [
    "with open(\"Downloads/metadata\",'w') as fout:\n",
    "    pickle.dump((tokens,token_to_id,n_tokens,min_count,max_len),fout)"
   ]
  },
  {
   "cell_type": "code",
   "execution_count": 68,
   "metadata": {
    "collapsed": true
   },
   "outputs": [],
   "source": []
  },
  {
   "cell_type": "markdown",
   "metadata": {},
   "source": [
    "# Применение\n",
    "Теперь тетрадку можно гонять начиная с этой табы"
   ]
  },
  {
   "cell_type": "code",
   "execution_count": 72,
   "metadata": {
    "collapsed": true
   },
   "outputs": [],
   "source": [
    "import pandas as pd\n",
    "import numpy as np\n",
    "import matplotlib.pyplot as plt\n",
    "%matplotlib inline\n",
    "\n",
    "import pickle\n"
   ]
  },
  {
   "cell_type": "markdown",
   "metadata": {
    "collapsed": false
   },
   "source": [
    "# Токенизируем примеры\n",
    "\n",
    "Сначала соберём словарь всех возможных слов.\n",
    "Поставим каждому слову в соответствие целое число - его id"
   ]
  },
  {
   "cell_type": "code",
   "execution_count": 73,
   "metadata": {
    "collapsed": true
   },
   "outputs": [],
   "source": [
    "from nltk.tokenize import RegexpTokenizer\n",
    "from collections import Counter,defaultdict\n",
    "tokenizer = RegexpTokenizer(r\"\\w+\")\n"
   ]
  },
  {
   "cell_type": "code",
   "execution_count": 3,
   "metadata": {
    "collapsed": false
   },
   "outputs": [
    {
     "name": "stdout",
     "output_type": "stream",
     "text": [
      "406011 25 150\n"
     ]
    }
   ],
   "source": [
    "with open(\"Downloads/metadata\",'r') as fin:\n",
    "    (tokens,token_to_id,n_tokens,min_count,max_len) = pickle.load(fin)\n",
    "\n",
    "\n",
    "print n_tokens,min_count,max_len"
   ]
  },
  {
   "cell_type": "markdown",
   "metadata": {},
   "source": [
    "### Заменим слова на их id\n",
    "Для каждого описания установим максимальную длину. \n",
    " * Если описание больше длины - обрежем, если меньше - дополним нулями.\n",
    " * Таким образом, у нас получится матрица размера (число объявлений)x(максимальная длина)\n",
    " * Элемент под индексами i,j - номер j-того слова i-того объявления"
   ]
  },
  {
   "cell_type": "code",
   "execution_count": 74,
   "metadata": {
    "collapsed": true
   },
   "outputs": [],
   "source": [
    "import random\n",
    "def shuffle_lines(fname):\n",
    "    lines = open(fname).readlines()\n",
    "    random.shuffle(lines)\n",
    "    open(fname, 'w').writelines(lines)"
   ]
  },
  {
   "cell_type": "code",
   "execution_count": 75,
   "metadata": {
    "collapsed": false
   },
   "outputs": [],
   "source": [
    "from itertools import izip\n",
    "def FileIterator(filename, token_to_id,\n",
    "                 batch_size=10,max_len=max_len,\n",
    "                 null_token=0,padding_token=1, \n",
    "                 pre_shuffle=False,shuffle=True\n",
    "                 \n",
    "                     ):\n",
    "    \n",
    "    if pre_shuffle:\n",
    "        print \"shuffling\",filename,\"...\"\n",
    "        shuffle_lines(filename)\n",
    "\n",
    "    batch_ix = []\n",
    "\n",
    "    while True:\n",
    "\n",
    "        with open(filename) as fin:\n",
    "\n",
    "            for ln in fin:\n",
    "                \n",
    "                ln = ln.decode('utf8')\n",
    "                phrases_blob = ln.split('\\t')[-1]\n",
    "                phrases = phrases_blob[2:-2].lower().split('\", \"')\n",
    "                phrases_tokens = map(tokenizer.tokenize,phrases)\n",
    "                \n",
    "                for phrase_tokens in phrases_tokens:\n",
    "                    token_ids = map(lambda token: token_to_id.get(token,null_token), phrase_tokens)[:max_len]\n",
    "                    token_ids += [padding_token]*(max_len - len(token_ids))\n",
    "                    \n",
    "                    \n",
    "                    batch_ix.append(token_ids)\n",
    "                    \n",
    "                    if len(batch_ix) ==batch_size: \n",
    "                        #Batch generated\n",
    "                        yield np.array(batch_ix,dtype='int32')\n",
    "                        batch_ix = []\n",
    "        if shuffle:\n",
    "            print \"shuffling\",filename,\"...\"\n",
    "            shuffle_lines(filename)\n"
   ]
  },
  {
   "cell_type": "markdown",
   "metadata": {},
   "source": [
    "# Поучим нейронку\n",
    "\n",
    "Поскольку у нас есть несколько источников данных, наша нейронная сеть будет немного отличаться от того, что вы учили раньше.\n",
    "\n",
    "* Отдельный вход для заголовка\n",
    " * свёртка + global max pool или RNN\n",
    "* Отдельный вход для описания\n",
    " * свёртка + global max pool или RNN\n",
    "* Отдельный вход для категориальных признаков\n",
    " * обычные полносвязные слои или какие-нибудь трюки\n",
    " \n",
    "Всё это нужно как-то смешать - например, сконкатенировать\n",
    "\n",
    "* Выход - обычный двухклассовый выход\n",
    " * 1 сигмоидальный нейрон и binary_crossentropy\n",
    " * 2 нейрона с softmax и categorical_crossentropy - то же самое, что 1 сигмоидальный\n",
    " * 1 нейрон без нелинейности (lambda x: x) и hinge loss\n",
    " "
   ]
  },
  {
   "cell_type": "code",
   "execution_count": 76,
   "metadata": {
    "collapsed": false
   },
   "outputs": [
    {
     "name": "stdout",
     "output_type": "stream",
     "text": [
      "env: THEANO_FLAGS=\"device=gpu2\"\n"
     ]
    }
   ],
   "source": [
    "%env THEANO_FLAGS=\"device=gpu2\"\n",
    "#загрузим библиотеки\n",
    "import lasagne\n",
    "from theano import tensor as T\n",
    "import theano"
   ]
  },
  {
   "cell_type": "code",
   "execution_count": 77,
   "metadata": {
    "collapsed": true
   },
   "outputs": [],
   "source": [
    "#3 входа и 1 выход\n",
    "input_text_ids = T.matrix(\"phrase_token_ids\",dtype='int32')\n",
    "\n",
    "target_y = T.ivector(\"is_blocked\")"
   ]
  },
  {
   "cell_type": "markdown",
   "metadata": {},
   "source": [
    "# Архитектура нейронной сети"
   ]
  },
  {
   "cell_type": "code",
   "execution_count": 122,
   "metadata": {
    "collapsed": false
   },
   "outputs": [],
   "source": [
    "\n",
    "text_inp = lasagne.layers.InputLayer((None,max_len),input_var=input_text_ids)\n",
    "\n",
    "\n",
    "nn = lasagne.layers.EmbeddingLayer(text_inp,input_size=len(token_to_id)+1,output_size=128)\n",
    "#nn = lasagne.layers.Conv1DLayer(nn,num_filters=256,filter_size=3)\n",
    "#nn = lasagne.layers.Conv1DLayer(nn,num_filters=256,filter_size=3)\n",
    "#nn = lasagne.layers.Pool1DLayer(nn,3)\n",
    "#nn = lasagne.layers.Conv1DLayer(nn,num_filters=512,filter_size=3)\n",
    "#nn = lasagne.layers.Pool1DLayer(nn,3)\n",
    "#nn = lasagne.layers.Conv1DLayer(nn,num_filters=1024,filter_size=3)\n",
    "nn = lasagne.layers.GlobalPoolLayer(nn,pool_function=T.max)\n",
    "\n",
    "\n",
    "\n",
    "\n",
    "\n",
    "#nn = lasagne.layers.DenseLayer(nn,2048)\n",
    "#nn = lasagne.layers.DropoutLayer(nn,p=0.1)\n",
    "nn = lasagne.layers.DenseLayer(nn,1024)\n",
    "\n",
    "nn = lasagne.layers.DenseLayer(nn,2,nonlinearity=lasagne.nonlinearities.softmax)"
   ]
  },
  {
   "cell_type": "markdown",
   "metadata": {},
   "source": [
    "# Целевая функция и обновления весов\n",
    "\n",
    "* Делаем всё стандартно:\n",
    " * получаем предсказание\n",
    " * считаем функцию потерь\n",
    " * вычисляем обновления весов\n",
    " * компилируем итерацию обучения и оценки весов"
   ]
  },
  {
   "cell_type": "code",
   "execution_count": 123,
   "metadata": {
    "collapsed": true
   },
   "outputs": [],
   "source": [
    "#Все обучаемые параметры сети\n",
    "weights = lasagne.layers.get_all_params(nn,trainable=True)"
   ]
  },
  {
   "cell_type": "code",
   "execution_count": 124,
   "metadata": {
    "collapsed": false
   },
   "outputs": [],
   "source": [
    "#Обычное предсказание нейронки\n",
    "prediction = lasagne.layers.get_output(nn)\n",
    "\n",
    "\n",
    "#функция потерь для prediction\n",
    "loss = lasagne.objectives.categorical_crossentropy(prediction,target_y).mean()\n",
    "\n"
   ]
  },
  {
   "cell_type": "code",
   "execution_count": 125,
   "metadata": {
    "collapsed": false
   },
   "outputs": [],
   "source": [
    "#Шаг оптимизации весов\n",
    "updates = lasagne.updates.adadelta(loss,weights)"
   ]
  },
  {
   "cell_type": "markdown",
   "metadata": {},
   "source": [
    "### Чтобы оценивать качество сети, в которой есть элемент случайности \n",
    " * Dropout, например,\n",
    " * Нужно отдельно вычислить ошибку для случая, когда dropout выключен (deterministic = True)\n",
    " * К слову, неплохо бы убедиться, что droput нам вообще нужен"
   ]
  },
  {
   "cell_type": "code",
   "execution_count": 126,
   "metadata": {
    "collapsed": false
   },
   "outputs": [],
   "source": [
    "#Предсказание нейронки без учёта dropout и прочего шума - если он есть\n",
    "det_prediction = lasagne.layers.get_output(nn,deterministic=True)\n",
    "\n",
    "#функция потерь для det_prediction\n",
    "det_loss = lasagne.objectives.categorical_crossentropy(det_prediction,target_y).mean()\n"
   ]
  },
  {
   "cell_type": "markdown",
   "metadata": {},
   "source": [
    "### Скомпилируем функции обучения и оценки качества"
   ]
  },
  {
   "cell_type": "code",
   "execution_count": 127,
   "metadata": {
    "collapsed": false
   },
   "outputs": [],
   "source": [
    "train_fun = theano.function([input_text_ids,target_y],[loss,prediction[:,1]],updates = updates)\n",
    "eval_fun = theano.function([input_text_ids,target_y],[det_loss,det_prediction[:,1]])"
   ]
  },
  {
   "cell_type": "markdown",
   "metadata": {},
   "source": [
    "# Главный цикл обучения\n",
    "* Всё как обычно - в цикле по минибатчам запускаем функцию обновления весов.\n",
    "* Поскольку выборка огромна, а чашки чая хватает в среднем на  100к примеров, будем на каждой эпохе пробегать только часть примеров."
   ]
  },
  {
   "cell_type": "code",
   "execution_count": 128,
   "metadata": {
    "collapsed": false
   },
   "outputs": [],
   "source": [
    "# наш старый знакомый - итератор по корзинкам - теперь умеет работать с произвольным числом каналов (название, описание, категории, таргет)\n",
    "from itertools import izip\n",
    "def iterate_minibatches(corpora_0,corpora_1,\n",
    "                        batch_0= 50,batch_1=50,\n",
    "                        seq_len=max_len):\n",
    "    \n",
    "    itr_0 = FileIterator(corpora_0,token_to_id,\n",
    "                         batch_0,seq_len,)\n",
    "    itr_1 = FileIterator(corpora_1,token_to_id,\n",
    "                         batch_1,seq_len,)\n",
    "    \n",
    "    batch_y = np.concatenate([np.zeros(batch_0,dtype='int32'),np.ones(batch_1,dtype='int32')])\n",
    "    \n",
    "    for batch_x0,batch_x1 in izip(itr_0,itr_1):\n",
    "        \n",
    "        batch_x = np.concatenate([batch_x0,batch_x1],axis=0)\n",
    "        \n",
    "        yield batch_x,batch_y\n"
   ]
  },
  {
   "cell_type": "code",
   "execution_count": 129,
   "metadata": {
    "collapsed": true
   },
   "outputs": [],
   "source": [
    "batch_size = 100\n",
    "minibatches_per_epoch = 10**2\n",
    "n_epochs=1000"
   ]
  },
  {
   "cell_type": "code",
   "execution_count": 138,
   "metadata": {
    "collapsed": false
   },
   "outputs": [],
   "source": [
    "train_iterator = iterate_minibatches(\n",
    "    \"Downloads/opensubtitles_train\",\"Downloads/twitter_train\",\n",
    "    batch_size/2,batch_size/2,max_len\n",
    ")\n",
    "test_iterator = iterate_minibatches(\n",
    "    \"Downloads/opensubtitles_test\",\"Downloads/twitter_test\",\n",
    "    batch_size/2,batch_size/2,max_len\n",
    ")"
   ]
  },
  {
   "cell_type": "code",
   "execution_count": null,
   "metadata": {
    "collapsed": true
   },
   "outputs": [],
   "source": [
    "from collections import defaultdict\n",
    "\n",
    "metrics = defaultdict(dict)"
   ]
  },
  {
   "cell_type": "code",
   "execution_count": null,
   "metadata": {
    "collapsed": false
   },
   "outputs": [
    {
     "name": "stdout",
     "output_type": "stream",
     "text": [
      "shuffling Downloads/opensubtitles_train ...\n",
      "shuffling Downloads/twitter_train ...\n",
      "Train:\n",
      "\tloss: 0.68738746525\n",
      "\tacc: 0.565247524752\n",
      "\tauc: 0.57493996667\n",
      "shuffling Downloads/opensubtitles_test ...\n",
      "shuffling Downloads/twitter_test ...\n",
      "Val:\n",
      "\tloss: 0.656739221941\n",
      "\tacc: 0.601683168317\n",
      "\tauc: 0.640530242133\n",
      "Train:\n",
      "\tloss: 0.646588577492\n",
      "\tacc: 0.620792079208\n",
      "\tauc: 0.661179452995\n",
      "Val:\n",
      "\tloss: 0.630403406549\n",
      "\tacc: 0.645346534653\n",
      "\tauc: 0.695219253014\n",
      "Train:\n",
      "\tloss: 0.606695818134\n",
      "\tacc: 0.659801980198\n",
      "\tauc: 0.727591236153\n",
      "Val:\n",
      "\tloss: 0.594324920732\n",
      "\tacc: 0.675841584158\n",
      "\tauc: 0.744429232428\n",
      "Train:\n",
      "\tloss: 0.586391873584\n",
      "\tacc: 0.687524752475\n",
      "\tauc: 0.752054837761\n",
      "Val:\n",
      "\tloss: 0.567491305642\n",
      "\tacc: 0.697722772277\n",
      "\tauc: 0.771852073326\n",
      "Train:\n",
      "\tloss: 0.55942556144\n",
      "\tacc: 0.699900990099\n",
      "\tauc: 0.780108616802\n",
      "Val:\n",
      "\tloss: 0.529187160258\n",
      "\tacc: 0.726138613861\n",
      "\tauc: 0.808311008725\n",
      "Train:\n",
      "\tloss: 0.537139772189\n",
      "\tacc: 0.721485148515\n",
      "\tauc: 0.802347887462\n",
      "Val:\n",
      "\tloss: 0.522833418728\n",
      "\tacc: 0.73297029703\n",
      "\tauc: 0.815117929615\n",
      "Train:\n",
      "\tloss: 0.531552997261\n",
      "\tacc: 0.740297029703\n",
      "\tauc: 0.813776766984\n",
      "Val:\n",
      "\tloss: 0.529397070408\n",
      "\tacc: 0.728811881188\n",
      "\tauc: 0.809603960396\n",
      "Train:\n",
      "\tloss: 0.524714917535\n",
      "\tacc: 0.736435643564\n",
      "\tauc: 0.815113126164\n",
      "Val:\n",
      "\tloss: 0.521558721172\n",
      "\tacc: 0.72504950495\n",
      "\tauc: 0.813334731889\n",
      "Train:\n",
      "\tloss: 0.512827735136\n",
      "\tacc: 0.744653465347\n",
      "\tauc: 0.824206469954\n",
      "Val:\n",
      "\tloss: 0.505189294862\n",
      "\tacc: 0.748712871287\n",
      "\tauc: 0.830091108715\n",
      "Train:\n",
      "\tloss: 0.501487067725\n",
      "\tacc: 0.748118811881\n",
      "\tauc: 0.832456072934\n",
      "Val:\n",
      "\tloss: 0.49812978329\n",
      "\tacc: 0.753861386139\n",
      "\tauc: 0.834815076953\n",
      "Train:\n",
      "\tloss: 0.49978813411\n",
      "\tacc: 0.750396039604\n",
      "\tauc: 0.833618272718\n",
      "Val:\n",
      "\tloss: 0.490258009127\n",
      "\tacc: 0.759306930693\n",
      "\tauc: 0.840534673071\n",
      "Train:\n",
      "\tloss: 0.475954700224\n",
      "\tacc: 0.765544554455\n",
      "\tauc: 0.852227232624\n",
      "Val:\n",
      "\tloss: 0.492239304403\n",
      "\tacc: 0.754158415842\n",
      "\tauc: 0.838031094991\n",
      "Train:\n",
      "\tloss: 0.488381530979\n",
      "\tacc: 0.760297029703\n",
      "\tauc: 0.841775688658\n",
      "Val:\n",
      "\tloss: 0.464096986126\n",
      "\tacc: 0.77495049505\n",
      "\tauc: 0.859320537202\n",
      "Train:\n",
      "\tloss: 0.501683983767\n",
      "\tacc: 0.756237623762\n",
      "\tauc: 0.833551122439\n",
      "Val:\n",
      "\tloss: 0.475303176606\n",
      "\tacc: 0.762772277228\n",
      "\tauc: 0.851719772571\n",
      "Train:\n",
      "\tloss: 0.4746039017\n",
      "\tacc: 0.767227722772\n",
      "\tauc: 0.851467758063\n",
      "Val:\n",
      "\tloss: 0.473236288175\n",
      "\tacc: 0.762772277228\n",
      "\tauc: 0.851691618469\n",
      "Train:\n",
      "\tloss: 0.470804910258\n",
      "\tacc: 0.765742574257\n",
      "\tauc: 0.854316890501\n",
      "Val:\n",
      "\tloss: 0.505404924402\n",
      "\tacc: 0.745742574257\n",
      "\tauc: 0.828359945103\n",
      "Train:\n",
      "\tloss: 0.48816193537\n",
      "\tacc: 0.760495049505\n",
      "\tauc: 0.842382707578\n",
      "Val:\n",
      "\tloss: 0.46562153042\n",
      "\tacc: 0.77297029703\n",
      "\tauc: 0.85911410646\n",
      "Train:\n",
      "\tloss: 0.471474086589\n",
      "\tacc: 0.765346534653\n",
      "\tauc: 0.852998666797\n",
      "Val:\n",
      "\tloss: 0.481105387211\n",
      "\tacc: 0.764653465347\n",
      "\tauc: 0.84859456916\n",
      "Train:\n",
      "\tloss: 0.456380095222\n",
      "\tacc: 0.77495049505\n",
      "\tauc: 0.86358668758\n",
      "Val:\n",
      "\tloss: 0.474114061287\n",
      "\tacc: 0.768118811881\n",
      "\tauc: 0.851804783845\n",
      "Train:\n",
      "\tloss: 0.458830966513\n",
      "\tacc: 0.777623762376\n",
      "\tauc: 0.862911734144\n",
      "Val:\n",
      "\tloss: 0.461584256722\n",
      "\tacc: 0.774257425743\n",
      "\tauc: 0.85939841192\n",
      "Train:\n",
      "\tloss: 0.439646265737\n",
      "\tacc: 0.789405940594\n",
      "\tauc: 0.874854484854\n",
      "Val:\n",
      "\tloss: 0.442437340127\n",
      "\tacc: 0.786633663366\n",
      "\tauc: 0.873155533771\n",
      "Train:\n",
      "\tloss: 0.443713845298\n",
      "\tacc: 0.791881188119\n",
      "\tauc: 0.873604450544\n",
      "Val:\n",
      "\tloss: 0.47034227671\n",
      "\tacc: 0.770495049505\n",
      "\tauc: 0.85474592687\n",
      "Train:\n",
      "\tloss: 0.45525154737\n",
      "\tacc: 0.777524752475\n",
      "\tauc: 0.863904930889\n",
      "Val:\n",
      "\tloss: 0.471024341217\n",
      "\tacc: 0.770297029703\n",
      "\tauc: 0.855025997451\n",
      "Train:\n",
      "\tloss: 0.461413534856\n",
      "\tacc: 0.776237623762\n",
      "\tauc: 0.862748612881\n",
      "Val:\n",
      "\tloss: 0.468320456472\n",
      "\tacc: 0.771386138614\n",
      "\tauc: 0.857863464366\n",
      "Train:\n",
      "\tloss: 0.437728079534\n",
      "\tacc: 0.789702970297\n",
      "\tauc: 0.876743632977\n",
      "Val:\n",
      "\tloss: 0.454011678991\n",
      "\tacc: 0.786831683168\n",
      "\tauc: 0.866839251054\n",
      "Train:\n",
      "\tloss: 0.448087372992\n",
      "\tacc: 0.784455445545\n",
      "\tauc: 0.870718753063\n",
      "Val:\n",
      "\tloss: 0.46230423539\n",
      "\tacc: 0.775643564356\n",
      "\tauc: 0.860281776296\n",
      "Train:\n",
      "\tloss: 0.440641270858\n",
      "\tacc: 0.789702970297\n",
      "\tauc: 0.874733830017\n",
      "Val:\n",
      "\tloss: 0.471091211432\n",
      "\tacc: 0.768118811881\n",
      "\tauc: 0.853739221645\n",
      "Train:\n",
      "\tloss: 0.47176967399\n",
      "\tacc: 0.767128712871\n",
      "\tauc: 0.853134045682\n",
      "Val:\n",
      "\tloss: 0.433032488764\n",
      "\tacc: 0.794356435644\n",
      "\tauc: 0.880018958926\n",
      "Train:\n",
      "\tloss: 0.447416862934\n",
      "\tacc: 0.787425742574\n",
      "\tauc: 0.870644877953\n",
      "Val:\n",
      "\tloss: 0.448100999145\n",
      "\tacc: 0.785643564356\n",
      "\tauc: 0.869873482992\n",
      "Train:\n",
      "\tloss: 0.450983935949\n",
      "\tacc: 0.78396039604\n",
      "\tauc: 0.868000450936\n",
      "Val:\n",
      "\tloss: 0.443703894273\n",
      "\tacc: 0.791782178218\n",
      "\tauc: 0.87355294579\n",
      "Train:\n",
      "\tloss: 0.454057958457\n",
      "\tacc: 0.781188118812\n",
      "\tauc: 0.86596380747\n",
      "Val:\n",
      "\tloss: 0.468966424465\n",
      "\tacc: 0.768910891089\n",
      "\tauc: 0.855197941378\n",
      "Train:\n",
      "\tloss: 0.448029126566\n",
      "\tacc: 0.785346534653\n",
      "\tauc: 0.870305617096\n",
      "Val:\n",
      "\tloss: 0.448272522723\n",
      "\tacc: 0.782673267327\n",
      "\tauc: 0.869498225664\n",
      "Train:\n",
      "\tloss: 0.438118499104\n",
      "\tacc: 0.796435643564\n",
      "\tauc: 0.876669091266\n",
      "Val:\n",
      "\tloss: 0.458117631402\n",
      "\tacc: 0.769900990099\n",
      "\tauc: 0.862631467503\n",
      "Train:\n",
      "\tloss: 0.443185555463\n",
      "\tacc: 0.78\n",
      "\tauc: 0.871351612587\n",
      "Val:\n",
      "\tloss: 0.450313255633\n",
      "\tacc: 0.784356435644\n",
      "\tauc: 0.867375786688\n",
      "Train:\n",
      "\tloss: 0.419885534166\n",
      "\tacc: 0.803861386139\n",
      "\tauc: 0.887135947456\n",
      "Val:\n",
      "\tloss: 0.441401781127\n",
      "\tacc: 0.788514851485\n",
      "\tauc: 0.874628761886\n",
      "Train:\n",
      "\tloss: 0.4435691863\n",
      "\tacc: 0.793168316832\n",
      "\tauc: 0.872802039016\n",
      "Val:\n",
      "\tloss: 0.406113079574\n",
      "\tacc: 0.804455445545\n",
      "\tauc: 0.89408493285\n",
      "Train:\n",
      "\tloss: 0.449255716093\n",
      "\tacc: 0.785643564356\n",
      "\tauc: 0.86905460249\n",
      "Val:\n",
      "\tloss: 0.423731940808\n",
      "\tacc: 0.799900990099\n",
      "\tauc: 0.885061562592\n",
      "Train:\n",
      "\tloss: 0.445405204107\n",
      "\tacc: 0.781782178218\n",
      "\tauc: 0.870935614155\n",
      "Val:\n",
      "\tloss: 0.442289253273\n",
      "\tacc: 0.789504950495\n",
      "\tauc: 0.873101284188\n",
      "Train:\n",
      "\tloss: 0.448659341229\n",
      "\tacc: 0.783663366337\n",
      "\tauc: 0.869151691011\n",
      "Val:\n",
      "\tloss: 0.451376683494\n",
      "\tacc: 0.781089108911\n",
      "\tauc: 0.867572767376\n",
      "Train:\n",
      "\tloss: 0.434498808171\n",
      "\tacc: 0.790693069307\n",
      "\tauc: 0.87801980198\n",
      "Val:\n",
      "\tloss: 0.508972209279\n",
      "\tacc: 0.741782178218\n",
      "\tauc: 0.827867150279\n",
      "Train:\n",
      "\tloss: 0.435901991802\n",
      "\tacc: 0.78900990099\n",
      "\tauc: 0.875523282031\n",
      "Val:\n",
      "\tloss: 0.420956488588\n",
      "\tacc: 0.801881188119\n",
      "\tauc: 0.887446466033\n",
      "Train:\n",
      "\tloss: 0.425518533086\n",
      "\tacc: 0.794356435644\n",
      "\tauc: 0.882430349966\n",
      "Val:\n",
      "\tloss: 0.417008441569\n",
      "\tacc: 0.802079207921\n",
      "\tauc: 0.888513420253\n",
      "Train:\n",
      "\tloss: 0.403075858656\n",
      "\tacc: 0.823069306931\n",
      "\tauc: 0.896535280855\n",
      "Val:\n",
      "\tloss: 0.450912084025\n",
      "\tacc: 0.785445544554\n",
      "\tauc: 0.868840937163\n",
      "Train:\n",
      "\tloss: 0.445441625496\n",
      "\tacc: 0.789207920792\n",
      "\tauc: 0.870484109401\n",
      "Val:\n",
      "\tloss: 0.401365969441\n",
      "\tacc: 0.813663366337\n",
      "\tauc: 0.89656072934\n",
      "Train:\n",
      "\tloss: 0.460738523172\n",
      "\tacc: 0.777128712871\n",
      "\tauc: 0.860198862857\n",
      "Val:\n",
      "\tloss: 0.466609773659\n",
      "\tacc: 0.769900990099\n",
      "\tauc: 0.857191843937\n",
      "Train:\n",
      "\tloss: 0.419775404847\n",
      "\tacc: 0.803267326733\n",
      "\tauc: 0.885883580041\n",
      "Val:\n",
      "\tloss: 0.445596824483\n",
      "\tacc: 0.785643564356\n",
      "\tauc: 0.871489716694\n",
      "Train:\n",
      "\tloss: 0.394697908128\n",
      "\tacc: 0.820594059406\n",
      "\tauc: 0.900976296442\n",
      "Val:\n",
      "\tloss: 0.454418034099\n",
      "\tacc: 0.779306930693\n",
      "\tauc: 0.864933418292\n",
      "Train:\n",
      "\tloss: 0.455188507638\n",
      "\tacc: 0.775247524752\n",
      "\tauc: 0.863799156945\n",
      "Val:\n",
      "\tloss: 0.422723966365\n",
      "\tacc: 0.800891089109\n",
      "\tauc: 0.885420507793\n",
      "Train:\n",
      "\tloss: 0.440195918968\n",
      "\tacc: 0.788613861386\n",
      "\tauc: 0.874359278502\n",
      "Val:\n",
      "\tloss: 0.420419357496\n",
      "\tacc: 0.80396039604\n",
      "\tauc: 0.887467836487\n",
      "Train:\n",
      "\tloss: 0.429414056315\n",
      "\tacc: 0.791881188119\n",
      "\tauc: 0.878877600235\n",
      "Val:\n",
      "\tloss: 0.430913604575\n",
      "\tacc: 0.801188118812\n",
      "\tauc: 0.881120870503\n",
      "Train:\n",
      "\tloss: 0.450311646308\n",
      "\tacc: 0.779108910891\n",
      "\tauc: 0.866684560337\n",
      "Val:\n",
      "\tloss: 0.430591690658\n",
      "\tacc: 0.795148514851\n",
      "\tauc: 0.880276306244\n",
      "Train:\n",
      "\tloss: 0.456482315122\n",
      "\tacc: 0.773861386139\n",
      "\tauc: 0.862989687286\n",
      "Val:\n",
      "\tloss: 0.405594364104\n",
      "\tacc: 0.810594059406\n",
      "\tauc: 0.894696559161\n",
      "Train:\n",
      "\tloss: 0.439311344435\n",
      "\tacc: 0.788712871287\n",
      "\tauc: 0.874904538771\n",
      "Val:\n",
      "\tloss: 0.42759131205\n",
      "\tacc: 0.790792079208\n",
      "\tauc: 0.880854857367\n",
      "Train:\n",
      "\tloss: 0.51796068738\n",
      "\tacc: 0.747722772277\n",
      "\tauc: 0.828269130477\n",
      "Val:\n",
      "\tloss: 0.417419670537\n",
      "\tacc: 0.808118811881\n",
      "\tauc: 0.889441250858\n",
      "Train:\n",
      "\tloss: 0.413215880052\n",
      "\tacc: 0.806138613861\n",
      "\tauc: 0.888909067738\n",
      "Val:\n",
      "\tloss: 0.439622167166\n",
      "\tacc: 0.792475247525\n",
      "\tauc: 0.876407724733\n",
      "Train:\n",
      "\tloss: 0.431774965755\n",
      "\tacc: 0.790891089109\n",
      "\tauc: 0.880090010783\n",
      "Val:\n",
      "\tloss: 0.414342419051\n",
      "\tacc: 0.8\n",
      "\tauc: 0.889951102833\n",
      "Train:\n",
      "\tloss: 0.419900807856\n",
      "\tacc: 0.802475247525\n",
      "\tauc: 0.887140319577\n",
      "Val:\n",
      "\tloss: 0.443768544657\n",
      "\tacc: 0.78099009901\n",
      "\tauc: 0.871361160671\n",
      "Train:\n",
      "\tloss: 0.399796235237\n",
      "\tacc: 0.814851485149\n",
      "\tauc: 0.899202391922\n",
      "Val:\n",
      "\tloss: 0.417132962606\n",
      "\tacc: 0.801881188119\n",
      "\tauc: 0.888777080678\n",
      "Train:\n",
      "\tloss: 0.425003796816\n",
      "\tacc: 0.796435643564\n",
      "\tauc: 0.883897755122\n",
      "Val:\n",
      "\tloss: 0.435212390258\n",
      "\tacc: 0.795742574257\n",
      "\tauc: 0.879688187433\n",
      "Train:\n",
      "\tloss: 0.43084336655\n",
      "\tacc: 0.792178217822\n",
      "\tauc: 0.880499715714\n",
      "Val:\n",
      "\tloss: 0.439762863782\n",
      "\tacc: 0.788910891089\n",
      "\tauc: 0.875620743064\n",
      "Train:\n",
      "\tloss: 0.42833788752\n",
      "\tacc: 0.792475247525\n",
      "\tauc: 0.88030632291\n",
      "Val:\n",
      "\tloss: 0.407221314636\n",
      "\tacc: 0.810693069307\n",
      "\tauc: 0.893774727968\n",
      "Train:\n",
      "\tloss: 0.420334321437\n",
      "\tacc: 0.806534653465\n",
      "\tauc: 0.887110891089\n",
      "Val:\n",
      "\tloss: 0.402245464301\n",
      "\tacc: 0.815445544554\n",
      "\tauc: 0.898014959318\n",
      "Train:\n",
      "\tloss: 0.410022003521\n",
      "\tacc: 0.808316831683\n",
      "\tauc: 0.893639682384\n",
      "Val:\n",
      "\tloss: 0.452322198613\n",
      "\tacc: 0.78495049505\n",
      "\tauc: 0.867370787178\n",
      "Train:\n",
      "\tloss: 0.402606182317\n",
      "\tacc: 0.808910891089\n",
      "\tauc: 0.896952671307\n"
     ]
    }
   ],
   "source": [
    "from sklearn.metrics import roc_auc_score, accuracy_score\n",
    "\n",
    "\n",
    "\n",
    "for i in range(n_epochs):\n",
    "    \n",
    "    #training\n",
    "    epoch_y_true = []\n",
    "    epoch_y_pred = []\n",
    "    \n",
    "    \n",
    "    b_c = b_loss = 0\n",
    "    for j, (b_x, b_y) in enumerate(train_iterator):\n",
    "        if j > minibatches_per_epoch:break\n",
    "            \n",
    "        loss,pred_probas = train_fun(b_x,b_y)\n",
    "        \n",
    "        b_loss += loss\n",
    "        b_c +=1\n",
    "        \n",
    "        epoch_y_true.append(b_y)\n",
    "        epoch_y_pred.append(pred_probas)\n",
    "\n",
    "    \n",
    "    epoch_y_true = np.concatenate(epoch_y_true)\n",
    "    epoch_y_pred = np.concatenate(epoch_y_pred)\n",
    "    \n",
    "    e_loss = b_loss/b_c\n",
    "    e_acc = accuracy_score(epoch_y_true,epoch_y_pred>0.5)\n",
    "    e_auc = roc_auc_score(epoch_y_true,epoch_y_pred)\n",
    "    print \"Train:\"\n",
    "    print '\\tloss:',e_loss\n",
    "    print '\\tacc:',e_acc\n",
    "    print '\\tauc:',e_auc\n",
    "    metrics[\"train loss\"][i] = e_loss\n",
    "    metrics[\"train accuracy\"][i] = e_acc\n",
    "    metrics[\"train auc\"][i] = e_auc\n",
    "    \n",
    "    \n",
    "    \n",
    "    \n",
    "    #evaluation\n",
    "    epoch_y_true = []\n",
    "    epoch_y_pred = []\n",
    "    b_c = b_loss = 0\n",
    "    for j, (b_x, b_y) in enumerate(test_iterator):\n",
    "        if j > minibatches_per_epoch:break\n",
    "            \n",
    "        loss,pred_probas = train_fun(b_x,b_y)\n",
    "        \n",
    "        b_loss += loss\n",
    "        b_c +=1\n",
    "        \n",
    "        epoch_y_true.append(b_y)\n",
    "        epoch_y_pred.append(pred_probas)\n",
    "\n",
    "    \n",
    "    epoch_y_true = np.concatenate(epoch_y_true)\n",
    "    epoch_y_pred = np.concatenate(epoch_y_pred)\n",
    "    \n",
    "    \n",
    "    e_loss = b_loss/b_c\n",
    "    e_acc = accuracy_score(epoch_y_true,epoch_y_pred>0.5)\n",
    "    e_auc = roc_auc_score(epoch_y_true,epoch_y_pred)\n",
    "    print \"Val:\"\n",
    "    print '\\tloss:',e_loss\n",
    "    print '\\tacc:',e_acc\n",
    "    print '\\tauc:',e_auc\n",
    "    metrics[\"val loss\"][i] = e_loss\n",
    "    metrics[\"val accuracy\"][i] = e_acc\n",
    "    metrics[\"val auc\"][i] = e_auc\n",
    "\n"
   ]
  },
  {
   "cell_type": "code",
   "execution_count": null,
   "metadata": {
    "collapsed": true
   },
   "outputs": [],
   "source": []
  },
  {
   "cell_type": "code",
   "execution_count": 134,
   "metadata": {
    "collapsed": false
   },
   "outputs": [
    {
     "data": {
      "image/png": "[encoded data removed]",
      "text/plain": [
       "<matplotlib.figure.Figure at 0x2276ee50>"
      ]
     },
     "metadata": {},
     "output_type": "display_data"
    }
   ],
   "source": [
    "plt.figure(figsize=[15,10])\n",
    "for metric_name in metrics:\n",
    "    \n",
    "    x,y = zip(*sorted(metrics[metric_name].items(), key = lambda tpl:tpl[0]))\n",
    "    \n",
    "    plt.plot(x,y,label=metric_name)\n",
    "plt.legend(loc=\"best\")\n",
    "plt.ylim([0,1])\n",
    "plt.yticks(np.arange(21)/20.)\n",
    "plt.grid()"
   ]
  },
  {
   "cell_type": "code",
   "execution_count": null,
   "metadata": {
    "collapsed": false
   },
   "outputs": [],
   "source": [
    "print \"Если ты видишь это сообщение, самое время сделать резервную копию ноутбука. \\nНет, честно, file->make a copy\""
   ]
  },
  {
   "cell_type": "code",
   "execution_count": 139,
   "metadata": {
    "collapsed": false
   },
   "outputs": [
    {
     "name": "stdout",
     "output_type": "stream",
     "text": [
      "shuffling Downloads/opensubtitles_test ...\n",
      "shuffling Downloads/twitter_test ...\n"
     ]
    }
   ],
   "source": [
    "#evaluation\n",
    "epoch_y_true = []\n",
    "epoch_y_pred = []\n",
    "epoch_x = []\n",
    "b_c = b_loss = 0\n",
    "for j, (b_x, b_y) in enumerate(test_iterator):\n",
    "    if j > minibatches_per_epoch:break\n",
    "\n",
    "    loss,pred_probas = train_fun(b_x,b_y)\n",
    "\n",
    "    b_loss += loss\n",
    "    b_c +=1\n",
    "\n",
    "    epoch_y_true.append(b_y)\n",
    "    epoch_y_pred.append(pred_probas)\n",
    "    epoch_x.append(b_x)\n",
    "\n",
    "\n",
    "epoch_y_true = np.concatenate(epoch_y_true)\n",
    "epoch_y_pred = np.concatenate(epoch_y_pred)\n",
    "epoch_x = np.concatenate(epoch_x)"
   ]
  },
  {
   "cell_type": "code",
   "execution_count": 142,
   "metadata": {
    "collapsed": false
   },
   "outputs": [
    {
     "name": "stdout",
     "output_type": "stream",
     "text": [
      "osubs ->\td 1 предупреждает\n",
      "osubs ->\tобъект d 1 упомянутый в докладе доктора кусанаги уничтожил UNK и ещё шесть городов\n",
      "osubs ->\tэто запись голоса d 1 из UNK\n",
      "twitter ->\tпрошла тест можете ли вы совершить убийство ответ вы можете совершить преступление для получения удовольствия\n",
      "osubs ->\tчубайс руководил программой приватизации в россии в 90 е годы и решал кому достанутся акции предприятий а кому нет\n",
      "osubs ->\tсегодня вечером в программе UNK на itv бушуют ожесточённые дебаты о правительственном бюджете на ядерное вооружение\n",
      "osubs ->\tв москве растет число миллиардеров а о ходорковском постепенно забывают\n",
      "osubs ->\tитак перед вам UNK звука арии d 1\n",
      "osubs ->\tмы придерживаемся простого прямого подхода начиная с вступления про сохо потом о растущем влиянии порока рейд и потом рассказ о шантаже и наконец интервью\n",
      "osubs ->\tони поверили что d 1 следует за ра UNK\n",
      "osubs ->\tпока ходорковский находится в далекой сибири цены на нефть бьют очередные рекорды\n",
      "twitter ->\tпосмотрите на лучшего в мире мужчину и на меня на лучшего в мире мужчину и на меня да ваш взгляд неподвижен\n",
      "osubs ->\tво сколько начался фильм милая\n",
      "twitter ->\tнасчёт денег ты можешь обратиться ко мне если что а мама это мама по этому поводу есть хорошая цитата из тома сойера\n",
      "osubs ->\tда и они думают будет лучше если я тоже не буду выходить в эфир какое то время\n",
      "osubs ->\tжареная свинина требует много терпения и нужно не ложиться спать всю ночь\n",
      "osubs ->\tв самом начале когда этот фестиваль UNK и финансировался UNK гостям показывали нефтяные поля с вертолета\n",
      "twitter ->\tсюда иди\n",
      "twitter ->\tпослушай\n",
      "osubs ->\tа кому еще позаботиться о т а к е\n",
      "twitter ->\tдоставал секретное оружие хотел оставить на потом но чувствую что сейчас надо\n",
      "twitter ->\tврёшь не так он сказал за женщинами и детьми хотел прятаться\n",
      "twitter ->\tобъявляется ли мисс если на столе 43 и отставание 43 эта ситуация была на 2 столе и рефери объявил мисс\n",
      "twitter ->\tон не сможет даже двигаться\n",
      "twitter ->\tоператор в службе знакомств\n"
     ]
    }
   ],
   "source": [
    "margin = ( (epoch_y_pred -0.5) * (epoch_y_true-0.5))\n",
    "\n",
    "worst = np.argsort(margin)[:25]\n",
    "\n",
    "\n",
    "for i in worst:\n",
    "    \n",
    "    t_seq = map(tokens.__getitem__,epoch_x[i])\n",
    "    \n",
    "    print  [\"osubs\",\"twitter\"][int(epoch_y_true[i])], '->\\t', ' '.join(filter(lambda s: s!=\"PAD\",t_seq))"
   ]
  },
  {
   "cell_type": "code",
   "execution_count": null,
   "metadata": {
    "collapsed": true
   },
   "outputs": [],
   "source": []
  }
 ],
 "metadata": {
  "kernelspec": {
   "display_name": "Python 2",
   "language": "python",
   "name": "python2"
  },
  "language_info": {
   "codemirror_mode": {
    "name": "ipython",
    "version": 2
   },
   "file_extension": ".py",
   "mimetype": "text/x-python",
   "name": "python",
   "nbconvert_exporter": "python",
   "pygments_lexer": "ipython2",
   "version": "2.7.3"
  }
 },
 "nbformat": 4,
 "nbformat_minor": 0
}
