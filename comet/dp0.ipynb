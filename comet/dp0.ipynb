{
 "cells": [
  {
   "cell_type": "code",
   "execution_count": 1,
   "metadata": {
    "collapsed": false
   },
   "outputs": [],
   "source": [
    "import matplotlib.pyplot as plt\n",
    "%matplotlib inline\n",
    "import numpy as np\n",
    "import pandas as pd\n"
   ]
  },
  {
   "cell_type": "code",
   "execution_count": 39,
   "metadata": {
    "collapsed": true
   },
   "outputs": [],
   "source": [
    "raw_train = pd.read_csv('train.csv')\n",
    "raw_test = pd.read_csv('test.csv')\n"
   ]
  },
  {
   "cell_type": "code",
   "execution_count": 40,
   "metadata": {
    "collapsed": true
   },
   "outputs": [],
   "source": [
    "raw_train.relative_time /= np.max(raw_train.relative_time)\n",
    "raw_train.energy_deposit /= np.max(raw_train.energy_deposit) \n",
    "raw_test.relative_time /= np.max(raw_train.relative_time)\n",
    "raw_test.energy_deposit /= np.max(raw_train.energy_deposit)\n",
    "\n"
   ]
  },
  {
   "cell_type": "code",
   "execution_count": 7,
   "metadata": {
    "collapsed": false
   },
   "outputs": [],
   "source": [
    "def to_features(raw_data,test=False):    \n",
    "    \n",
    "    \n",
    "    data_sb = raw_data[raw_data.energy_deposit>0]\n",
    "\n",
    "    features = {}\n",
    "    #features[\"time\"] = np.array(data_sb.relative_time)\n",
    "    #features[\"enrg\"] = np.array(data_sb.energy_deposit)\n",
    "    \n",
    "    features[\"timesq\"] = np.array(data_sb.relative_time)**2\n",
    "    features[\"enrgsqlog\"] = np.log(np.array(data_sb.energy_deposit))**2\n",
    "    \n",
    "    n_wires = 4482\n",
    "    n_discretes=50\n",
    "    #for i in range(n_discretes):\n",
    "    #    features['w'+str(i)] = (data_sb.wire_id%n_discretes)==i\n",
    "\n",
    "    wires_per_discrete = (n_wires-1)/n_discretes +1\n",
    "    #print 'wpd:',wires_per_discrete\n",
    "    #for i in range(n_discretes):\n",
    "    #    section = wires_per_discrete*i\n",
    "    #    features['w'+str(i)] = np.logical_and(data_sb.wire_id >= section, data_sb.wire_id < section+wires_per_discrete)\n",
    "\n",
    "        \n",
    "    #features[\"mul\"] = features[\"enrg\"]*features[\"time\"]\n",
    "    \n",
    "    #features[\"invlogenrg\"] = np.log(1./(np.array(data_sb.energy_deposit)+0.01))\n",
    "    #features[\"invlogtime\"]=np.log(1./(np.array(data_sb['relative_time'])+0.01))\n",
    "    #features[\"mul\"] = features[\"invlogenrg\"]*features[\"invlogtime\"]\n",
    "    #features[\"wire\"] = data_sb.wire_id\n",
    "\n",
    "    return (pd.DataFrame(features),data_sb.global_id ) if test else (pd.DataFrame(features),data_sb.label==1)\n",
    "\n",
    "Xfeat,Y=to_features(raw_train)\n",
    "data_test,ids_test = to_features(raw_test,test=True)"
   ]
  },
  {
   "cell_type": "code",
   "execution_count": 19,
   "metadata": {
    "collapsed": false
   },
   "outputs": [
    {
     "data": {
      "text/plain": [
       "(1173167, 24)"
      ]
     },
     "execution_count": 19,
     "metadata": {},
     "output_type": "execute_result"
    }
   ],
   "source": [
    "Xfeat.shape"
   ]
  },
  {
   "cell_type": "code",
   "execution_count": 15,
   "metadata": {
    "collapsed": false,
    "scrolled": true
   },
   "outputs": [
    {
     "name": "stderr",
     "output_type": "stream",
     "text": [
      "[Parallel(n_jobs=-1)]: Done   1 out of 100 | elapsed:   11.6s remaining: 19.2min\n",
      "[Parallel(n_jobs=-1)]: Done  51 out of 100 | elapsed:  2.0min remaining:  1.9min\n",
      "[Parallel(n_jobs=-1)]: Done 100 out of 100 | elapsed:  3.8min finished\n"
     ]
    },
    {
     "name": "stdout",
     "output_type": "stream",
     "text": [
      "building tree 1 of 100\n",
      "building tree 2 of 100\n",
      "building tree 3 of 100\n",
      "building tree 4 of 100\n",
      "building tree 5 of 100\n",
      "building tree 6 of 100\n",
      "building tree 7 of 100\n",
      "building tree 8 of 100\n",
      "building tree 9 of 100\n",
      "building tree 10 of 100\n",
      "building tree 11 of 100\n",
      "building tree 12 of 100\n",
      "building tree 13 of 100\n",
      "building tree 14 of 100\n",
      "building tree 15 of 100\n",
      "building tree 16 of 100\n",
      "building tree 17 of 100\n",
      "building tree 18 of 100\n",
      "building tree 19 of 100\n",
      "building tree 20 of 100\n",
      "building tree 21 of 100\n",
      "building tree 22 of 100\n",
      "building tree 23 of 100\n",
      "building tree 24 of 100\n",
      "building tree 25 of 100\n",
      "building tree 26 of 100\n",
      "building tree 27 of 100\n",
      "building tree 28 of 100\n",
      "building tree 29 of 100\n",
      "building tree 30 of 100\n",
      "building tree 31 of 100\n",
      "building tree 32 of 100\n",
      "building tree 33 of 100\n",
      "building tree 34 of 100\n",
      "building tree 35 of 100\n",
      "building tree 36 of 100\n",
      "building tree 37 of 100\n",
      "building tree 38 of 100\n",
      "building tree 39 of 100\n",
      "building tree 40 of 100\n",
      "building tree 41 of 100\n",
      "building tree 42 of 100\n",
      "building tree 43 of 100\n",
      "building tree 44 of 100\n",
      "building tree 45 of 100\n",
      "building tree 46 of 100\n",
      "building tree 47 of 100\n",
      "building tree 48 of 100\n",
      "building tree 49 of 100\n",
      "building tree 50 of 100\n",
      "building tree 51 of 100\n",
      "building tree 52 of 100\n",
      "building tree 53 of 100\n",
      "building tree 54 of 100\n",
      "building tree 55 of 100\n",
      "building tree 56 of 100\n",
      "building tree 57 of 100\n",
      "building tree 58 of 100\n",
      "building tree 59 of 100\n",
      "building tree 60 of 100\n",
      "building tree 61 of 100\n",
      "building tree 62 of 100\n",
      "building tree 63 of 100\n",
      "building tree 64 of 100\n",
      "building tree 65 of 100\n",
      "building tree 66 of 100\n",
      "building tree 67 of 100\n",
      "building tree 68 of 100\n",
      "building tree 69 of 100\n",
      "building tree 70 of 100\n",
      "building tree 71 of 100\n",
      "building tree 72 of 100\n",
      "building tree 73 of 100\n",
      "building tree 74 of 100\n",
      "building tree 75 of 100\n",
      "building tree 76 of 100\n",
      "building tree 77 of 100\n",
      "building tree 78 of 100\n",
      "building tree 79 of 100\n",
      "building tree 80 of 100\n",
      "building tree 81 of 100\n",
      "building tree 82 of 100\n",
      "building tree 83 of 100\n",
      "building tree 84 of 100\n",
      "building tree 85 of 100\n",
      "building tree 86 of 100\n",
      "building tree 87 of 100\n",
      "building tree 88 of 100\n",
      "building tree 89 of 100\n",
      "building tree 90 of 100\n",
      "building tree 91 of 100\n",
      "building tree 92 of 100\n",
      "building tree 93 of 100\n",
      "building tree 94 of 100\n",
      "building tree 95 of 100\n",
      "building tree 96 of 100\n",
      "building tree 97 of 100\n",
      "building tree 98 of 100\n",
      "building tree 99 of 100\n",
      "building tree 100 of 100\n"
     ]
    },
    {
     "data": {
      "text/plain": [
       "RandomForestClassifier(bootstrap=True, class_weight=None, criterion='gini',\n",
       "            max_depth=None, max_features='auto', max_leaf_nodes=None,\n",
       "            min_samples_leaf=1, min_samples_split=2,\n",
       "            min_weight_fraction_leaf=0.0, n_estimators=100, n_jobs=-1,\n",
       "            oob_score=False, random_state=None, verbose=2,\n",
       "            warm_start=False)"
      ]
     },
     "execution_count": 15,
     "metadata": {},
     "output_type": "execute_result"
    }
   ],
   "source": [
    "from sklearn.ensemble import RandomForestClassifier\n",
    "rf = RandomForestClassifier(n_estimators=100,n_jobs=-1,verbose=2)\n",
    "rf.fit(Xfeat,Y)"
   ]
  },
  {
   "cell_type": "code",
   "execution_count": 20,
   "metadata": {
    "collapsed": false
   },
   "outputs": [
    {
     "name": "stderr",
     "output_type": "stream",
     "text": [
      "[Parallel(n_jobs=4)]: Done   1 out of 100 | elapsed:    0.5s remaining:   48.9s\n",
      "[Parallel(n_jobs=4)]: Done  51 out of 100 | elapsed:    3.5s remaining:    3.3s\n",
      "[Parallel(n_jobs=4)]: Done 100 out of 100 | elapsed:   21.6s finished\n"
     ]
    }
   ],
   "source": [
    "Y_test = rf.predict_proba(data_test)[:,1]\n",
    "\n",
    "ans = pd.DataFrame({\"prediction\":Y_test},index=ids_test)\n",
    "ans.to_csv(\"subm.csv\",index_label=\"global_id\")"
   ]
  },
  {
   "cell_type": "code",
   "execution_count": 24,
   "metadata": {
    "collapsed": false
   },
   "outputs": [
    {
     "data": {
      "text/plain": [
       "(array([  4.69000000e+02,   3.85890000e+04,   1.39268000e+05,\n",
       "          1.72370000e+05,   2.43242000e+05,   2.93997000e+05,\n",
       "          2.43823000e+05,   6.53610000e+04,   1.00990000e+04,\n",
       "          2.57000000e+02]),\n",
       " array([ 0.02 ,  0.086,  0.152,  0.218,  0.284,  0.35 ,  0.416,  0.482,\n",
       "         0.548,  0.614,  0.68 ]),\n",
       " <a list of 10 Patch objects>)"
      ]
     },
     "execution_count": 24,
     "metadata": {},
     "output_type": "execute_result"
    },
    {
     "data": {
      "image/png": "[encoded data removed]",
      "text/plain": [
       "<matplotlib.figure.Figure at 0x7fae2862cf50>"
      ]
     },
     "metadata": {},
     "output_type": "display_data"
    }
   ],
   "source": [
    "plt.hist(Y_test)"
   ]
  },
  {
   "cell_type": "code",
   "execution_count": null,
   "metadata": {
    "collapsed": false
   },
   "outputs": [],
   "source": [
    "from sklearn.externals import joblib\n",
    "!mkdir dumps\n",
    "joblib.dump(rf,'dumps/rf0-500')"
   ]
  },
  {
   "cell_type": "code",
   "execution_count": 32,
   "metadata": {
    "collapsed": false
   },
   "outputs": [
    {
     "data": {
      "text/plain": [
       "(7619400, 7619400)"
      ]
     },
     "execution_count": 32,
     "metadata": {},
     "output_type": "execute_result"
    }
   ],
   "source": [
    "4482*1700,len(raw_train)"
   ]
  },
  {
   "cell_type": "code",
   "execution_count": 35,
   "metadata": {
    "collapsed": false
   },
   "outputs": [],
   "source": [
    "in_train = np.arange(4482*1000)\n",
    "in_test = np.arange(4482*1000,4482*1700)\n",
    "\n",
    "Xtr,Ytr = extract_features(raw_train.irow(in_train),pca)\n",
    "Xts,Yts = extract_features(raw_train.irow(in_test),pca)"
   ]
  },
  {
   "cell_type": "code",
   "execution_count": 38,
   "metadata": {
    "collapsed": true
   },
   "outputs": [],
   "source": []
  },
  {
   "cell_type": "code",
   "execution_count": 36,
   "metadata": {
    "collapsed": false
   },
   "outputs": [
    {
     "data": {
      "text/plain": [
       "RandomForestClassifier(bootstrap=True, class_weight=None, criterion='gini',\n",
       "            max_depth=None, max_features='auto', max_leaf_nodes=None,\n",
       "            min_samples_leaf=1, min_samples_split=2,\n",
       "            min_weight_fraction_leaf=0.0, n_estimators=100, n_jobs=-1,\n",
       "            oob_score=False, random_state=None, verbose=0,\n",
       "            warm_start=False)"
      ]
     },
     "execution_count": 36,
     "metadata": {},
     "output_type": "execute_result"
    }
   ],
   "source": [
    "from sklearn.ensemble import RandomForestClassifier\n",
    "clf = RandomForestClassifier(n_estimators=100,n_jobs=-1)\n",
    "clf.fit(Xtr,Ytr)\n"
   ]
  },
  {
   "cell_type": "code",
   "execution_count": 37,
   "metadata": {
    "collapsed": false
   },
   "outputs": [
    {
     "data": {
      "text/plain": [
       "0.98358507829089259"
      ]
     },
     "execution_count": 37,
     "metadata": {},
     "output_type": "execute_result"
    }
   ],
   "source": [
    "from sklearn.metrics import roc_auc_score\n",
    "Yts_pred = clf.predict_proba(Xts)[:,1]\n",
    "roc_auc_score(Yts==1,Yts_pred)"
   ]
  },
  {
   "cell_type": "code",
   "execution_count": null,
   "metadata": {
    "collapsed": false
   },
   "outputs": [],
   "source": [
    "from sklearn.ensemble import GradientBoostingClassifier\n",
    "gb = GradientBoostingClassifier(n_estimators=100,max_depth=5,learning_rate=0.1)\n",
    "gb.fit(Xtr,Ytr)\n",
    "from sklearn.metrics import roc_auc_score\n",
    "Yts_pred = gb.predict_proba(Xts)[:,1]\n",
    "roc_auc_score(Yts==1,Yts_pred)"
   ]
  },
  {
   "cell_type": "code",
   "execution_count": null,
   "metadata": {
    "collapsed": false
   },
   "outputs": [],
   "source": [
    "from sklearn.ensemble import GradientBoostingClassifier\n",
    "from sklearn.grid_search import GridSearchCV\n",
    "gb = GradientBoostingClassifier(n_estimators=3,)\n",
    "pdict = {\n",
    "    'max_depth':[3,5],\n",
    "    'learning_rate': [0.05,0.1,0.25]\n",
    "}\n",
    "gcv = GridSearchCV(gb, pdict,scoring = 'roc_auc',n_jobs=-1)\n",
    "gcv.fit(Xtr,Ytr)\n",
    "Yts_pred = gcv.best_estimator_.predict(Xts)\n",
    "from sklearn.metrics import roc_auc_score\n",
    "roc_auc_score(Yts==1,Yts_pred==1)"
   ]
  },
  {
   "cell_type": "code",
   "execution_count": 6,
   "metadata": {
    "collapsed": false,
    "scrolled": false
   },
   "outputs": [
    {
     "ename": "NameError",
     "evalue": "name 'data' is not defined",
     "output_type": "error",
     "traceback": [
      "\u001b[1;31m---------------------------------------------------------------------------\u001b[0m",
      "\u001b[1;31mNameError\u001b[0m                                 Traceback (most recent call last)",
      "\u001b[1;32m<ipython-input-6-6137cde4893c>\u001b[0m in \u001b[0;36m<module>\u001b[1;34m()\u001b[0m\n\u001b[1;32m----> 1\u001b[1;33m \u001b[0mdata\u001b[0m\u001b[1;33m\u001b[0m\u001b[0m\n\u001b[0m",
      "\u001b[1;31mNameError\u001b[0m: name 'data' is not defined"
     ]
    }
   ],
   "source": [
    "data"
   ]
  },
  {
   "cell_type": "code",
   "execution_count": 4,
   "metadata": {
    "collapsed": false
   },
   "outputs": [],
   "source": [
    "def group_by_event(data,n_wires= 4482):\n",
    "\n",
    "    len_events = data.shape[0]/n_wires\n",
    "    #ASSUME IT GOES IN A (event_id, wire_id)-lexicographic order\n",
    "    return data.reshape((len_events,n_wires))\n",
    "\n",
    "imgs_e = group_by_event(np.append(raw_train.energy_deposit,raw_test.energy_deposit))\n",
    "imgs_t = group_by_event(np.append(raw_train.relative_time,raw_test.relative_time))"
   ]
  },
  {
   "cell_type": "code",
   "execution_count": 5,
   "metadata": {
    "collapsed": false
   },
   "outputs": [
    {
     "data": {
      "text/plain": [
       "(3445, 8964)"
      ]
     },
     "execution_count": 5,
     "metadata": {},
     "output_type": "execute_result"
    }
   ],
   "source": [
    "imgs = np.hstack([imgs_e,imgs_t])\n",
    "imgs.shape"
   ]
  },
  {
   "cell_type": "code",
   "execution_count": 6,
   "metadata": {
    "collapsed": false
   },
   "outputs": [
    {
     "data": {
      "text/plain": [
       "PCA(copy=True, n_components=20, whiten=False)"
      ]
     },
     "execution_count": 6,
     "metadata": {},
     "output_type": "execute_result"
    }
   ],
   "source": [
    "from sklearn.decomposition import PCA\n",
    "pca = PCA(n_components=20)\n",
    "pca.fit(imgs)\n",
    "\n"
   ]
  },
  {
   "cell_type": "code",
   "execution_count": 21,
   "metadata": {
    "collapsed": false
   },
   "outputs": [
    {
     "data": {
      "text/plain": [
       "<matplotlib.collections.PathCollection at 0x7fcfeac2ccd0>"
      ]
     },
     "execution_count": 21,
     "metadata": {},
     "output_type": "execute_result"
    },
    {
     "data": {
      "image/png": "[encoded data removed]",
      "text/plain": [
       "<matplotlib.figure.Figure at 0x7fcfe819a450>"
      ]
     },
     "metadata": {},
     "output_type": "display_data"
    }
   ],
   "source": [
    "imgs_e_train = group_by_event(raw_train.energy_deposit)\n",
    "imgs_t_train = group_by_event(raw_train.relative_time)\n",
    "imgs_train = np.hstack([imgs_e_train,imgs_t_train])\n",
    "\n",
    "evt_transformed = pca.transform(imgs_train)"
   ]
  },
  {
   "cell_type": "code",
   "execution_count": 7,
   "metadata": {
    "collapsed": false,
    "scrolled": true
   },
   "outputs": [
    {
     "data": {
      "text/html": [
       "<div style=\"max-height:1000px;max-width:1500px;overflow:auto;\">\n",
       "<table border=\"1\" class=\"dataframe\">\n",
       "  <thead>\n",
       "    <tr style=\"text-align: right;\">\n",
       "      <th></th>\n",
       "      <th>wire_rho</th>\n",
       "      <th>wire_phi</th>\n",
       "    </tr>\n",
       "    <tr>\n",
       "      <th>wire_id</th>\n",
       "      <th></th>\n",
       "      <th></th>\n",
       "    </tr>\n",
       "  </thead>\n",
       "  <tbody>\n",
       "    <tr>\n",
       "      <th>0   </th>\n",
       "      <td> 53.0</td>\n",
       "      <td> 0.000000</td>\n",
       "    </tr>\n",
       "    <tr>\n",
       "      <th>1   </th>\n",
       "      <td> 53.0</td>\n",
       "      <td> 0.031733</td>\n",
       "    </tr>\n",
       "    <tr>\n",
       "      <th>2   </th>\n",
       "      <td> 53.0</td>\n",
       "      <td> 0.063467</td>\n",
       "    </tr>\n",
       "    <tr>\n",
       "      <th>3   </th>\n",
       "      <td> 53.0</td>\n",
       "      <td> 0.095200</td>\n",
       "    </tr>\n",
       "    <tr>\n",
       "      <th>4   </th>\n",
       "      <td> 53.0</td>\n",
       "      <td> 0.126933</td>\n",
       "    </tr>\n",
       "    <tr>\n",
       "      <th>5   </th>\n",
       "      <td> 53.0</td>\n",
       "      <td> 0.158666</td>\n",
       "    </tr>\n",
       "    <tr>\n",
       "      <th>6   </th>\n",
       "      <td> 53.0</td>\n",
       "      <td> 0.190400</td>\n",
       "    </tr>\n",
       "    <tr>\n",
       "      <th>7   </th>\n",
       "      <td> 53.0</td>\n",
       "      <td> 0.222133</td>\n",
       "    </tr>\n",
       "    <tr>\n",
       "      <th>8   </th>\n",
       "      <td> 53.0</td>\n",
       "      <td> 0.253866</td>\n",
       "    </tr>\n",
       "    <tr>\n",
       "      <th>9   </th>\n",
       "      <td> 53.0</td>\n",
       "      <td> 0.285599</td>\n",
       "    </tr>\n",
       "    <tr>\n",
       "      <th>10  </th>\n",
       "      <td> 53.0</td>\n",
       "      <td> 0.317333</td>\n",
       "    </tr>\n",
       "    <tr>\n",
       "      <th>11  </th>\n",
       "      <td> 53.0</td>\n",
       "      <td> 0.349066</td>\n",
       "    </tr>\n",
       "    <tr>\n",
       "      <th>12  </th>\n",
       "      <td> 53.0</td>\n",
       "      <td> 0.380799</td>\n",
       "    </tr>\n",
       "    <tr>\n",
       "      <th>13  </th>\n",
       "      <td> 53.0</td>\n",
       "      <td> 0.412532</td>\n",
       "    </tr>\n",
       "    <tr>\n",
       "      <th>14  </th>\n",
       "      <td> 53.0</td>\n",
       "      <td> 0.444266</td>\n",
       "    </tr>\n",
       "    <tr>\n",
       "      <th>15  </th>\n",
       "      <td> 53.0</td>\n",
       "      <td> 0.475999</td>\n",
       "    </tr>\n",
       "    <tr>\n",
       "      <th>16  </th>\n",
       "      <td> 53.0</td>\n",
       "      <td> 0.507732</td>\n",
       "    </tr>\n",
       "    <tr>\n",
       "      <th>17  </th>\n",
       "      <td> 53.0</td>\n",
       "      <td> 0.539465</td>\n",
       "    </tr>\n",
       "    <tr>\n",
       "      <th>18  </th>\n",
       "      <td> 53.0</td>\n",
       "      <td> 0.571199</td>\n",
       "    </tr>\n",
       "    <tr>\n",
       "      <th>19  </th>\n",
       "      <td> 53.0</td>\n",
       "      <td> 0.602932</td>\n",
       "    </tr>\n",
       "    <tr>\n",
       "      <th>20  </th>\n",
       "      <td> 53.0</td>\n",
       "      <td> 0.634665</td>\n",
       "    </tr>\n",
       "    <tr>\n",
       "      <th>21  </th>\n",
       "      <td> 53.0</td>\n",
       "      <td> 0.666398</td>\n",
       "    </tr>\n",
       "    <tr>\n",
       "      <th>22  </th>\n",
       "      <td> 53.0</td>\n",
       "      <td> 0.698132</td>\n",
       "    </tr>\n",
       "    <tr>\n",
       "      <th>23  </th>\n",
       "      <td> 53.0</td>\n",
       "      <td> 0.729865</td>\n",
       "    </tr>\n",
       "    <tr>\n",
       "      <th>24  </th>\n",
       "      <td> 53.0</td>\n",
       "      <td> 0.761598</td>\n",
       "    </tr>\n",
       "    <tr>\n",
       "      <th>25  </th>\n",
       "      <td> 53.0</td>\n",
       "      <td> 0.793331</td>\n",
       "    </tr>\n",
       "    <tr>\n",
       "      <th>26  </th>\n",
       "      <td> 53.0</td>\n",
       "      <td> 0.825065</td>\n",
       "    </tr>\n",
       "    <tr>\n",
       "      <th>27  </th>\n",
       "      <td> 53.0</td>\n",
       "      <td> 0.856798</td>\n",
       "    </tr>\n",
       "    <tr>\n",
       "      <th>28  </th>\n",
       "      <td> 53.0</td>\n",
       "      <td> 0.888531</td>\n",
       "    </tr>\n",
       "    <tr>\n",
       "      <th>29  </th>\n",
       "      <td> 53.0</td>\n",
       "      <td> 0.920265</td>\n",
       "    </tr>\n",
       "    <tr>\n",
       "      <th>...</th>\n",
       "      <td>...</td>\n",
       "      <td>...</td>\n",
       "    </tr>\n",
       "    <tr>\n",
       "      <th>4452</th>\n",
       "      <td> 80.2</td>\n",
       "      <td> 5.665553</td>\n",
       "    </tr>\n",
       "    <tr>\n",
       "      <th>4453</th>\n",
       "      <td> 80.2</td>\n",
       "      <td> 5.686497</td>\n",
       "    </tr>\n",
       "    <tr>\n",
       "      <th>4454</th>\n",
       "      <td> 80.2</td>\n",
       "      <td> 5.707441</td>\n",
       "    </tr>\n",
       "    <tr>\n",
       "      <th>4455</th>\n",
       "      <td> 80.2</td>\n",
       "      <td> 5.728385</td>\n",
       "    </tr>\n",
       "    <tr>\n",
       "      <th>4456</th>\n",
       "      <td> 80.2</td>\n",
       "      <td> 5.749329</td>\n",
       "    </tr>\n",
       "    <tr>\n",
       "      <th>4457</th>\n",
       "      <td> 80.2</td>\n",
       "      <td> 5.770273</td>\n",
       "    </tr>\n",
       "    <tr>\n",
       "      <th>4458</th>\n",
       "      <td> 80.2</td>\n",
       "      <td> 5.791216</td>\n",
       "    </tr>\n",
       "    <tr>\n",
       "      <th>4459</th>\n",
       "      <td> 80.2</td>\n",
       "      <td> 5.812160</td>\n",
       "    </tr>\n",
       "    <tr>\n",
       "      <th>4460</th>\n",
       "      <td> 80.2</td>\n",
       "      <td> 5.833104</td>\n",
       "    </tr>\n",
       "    <tr>\n",
       "      <th>4461</th>\n",
       "      <td> 80.2</td>\n",
       "      <td> 5.854048</td>\n",
       "    </tr>\n",
       "    <tr>\n",
       "      <th>4462</th>\n",
       "      <td> 80.2</td>\n",
       "      <td> 5.874992</td>\n",
       "    </tr>\n",
       "    <tr>\n",
       "      <th>4463</th>\n",
       "      <td> 80.2</td>\n",
       "      <td> 5.895936</td>\n",
       "    </tr>\n",
       "    <tr>\n",
       "      <th>4464</th>\n",
       "      <td> 80.2</td>\n",
       "      <td> 5.916880</td>\n",
       "    </tr>\n",
       "    <tr>\n",
       "      <th>4465</th>\n",
       "      <td> 80.2</td>\n",
       "      <td> 5.937824</td>\n",
       "    </tr>\n",
       "    <tr>\n",
       "      <th>4466</th>\n",
       "      <td> 80.2</td>\n",
       "      <td> 5.958768</td>\n",
       "    </tr>\n",
       "    <tr>\n",
       "      <th>4467</th>\n",
       "      <td> 80.2</td>\n",
       "      <td> 5.979712</td>\n",
       "    </tr>\n",
       "    <tr>\n",
       "      <th>4468</th>\n",
       "      <td> 80.2</td>\n",
       "      <td> 6.000656</td>\n",
       "    </tr>\n",
       "    <tr>\n",
       "      <th>4469</th>\n",
       "      <td> 80.2</td>\n",
       "      <td> 6.021600</td>\n",
       "    </tr>\n",
       "    <tr>\n",
       "      <th>4470</th>\n",
       "      <td> 80.2</td>\n",
       "      <td> 6.042544</td>\n",
       "    </tr>\n",
       "    <tr>\n",
       "      <th>4471</th>\n",
       "      <td> 80.2</td>\n",
       "      <td> 6.063488</td>\n",
       "    </tr>\n",
       "    <tr>\n",
       "      <th>4472</th>\n",
       "      <td> 80.2</td>\n",
       "      <td> 6.084432</td>\n",
       "    </tr>\n",
       "    <tr>\n",
       "      <th>4473</th>\n",
       "      <td> 80.2</td>\n",
       "      <td> 6.105376</td>\n",
       "    </tr>\n",
       "    <tr>\n",
       "      <th>4474</th>\n",
       "      <td> 80.2</td>\n",
       "      <td> 6.126320</td>\n",
       "    </tr>\n",
       "    <tr>\n",
       "      <th>4475</th>\n",
       "      <td> 80.2</td>\n",
       "      <td> 6.147264</td>\n",
       "    </tr>\n",
       "    <tr>\n",
       "      <th>4476</th>\n",
       "      <td> 80.2</td>\n",
       "      <td> 6.168208</td>\n",
       "    </tr>\n",
       "    <tr>\n",
       "      <th>4477</th>\n",
       "      <td> 80.2</td>\n",
       "      <td> 6.189152</td>\n",
       "    </tr>\n",
       "    <tr>\n",
       "      <th>4478</th>\n",
       "      <td> 80.2</td>\n",
       "      <td> 6.210096</td>\n",
       "    </tr>\n",
       "    <tr>\n",
       "      <th>4479</th>\n",
       "      <td> 80.2</td>\n",
       "      <td> 6.231039</td>\n",
       "    </tr>\n",
       "    <tr>\n",
       "      <th>4480</th>\n",
       "      <td> 80.2</td>\n",
       "      <td> 6.251983</td>\n",
       "    </tr>\n",
       "    <tr>\n",
       "      <th>4481</th>\n",
       "      <td> 80.2</td>\n",
       "      <td> 6.272927</td>\n",
       "    </tr>\n",
       "  </tbody>\n",
       "</table>\n",
       "<p>4482 rows × 2 columns</p>\n",
       "</div>"
      ],
      "text/plain": [
       "         wire_rho  wire_phi\n",
       "wire_id                    \n",
       "0            53.0  0.000000\n",
       "1            53.0  0.031733\n",
       "2            53.0  0.063467\n",
       "3            53.0  0.095200\n",
       "4            53.0  0.126933\n",
       "5            53.0  0.158666\n",
       "6            53.0  0.190400\n",
       "7            53.0  0.222133\n",
       "8            53.0  0.253866\n",
       "9            53.0  0.285599\n",
       "10           53.0  0.317333\n",
       "11           53.0  0.349066\n",
       "12           53.0  0.380799\n",
       "13           53.0  0.412532\n",
       "14           53.0  0.444266\n",
       "15           53.0  0.475999\n",
       "16           53.0  0.507732\n",
       "17           53.0  0.539465\n",
       "18           53.0  0.571199\n",
       "19           53.0  0.602932\n",
       "20           53.0  0.634665\n",
       "21           53.0  0.666398\n",
       "22           53.0  0.698132\n",
       "23           53.0  0.729865\n",
       "24           53.0  0.761598\n",
       "25           53.0  0.793331\n",
       "26           53.0  0.825065\n",
       "27           53.0  0.856798\n",
       "28           53.0  0.888531\n",
       "29           53.0  0.920265\n",
       "...           ...       ...\n",
       "4452         80.2  5.665553\n",
       "4453         80.2  5.686497\n",
       "4454         80.2  5.707441\n",
       "4455         80.2  5.728385\n",
       "4456         80.2  5.749329\n",
       "4457         80.2  5.770273\n",
       "4458         80.2  5.791216\n",
       "4459         80.2  5.812160\n",
       "4460         80.2  5.833104\n",
       "4461         80.2  5.854048\n",
       "4462         80.2  5.874992\n",
       "4463         80.2  5.895936\n",
       "4464         80.2  5.916880\n",
       "4465         80.2  5.937824\n",
       "4466         80.2  5.958768\n",
       "4467         80.2  5.979712\n",
       "4468         80.2  6.000656\n",
       "4469         80.2  6.021600\n",
       "4470         80.2  6.042544\n",
       "4471         80.2  6.063488\n",
       "4472         80.2  6.084432\n",
       "4473         80.2  6.105376\n",
       "4474         80.2  6.126320\n",
       "4475         80.2  6.147264\n",
       "4476         80.2  6.168208\n",
       "4477         80.2  6.189152\n",
       "4478         80.2  6.210096\n",
       "4479         80.2  6.231039\n",
       "4480         80.2  6.251983\n",
       "4481         80.2  6.272927\n",
       "\n",
       "[4482 rows x 2 columns]"
      ]
     },
     "execution_count": 7,
     "metadata": {},
     "output_type": "execute_result"
    }
   ],
   "source": [
    "wires = pd.DataFrame.from_csv(\"wires.csv\")\n",
    "wires"
   ]
  },
  {
   "cell_type": "code",
   "execution_count": 41,
   "metadata": {
    "collapsed": false
   },
   "outputs": [],
   "source": [
    "def extract_features(data,preproc,test=False):\n",
    "    imgs_e = group_by_event(data.energy_deposit)\n",
    "    imgs_t = group_by_event(data.relative_time)\n",
    "    imgs = np.hstack([imgs_e,imgs_t])\n",
    "    pc = preproc.transform(imgs) #eventid -> components\n",
    "    \n",
    "    data_sb = data[data.energy_deposit>0]\n",
    "\n",
    "    \n",
    "    wires = pd.DataFrame.from_csv(\"wires.csv\") #wire_id -> wire position\n",
    "    \n",
    "    features = {}\n",
    "    \n",
    "    features[\"timesq\"] = np.array(data_sb.relative_time)**2\n",
    "    features[\"enrgsqlog\"] = np.log(np.array(data_sb.energy_deposit))**2\n",
    "    \n",
    "    features[\"wirePhi\"] = wires.wire_phi[data_sb.wire_id]\n",
    "    features[\"wireRho\"] = wires.wire_rho[data_sb.wire_id]\n",
    "    pc_table = pc[data_sb.event_id - np.min(data_sb.event_id)]\n",
    "    for i in range(pc_table.shape[1]):\n",
    "        features['w'+str(i)] = pc_table[:,i]\n",
    "    \n",
    "    return (pd.DataFrame(features),data_sb.global_id ) if test else (pd.DataFrame(features),data_sb.label==1)\n",
    "\n",
    "\n",
    "Xfeat,Y=extract_features(raw_train,pca)\n",
    "data_test,ids_test = extract_features(raw_test,pca,test=True)"
   ]
  },
  {
   "cell_type": "code",
   "execution_count": 13,
   "metadata": {
    "collapsed": false
   },
   "outputs": [],
   "source": [
    "del raw_train,raw_test"
   ]
  },
  {
   "cell_type": "code",
   "execution_count": 43,
   "metadata": {
    "collapsed": false
   },
   "outputs": [
    {
     "data": {
      "text/plain": [
       "(array([  3.96322000e+05,   1.23210000e+04,   9.35100000e+03,\n",
       "          1.12300000e+04,   1.40640000e+04,   1.65920000e+04,\n",
       "          1.50640000e+04,   5.97300000e+03,   1.20700000e+03,\n",
       "          7.30000000e+01]),\n",
       " array([ 0.   ,  0.093,  0.186,  0.279,  0.372,  0.465,  0.558,  0.651,\n",
       "         0.744,  0.837,  0.93 ]),\n",
       " <a list of 10 Patch objects>)"
      ]
     },
     "execution_count": 43,
     "metadata": {},
     "output_type": "execute_result"
    },
    {
     "data": {
      "image/png": "[encoded data removed]",
      "text/plain": [
       "<matplotlib.figure.Figure at 0x7fae2a66ce10>"
      ]
     },
     "metadata": {},
     "output_type": "display_data"
    }
   ],
   "source": [
    "plt.hist(Yts_pred)"
   ]
  }
 ],
 "metadata": {
  "kernelspec": {
   "display_name": "Python 2",
   "language": "python",
   "name": "python2"
  },
  "language_info": {
   "codemirror_mode": {
    "name": "ipython",
    "version": 2
   },
   "file_extension": ".py",
   "mimetype": "text/x-python",
   "name": "python",
   "nbconvert_exporter": "python",
   "pygments_lexer": "ipython2",
   "version": "2.7.6"
  }
 },
 "nbformat": 4,
 "nbformat_minor": 0
}
