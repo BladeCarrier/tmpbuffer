{
 "cells": [
  {
   "cell_type": "code",
   "execution_count": 1,
   "metadata": {
    "collapsed": true
   },
   "outputs": [],
   "source": [
    "import pandas\n",
    "higgs = pandas.DataFrame.from_csv(\"higgs.csv\")"
   ]
  },
  {
   "cell_type": "code",
   "execution_count": 2,
   "metadata": {
    "collapsed": false
   },
   "outputs": [],
   "source": [
    "import matplotlib.pyplot as plt\n",
    "%matplotlib inline"
   ]
  },
  {
   "cell_type": "code",
   "execution_count": 3,
   "metadata": {
    "collapsed": false
   },
   "outputs": [
    {
     "name": "stdout",
     "output_type": "stream",
     "text": [
      "250000\n",
      "         DER_mass_MMC  DER_mass_transverse_met_lep  DER_mass_vis  DER_pt_h  \\\n",
      "EventId                                                                      \n",
      "100000        138.470                       51.655        97.827    27.980   \n",
      "100001        160.937                       68.768       103.235    48.146   \n",
      "100002       -999.000                      162.172       125.953    35.635   \n",
      "100003        143.905                       81.417        80.943     0.414   \n",
      "100004        175.864                       16.915       134.805    16.405   \n",
      "100005         89.744                       13.550        59.149   116.344   \n",
      "100006        148.754                       28.862       107.782   106.130   \n",
      "100007        154.916                       10.418        94.714    29.169   \n",
      "100008        105.594                       50.559       100.989     4.288   \n",
      "100009        128.053                       88.941        69.272   193.392   \n",
      "\n",
      "         DER_deltaeta_jet_jet  DER_mass_jet_jet  DER_prodeta_jet_jet  \\\n",
      "EventId                                                                \n",
      "100000                  0.910           124.711                2.666   \n",
      "100001               -999.000          -999.000             -999.000   \n",
      "100002               -999.000          -999.000             -999.000   \n",
      "100003               -999.000          -999.000             -999.000   \n",
      "100004               -999.000          -999.000             -999.000   \n",
      "100005                  2.636           284.584               -0.540   \n",
      "100006                  0.733           158.359                0.113   \n",
      "100007               -999.000          -999.000             -999.000   \n",
      "100008               -999.000          -999.000             -999.000   \n",
      "100009               -999.000          -999.000             -999.000   \n",
      "\n",
      "         DER_deltar_tau_lep  DER_pt_tot  DER_sum_pt     ...      PRI_jet_num  \\\n",
      "EventId                                                 ...                    \n",
      "100000                3.064      41.928     197.760     ...                2   \n",
      "100001                3.473       2.078     125.157     ...                1   \n",
      "100002                3.148       9.336     197.814     ...                1   \n",
      "100003                3.310       0.414      75.968     ...                0   \n",
      "100004                3.891      16.405      57.983     ...                0   \n",
      "100005                1.362      61.619     278.876     ...                3   \n",
      "100006                2.941       2.545     305.967     ...                2   \n",
      "100007                2.897       1.526     138.178     ...                1   \n",
      "100008                2.904       4.288      65.333     ...                0   \n",
      "100009                1.609      28.859     255.123     ...                1   \n",
      "\n",
      "         PRI_jet_leading_pt  PRI_jet_leading_eta  PRI_jet_leading_phi  \\\n",
      "EventId                                                                 \n",
      "100000               67.435                2.150                0.444   \n",
      "100001               46.226                0.725                1.158   \n",
      "100002               44.251                2.053               -2.028   \n",
      "100003             -999.000             -999.000             -999.000   \n",
      "100004             -999.000             -999.000             -999.000   \n",
      "100005               90.547               -2.412               -0.653   \n",
      "100006              123.010                0.864                1.450   \n",
      "100007               30.638               -0.715               -1.724   \n",
      "100008             -999.000             -999.000             -999.000   \n",
      "100009              167.735               -2.767               -2.514   \n",
      "\n",
      "         PRI_jet_subleading_pt  PRI_jet_subleading_eta  \\\n",
      "EventId                                                  \n",
      "100000                  46.062                   1.240   \n",
      "100001                -999.000                -999.000   \n",
      "100002                -999.000                -999.000   \n",
      "100003                -999.000                -999.000   \n",
      "100004                -999.000                -999.000   \n",
      "100005                  56.165                   0.224   \n",
      "100006                  56.867                   0.131   \n",
      "100007                -999.000                -999.000   \n",
      "100008                -999.000                -999.000   \n",
      "100009                -999.000                -999.000   \n",
      "\n",
      "         PRI_jet_subleading_phi  PRI_jet_all_pt    Weight  Label  \n",
      "EventId                                                           \n",
      "100000                   -2.475         113.497  0.002653      s  \n",
      "100001                 -999.000          46.226  2.233584      b  \n",
      "100002                 -999.000          44.251  2.347389      b  \n",
      "100003                 -999.000          -0.000  5.446378      b  \n",
      "100004                 -999.000           0.000  6.245333      b  \n",
      "100005                    3.106         193.660  0.083414      b  \n",
      "100006                   -2.767         179.877  0.002653      s  \n",
      "100007                 -999.000          30.638  0.018636      s  \n",
      "100008                 -999.000           0.000  5.296003      b  \n",
      "100009                 -999.000         167.735  0.001502      s  \n",
      "\n",
      "[10 rows x 32 columns]\n"
     ]
    }
   ],
   "source": [
    "print len(higgs)\n",
    "print higgs[:10]"
   ]
  },
  {
   "cell_type": "code",
   "execution_count": 4,
   "metadata": {
    "collapsed": false
   },
   "outputs": [
    {
     "data": {
      "text/plain": [
       "<matplotlib.collections.PathCollection at 0x7fb780999dd0>"
      ]
     },
     "execution_count": 4,
     "metadata": {},
     "output_type": "execute_result"
    },
    {
     "data": {
      "image/png": "[encoded data removed]",
      "text/plain": [
       "<matplotlib.figure.Figure at 0x7fb7822217d0>"
      ]
     },
     "metadata": {},
     "output_type": "display_data"
    }
   ],
   "source": [
    "plt.scatter(higgs.DER_mass_MMC,higgs.DER_mass_transverse_met_lep,c = higgs.Label==\"s\")"
   ]
  },
  {
   "cell_type": "code",
   "execution_count": 5,
   "metadata": {
    "collapsed": false
   },
   "outputs": [
    {
     "data": {
      "text/plain": [
       "<matplotlib.collections.PathCollection at 0x7fb7808c3390>"
      ]
     },
     "execution_count": 5,
     "metadata": {},
     "output_type": "execute_result"
    },
    {
     "data": {
      "image/png": "[encoded data removed]",
      "text/plain": [
       "<matplotlib.figure.Figure at 0x7fb780901110>"
      ]
     },
     "metadata": {},
     "output_type": "display_data"
    }
   ],
   "source": [
    "plt.scatter(higgs.DER_deltar_tau_lep,higgs.DER_pt_tot,c = higgs.PRI_jet_num)\n"
   ]
  },
  {
   "cell_type": "code",
   "execution_count": 6,
   "metadata": {
    "collapsed": false
   },
   "outputs": [
    {
     "data": {
      "text/plain": [
       "<matplotlib.collections.PathCollection at 0x7fb77b1b3b50>"
      ]
     },
     "execution_count": 6,
     "metadata": {},
     "output_type": "execute_result"
    },
    {
     "data": {
      "image/png": "[encoded data removed]",
      "text/plain": [
       "<matplotlib.figure.Figure at 0x7fb77b1dcad0>"
      ]
     },
     "metadata": {},
     "output_type": "display_data"
    }
   ],
   "source": [
    "plt.scatter(higgs.DER_mass_MMC,higgs.Weight,c = higgs.Label==\"s\")"
   ]
  },
  {
   "cell_type": "code",
   "execution_count": 7,
   "metadata": {
    "collapsed": false
   },
   "outputs": [],
   "source": [
    "Xtrain = higgs[:100000]\n",
    "Ytrain = higgs.Label[:100000]\n",
    "Xtest = higgs[100000:len(higgs)] \n",
    "\n",
    "Ytest = higgs.Label[100000:len(higgs)]\n",
    "del Xtrain[\"Weight\"],Xtrain[\"Label\"],Xtest[\"Weight\"],Xtest[\"Label\"]"
   ]
  },
  {
   "cell_type": "code",
   "execution_count": 8,
   "metadata": {
    "collapsed": false
   },
   "outputs": [
    {
     "data": {
      "text/plain": [
       "LogisticRegression(C=1.0, class_weight=None, dual=False, fit_intercept=True,\n",
       "          intercept_scaling=1, max_iter=100, multi_class='ovr',\n",
       "          penalty='l2', random_state=None, solver='liblinear', tol=0.0001,\n",
       "          verbose=0)"
      ]
     },
     "execution_count": 8,
     "metadata": {},
     "output_type": "execute_result"
    }
   ],
   "source": [
    "from sklearn.linear_model import LogisticRegression\n",
    "model = LogisticRegression()\n",
    "model.fit(Xtrain,Ytrain)"
   ]
  },
  {
   "cell_type": "code",
   "execution_count": 9,
   "metadata": {
    "collapsed": false
   },
   "outputs": [
    {
     "name": "stdout",
     "output_type": "stream",
     "text": [
      "['s' 'b' 'b' 'b' 'b']\n",
      "EventId\n",
      "200000     s\n",
      "200001     b\n",
      "200002     b\n",
      "200003     s\n",
      "200004     b\n",
      "Name: Label, dtype: object\n"
     ]
    }
   ],
   "source": [
    "Y_pred_test = model.predict(Xtest)\n",
    "print Y_pred_test[:5]\n",
    "print Ytest[:5]"
   ]
  },
  {
   "cell_type": "code",
   "execution_count": 10,
   "metadata": {
    "collapsed": false
   },
   "outputs": [
    {
     "name": "stdout",
     "output_type": "stream",
     "text": [
      "0.750233333333\n"
     ]
    }
   ],
   "source": [
    "from sklearn.metrics import accuracy_score\n",
    "print accuracy_score(Ytest,Y_pred_test)"
   ]
  },
  {
   "cell_type": "code",
   "execution_count": 11,
   "metadata": {
    "collapsed": false
   },
   "outputs": [
    {
     "data": {
      "text/plain": [
       "DecisionTreeClassifier(class_weight=None, criterion='gini', max_depth=None,\n",
       "            max_features=None, max_leaf_nodes=None, min_samples_leaf=1,\n",
       "            min_samples_split=2, min_weight_fraction_leaf=0.0,\n",
       "            random_state=None, splitter='best')"
      ]
     },
     "execution_count": 11,
     "metadata": {},
     "output_type": "execute_result"
    }
   ],
   "source": [
    "from sklearn.tree import DecisionTreeClassifier\n",
    "mod = DecisionTreeClassifier()\n",
    "mod.fit(Xtrain,Ytrain)"
   ]
  },
  {
   "cell_type": "code",
   "execution_count": 12,
   "metadata": {
    "collapsed": false
   },
   "outputs": [
    {
     "name": "stdout",
     "output_type": "stream",
     "text": [
      "['s' 'b' 'b' 'b' 'b']\n",
      "EventId\n",
      "200000     s\n",
      "200001     b\n",
      "200002     b\n",
      "200003     s\n",
      "200004     b\n",
      "Name: Label, dtype: object\n"
     ]
    }
   ],
   "source": [
    "Y_pred_test_ = mod.predict(Xtest)\n",
    "print Y_pred_test[:5]\n",
    "print Ytest[:5]"
   ]
  },
  {
   "cell_type": "code",
   "execution_count": 13,
   "metadata": {
    "collapsed": false
   },
   "outputs": [
    {
     "name": "stdout",
     "output_type": "stream",
     "text": [
      "0.762606666667\n"
     ]
    }
   ],
   "source": [
    "from sklearn.metrics import accuracy_score\n",
    "print accuracy_score(Ytest,Y_pred_test_)"
   ]
  },
  {
   "cell_type": "code",
   "execution_count": 15,
   "metadata": {
    "collapsed": false
   },
   "outputs": [
    {
     "name": "stdout",
     "output_type": "stream",
     "text": [
      "building tree 1 of 100\n",
      "building tree 2 of 100"
     ]
    },
    {
     "name": "stderr",
     "output_type": "stream",
     "text": [
      "[Parallel(n_jobs=1)]: Done   1 jobs       | elapsed:    1.2s\n",
      "[Parallel(n_jobs=1)]: Done   2 jobs       | elapsed:    2.5s\n"
     ]
    },
    {
     "name": "stdout",
     "output_type": "stream",
     "text": [
      "\n",
      "building tree 3 of 100\n",
      "building tree 4 of 100\n",
      "building tree 5 of 100\n",
      "building tree 6 of 100\n",
      "building tree 7 of 100\n",
      "building tree 8 of 100"
     ]
    },
    {
     "name": "stderr",
     "output_type": "stream",
     "text": [
      "[Parallel(n_jobs=1)]: Done   5 jobs       | elapsed:    6.4s\n",
      "[Parallel(n_jobs=1)]: Done   8 jobs       | elapsed:   10.0s\n"
     ]
    },
    {
     "name": "stdout",
     "output_type": "stream",
     "text": [
      "\n",
      "building tree 9 of 100\n",
      "building tree 10 of 100\n",
      "building tree 11 of 100\n",
      "building tree 12 of 100\n",
      "building tree 13 of 100\n",
      "building tree 14 of 100\n",
      "building tree 15 of 100\n",
      "building tree 16 of 100\n",
      "building tree 17 of 100\n",
      "building tree 18 of 100"
     ]
    },
    {
     "name": "stderr",
     "output_type": "stream",
     "text": [
      "[Parallel(n_jobs=1)]: Done  13 jobs       | elapsed:   14.6s\n",
      "[Parallel(n_jobs=1)]: Done  18 jobs       | elapsed:   18.9s\n"
     ]
    },
    {
     "name": "stdout",
     "output_type": "stream",
     "text": [
      "\n",
      "building tree 19 of 100\n",
      "building tree 20 of 100\n",
      "building tree 21 of 100\n",
      "building tree 22 of 100\n",
      "building tree 23 of 100\n",
      "building tree 24 of 100\n",
      "building tree 25 of 100\n",
      "building tree 26 of 100\n",
      "building tree 27 of 100\n",
      "building tree 28 of 100\n",
      "building tree 29 of 100\n",
      "building tree 30 of 100\n",
      "building tree 31 of 100\n",
      "building tree 32 of 100"
     ]
    },
    {
     "name": "stderr",
     "output_type": "stream",
     "text": [
      "[Parallel(n_jobs=1)]: Done  25 jobs       | elapsed:   25.1s\n",
      "[Parallel(n_jobs=1)]: Done  32 jobs       | elapsed:   31.4s\n"
     ]
    },
    {
     "name": "stdout",
     "output_type": "stream",
     "text": [
      "\n",
      "building tree 33 of 100\n",
      "building tree 34 of 100\n",
      "building tree 35 of 100\n",
      "building tree 36 of 100\n",
      "building tree 37 of 100\n",
      "building tree 38 of 100\n",
      "building tree 39 of 100\n",
      "building tree 40 of 100\n",
      "building tree 41 of 100\n",
      "building tree 42 of 100\n",
      "building tree 43 of 100\n",
      "building tree 44 of 100\n",
      "building tree 45 of 100\n",
      "building tree 46 of 100\n",
      "building tree 47 of 100\n",
      "building tree 48 of 100\n",
      "building tree 49 of 100\n",
      "building tree 50 of 100"
     ]
    },
    {
     "name": "stderr",
     "output_type": "stream",
     "text": [
      "[Parallel(n_jobs=1)]: Done  41 jobs       | elapsed:   39.3s\n",
      "[Parallel(n_jobs=1)]: Done  50 jobs       | elapsed:   47.3s\n"
     ]
    },
    {
     "name": "stdout",
     "output_type": "stream",
     "text": [
      "\n",
      "building tree 51 of 100\n",
      "building tree 52 of 100\n",
      "building tree 53 of 100\n",
      "building tree 54 of 100\n",
      "building tree 55 of 100\n",
      "building tree 56 of 100\n",
      "building tree 57 of 100\n",
      "building tree 58 of 100\n",
      "building tree 59 of 100\n",
      "building tree 60 of 100\n",
      "building tree 61 of 100\n",
      "building tree 62 of 100\n",
      "building tree 63 of 100\n",
      "building tree 64 of 100\n",
      "building tree 65 of 100\n",
      "building tree 66 of 100\n",
      "building tree 67 of 100\n",
      "building tree 68 of 100\n",
      "building tree 69 of 100\n",
      "building tree 70 of 100\n",
      "building tree 71 of 100\n",
      "building tree 72 of 100"
     ]
    },
    {
     "name": "stderr",
     "output_type": "stream",
     "text": [
      "[Parallel(n_jobs=1)]: Done  61 jobs       | elapsed:   56.7s\n",
      "[Parallel(n_jobs=1)]: Done  72 jobs       | elapsed:  1.1min\n"
     ]
    },
    {
     "name": "stdout",
     "output_type": "stream",
     "text": [
      "\n",
      "building tree 73 of 100\n",
      "building tree 74 of 100\n",
      "building tree 75 of 100\n",
      "building tree 76 of 100\n",
      "building tree 77 of 100\n",
      "building tree 78 of 100\n",
      "building tree 79 of 100\n",
      "building tree 80 of 100\n",
      "building tree 81 of 100\n",
      "building tree 82 of 100\n",
      "building tree 83 of 100\n",
      "building tree 84 of 100\n",
      "building tree 85 of 100\n",
      "building tree 86 of 100\n",
      "building tree 87 of 100\n",
      "building tree 88 of 100\n",
      "building tree 89 of 100\n",
      "building tree 90 of 100\n",
      "building tree 91 of 100\n",
      "building tree 92 of 100\n",
      "building tree 93 of 100\n",
      "building tree 94 of 100\n",
      "building tree 95 of 100\n",
      "building tree 96 of 100\n",
      "building tree 97 of 100\n",
      "building tree 98 of 100"
     ]
    },
    {
     "name": "stderr",
     "output_type": "stream",
     "text": [
      "[Parallel(n_jobs=1)]: Done  85 jobs       | elapsed:  1.3min\n",
      "[Parallel(n_jobs=1)]: Done  98 jobs       | elapsed:  1.5min\n"
     ]
    },
    {
     "name": "stdout",
     "output_type": "stream",
     "text": [
      "\n",
      "building tree 99 of 100\n",
      "building tree 100 of 100\n"
     ]
    },
    {
     "name": "stderr",
     "output_type": "stream",
     "text": [
      "[Parallel(n_jobs=1)]: Done 100 out of 100 | elapsed:  1.5min finished\n"
     ]
    },
    {
     "data": {
      "text/plain": [
       "RandomForestClassifier(bootstrap=True, class_weight=None, criterion='gini',\n",
       "            max_depth=None, max_features='auto', max_leaf_nodes=None,\n",
       "            min_samples_leaf=1, min_samples_split=2,\n",
       "            min_weight_fraction_leaf=0.0, n_estimators=100, n_jobs=1,\n",
       "            oob_score=False, random_state=None, verbose=10,\n",
       "            warm_start=False)"
      ]
     },
     "execution_count": 15,
     "metadata": {},
     "output_type": "execute_result"
    }
   ],
   "source": [
    "from sklearn.ensemble import RandomForestClassifier\n",
    "m = RandomForestClassifier(n_estimators=100,verbose=10)\n",
    "m.fit(Xtrain,Ytrain)"
   ]
  },
  {
   "cell_type": "code",
   "execution_count": 16,
   "metadata": {
    "collapsed": false
   },
   "outputs": [
    {
     "name": "stderr",
     "output_type": "stream",
     "text": [
      "[Parallel(n_jobs=1)]: Done   1 jobs       | elapsed:    0.1s\n",
      "[Parallel(n_jobs=1)]: Done   2 jobs       | elapsed:    0.1s\n",
      "[Parallel(n_jobs=1)]: Done   5 jobs       | elapsed:    0.3s\n",
      "[Parallel(n_jobs=1)]: Done   8 jobs       | elapsed:    0.5s\n",
      "[Parallel(n_jobs=1)]: Done  13 jobs       | elapsed:    0.8s\n",
      "[Parallel(n_jobs=1)]: Done  18 jobs       | elapsed:    1.1s\n",
      "[Parallel(n_jobs=1)]: Done  25 jobs       | elapsed:    1.6s\n",
      "[Parallel(n_jobs=1)]: Done  32 jobs       | elapsed:    2.1s\n",
      "[Parallel(n_jobs=1)]: Done  41 jobs       | elapsed:    2.6s\n",
      "[Parallel(n_jobs=1)]: Done  50 jobs       | elapsed:    3.2s\n",
      "[Parallel(n_jobs=1)]: Done  61 jobs       | elapsed:    4.0s\n",
      "[Parallel(n_jobs=1)]: Done  72 jobs       | elapsed:    4.7s\n",
      "[Parallel(n_jobs=1)]: Done  85 jobs       | elapsed:    5.5s\n",
      "[Parallel(n_jobs=1)]: Done  98 jobs       | elapsed:    6.4s\n"
     ]
    },
    {
     "name": "stdout",
     "output_type": "stream",
     "text": [
      "['s' 'b' 'b' 'b' 'b']\n",
      "EventId\n",
      "200000     s\n",
      "200001     b\n",
      "200002     b\n",
      "200003     s\n",
      "200004     b\n",
      "Name: Label, dtype: object\n",
      "0.83694\n"
     ]
    },
    {
     "name": "stderr",
     "output_type": "stream",
     "text": [
      "[Parallel(n_jobs=1)]: Done 100 out of 100 | elapsed:    6.5s finished\n"
     ]
    }
   ],
   "source": [
    "Y_pred_test__ = m.predict(Xtest)\n",
    "print Y_pred_test[:5]\n",
    "print Ytest[:5]\n",
    "from sklearn.metrics import accuracy_score\n",
    "print accuracy_score(Ytest,Y_pred_test__)"
   ]
  },
  {
   "cell_type": "code",
   "execution_count": null,
   "metadata": {
    "collapsed": true
   },
   "outputs": [],
   "source": []
  }
 ],
 "metadata": {
  "kernelspec": {
   "display_name": "Python 2",
   "language": "python",
   "name": "python2"
  },
  "language_info": {
   "codemirror_mode": {
    "name": "ipython",
    "version": 2
   },
   "file_extension": ".py",
   "mimetype": "text/x-python",
   "name": "python",
   "nbconvert_exporter": "python",
   "pygments_lexer": "ipython2",
   "version": "2.7.6"
  }
 },
 "nbformat": 4,
 "nbformat_minor": 0
}
