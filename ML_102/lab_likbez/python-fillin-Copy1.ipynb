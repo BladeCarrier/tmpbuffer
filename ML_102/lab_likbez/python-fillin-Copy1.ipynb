{
 "cells": [
  {
   "cell_type": "code",
   "execution_count": 1,
   "metadata": {
    "collapsed": true
   },
   "outputs": [],
   "source": [
    "#я туториал по Python2, в котором вы будете писать заклинания на змеином языке"
   ]
  },
  {
   "cell_type": "code",
   "execution_count": 1,
   "metadata": {
    "collapsed": true
   },
   "outputs": [],
   "source": [
    "#создай переменную number, в которой лежит число (от 10 до 10^10)\n",
    "\n",
    "number = 108\n",
    "\n",
    "#создай такую же строку\n",
    "\n",
    "number2 = \"108\""
   ]
  },
  {
   "cell_type": "code",
   "execution_count": 2,
   "metadata": {
    "collapsed": false
   },
   "outputs": [
    {
     "data": {
      "text/plain": [
       "(11664, 54, 8)"
      ]
     },
     "execution_count": 2,
     "metadata": {},
     "output_type": "execute_result"
    }
   ],
   "source": [
    "#почситай его квадрат, половину и остаток от деления на 10\n",
    "\n",
    "number**2, number/2, number%10\n"
   ]
  },
  {
   "cell_type": "code",
   "execution_count": 3,
   "metadata": {
    "collapsed": false
   },
   "outputs": [
    {
     "data": {
      "text/plain": [
       "('10855', '108108108108108108108108108108')"
      ]
     },
     "execution_count": 3,
     "metadata": {},
     "output_type": "execute_result"
    }
   ],
   "source": [
    "#посчитай сумму строки с ещё одной произвольной, умножь строку на 10\n",
    "number2+\"55\", number2*10"
   ]
  },
  {
   "cell_type": "code",
   "execution_count": 4,
   "metadata": {
    "collapsed": false
   },
   "outputs": [
    {
     "data": {
      "text/plain": [
       "7"
      ]
     },
     "execution_count": 4,
     "metadata": {},
     "output_type": "execute_result"
    }
   ],
   "source": [
    "#создай переменную name, в которой лежит твоё имя.\n",
    "#напечатай его\n",
    "name = \"Iuassar\"\n",
    "#напечатай длину имени\n",
    "len(name)"
   ]
  },
  {
   "cell_type": "code",
   "execution_count": 10,
   "metadata": {
    "collapsed": false
   },
   "outputs": [
    {
     "data": {
      "text/plain": [
       "'Ias'"
      ]
     },
     "execution_count": 10,
     "metadata": {},
     "output_type": "execute_result"
    }
   ],
   "source": [
    "name[:5:2]"
   ]
  },
  {
   "cell_type": "code",
   "execution_count": 11,
   "metadata": {
    "collapsed": true
   },
   "outputs": [],
   "source": [
    "#создай массив из чисел 5,-2,0.6, 10\n",
    "\n",
    "mass = [5,-2,0.6,10]\n"
   ]
  },
  {
   "cell_type": "code",
   "execution_count": 13,
   "metadata": {
    "collapsed": false
   },
   "outputs": [
    {
     "data": {
      "text/plain": [
       "-2"
      ]
     },
     "execution_count": 13,
     "metadata": {},
     "output_type": "execute_result"
    }
   ],
   "source": [
    "#найди его минимум, максимум и сумму элементов\n",
    "b = mass[0]\n",
    "for a in mass:\n",
    "    if a < b: b = a\n",
    "        \n",
    "b"
   ]
  },
  {
   "cell_type": "code",
   "execution_count": 18,
   "metadata": {
    "collapsed": false
   },
   "outputs": [
    {
     "data": {
      "text/plain": [
       "[7, 14, 21, 28, 35, 42, 49, 56, 63, 70, 77, 84, 91, 98, 105]"
      ]
     },
     "execution_count": 18,
     "metadata": {},
     "output_type": "execute_result"
    }
   ],
   "source": [
    "#создай массив из чисел от 5 до number через 3\n",
    "mass2 = []\n",
    "for i in range(5,number):\n",
    "    if i%7 == 0: mass2 = mass2 + [i]\n",
    "        \n",
    "mass2"
   ]
  },
  {
   "cell_type": "code",
   "execution_count": 21,
   "metadata": {
    "collapsed": false
   },
   "outputs": [
    {
     "data": {
      "text/plain": [
       "840"
      ]
     },
     "execution_count": 21,
     "metadata": {},
     "output_type": "execute_result"
    }
   ],
   "source": [
    "#найди его минимум, максимум и сумму элементов\n",
    "sum(mass2)\n"
   ]
  },
  {
   "cell_type": "code",
   "execution_count": 27,
   "metadata": {
    "collapsed": false
   },
   "outputs": [
    {
     "data": {
      "text/plain": [
       "[7, 17, 27, 37, 47, 57, 67, 77, 87, 97, 107]"
      ]
     },
     "execution_count": 27,
     "metadata": {},
     "output_type": "execute_result"
    }
   ],
   "source": [
    "#посчитай сумму элементов массива, делящихся на 7\n",
    "mass3 = range(5,number)\n",
    "mass3[2::10]\n"
   ]
  },
  {
   "cell_type": "code",
   "execution_count": 34,
   "metadata": {
    "collapsed": false
   },
   "outputs": [],
   "source": [
    "from sklearn.datasets import load_iris\n",
    "data = load_iris()\n",
    "X1 = list(data.data[:100,0])\n",
    "X2 = list(data.data[:100,1])\n",
    "Y = list(data.target[:100])"
   ]
  },
  {
   "cell_type": "code",
   "execution_count": 35,
   "metadata": {
    "collapsed": false
   },
   "outputs": [
    {
     "data": {
      "text/plain": [
       "(5.4710000000000027, 3.0940000000000003)"
      ]
     },
     "execution_count": 35,
     "metadata": {},
     "output_type": "execute_result"
    }
   ],
   "source": [
    "sum(X1)/len(X1), sum(X2)/len(X2)"
   ]
  },
  {
   "cell_type": "code",
   "execution_count": 41,
   "metadata": {
    "collapsed": false
   },
   "outputs": [
    {
     "data": {
      "text/plain": [
       "[0.9757419385851916, 0.48289092310896464, 0.9399150947345752]"
      ]
     },
     "execution_count": 41,
     "metadata": {},
     "output_type": "execute_result"
    }
   ],
   "source": [
    "#создай массив W (тетта) из 3 элементов\n",
    "import random\n",
    "W = [random.random(),random.random(),random.random()]\n",
    "W"
   ]
  },
  {
   "cell_type": "code",
   "execution_count": 45,
   "metadata": {
    "collapsed": false
   },
   "outputs": [
    {
     "data": {
      "text/plain": [
       "6.7281884780119245"
      ]
     },
     "execution_count": 45,
     "metadata": {},
     "output_type": "execute_result"
    }
   ],
   "source": [
    "def h(x1, x2, W):\n",
    "    return W[0]+x1*W[1]+x2*W[2]\n",
    "\n",
    "h(X1[0], X2[0], W)\n"
   ]
  },
  {
   "cell_type": "code",
   "execution_count": 46,
   "metadata": {
    "collapsed": false
   },
   "outputs": [
    {
     "data": {
      "text/plain": [
       "36.878487916379797"
      ]
     },
     "execution_count": 46,
     "metadata": {},
     "output_type": "execute_result"
    }
   ],
   "source": [
    "def J(X1, X2, Y, W):\n",
    "    variance = 0\n",
    "    for i in range(len(X1)):\n",
    "        variance += (h(X1[i],X2[i],W)-Y[i])**2\n",
    "    variance/=len(X1)\n",
    "    return variance\n",
    "\n",
    "J(X1, X2, Y, W)\n"
   ]
  },
  {
   "cell_type": "code",
   "execution_count": 49,
   "metadata": {
    "collapsed": false
   },
   "outputs": [
    {
     "data": {
      "text/plain": [
       "([0.9757419385851916, -0.3671090768910357, 0.48991509473457584],\n",
       " 0.7100162479197446)"
      ]
     },
     "execution_count": 49,
     "metadata": {},
     "output_type": "execute_result"
    }
   ],
   "source": [
    "#напиши twiddle\n",
    "import numpy\n",
    "def twiddle(W, X1, X2, Y, number_of_iterations=108, step=0.05, decay = 0.99):\n",
    "    best_J = J(X1,X2,Y,W)\n",
    "    for i in range(number_of_iterations):\n",
    "        Results = []\n",
    "        Weights = []\n",
    "        for j in range(3):\n",
    "            W_new = list(W)\n",
    "            W_new[j]+=step\n",
    "            Weights.append(list(W_new))\n",
    "            Results.append(J(X1,X2,Y,W_new))\n",
    "            W_new[j]-=(step*2)\n",
    "            Weights.append(list(W_new))\n",
    "            Results.append(J(X1,X2,Y,W_new))\n",
    "        if best_J < min(Results): return W, best_J\n",
    "        best_J = min(Results)\n",
    "        W = Weights[numpy.argmin(Results)]\n",
    "    return W, best_J\n",
    "\n",
    "twiddle(W, X1, X2, Y)\n"
   ]
  },
  {
   "cell_type": "code",
   "execution_count": 52,
   "metadata": {
    "collapsed": false
   },
   "outputs": [
    {
     "name": "stdout",
     "output_type": "stream",
     "text": [
      "False 0\n",
      "False 0\n",
      "False 0\n",
      "False 0\n",
      "False 0\n",
      "False 0\n",
      "False 0\n",
      "False 0\n",
      "False 0\n",
      "False 0\n",
      "False 0\n",
      "False 0\n",
      "False 0\n",
      "False 0\n",
      "False 0\n",
      "False 0\n",
      "False 0\n",
      "False 0\n",
      "False 0\n",
      "False 0\n",
      "False 0\n",
      "False 0\n",
      "False 0\n",
      "False 0\n",
      "False 0\n",
      "False 0\n",
      "False 0\n",
      "False 0\n",
      "False 0\n",
      "False 0\n",
      "False 0\n",
      "False 0\n",
      "False 0\n",
      "False 0\n",
      "False 0\n",
      "False 0\n",
      "False 0\n",
      "False 0\n",
      "False 0\n",
      "False 0\n",
      "False 0\n",
      "True 0\n",
      "False 0\n",
      "False 0\n",
      "False 0\n",
      "False 0\n",
      "False 0\n",
      "False 0\n",
      "False 0\n",
      "False 0\n",
      "True 1\n",
      "True 1\n",
      "True 1\n",
      "True 1\n",
      "True 1\n",
      "True 1\n",
      "True 1\n",
      "True 1\n",
      "True 1\n",
      "True 1\n",
      "True 1\n",
      "True 1\n",
      "True 1\n",
      "True 1\n",
      "True 1\n",
      "True 1\n",
      "True 1\n",
      "True 1\n",
      "True 1\n",
      "True 1\n",
      "True 1\n",
      "True 1\n",
      "True 1\n",
      "True 1\n",
      "True 1\n",
      "True 1\n",
      "True 1\n",
      "True 1\n",
      "True 1\n",
      "True 1\n",
      "True 1\n",
      "True 1\n",
      "True 1\n",
      "True 1\n",
      "True 1\n",
      "True 1\n",
      "True 1\n",
      "True 1\n",
      "True 1\n",
      "True 1\n",
      "True 1\n",
      "True 1\n",
      "True 1\n",
      "True 1\n",
      "True 1\n",
      "True 1\n",
      "True 1\n",
      "True 1\n",
      "True 1\n",
      "True 1\n"
     ]
    }
   ],
   "source": [
    "W, best_J = twiddle(W, X1, X2, Y)\n",
    "for i in range(len(X1)):\n",
    "    print h(X1[i],X2[i],W)<=0.5,Y[i]\n"
   ]
  },
  {
   "cell_type": "code",
   "execution_count": null,
   "metadata": {
    "collapsed": true
   },
   "outputs": [],
   "source": []
  }
 ],
 "metadata": {
  "kernelspec": {
   "display_name": "Python 2",
   "language": "python",
   "name": "python2"
  },
  "language_info": {
   "codemirror_mode": {
    "name": "ipython",
    "version": 2
   },
   "file_extension": ".py",
   "mimetype": "text/x-python",
   "name": "python",
   "nbconvert_exporter": "python",
   "pygments_lexer": "ipython2",
   "version": "2.7.6"
  }
 },
 "nbformat": 4,
 "nbformat_minor": 0
}
