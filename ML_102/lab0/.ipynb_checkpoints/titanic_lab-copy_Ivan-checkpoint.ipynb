{
 "cells": [
  {
   "cell_type": "markdown",
   "metadata": {},
   "source": [
    "# Как выжить на титанике\n",
    "\n",
    "---\n",
    "\n",
    "Эта тетрадка научит тебя использовать pandas, numpy, строить графики в matplotlib и выживать при кораблекрушении.\n",
    "\n",
    "Начнём!\n",
    "\n"
   ]
  },
  {
   "cell_type": "markdown",
   "metadata": {},
   "source": [
    "##загрузим данные c Pandas"
   ]
  },
  {
   "cell_type": "code",
   "execution_count": 3,
   "metadata": {
    "collapsed": false
   },
   "outputs": [],
   "source": [
    "#подключим модуль Pandas.\n",
    "import pandas\n",
    "\n",
    "#считаем данные\n",
    "data = pandas.DataFrame.from_csv(\"train(1).csv\")"
   ]
  },
  {
   "cell_type": "code",
   "execution_count": 4,
   "metadata": {
    "collapsed": false
   },
   "outputs": [
    {
     "name": "stdout",
     "output_type": "stream",
     "text": [
      "5\n"
     ]
    }
   ],
   "source": [
    "x=5\n",
    "print x"
   ]
  },
  {
   "cell_type": "code",
   "execution_count": 5,
   "metadata": {
    "collapsed": false
   },
   "outputs": [
    {
     "data": {
      "text/html": [
       "<div style=\"max-height:1000px;max-width:1500px;overflow:auto;\">\n",
       "<table border=\"1\" class=\"dataframe\">\n",
       "  <thead>\n",
       "    <tr style=\"text-align: right;\">\n",
       "      <th></th>\n",
       "      <th>Survived</th>\n",
       "      <th>Pclass</th>\n",
       "      <th>Name</th>\n",
       "      <th>Sex</th>\n",
       "      <th>Age</th>\n",
       "      <th>SibSp</th>\n",
       "      <th>Parch</th>\n",
       "      <th>Ticket</th>\n",
       "      <th>Fare</th>\n",
       "      <th>Cabin</th>\n",
       "      <th>Embarked</th>\n",
       "    </tr>\n",
       "    <tr>\n",
       "      <th>PassengerId</th>\n",
       "      <th></th>\n",
       "      <th></th>\n",
       "      <th></th>\n",
       "      <th></th>\n",
       "      <th></th>\n",
       "      <th></th>\n",
       "      <th></th>\n",
       "      <th></th>\n",
       "      <th></th>\n",
       "      <th></th>\n",
       "      <th></th>\n",
       "    </tr>\n",
       "  </thead>\n",
       "  <tbody>\n",
       "    <tr>\n",
       "      <th>1 </th>\n",
       "      <td> 0</td>\n",
       "      <td> 3</td>\n",
       "      <td>                           Braund, Mr. Owen Harris</td>\n",
       "      <td>   male</td>\n",
       "      <td> 22</td>\n",
       "      <td> 1</td>\n",
       "      <td> 0</td>\n",
       "      <td>        A/5 21171</td>\n",
       "      <td>  7.2500</td>\n",
       "      <td>  NaN</td>\n",
       "      <td> S</td>\n",
       "    </tr>\n",
       "    <tr>\n",
       "      <th>2 </th>\n",
       "      <td> 1</td>\n",
       "      <td> 1</td>\n",
       "      <td> Cumings, Mrs. John Bradley (Florence Briggs Th...</td>\n",
       "      <td> female</td>\n",
       "      <td> 38</td>\n",
       "      <td> 1</td>\n",
       "      <td> 0</td>\n",
       "      <td>         PC 17599</td>\n",
       "      <td> 71.2833</td>\n",
       "      <td>  C85</td>\n",
       "      <td> C</td>\n",
       "    </tr>\n",
       "    <tr>\n",
       "      <th>3 </th>\n",
       "      <td> 1</td>\n",
       "      <td> 3</td>\n",
       "      <td>                            Heikkinen, Miss. Laina</td>\n",
       "      <td> female</td>\n",
       "      <td> 26</td>\n",
       "      <td> 0</td>\n",
       "      <td> 0</td>\n",
       "      <td> STON/O2. 3101282</td>\n",
       "      <td>  7.9250</td>\n",
       "      <td>  NaN</td>\n",
       "      <td> S</td>\n",
       "    </tr>\n",
       "    <tr>\n",
       "      <th>4 </th>\n",
       "      <td> 1</td>\n",
       "      <td> 1</td>\n",
       "      <td>      Futrelle, Mrs. Jacques Heath (Lily May Peel)</td>\n",
       "      <td> female</td>\n",
       "      <td> 35</td>\n",
       "      <td> 1</td>\n",
       "      <td> 0</td>\n",
       "      <td>           113803</td>\n",
       "      <td> 53.1000</td>\n",
       "      <td> C123</td>\n",
       "      <td> S</td>\n",
       "    </tr>\n",
       "    <tr>\n",
       "      <th>5 </th>\n",
       "      <td> 0</td>\n",
       "      <td> 3</td>\n",
       "      <td>                          Allen, Mr. William Henry</td>\n",
       "      <td>   male</td>\n",
       "      <td> 35</td>\n",
       "      <td> 0</td>\n",
       "      <td> 0</td>\n",
       "      <td>           373450</td>\n",
       "      <td>  8.0500</td>\n",
       "      <td>  NaN</td>\n",
       "      <td> S</td>\n",
       "    </tr>\n",
       "    <tr>\n",
       "      <th>6 </th>\n",
       "      <td> 0</td>\n",
       "      <td> 3</td>\n",
       "      <td>                                  Moran, Mr. James</td>\n",
       "      <td>   male</td>\n",
       "      <td>NaN</td>\n",
       "      <td> 0</td>\n",
       "      <td> 0</td>\n",
       "      <td>           330877</td>\n",
       "      <td>  8.4583</td>\n",
       "      <td>  NaN</td>\n",
       "      <td> Q</td>\n",
       "    </tr>\n",
       "    <tr>\n",
       "      <th>7 </th>\n",
       "      <td> 0</td>\n",
       "      <td> 1</td>\n",
       "      <td>                           McCarthy, Mr. Timothy J</td>\n",
       "      <td>   male</td>\n",
       "      <td> 54</td>\n",
       "      <td> 0</td>\n",
       "      <td> 0</td>\n",
       "      <td>            17463</td>\n",
       "      <td> 51.8625</td>\n",
       "      <td>  E46</td>\n",
       "      <td> S</td>\n",
       "    </tr>\n",
       "    <tr>\n",
       "      <th>8 </th>\n",
       "      <td> 0</td>\n",
       "      <td> 3</td>\n",
       "      <td>                    Palsson, Master. Gosta Leonard</td>\n",
       "      <td>   male</td>\n",
       "      <td>  2</td>\n",
       "      <td> 3</td>\n",
       "      <td> 1</td>\n",
       "      <td>           349909</td>\n",
       "      <td> 21.0750</td>\n",
       "      <td>  NaN</td>\n",
       "      <td> S</td>\n",
       "    </tr>\n",
       "    <tr>\n",
       "      <th>9 </th>\n",
       "      <td> 1</td>\n",
       "      <td> 3</td>\n",
       "      <td> Johnson, Mrs. Oscar W (Elisabeth Vilhelmina Berg)</td>\n",
       "      <td> female</td>\n",
       "      <td> 27</td>\n",
       "      <td> 0</td>\n",
       "      <td> 2</td>\n",
       "      <td>           347742</td>\n",
       "      <td> 11.1333</td>\n",
       "      <td>  NaN</td>\n",
       "      <td> S</td>\n",
       "    </tr>\n",
       "    <tr>\n",
       "      <th>10</th>\n",
       "      <td> 1</td>\n",
       "      <td> 2</td>\n",
       "      <td>               Nasser, Mrs. Nicholas (Adele Achem)</td>\n",
       "      <td> female</td>\n",
       "      <td> 14</td>\n",
       "      <td> 1</td>\n",
       "      <td> 0</td>\n",
       "      <td>           237736</td>\n",
       "      <td> 30.0708</td>\n",
       "      <td>  NaN</td>\n",
       "      <td> C</td>\n",
       "    </tr>\n",
       "  </tbody>\n",
       "</table>\n",
       "</div>"
      ],
      "text/plain": [
       "             Survived  Pclass  \\\n",
       "PassengerId                     \n",
       "1                   0       3   \n",
       "2                   1       1   \n",
       "3                   1       3   \n",
       "4                   1       1   \n",
       "5                   0       3   \n",
       "6                   0       3   \n",
       "7                   0       1   \n",
       "8                   0       3   \n",
       "9                   1       3   \n",
       "10                  1       2   \n",
       "\n",
       "                                                          Name     Sex  Age  \\\n",
       "PassengerId                                                                   \n",
       "1                                      Braund, Mr. Owen Harris    male   22   \n",
       "2            Cumings, Mrs. John Bradley (Florence Briggs Th...  female   38   \n",
       "3                                       Heikkinen, Miss. Laina  female   26   \n",
       "4                 Futrelle, Mrs. Jacques Heath (Lily May Peel)  female   35   \n",
       "5                                     Allen, Mr. William Henry    male   35   \n",
       "6                                             Moran, Mr. James    male  NaN   \n",
       "7                                      McCarthy, Mr. Timothy J    male   54   \n",
       "8                               Palsson, Master. Gosta Leonard    male    2   \n",
       "9            Johnson, Mrs. Oscar W (Elisabeth Vilhelmina Berg)  female   27   \n",
       "10                         Nasser, Mrs. Nicholas (Adele Achem)  female   14   \n",
       "\n",
       "             SibSp  Parch            Ticket     Fare Cabin Embarked  \n",
       "PassengerId                                                          \n",
       "1                1      0         A/5 21171   7.2500   NaN        S  \n",
       "2                1      0          PC 17599  71.2833   C85        C  \n",
       "3                0      0  STON/O2. 3101282   7.9250   NaN        S  \n",
       "4                1      0            113803  53.1000  C123        S  \n",
       "5                0      0            373450   8.0500   NaN        S  \n",
       "6                0      0            330877   8.4583   NaN        Q  \n",
       "7                0      0             17463  51.8625   E46        S  \n",
       "8                3      1            349909  21.0750   NaN        S  \n",
       "9                0      2            347742  11.1333   NaN        S  \n",
       "10               1      0            237736  30.0708   NaN        C  "
      ]
     },
     "execution_count": 5,
     "metadata": {},
     "output_type": "execute_result"
    }
   ],
   "source": [
    "#Данные - таблица, двумерный массив\n",
    "data[:10]"
   ]
  },
  {
   "cell_type": "code",
   "execution_count": 6,
   "metadata": {
    "collapsed": false
   },
   "outputs": [
    {
     "name": "stdout",
     "output_type": "stream",
     "text": [
      "len(data) =  891\n",
      "data.shape =  (891, 11)\n"
     ]
    }
   ],
   "source": [
    "#размеры таблицы\n",
    "print \"len(data) = \",len(data)\n",
    "print \"data.shape = \",data.shape"
   ]
  },
  {
   "cell_type": "code",
   "execution_count": 7,
   "metadata": {
    "collapsed": false
   },
   "outputs": [
    {
     "name": "stdout",
     "output_type": "stream",
     "text": [
      "Survived                   1\n",
      "Pclass                     1\n",
      "Name        Ward, Miss. Anna\n",
      "Sex                   female\n",
      "Age                       35\n",
      "SibSp                      0\n",
      "Parch                      0\n",
      "Ticket              PC 17755\n",
      "Fare                512.3292\n",
      "Cabin                    NaN\n",
      "Embarked                   C\n",
      "Name: 259, dtype: object\n"
     ]
    }
   ],
   "source": [
    "#вот так можно получить четвёртую строку таблицы, считая с нуля\n",
    "print data.irow(258)"
   ]
  },
  {
   "cell_type": "code",
   "execution_count": 8,
   "metadata": {
    "collapsed": false
   },
   "outputs": [
    {
     "name": "stdout",
     "output_type": "stream",
     "text": [
      "             Survived  Pclass  \\\n",
      "PassengerId                     \n",
      "1                   0       3   \n",
      "2                   1       1   \n",
      "3                   1       3   \n",
      "4                   1       1   \n",
      "5                   0       3   \n",
      "\n",
      "                                                          Name     Sex  Age  \\\n",
      "PassengerId                                                                   \n",
      "1                                      Braund, Mr. Owen Harris    male   22   \n",
      "2            Cumings, Mrs. John Bradley (Florence Briggs Th...  female   38   \n",
      "3                                       Heikkinen, Miss. Laina  female   26   \n",
      "4                 Futrelle, Mrs. Jacques Heath (Lily May Peel)  female   35   \n",
      "5                                     Allen, Mr. William Henry    male   35   \n",
      "\n",
      "             SibSp  Parch            Ticket     Fare Cabin Embarked  \n",
      "PassengerId                                                          \n",
      "1                1      0         A/5 21171   7.2500   NaN        S  \n",
      "2                1      0          PC 17599  71.2833   C85        C  \n",
      "3                0      0  STON/O2. 3101282   7.9250   NaN        S  \n",
      "4                1      0            113803  53.1000  C123        S  \n",
      "5                0      0            373450   8.0500   NaN        S  \n"
     ]
    }
   ],
   "source": [
    "#первые 5 строк\n",
    "print data[0:5]"
   ]
  },
  {
   "cell_type": "code",
   "execution_count": 9,
   "metadata": {
    "collapsed": false
   },
   "outputs": [
    {
     "name": "stdout",
     "output_type": "stream",
     "text": [
      "PassengerId\n",
      "1                                        Braund, Mr. Owen Harris\n",
      "2              Cumings, Mrs. John Bradley (Florence Briggs Th...\n",
      "3                                         Heikkinen, Miss. Laina\n",
      "4                   Futrelle, Mrs. Jacques Heath (Lily May Peel)\n",
      "5                                       Allen, Mr. William Henry\n",
      "6                                               Moran, Mr. James\n",
      "7                                        McCarthy, Mr. Timothy J\n",
      "8                                 Palsson, Master. Gosta Leonard\n",
      "9              Johnson, Mrs. Oscar W (Elisabeth Vilhelmina Berg)\n",
      "10                           Nasser, Mrs. Nicholas (Adele Achem)\n",
      "11                               Sandstrom, Miss. Marguerite Rut\n",
      "12                                      Bonnell, Miss. Elizabeth\n",
      "13                                Saundercock, Mr. William Henry\n",
      "14                                   Andersson, Mr. Anders Johan\n",
      "15                          Vestrom, Miss. Hulda Amanda Adolfina\n",
      "...\n",
      "877                            Gustafsson, Mr. Alfred Ossian\n",
      "878                                     Petroff, Mr. Nedelio\n",
      "879                                       Laleff, Mr. Kristo\n",
      "880            Potter, Mrs. Thomas Jr (Lily Alexenia Wilson)\n",
      "881             Shelley, Mrs. William (Imanita Parrish Hall)\n",
      "882                                       Markun, Mr. Johann\n",
      "883                             Dahlberg, Miss. Gerda Ulrika\n",
      "884                            Banfield, Mr. Frederick James\n",
      "885                                   Sutehall, Mr. Henry Jr\n",
      "886                     Rice, Mrs. William (Margaret Norton)\n",
      "887                                    Montvila, Rev. Juozas\n",
      "888                             Graham, Miss. Margaret Edith\n",
      "889                 Johnston, Miss. Catherine Helen \"Carrie\"\n",
      "890                                    Behr, Mr. Karl Howell\n",
      "891                                      Dooley, Mr. Patrick\n",
      "Name: Name, Length: 891, dtype: object\n"
     ]
    }
   ],
   "source": [
    "#так можно получить второй столбец (считая с нуля)\n",
    "#print data.icol(2)\n",
    "#но проще - вот так:\n",
    "print data[\"Name\"]\n",
    "#или даже так: data.Name"
   ]
  },
  {
   "cell_type": "code",
   "execution_count": 10,
   "metadata": {
    "collapsed": false
   },
   "outputs": [
    {
     "data": {
      "text/html": [
       "<div style=\"max-height:1000px;max-width:1500px;overflow:auto;\">\n",
       "<table border=\"1\" class=\"dataframe\">\n",
       "  <thead>\n",
       "    <tr style=\"text-align: right;\">\n",
       "      <th></th>\n",
       "      <th>Sex</th>\n",
       "      <th>Pclass</th>\n",
       "    </tr>\n",
       "    <tr>\n",
       "      <th>PassengerId</th>\n",
       "      <th></th>\n",
       "      <th></th>\n",
       "    </tr>\n",
       "  </thead>\n",
       "  <tbody>\n",
       "    <tr>\n",
       "      <th>6 </th>\n",
       "      <td>   male</td>\n",
       "      <td> 3</td>\n",
       "    </tr>\n",
       "    <tr>\n",
       "      <th>7 </th>\n",
       "      <td>   male</td>\n",
       "      <td> 1</td>\n",
       "    </tr>\n",
       "    <tr>\n",
       "      <th>8 </th>\n",
       "      <td>   male</td>\n",
       "      <td> 3</td>\n",
       "    </tr>\n",
       "    <tr>\n",
       "      <th>9 </th>\n",
       "      <td> female</td>\n",
       "      <td> 3</td>\n",
       "    </tr>\n",
       "    <tr>\n",
       "      <th>10</th>\n",
       "      <td> female</td>\n",
       "      <td> 2</td>\n",
       "    </tr>\n",
       "  </tbody>\n",
       "</table>\n",
       "</div>"
      ],
      "text/plain": [
       "                Sex  Pclass\n",
       "PassengerId                \n",
       "6              male       3\n",
       "7              male       1\n",
       "8              male       3\n",
       "9            female       3\n",
       "10           female       2"
      ]
     },
     "execution_count": 10,
     "metadata": {},
     "output_type": "execute_result"
    }
   ],
   "source": [
    "#несколько колонок, несколько строк\n",
    "data[[\"Sex\",\"Pclass\"]][5:10]"
   ]
  },
  {
   "cell_type": "markdown",
   "metadata": {},
   "source": [
    "##Теперь сам\n",
    "* выведи данные о 1, 13, 666 и последнем пассажире. Кто из них выжил?\n",
    "\n",
    "1)\n",
    "* выведи данные о столбике \"Survived\" - выжившие.\n",
    "* напиши программу, которая считает, сколько всего людей выжило и сколько всего людей было на корабле\n",
    "\n",
    "2)\n",
    "* выведи данные о столбике \"Age\" - возраст\n",
    "* напиши программу, которая считает средний возраст пассажиров\n",
    "\n",
    "! Обрати внимание, что в данных может быть мусор (NaN, пустые значения) !"
   ]
  },
  {
   "cell_type": "code",
   "execution_count": 11,
   "metadata": {
    "collapsed": false
   },
   "outputs": [
    {
     "name": "stdout",
     "output_type": "stream",
     "text": [
      "Survived                          0\n",
      "Pclass                            3\n",
      "Name        Braund, Mr. Owen Harris\n",
      "Sex                            male\n",
      "Age                              22\n",
      "SibSp                             1\n",
      "Parch                             0\n",
      "Ticket                    A/5 21171\n",
      "Fare                           7.25\n",
      "Cabin                           NaN\n",
      "Embarked                          S\n",
      "Name: 1, dtype: object\n"
     ]
    }
   ],
   "source": [
    "#<1,13, 666 и последний из пассажиров>\n",
    "print data.irow(0)"
   ]
  },
  {
   "cell_type": "code",
   "execution_count": 12,
   "metadata": {
    "collapsed": false
   },
   "outputs": [
    {
     "name": "stdout",
     "output_type": "stream",
     "text": [
      "PassengerId\n",
      "1              0\n",
      "2              1\n",
      "3              1\n",
      "4              1\n",
      "5              0\n",
      "6              0\n",
      "7              0\n",
      "8              0\n",
      "9              1\n",
      "10             1\n",
      "11             1\n",
      "12             1\n",
      "13             0\n",
      "14             0\n",
      "15             0\n",
      "...\n",
      "877            0\n",
      "878            0\n",
      "879            0\n",
      "880            1\n",
      "881            1\n",
      "882            0\n",
      "883            0\n",
      "884            0\n",
      "885            0\n",
      "886            0\n",
      "887            0\n",
      "888            1\n",
      "889            0\n",
      "890            1\n",
      "891            0\n",
      "Name: Survived, Length: 891, dtype: int64\n"
     ]
    }
   ],
   "source": [
    "#столбик\n",
    "print data['Survived']"
   ]
  },
  {
   "cell_type": "code",
   "execution_count": 13,
   "metadata": {
    "collapsed": false
   },
   "outputs": [
    {
     "name": "stdout",
     "output_type": "stream",
     "text": [
      "343\n"
     ]
    }
   ],
   "source": [
    "#(программа)\n",
    "n=1\n",
    "for i in range(0,891):\n",
    "    if (data['Survived'].irow(i) == 1):\n",
    "        n=n+1\n",
    "    else: n=n\n",
    "print n"
   ]
  },
  {
   "cell_type": "markdown",
   "metadata": {},
   "source": [
    "#Numpy и векторные операции"
   ]
  },
  {
   "cell_type": "code",
   "execution_count": 14,
   "metadata": {
    "collapsed": false
   },
   "outputs": [
    {
     "name": "stdout",
     "output_type": "stream",
     "text": [
      "a =  [1 2 3 4 5]\n",
      "b =  [5 4 3 2 1]\n",
      "a+1 = [2 3 4 5 6]\n",
      "a*2 = [ 2  4  6  8 10]\n",
      "a==2 [False  True False False False]\n",
      "a+b = [6 6 6 6 6]\n",
      "a*b = [5 8 9 8 5]\n"
     ]
    }
   ],
   "source": [
    "#загружаем numpy\n",
    "import numpy\n",
    "\n",
    "#основная структура данных - массив\n",
    "a = numpy.array([1,2,3,4,5])\n",
    "b = numpy.array([5,4,3,2,1])\n",
    "print \"a = \",a\n",
    "print \"b = \",b\n",
    "\n",
    "#математические и логические операции считаются для каждого элемента массива\n",
    "print \"a+1 =\", a+1\n",
    "print \"a*2 =\", a*2\n",
    "print \"a==2\", a==2\n",
    "#если в операции участвуют 2 массива, операции считаются для соответствующих пар\n",
    "print \"a+b =\",a+b\n",
    "print \"a*b =\",a*b"
   ]
  },
  {
   "cell_type": "code",
   "execution_count": 15,
   "metadata": {
    "collapsed": false
   },
   "outputs": [
    {
     "name": "stdout",
     "output_type": "stream",
     "text": [
      "Разность между a и b:\n",
      "a-b = [-4 -2  0  2  4]\n",
      "Квадраты элементов b:\n",
      "b*b = [25 16  9  4  1]\n",
      "Половины элементов массива a:\n",
      "a:2 = [0 1 1 2 2]\n",
      "Половины произведений элементов массивов a и b:\n",
      "[2 4 4 4 2]\n",
      "Частное разности элементов a и единицы с квадратами b:\n",
      "[0 0 0 0 4]\n"
     ]
    }
   ],
   "source": [
    "print \"Разность между a и b:\\n\", #<твой код>\n",
    "print 'a-b =',a-b\n",
    "print \"Квадраты элементов b:\\n\", #<твой код>\n",
    "print 'b*b =',b*b\n",
    "print \"Половины элементов массива a:\\n\", #<твой код>\n",
    "print 'a:2 =',a/2\n",
    "print \"Половины произведений элементов массивов a и b:\\n\", #<твой код>\n",
    "print a*b/2\n",
    "print \"Частное разности элементов a и единицы с квадратами b:\\n\", #<твой код>\n",
    "print (a-1)/(b*b)"
   ]
  },
  {
   "cell_type": "code",
   "execution_count": 16,
   "metadata": {
    "collapsed": false
   },
   "outputs": [
    {
     "name": "stdout",
     "output_type": "stream",
     "text": [
      "numpy.sum(a) =  15\n",
      "numpy.min(a) =  1\n",
      "numpy.argmin(b) =  4\n",
      "numpy.max(a) =  5\n",
      "numpy.argmax(b) =  0\n",
      "numpy.average(a) =  3.0\n",
      "numpy.var(b) =  2.0\n",
      "numpy.unique(['male','male','female','female','male']) =  ['female' 'male']\n"
     ]
    }
   ],
   "source": [
    "#а ещё в numpy есть много функций\n",
    "\n",
    "print \"numpy.sum(a) = \",numpy.sum(a)\n",
    "print \"numpy.min(a) = \", numpy.min(a)\n",
    "print \"numpy.argmin(b) = \", numpy.argmin(b) #индекс минимального элемента\n",
    "print \"numpy.max(a) = \", numpy.max(a)\n",
    "print \"numpy.argmax(b) = \", numpy.argmax(b) #индекс максимального\n",
    "print \"numpy.average(a) = \", numpy.average(a)\n",
    "print \"numpy.var(b) = \", numpy.var(b)\n",
    "print \"numpy.unique(['male','male','female','female','male']) = \",numpy.unique(['male','male','female','female','male'])\n",
    "#и ещё много  всего ..."
   ]
  },
  {
   "cell_type": "code",
   "execution_count": 17,
   "metadata": {
    "collapsed": false
   },
   "outputs": [
    {
     "ename": "SyntaxError",
     "evalue": "invalid syntax (<ipython-input-17-4b656fb39cc4>, line 10)",
     "output_type": "error",
     "traceback": [
      "\u001b[1;36m  File \u001b[1;32m\"<ipython-input-17-4b656fb39cc4>\"\u001b[1;36m, line \u001b[1;32m10\u001b[0m\n\u001b[1;33m    #Сколько лет было самому (молодому\\старому) пассажиру. Как его звали? Какого он пола?\u001b[0m\n\u001b[1;37m                                                                                         \n^\u001b[0m\n\u001b[1;31mSyntaxError\u001b[0m\u001b[1;31m:\u001b[0m invalid syntax\n"
     ]
    }
   ],
   "source": [
    "#реши свою предыдущую задачу в 1 строчку с использованием numpy\n",
    "#подсказка: если массив состоит из 0 и 1, то \n",
    "#сумма = количестно единичек \n",
    "#среднее значение = вероятность единички\n",
    "print numpy.sum(data['survived'].irow(891)\n",
    "\n",
    "#найди пассажира с (минимальной/максимальной) стоимостью билета. Сколько он заплатил? Выжил ли он?\n",
    "\n",
    "\n",
    "#Сколько лет было самому (молодому\\старому) пассажиру. Как его звали? Какого он пола?"
   ]
  },
  {
   "cell_type": "code",
   "execution_count": 2,
   "metadata": {
    "collapsed": false
   },
   "outputs": [
    {
     "ename": "NameError",
     "evalue": "name 'a' is not defined",
     "output_type": "error",
     "traceback": [
      "\u001b[1;31m---------------------------------------------------------------------------\u001b[0m",
      "\u001b[1;31mNameError\u001b[0m                                 Traceback (most recent call last)",
      "\u001b[1;32m<ipython-input-2-8fa2b99e1255>\u001b[0m in \u001b[0;36m<module>\u001b[1;34m()\u001b[0m\n\u001b[1;32m----> 1\u001b[1;33m \u001b[1;32mprint\u001b[0m \u001b[0ma\u001b[0m\u001b[1;33m\u001b[0m\u001b[0m\n\u001b[0m\u001b[0;32m      2\u001b[0m \u001b[1;31m#логические операции\u001b[0m\u001b[1;33m\u001b[0m\u001b[1;33m\u001b[0m\u001b[0m\n\u001b[0;32m      3\u001b[0m \u001b[1;32mprint\u001b[0m \u001b[1;34m\"a>2\"\u001b[0m\u001b[1;33m,\u001b[0m\u001b[0ma\u001b[0m\u001b[1;33m>\u001b[0m\u001b[1;36m2\u001b[0m\u001b[1;33m\u001b[0m\u001b[0m\n\u001b[0;32m      4\u001b[0m \u001b[1;32mprint\u001b[0m \u001b[1;34m\"numpy.logical_and(a>2,b>2) = \"\u001b[0m\u001b[1;33m,\u001b[0m \u001b[0mnumpy\u001b[0m\u001b[1;33m.\u001b[0m\u001b[0mlogical_and\u001b[0m\u001b[1;33m(\u001b[0m\u001b[0ma\u001b[0m\u001b[1;33m>\u001b[0m\u001b[1;36m2\u001b[0m\u001b[1;33m,\u001b[0m\u001b[0mb\u001b[0m\u001b[1;33m>\u001b[0m\u001b[1;36m2\u001b[0m\u001b[1;33m)\u001b[0m\u001b[1;33m\u001b[0m\u001b[0m\n\u001b[0;32m      5\u001b[0m \u001b[1;32mprint\u001b[0m \u001b[1;34m\"numpy.logical_or(a>4,b<3) = \"\u001b[0m\u001b[1;33m,\u001b[0m \u001b[0mnumpy\u001b[0m\u001b[1;33m.\u001b[0m\u001b[0mlogical_or\u001b[0m\u001b[1;33m(\u001b[0m\u001b[0ma\u001b[0m\u001b[1;33m>\u001b[0m\u001b[1;36m2\u001b[0m\u001b[1;33m,\u001b[0m\u001b[0mb\u001b[0m\u001b[1;33m<\u001b[0m\u001b[1;36m3\u001b[0m\u001b[1;33m)\u001b[0m\u001b[1;33m\u001b[0m\u001b[0m\n",
      "\u001b[1;31mNameError\u001b[0m: name 'a' is not defined"
     ]
    }
   ],
   "source": [
    "print a\n",
    "#логические операции\n",
    "print \"a>2\",a>2\n",
    "print \"numpy.logical_and(a>2,b>2) = \", numpy.logical_and(a>2,b>2)\n",
    "print \"numpy.logical_or(a>4,b<3) = \", numpy.logical_or(a>2,b<3)\n",
    "print \"numpy.logical_not(-||-) = \",numpy.logical_not(numpy.logical_or(a>4,b<3))\n",
    "\n",
    "print \"\\n\\n\"\n",
    "\n",
    "#индексация\n",
    "print \"a> 3 =\",a>3\n",
    "print \"a[a>3] =\", a[a>3]\n",
    "print \"numpy.where(a>3) =\",numpy.where(a>3) #где в массиве лежат True\n",
    "print \"a[numpy.where(a>3)] =\",a[numpy.where(a>3)]"
   ]
  },
  {
   "cell_type": "markdown",
   "metadata": {},
   "source": [
    "Вариант А\n",
    "* 1) сколько всего классов и какие они? (\"Pclass\")\n",
    "* 2) какая средняя стоимость билета в каждом классе?\n",
    "* 3) в каком классе больше детей (< 18 лет)? \n",
    "* 4) все ли дети путешествуют с родителями?\n",
    "* 5) Есть ли различия в названиях билетов(\"Ticket\") в разных классах?\n",
    "\n",
    "Вариант Б\n",
    "* 1) какие бывают порты? (\"Embarked\")\n",
    "* 2) Из какого порта больше пассажиров\n",
    "* 3) В каком порту самые дорогие билеты?\n",
    "* 4) В каком порту самые молодые девушки?\n",
    "* 5) Есть ли различия в названиях билетов(\"Ticket\") в разных портах?"
   ]
  },
  {
   "cell_type": "code",
   "execution_count": 80,
   "metadata": {
    "collapsed": false
   },
   "outputs": [
    {
     "ename": "NameError",
     "evalue": "name 'numpe' is not defined",
     "output_type": "error",
     "traceback": [
      "\u001b[1;31m---------------------------------------------------------------------------\u001b[0m",
      "\u001b[1;31mNameError\u001b[0m                                 Traceback (most recent call last)",
      "\u001b[1;32m<ipython-input-80-cbe3ac6336b4>\u001b[0m in \u001b[0;36m<module>\u001b[1;34m()\u001b[0m\n\u001b[0;32m      1\u001b[0m \u001b[1;31m#твой код\u001b[0m\u001b[1;33m\u001b[0m\u001b[1;33m\u001b[0m\u001b[0m\n\u001b[1;32m----> 2\u001b[1;33m \u001b[1;32mprint\u001b[0m \u001b[0mnumpe\u001b[0m\u001b[1;33m.\u001b[0m\u001b[0munique\u001b[0m\u001b[1;33m(\u001b[0m\u001b[0mdata\u001b[0m\u001b[1;33m[\u001b[0m\u001b[1;34m'Embarked'\u001b[0m\u001b[1;33m]\u001b[0m\u001b[1;33m)\u001b[0m\u001b[1;33m\u001b[0m\u001b[0m\n\u001b[0m\u001b[0;32m      3\u001b[0m \u001b[1;31m#здес\u001b[0m\u001b[1;33m\u001b[0m\u001b[1;33m\u001b[0m\u001b[0m\n\u001b[0;32m      4\u001b[0m \u001b[1;33m\u001b[0m\u001b[0m\n\u001b[0;32m      5\u001b[0m \u001b[1;31m#/твой код\u001b[0m\u001b[1;33m\u001b[0m\u001b[1;33m\u001b[0m\u001b[0m\n",
      "\u001b[1;31mNameError\u001b[0m: name 'numpe' is not defined"
     ]
    }
   ],
   "source": [
    "#твой код\n",
    "print numpe.unique(data['Embarked'])\n",
    "#здес\n",
    "\n",
    "#/твой код"
   ]
  },
  {
   "cell_type": "code",
   "execution_count": null,
   "metadata": {
    "collapsed": false
   },
   "outputs": [],
   "source": [
    "#Выдели в отдельный массив мужчин и женщин\n",
    "# за пол отвечает колонка \"Sex\", (\"male\",\"female\")\n",
    "\n",
    "men = #<твой код>\n",
    "women = #<твой код>\n",
    "\n",
    "#Кто с большей вероятностью выживет: мужчина или женщина?\n",
    "print \"P(выжил|мужчина) = \", #<твой код>\n",
    "print \"P(выжил|женщина) = \", #<твой код>"
   ]
  },
  {
   "cell_type": "markdown",
   "metadata": {},
   "source": [
    "##битва полов:\n",
    "1)\n",
    "* кто больше платил за билет?\n",
    "* у кого больше вероятность, что он плавает с семьёй (\"SibSp\" - к-во родственников)\n",
    "\n",
    "2)\n",
    "* кто в среднем моложе?\n",
    "* кто ЧАЩЕ плавает ПЕРВЫМ классом? (\"Pclass\")"
   ]
  },
  {
   "cell_type": "code",
   "execution_count": null,
   "metadata": {
    "collapsed": false
   },
   "outputs": [],
   "source": [
    "print \"Ответ 1 для мужчин:\", #<твой код>\n",
    "print \"Ответ 1 для женщин:\", #<твой код>\n",
    "\n",
    "print \"Ответ 2 для мужчин:\", #<твой код>\n",
    "print \"Ответ 2 для женщин:\", #<твой код>"
   ]
  },
  {
   "cell_type": "markdown",
   "metadata": {},
   "source": [
    "#Графики"
   ]
  },
  {
   "cell_type": "code",
   "execution_count": 81,
   "metadata": {
    "collapsed": false
   },
   "outputs": [
    {
     "data": {
      "text/plain": [
       "[<matplotlib.lines.Line2D at 0x7f71c6e84190>]"
      ]
     },
     "execution_count": 81,
     "metadata": {},
     "output_type": "execute_result"
    },
    {
     "data": {
      "image/png": "[encoded data removed]",
      "text/plain": [
       "<matplotlib.figure.Figure at 0x7f71c71b9150>"
      ]
     },
     "metadata": {},
     "output_type": "display_data"
    }
   ],
   "source": [
    "#загрузим библиотеку\n",
    "import matplotlib.pyplot as plt #загрузить библиотеку matplotlib.pyplot под именем plt\n",
    "%matplotlib inline\n",
    "\n",
    "#линии\n",
    "plt.plot([0,1,2,3,4,5],[0,1,4,9,16,25])"
   ]
  },
  {
   "cell_type": "code",
   "execution_count": 84,
   "metadata": {
    "collapsed": false
   },
   "outputs": [
    {
     "data": {
      "image/png": "[encoded data removed]",
      "text/plain": [
       "<matplotlib.figure.Figure at 0x7f71c6d0e610>"
      ]
     },
     "metadata": {},
     "output_type": "display_data"
    },
    {
     "data": {
      "text/plain": [
       "<matplotlib.collections.PathCollection at 0x7f71c6c0db10>"
      ]
     },
     "execution_count": 84,
     "metadata": {},
     "output_type": "execute_result"
    },
    {
     "data": {
      "image/png": "[encoded data removed]",
      "text/plain": [
       "<matplotlib.figure.Figure at 0x7f71c6cbcd90>"
      ]
     },
     "metadata": {},
     "output_type": "display_data"
    }
   ],
   "source": [
    "#точки\n",
    "plt.scatter([0,1,2,3,4,5],[0,1,4,9,16,25])\n",
    "plt.show()\n",
    "\n",
    "plt.scatter([1,1,2,3],[3,2,2,1],c = [\"red\",\"blue\",\"blue\",\"green\"],marker = \"x\")\n",
    "plt.scatter([0,1,2,3,4,5],[0,1,4,9,16,25],c = \"black\")\n"
   ]
  },
  {
   "cell_type": "code",
   "execution_count": 83,
   "metadata": {
    "collapsed": false
   },
   "outputs": [
    {
     "data": {
      "image/png": "[encoded data removed]",
      "text/plain": [
       "<matplotlib.figure.Figure at 0x7f71c6f1c910>"
      ]
     },
     "metadata": {},
     "output_type": "display_data"
    },
    {
     "data": {
      "text/plain": [
       "(array([ 4.,  7.,  5.,  3.,  3.]),\n",
       " array([  0.,   2.,   4.,   6.,   8.,  10.]),\n",
       " <a list of 5 Patch objects>)"
      ]
     },
     "execution_count": 83,
     "metadata": {},
     "output_type": "execute_result"
    },
    {
     "data": {
      "image/png": "[encoded data removed]",
      "text/plain": [
       "<matplotlib.figure.Figure at 0x7f71e9228f90>"
      ]
     },
     "metadata": {},
     "output_type": "display_data"
    }
   ],
   "source": [
    "#гистограмма\n",
    "plt.hist([0,1,1,1,2,2,3,3,3,3,3,4,4,5,5,5,6,7,7,8,9,10])\n",
    "plt.show()\n",
    "plt.hist([0,1,1,1,2,2,3,3,3,3,3,4,4,5,5,5,6,7,7,8,9,10],bins = 5)\n"
   ]
  },
  {
   "cell_type": "code",
   "execution_count": 110,
   "metadata": {
    "collapsed": false
   },
   "outputs": [
    {
     "data": {
      "text/plain": [
       "<matplotlib.collections.PathCollection at 0x7f71c6ab9190>"
      ]
     },
     "execution_count": 110,
     "metadata": {},
     "output_type": "execute_result"
    },
    {
     "data": {
      "image/png": "[encoded data removed]",
      "text/plain": [
       "<matplotlib.figure.Figure at 0x7f71c6b0af10>"
      ]
     },
     "metadata": {},
     "output_type": "display_data"
    }
   ],
   "source": [
    "#Постройте гистограмму (возрастов/цен)\n",
    "#<ваш код>\n",
    "plt.scatter((data.Age), data.Survived)"
   ]
  },
  {
   "cell_type": "code",
   "execution_count": 82,
   "metadata": {
    "collapsed": false
   },
   "outputs": [],
   "source": [
    "#Постройте график из точек x=возраст, y=цена билета, цвет - (порт/ класс)\n",
    "#<ваш код>"
   ]
  },
  {
   "cell_type": "markdown",
   "metadata": {},
   "source": [
    "#Мини-конкурс!\n",
    "\n",
    "При помощи интуиции, граффиков и вычислений попробуйте выделить по признакам группу людей,\n",
    "в которой почти все выжили. \n",
    "\n",
    "Признаки - выражения вида:\n",
    "* [колонка] равно [значение] (пол = женский)\n",
    "* [математическое выражение] >, <, >= или <=  [значение]  (возраст старше 18 лет) (количество родственников минус родителей больше 1)\n",
    "* [колонка с именем] - [утверждение про имя]  (имя содержит \"Mr.\" и длинее 5 букв)\n",
    "\n",
    "Признаки могут использоваться через И и ИЛИ.\n",
    "\n",
    "(и только их. НЕ, импликация, XOR, эквивалентность, штрих Шифера и стрелка Пирса идут лесом)\n",
    "\n",
    "Например, все [старше 30 лет] И [из порта C] И ([родственников 0] ИЛИ [первый класс]) - это 4 признака\n",
    "\n",
    "Правила:\n",
    "* Побеждает тот, у кого в группе больше всего людей;\n",
    "* Можно использовать не более 5 признаков;\n",
    "* В группе обязательно должны выжить более 90% людей;\n",
    "* Гипотеза должна подтверждаться запускабельным кодом;\n",
    "\n",
    "Напутствие - возможно, будет полезно сначала изучить данные, посмотреть на графики и обусдить идеи, а потом бросаться лихорадочно пробовать всё подряд."
   ]
  },
  {
   "cell_type": "code",
   "execution_count": null,
   "metadata": {
    "collapsed": false
   },
   "outputs": [],
   "source": [
    "#предварительные графики\n"
   ]
  },
  {
   "cell_type": "code",
   "execution_count": null,
   "metadata": {
    "collapsed": false
   },
   "outputs": [],
   "source": [
    "#старше 30лет и из порта С\n",
    "age_and_port = numpy.logical_and(data.Age > 30,data.Embarked == \"C\")\n",
    "\n",
    "#родственников на борту 0 или в первом классе\n",
    "sibsp_or_class = numpy.logical_or(data.SibSp ==0,data.Pclass ==1)\n",
    "\n",
    "#всё вместе\n",
    "group_indexer = numpy.logical_and(age_and_port,sibsp_or_class)\n",
    "\n",
    "#группа. Замените этот код на свою группу.\n",
    "group = data[group_indexer]\n"
   ]
  },
  {
   "cell_type": "code",
   "execution_count": null,
   "metadata": {
    "collapsed": false
   },
   "outputs": [],
   "source": [
    "print \"Количество человек:\",len(group)\n",
    "p_survived = numpy.average(group.Survived)\n",
    "print \"Вероятность выжить:\", p_survived\n",
    "print \"Достаточно выживших:\", p_survived > 0.9"
   ]
  },
  {
   "cell_type": "markdown",
   "metadata": {},
   "source": [
    "[руководства по библиотекам]\n",
    "\n",
    "  * [NumPy](http://www.numpy.org/)\n",
    "    - [руководство для пользователей Matlab](http://wiki.scipy.org/NumPy_for_Matlab_Users)\n",
    "  * [Pandas](http://pandas.pydata.org/)\n",
    "    - [пример работы с данными при помощи pandas](http://nbviewer.ipython.org/github/agconti/kaggle-titanic/blob/master/Titanic.ipynb)\n",
    "  * [Matplotlib](http://matplotlib.org/index.html)\n",
    "    - [pyplot](http://matplotlib.org/api/pyplot_api.html) — эмуляция функционала графопостроений в Matlab\n",
    "    - [галерея примеров](http://matplotlib.org/gallery.html)\n",
    "  * [SciPy](http://scipy.org/)"
   ]
  },
  {
   "cell_type": "markdown",
   "metadata": {},
   "source": [
    "C = Cherbourg; Q = Queenstown; S = Southampton"
   ]
  }
 ],
 "metadata": {
  "kernelspec": {
   "display_name": "Python 2",
   "language": "python",
   "name": "python2"
  },
  "language_info": {
   "codemirror_mode": {
    "name": "ipython",
    "version": 2
   },
   "file_extension": ".py",
   "mimetype": "text/x-python",
   "name": "python",
   "nbconvert_exporter": "python",
   "pygments_lexer": "ipython2",
   "version": "2.7.6"
  }
 },
 "nbformat": 4,
 "nbformat_minor": 0
}
