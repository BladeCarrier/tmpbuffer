{
 "cells": [
  {
   "cell_type": "code",
   "execution_count": 1518,
   "metadata": {
    "collapsed": true
   },
   "outputs": [],
   "source": [
    "#наши старые знакомые\n",
    "import pandas\n",
    "import numpy\n",
    "import matplotlib.pyplot as plt\n",
    "%matplotlib inline"
   ]
  },
  {
   "cell_type": "code",
   "execution_count": null,
   "metadata": {
    "collapsed": false
   },
   "outputs": [],
   "source": []
  },
  {
   "cell_type": "code",
   "execution_count": null,
   "metadata": {
    "collapsed": true
   },
   "outputs": [],
   "source": []
  },
  {
   "cell_type": "markdown",
   "metadata": {},
   "source": [
    "#Немного о диабете"
   ]
  },
  {
   "cell_type": "code",
   "execution_count": 1519,
   "metadata": {
    "collapsed": true
   },
   "outputs": [],
   "source": [
    "from sklearn.datasets import load_diabetes\n",
    "diabetes = load_diabetes()\n",
    "data = pandas.DataFrame(diabetes.data,columns = [\"q\"+str(i) for i in range(1,11)])\n",
    "data[\"doze\"] = diabetes.target"
   ]
  },
  {
   "cell_type": "code",
   "execution_count": 1520,
   "metadata": {
    "collapsed": true
   },
   "outputs": [],
   "source": [
    "#выведи размер базы данных\n"
   ]
  },
  {
   "cell_type": "code",
   "execution_count": 1521,
   "metadata": {
    "collapsed": false
   },
   "outputs": [],
   "source": [
    "#выведи первые 10 элементов data\n"
   ]
  },
  {
   "cell_type": "markdown",
   "metadata": {},
   "source": [
    "#зри в данные"
   ]
  },
  {
   "cell_type": "code",
   "execution_count": 1522,
   "metadata": {
    "collapsed": false
   },
   "outputs": [
    {
     "data": {
      "text/plain": [
       "(array([ 24.,  23.,  47.,  53.,  55.,  85.,  69.,  47.,  33.,   6.]),\n",
       " array([-0.10722563, -0.0854304 , -0.06363517, -0.04183994, -0.02004471,\n",
       "         0.00175052,  0.02354575,  0.04534098,  0.06713621,  0.08893144,\n",
       "         0.11072668]),\n",
       " <a list of 10 Patch objects>)"
      ]
     },
     "execution_count": 1522,
     "metadata": {},
     "output_type": "execute_result"
    },
    {
     "data": {
      "image/png": "[encoded data removed]",
      "text/plain": [
       "<matplotlib.figure.Figure at 0x7f1ed0ab6350>"
      ]
     },
     "metadata": {},
     "output_type": "display_data"
    }
   ],
   "source": [
    "plt.hist(data[\"q1\"])"
   ]
  },
  {
   "cell_type": "code",
   "execution_count": 1523,
   "metadata": {
    "collapsed": false
   },
   "outputs": [
    {
     "data": {
      "text/plain": [
       "(array([ 38.,  80.,  68.,  62.,  50.,  41.,  38.,  42.,  17.,   6.]),\n",
       " array([  25. ,   57.1,   89.2,  121.3,  153.4,  185.5,  217.6,  249.7,\n",
       "         281.8,  313.9,  346. ]),\n",
       " <a list of 10 Patch objects>)"
      ]
     },
     "execution_count": 1523,
     "metadata": {},
     "output_type": "execute_result"
    },
    {
     "data": {
      "image/png": "[encoded data removed]",
      "text/plain": [
       "<matplotlib.figure.Figure at 0x7f1ed0b49090>"
      ]
     },
     "metadata": {},
     "output_type": "display_data"
    }
   ],
   "source": [
    "#построй граффик по doze\n",
    "plt.hist(data[\"doze\"])"
   ]
  },
  {
   "cell_type": "code",
   "execution_count": null,
   "metadata": {
    "collapsed": true
   },
   "outputs": [],
   "source": []
  },
  {
   "cell_type": "code",
   "execution_count": 1524,
   "metadata": {
    "collapsed": false
   },
   "outputs": [
    {
     "ename": "SyntaxError",
     "evalue": "invalid syntax (<ipython-input-1524-c87127bcb7a4>, line 2)",
     "output_type": "error",
     "traceback": [
      "\u001b[1;36m  File \u001b[1;32m\"<ipython-input-1524-c87127bcb7a4>\"\u001b[1;36m, line \u001b[1;32m2\u001b[0m\n\u001b[1;33m    average_doze =\u001b[0m\n\u001b[1;37m                   ^\u001b[0m\n\u001b[1;31mSyntaxError\u001b[0m\u001b[1;31m:\u001b[0m invalid syntax\n"
     ]
    }
   ],
   "source": [
    "#вычисли среднюю дозу\n",
    "average_doze = \n",
    "print average_doze"
   ]
  },
  {
   "cell_type": "code",
   "execution_count": null,
   "metadata": {
    "collapsed": false
   },
   "outputs": [],
   "source": [
    "plt.scatter(data[\"q1\"],data[\"q2\"],c = data[\"doze\"]/numpy.max(data[\"doze\"]))"
   ]
  },
  {
   "cell_type": "code",
   "execution_count": null,
   "metadata": {
    "collapsed": false
   },
   "outputs": [],
   "source": [
    "\n",
    "plt.scatter(data[\"q3\"],data[\"q6\"],c=data[\"doze\"]/numpy.max(data[\"doze\"]))"
   ]
  },
  {
   "cell_type": "code",
   "execution_count": null,
   "metadata": {
    "collapsed": false
   },
   "outputs": [],
   "source": [
    "X=data\n",
    "Y=X-data['doze']\n",
    "X=data['doze']"
   ]
  },
  {
   "cell_type": "code",
   "execution_count": null,
   "metadata": {
    "collapsed": false
   },
   "outputs": [],
   "source": [
    "print X\n",
    "print Y"
   ]
  },
  {
   "cell_type": "code",
   "execution_count": null,
   "metadata": {
    "collapsed": true
   },
   "outputs": [],
   "source": []
  },
  {
   "cell_type": "markdown",
   "metadata": {},
   "source": [
    "#обучение и тест"
   ]
  },
  {
   "cell_type": "code",
   "execution_count": null,
   "metadata": {
    "collapsed": false
   },
   "outputs": [],
   "source": [
    "\n",
    "Y = data[\"doze\"]\n",
    "X = data\n",
    "del X[\"doze\"]"
   ]
  },
  {
   "cell_type": "code",
   "execution_count": null,
   "metadata": {
    "collapsed": false
   },
   "outputs": [],
   "source": [
    "#добавь в X признак-единицу как колонку \"q0\"\n",
    "X['q0']=1\n",
    "X"
   ]
  },
  {
   "cell_type": "code",
   "execution_count": null,
   "metadata": {
    "collapsed": false
   },
   "outputs": [],
   "source": [
    "a1 = [1,2,3,4,5]\n",
    "a2 = [5,4,3,2,1]\n",
    "from sklearn.cross_validation import train_test_split\n",
    "\n",
    "print train_test_split(a1,a2, train_size = 0.6)"
   ]
  },
  {
   "cell_type": "code",
   "execution_count": null,
   "metadata": {
    "collapsed": false
   },
   "outputs": [],
   "source": [
    "#раздели данные на обучение и тест (размер обучающей выборки - три четверти)\n",
    "X_train,X_test,Y_train,Y_test = train_test_split(X,Y,train_size=0.75)"
   ]
  },
  {
   "cell_type": "code",
   "execution_count": null,
   "metadata": {
    "collapsed": false
   },
   "outputs": [],
   "source": [
    "#посчитай размеры обучающих и тестовых данных\n",
    "len(X_train),len(Y_test)"
   ]
  },
  {
   "cell_type": "markdown",
   "metadata": {},
   "source": [
    "#обучение модели"
   ]
  },
  {
   "cell_type": "code",
   "execution_count": null,
   "metadata": {
    "collapsed": false
   },
   "outputs": [],
   "source": [
    "def predict(W,X):\n",
    "    \"\"\"получить прогноз h(X|w)\"\"\"\n",
    "    \n",
    "    size = len(X) #размерность ответа\n",
    "    \n",
    "    pred = []\n",
    "    for i in range(size):\n",
    "        \n",
    "        X_i = X.irow(i) #i-тая строчка выборки примеров\n",
    "        pred_i = sum(X_i*W) #прогноз модели для i-той строчки\n",
    "        pred.append(pred_i) #предсказание модели для него\n",
    "        \n",
    "    return numpy.array(pred)"
   ]
  },
  {
   "cell_type": "code",
   "execution_count": 1517,
   "metadata": {
    "collapsed": false
   },
   "outputs": [
    {
     "name": "stdout",
     "output_type": "stream",
     "text": [
      "(442,)\n",
      "[ 150.02169303  150.03439558  149.99444961  150.00625197  150.0044503\n",
      "  150.11881714  150.06447049  149.92892871  149.92867767  150.02736125]\n"
     ]
    }
   ],
   "source": [
    "W =  numpy.array([-0.5,0.5,-0.5,0.5,-0.5,-0.5,0.5,0.5,0.5,-0.5,150])\n",
    "pred = predict(W,X)\n",
    "print pred.shape\n",
    "print pred[:10]\n"
   ]
  },
  {
   "cell_type": "code",
   "execution_count": 1319,
   "metadata": {
    "collapsed": true
   },
   "outputs": [],
   "source": [
    "def loss(X,Y,W):\n",
    "    \"напиши функцию потерь, J(X,Y,W)\"\n",
    "    \n",
    "    pred = predict(W,X) #предсказание по модели\n",
    "    \n",
    "    error = pred - Y #вектор разностей предсказаний и реальных значений\n",
    "    \n",
    "    squared_error = error**2 #вектор из квадратов ошибок\n",
    "    \n",
    "    mean_squared_error = numpy.average(squared_error) #среднее по ним\n",
    "    return mean_squared_error"
   ]
  },
  {
   "cell_type": "code",
   "execution_count": 1525,
   "metadata": {
    "collapsed": false
   },
   "outputs": [
    {
     "name": "stdout",
     "output_type": "stream",
     "text": [
      "()\n"
     ]
    }
   ],
   "source": [
    "mse = loss(X,Y,W)\n",
    "print mse.shape"
   ]
  },
  {
   "cell_type": "code",
   "execution_count": 1526,
   "metadata": {
    "collapsed": false
   },
   "outputs": [
    {
     "ename": "SyntaxError",
     "evalue": "invalid syntax (<ipython-input-1526-548ab588f520>, line 3)",
     "output_type": "error",
     "traceback": [
      "\u001b[1;36m  File \u001b[1;32m\"<ipython-input-1526-548ab588f520>\"\u001b[1;36m, line \u001b[1;32m3\u001b[0m\n\u001b[1;33m    len_gradient = <твой код> #размер вектора градиента\u001b[0m\n\u001b[1;37m                   ^\u001b[0m\n\u001b[1;31mSyntaxError\u001b[0m\u001b[1;31m:\u001b[0m invalid syntax\n"
     ]
    }
   ],
   "source": [
    "def gradient(X,Y,W):\n",
    "    \"посчитай вектор градиента функции потерь\"\n",
    "    len_gradient = <твой код> #размер вектора градиента\n",
    "    \n",
    "    #твои вспомогательные вычисления\n",
    "    \n",
    "    gradient = <твой код>\n",
    "    \n",
    "    return gradient"
   ]
  },
  {
   "cell_type": "code",
   "execution_count": null,
   "metadata": {
    "collapsed": true
   },
   "outputs": [],
   "source": [
    "grad = loss(X,Y,W)\n",
    "print grad.shape\n",
    "print grad"
   ]
  },
  {
   "cell_type": "code",
   "execution_count": 1131,
   "metadata": {
    "collapsed": false
   },
   "outputs": [
    {
     "ename": "SyntaxError",
     "evalue": "invalid syntax (<ipython-input-1131-fd309d465b1a>, line 3)",
     "output_type": "error",
     "traceback": [
      "\u001b[1;36m  File \u001b[1;32m\"<ipython-input-1131-fd309d465b1a>\"\u001b[1;36m, line \u001b[1;32m3\u001b[0m\n\u001b[1;33m    len_w = <твой код> #сколько должно быть весов\u001b[0m\n\u001b[1;37m            ^\u001b[0m\n\u001b[1;31mSyntaxError\u001b[0m\u001b[1;31m:\u001b[0m invalid syntax\n"
     ]
    }
   ],
   "source": [
    "def train_model(X,Y, step = 0.1,n_steps = 100):\n",
    "    #создадим нулевой вектор весов\n",
    "    len_w = <твой код> #сколько должно быть весов\n",
    "    W = numpy.zeros(len_w)\n",
    "    \n",
    "    for i in range(n_steps):\n",
    "        \n",
    "        gradient = <твой код> #вектор антиградиента\n",
    "        \n",
    "        W = <твой код> #новый вектор весов\n",
    "        \n",
    "        #loss = <твой код>\n",
    "        #print loss\n",
    "    return W"
   ]
  },
  {
   "cell_type": "markdown",
   "metadata": {},
   "source": [
    "#оценка качества модели"
   ]
  },
  {
   "cell_type": "code",
   "execution_count": null,
   "metadata": {
    "collapsed": true
   },
   "outputs": [],
   "source": [
    "#обучи модель на тренировочной выборке\n",
    "W = <твой код>"
   ]
  },
  {
   "cell_type": "code",
   "execution_count": null,
   "metadata": {
    "collapsed": true
   },
   "outputs": [],
   "source": [
    "#получи прогноз на тренировочной и тестовой выборке\n",
    "Y_train_predict = <твой код>\n",
    "Y_test_predict = <твой код>"
   ]
  },
  {
   "cell_type": "code",
   "execution_count": null,
   "metadata": {
    "collapsed": true
   },
   "outputs": [],
   "source": [
    "#посчитай среднеквадратичные ошибки\n",
    "print \"ошибка на X_train:\",<твой код>\n",
    "print \"ошибка на X_test:\", <твой код>"
   ]
  }
 ],
 "metadata": {
  "kernelspec": {
   "display_name": "Python 2",
   "language": "python",
   "name": "python2"
  },
  "language_info": {
   "codemirror_mode": {
    "name": "ipython",
    "version": 2
   },
   "file_extension": ".py",
   "mimetype": "text/x-python",
   "name": "python",
   "nbconvert_exporter": "python",
   "pygments_lexer": "ipython2",
   "version": "2.7.6"
  }
 },
 "nbformat": 4,
 "nbformat_minor": 0
}
