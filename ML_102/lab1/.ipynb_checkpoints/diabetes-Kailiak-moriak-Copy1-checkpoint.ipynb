{
 "cells": [
  {
   "cell_type": "code",
   "execution_count": 6,
   "metadata": {
    "collapsed": false
   },
   "outputs": [
    {
     "name": "stdout",
     "output_type": "stream",
     "text": [
      "\n"
     ]
    }
   ],
   "source": [
    "#наши старые знакомые\n",
    "import pandas\n",
    "import numpy\n",
    "import matplotlib.pyplot as plt\n",
    "%matplotlib inline"
   ]
  },
  {
   "cell_type": "markdown",
   "metadata": {},
   "source": [
    "#Немного о диабете"
   ]
  },
  {
   "cell_type": "code",
   "execution_count": 7,
   "metadata": {
    "collapsed": false
   },
   "outputs": [
    {
     "name": "stdout",
     "output_type": "stream",
     "text": [
      "0     151\n",
      "1      75\n",
      "2     141\n",
      "3     206\n",
      "4     135\n",
      "5      97\n",
      "6     138\n",
      "7      63\n",
      "8     110\n",
      "9     310\n",
      "10    101\n",
      "11     69\n",
      "12    179\n",
      "13    185\n",
      "14    118\n",
      "...\n",
      "427     67\n",
      "428    310\n",
      "429     94\n",
      "430    183\n",
      "431     66\n",
      "432    173\n",
      "433     72\n",
      "434     49\n",
      "435     64\n",
      "436     48\n",
      "437    178\n",
      "438    104\n",
      "439    132\n",
      "440    220\n",
      "441     57\n",
      "Name: doze, Length: 442, dtype: float64\n"
     ]
    }
   ],
   "source": [
    "import numpy, pandas\n",
    "from sklearn.datasets import load_diabetes\n",
    "diabetes = load_diabetes()\n",
    "data = pandas.DataFrame(diabetes.data,columns = [\"q\"+str(i) for i in range(1,11)])\n",
    "data[\"doze\"] = diabetes.target\n",
    "print data[\"doze\"]"
   ]
  },
  {
   "cell_type": "code",
   "execution_count": 8,
   "metadata": {
    "collapsed": false
   },
   "outputs": [
    {
     "name": "stdout",
     "output_type": "stream",
     "text": [
      "442\n"
     ]
    }
   ],
   "source": [
    "#выведи размер базы данных\n",
    "print len(data[\"doze\"])"
   ]
  },
  {
   "cell_type": "code",
   "execution_count": 9,
   "metadata": {
    "collapsed": false
   },
   "outputs": [
    {
     "name": "stdout",
     "output_type": "stream",
     "text": [
      "0    151\n",
      "1     75\n",
      "2    141\n",
      "3    206\n",
      "4    135\n",
      "5     97\n",
      "6    138\n",
      "7     63\n",
      "8    110\n",
      "9    310\n",
      "Name: doze, dtype: float64\n"
     ]
    }
   ],
   "source": [
    "#выведи первые 10 элементов data\n",
    "print data[\"doze\"][:10]"
   ]
  },
  {
   "cell_type": "markdown",
   "metadata": {},
   "source": [
    "#зри в данные"
   ]
  },
  {
   "cell_type": "code",
   "execution_count": 10,
   "metadata": {
    "collapsed": false
   },
   "outputs": [
    {
     "data": {
      "text/plain": [
       "(array([ 24.,  23.,  47.,  53.,  55.,  85.,  69.,  47.,  33.,   6.]),\n",
       " array([-0.10722563, -0.0854304 , -0.06363517, -0.04183994, -0.02004471,\n",
       "         0.00175052,  0.02354575,  0.04534098,  0.06713621,  0.08893144,\n",
       "         0.11072668]),\n",
       " <a list of 10 Patch objects>)"
      ]
     },
     "execution_count": 10,
     "metadata": {},
     "output_type": "execute_result"
    },
    {
     "data": {
      "image/png": "[encoded data removed]",
      "text/plain": [
       "<matplotlib.figure.Figure at 0x7f3c72e27c10>"
      ]
     },
     "metadata": {},
     "output_type": "display_data"
    }
   ],
   "source": [
    "plt.hist(data[\"q1\"])"
   ]
  },
  {
   "cell_type": "code",
   "execution_count": 11,
   "metadata": {
    "collapsed": false
   },
   "outputs": [
    {
     "data": {
      "text/plain": [
       "(array([ 38.,  80.,  68.,  62.,  50.,  41.,  38.,  42.,  17.,   6.]),\n",
       " array([  25. ,   57.1,   89.2,  121.3,  153.4,  185.5,  217.6,  249.7,\n",
       "         281.8,  313.9,  346. ]),\n",
       " <a list of 10 Patch objects>)"
      ]
     },
     "execution_count": 11,
     "metadata": {},
     "output_type": "execute_result"
    },
    {
     "data": {
      "image/png": "[encoded data removed]",
      "text/plain": [
       "<matplotlib.figure.Figure at 0x7f3c720fcc50>"
      ]
     },
     "metadata": {},
     "output_type": "display_data"
    }
   ],
   "source": [
    "#построй граффик по doze\n",
    "plt.hist(data[\"doze\"])"
   ]
  },
  {
   "cell_type": "code",
   "execution_count": 9,
   "metadata": {
    "collapsed": false
   },
   "outputs": [
    {
     "name": "stdout",
     "output_type": "stream",
     "text": [
      "152.133484163\n"
     ]
    }
   ],
   "source": [
    "#вычисли среднюю дозу\n",
    "average_doze = numpy.average(data[\"doze\"])\n",
    "print average_doze"
   ]
  },
  {
   "cell_type": "code",
   "execution_count": 12,
   "metadata": {
    "collapsed": false
   },
   "outputs": [
    {
     "data": {
      "text/plain": [
       "<matplotlib.collections.PathCollection at 0x7f3c71e6b590>"
      ]
     },
     "execution_count": 12,
     "metadata": {},
     "output_type": "execute_result"
    },
    {
     "data": {
      "image/png": "[encoded data removed]",
      "text/plain": [
       "<matplotlib.figure.Figure at 0x7f3c71edd150>"
      ]
     },
     "metadata": {},
     "output_type": "display_data"
    }
   ],
   "source": [
    "plt.scatter(data[\"q1\"],data[\"q3\"],c = data[\"doze\"]/numpy.max(data[\"doze\"]))"
   ]
  },
  {
   "cell_type": "code",
   "execution_count": null,
   "metadata": {
    "collapsed": true
   },
   "outputs": [],
   "source": []
  },
  {
   "cell_type": "code",
   "execution_count": 13,
   "metadata": {
    "collapsed": false
   },
   "outputs": [
    {
     "data": {
      "text/plain": [
       "<matplotlib.collections.PathCollection at 0x7f3c71d41410>"
      ]
     },
     "execution_count": 13,
     "metadata": {},
     "output_type": "execute_result"
    },
    {
     "data": {
      "image/png": "[encoded data removed]",
      "text/plain": [
       "<matplotlib.figure.Figure at 0x7f3c71e3aa10>"
      ]
     },
     "metadata": {},
     "output_type": "display_data"
    }
   ],
   "source": [
    "#построй scatter (граффик из точек) для q3, q6\n",
    "plt.scatter(data[\"q3\"],data[\"q6\"],c = data[\"doze\"]/numpy.max(data[\"doze\"]))"
   ]
  },
  {
   "cell_type": "markdown",
   "metadata": {},
   "source": [
    "#обучение и тест"
   ]
  },
  {
   "cell_type": "code",
   "execution_count": 14,
   "metadata": {
    "collapsed": false
   },
   "outputs": [
    {
     "name": "stdout",
     "output_type": "stream",
     "text": [
      "           q1        q2        q3        q4        q5        q6        q7  \\\n",
      "0    0.038076  0.050680  0.061696  0.021872 -0.044223 -0.034821 -0.043401   \n",
      "1   -0.001882 -0.044642 -0.051474 -0.026328 -0.008449 -0.019163  0.074412   \n",
      "2    0.085299  0.050680  0.044451 -0.005671 -0.045599 -0.034194 -0.032356   \n",
      "3   -0.089063 -0.044642 -0.011595 -0.036656  0.012191  0.024991 -0.036038   \n",
      "4    0.005383 -0.044642 -0.036385  0.021872  0.003935  0.015596  0.008142   \n",
      "5   -0.092695 -0.044642 -0.040696 -0.019442 -0.068991 -0.079288  0.041277   \n",
      "6   -0.045472  0.050680 -0.047163 -0.015999 -0.040096 -0.024800  0.000779   \n",
      "7    0.063504  0.050680 -0.001895  0.066630  0.090620  0.108914  0.022869   \n",
      "8    0.041708  0.050680  0.061696 -0.040099 -0.013953  0.006202 -0.028674   \n",
      "9   -0.070900 -0.044642  0.039062 -0.033214 -0.012577 -0.034508 -0.024993   \n",
      "10  -0.096328 -0.044642 -0.083808  0.008101 -0.103389 -0.090561 -0.013948   \n",
      "11   0.027178  0.050680  0.017506 -0.033214 -0.007073  0.045972 -0.065491   \n",
      "12   0.016281 -0.044642 -0.028840 -0.009113 -0.004321 -0.009769  0.044958   \n",
      "13   0.005383  0.050680 -0.001895  0.008101 -0.004321 -0.015719 -0.002903   \n",
      "14   0.045341 -0.044642 -0.025607 -0.012556  0.017694 -0.000061  0.081775   \n",
      "15  -0.052738  0.050680 -0.018062  0.080401  0.089244  0.107662 -0.039719   \n",
      "16  -0.005515 -0.044642  0.042296  0.049415  0.024574 -0.023861  0.074412   \n",
      "17   0.070769  0.050680  0.012117  0.056301  0.034206  0.049416 -0.039719   \n",
      "18  -0.038207 -0.044642 -0.010517 -0.036656 -0.037344 -0.019476 -0.028674   \n",
      "19  -0.027310 -0.044642 -0.018062 -0.040099 -0.002945 -0.011335  0.037595   \n",
      "20  -0.049105 -0.044642 -0.056863 -0.043542 -0.045599 -0.043276  0.000779   \n",
      "21  -0.085430  0.050680 -0.022373  0.001215 -0.037344 -0.026366  0.015505   \n",
      "22  -0.085430 -0.044642 -0.004050 -0.009113 -0.002945  0.007767  0.022869   \n",
      "23   0.045341  0.050680  0.060618  0.031053  0.028702 -0.047347 -0.054446   \n",
      "24  -0.063635 -0.044642  0.035829 -0.022885 -0.030464 -0.018850 -0.006584   \n",
      "25  -0.067268  0.050680 -0.012673 -0.040099 -0.015328  0.004636 -0.058127   \n",
      "26  -0.107226 -0.044642 -0.077342 -0.026328 -0.089630 -0.096198  0.026550   \n",
      "27  -0.023677 -0.044642  0.059541 -0.040099 -0.042848 -0.043589  0.011824   \n",
      "28   0.052606 -0.044642 -0.021295 -0.074528 -0.040096 -0.037639 -0.006584   \n",
      "29   0.067136  0.050680 -0.006206  0.063187 -0.042848 -0.095885  0.052322   \n",
      "..        ...       ...       ...       ...       ...       ...       ...   \n",
      "412  0.074401 -0.044642  0.085408  0.063187  0.014942  0.013091  0.015505   \n",
      "413 -0.052738 -0.044642 -0.000817 -0.026328  0.010815  0.007141  0.048640   \n",
      "414  0.081666  0.050680  0.006728 -0.004523  0.109883  0.117056 -0.032356   \n",
      "415 -0.005515 -0.044642  0.008883 -0.050428  0.025950  0.047224 -0.043401   \n",
      "416 -0.027310 -0.044642  0.080019  0.098763 -0.002945  0.018101 -0.017629   \n",
      "417 -0.052738 -0.044642  0.071397 -0.074528 -0.015328 -0.001314  0.004460   \n",
      "418  0.009016 -0.044642 -0.024529 -0.026328  0.098876  0.094196  0.070730   \n",
      "419 -0.020045 -0.044642 -0.054707 -0.053871 -0.066239 -0.057367  0.011824   \n",
      "420  0.023546 -0.044642 -0.036385  0.000068  0.001183  0.034698 -0.043401   \n",
      "421  0.038076  0.050680  0.016428  0.021872  0.039710  0.045032 -0.043401   \n",
      "422 -0.078165  0.050680  0.077863  0.052858  0.078236  0.064447  0.026550   \n",
      "423  0.009016  0.050680 -0.039618  0.028758  0.038334  0.073529 -0.072854   \n",
      "424  0.001751  0.050680  0.011039 -0.019442 -0.016704 -0.003819 -0.047082   \n",
      "425 -0.078165 -0.044642 -0.040696 -0.081414 -0.100638 -0.112795  0.022869   \n",
      "426  0.030811  0.050680 -0.034229  0.043677  0.057597  0.068831 -0.032356   \n",
      "427 -0.034575  0.050680  0.005650 -0.005671 -0.073119 -0.062691 -0.006584   \n",
      "428  0.048974  0.050680  0.088642  0.087287  0.035582  0.021546 -0.024993   \n",
      "429 -0.041840 -0.044642 -0.033151 -0.022885  0.046589  0.041587  0.056003   \n",
      "430 -0.009147 -0.044642 -0.056863 -0.050428  0.021822  0.045345 -0.028674   \n",
      "431  0.070769  0.050680 -0.030996  0.021872 -0.037344 -0.047034  0.033914   \n",
      "432  0.009016 -0.044642  0.055229 -0.005671  0.057597  0.044719 -0.002903   \n",
      "433 -0.027310 -0.044642 -0.060097 -0.029771  0.046589  0.019980  0.122273   \n",
      "434  0.016281 -0.044642  0.001339  0.008101  0.005311  0.010899  0.030232   \n",
      "435 -0.012780 -0.044642 -0.023451 -0.040099 -0.016704  0.004636 -0.017629   \n",
      "436 -0.056370 -0.044642 -0.074108 -0.050428 -0.024960 -0.047034  0.092820   \n",
      "437  0.041708  0.050680  0.019662  0.059744 -0.005697 -0.002566 -0.028674   \n",
      "438 -0.005515  0.050680 -0.015906 -0.067642  0.049341  0.079165 -0.028674   \n",
      "439  0.041708  0.050680 -0.015906  0.017282 -0.037344 -0.013840 -0.024993   \n",
      "440 -0.045472 -0.044642  0.039062  0.001215  0.016318  0.015283 -0.028674   \n",
      "441 -0.045472 -0.044642 -0.073030 -0.081414  0.083740  0.027809  0.173816   \n",
      "\n",
      "           q8        q9       q10  \n",
      "0   -0.002592  0.019908 -0.017646  \n",
      "1   -0.039493 -0.068330 -0.092204  \n",
      "2   -0.002592  0.002864 -0.025930  \n",
      "3    0.034309  0.022692 -0.009362  \n",
      "4   -0.002592 -0.031991 -0.046641  \n",
      "5   -0.076395 -0.041180 -0.096346  \n",
      "6   -0.039493 -0.062913 -0.038357  \n",
      "7    0.017703 -0.035817  0.003064  \n",
      "8   -0.002592 -0.014956  0.011349  \n",
      "9   -0.002592  0.067736 -0.013504  \n",
      "10  -0.076395 -0.062913 -0.034215  \n",
      "11   0.071210 -0.096433 -0.059067  \n",
      "12  -0.039493 -0.030751 -0.042499  \n",
      "13  -0.002592  0.038393 -0.013504  \n",
      "14  -0.039493 -0.031991 -0.075636  \n",
      "15   0.108111  0.036056 -0.042499  \n",
      "16  -0.039493  0.052280  0.027917  \n",
      "17   0.034309  0.027368 -0.001078  \n",
      "18  -0.002592 -0.018118 -0.017646  \n",
      "19  -0.039493 -0.008944 -0.054925  \n",
      "20  -0.039493 -0.011901  0.015491  \n",
      "21  -0.039493 -0.072128 -0.017646  \n",
      "22  -0.039493 -0.061177 -0.013504  \n",
      "23   0.071210  0.133599  0.135612  \n",
      "24  -0.002592 -0.025952 -0.054925  \n",
      "25   0.034309  0.019199 -0.034215  \n",
      "26  -0.076395 -0.042572 -0.005220  \n",
      "27  -0.039493 -0.015998  0.040343  \n",
      "28  -0.039493 -0.000609 -0.054925  \n",
      "29  -0.076395  0.059424  0.052770  \n",
      "..        ...       ...       ...  \n",
      "412 -0.002592  0.006209  0.085907  \n",
      "413 -0.039493 -0.035817  0.019633  \n",
      "414  0.091875  0.054724  0.007207  \n",
      "415  0.071210  0.014823  0.003064  \n",
      "416  0.003312 -0.029528  0.036201  \n",
      "417 -0.021412 -0.046879  0.003064  \n",
      "418 -0.002592 -0.021394  0.007207  \n",
      "419 -0.039493 -0.074089 -0.005220  \n",
      "420  0.034309 -0.033249  0.061054  \n",
      "421  0.071210  0.049769  0.015491  \n",
      "422 -0.002592  0.040672 -0.009362  \n",
      "423  0.108111  0.015567 -0.046641  \n",
      "424  0.034309  0.024053  0.023775  \n",
      "425 -0.076395 -0.020289 -0.050783  \n",
      "426  0.057557  0.035462  0.085907  \n",
      "427 -0.039493 -0.045421  0.032059  \n",
      "428  0.034309  0.066048  0.131470  \n",
      "429 -0.024733 -0.025952 -0.038357  \n",
      "430  0.034309 -0.009919 -0.017646  \n",
      "431 -0.039493 -0.014956 -0.001078  \n",
      "432  0.023239  0.055684  0.106617  \n",
      "433 -0.039493 -0.051401 -0.009362  \n",
      "434 -0.039493 -0.045421  0.032059  \n",
      "435 -0.002592 -0.038459 -0.038357  \n",
      "436 -0.076395 -0.061177 -0.046641  \n",
      "437 -0.002592  0.031193  0.007207  \n",
      "438  0.034309 -0.018118  0.044485  \n",
      "439 -0.011080 -0.046879  0.015491  \n",
      "440  0.026560  0.044528 -0.025930  \n",
      "441 -0.039493 -0.004220  0.003064  \n",
      "\n",
      "[442 rows x 10 columns] 0     151\n",
      "1      75\n",
      "2     141\n",
      "3     206\n",
      "4     135\n",
      "5      97\n",
      "6     138\n",
      "7      63\n",
      "8     110\n",
      "9     310\n",
      "10    101\n",
      "11     69\n",
      "12    179\n",
      "13    185\n",
      "14    118\n",
      "...\n",
      "427     67\n",
      "428    310\n",
      "429     94\n",
      "430    183\n",
      "431     66\n",
      "432    173\n",
      "433     72\n",
      "434     49\n",
      "435     64\n",
      "436     48\n",
      "437    178\n",
      "438    104\n",
      "439    132\n",
      "440    220\n",
      "441     57\n",
      "Name: doze, Length: 442, dtype: float64\n"
     ]
    }
   ],
   "source": [
    "#выдели в данных признаки (X) и целевое значение (Y)\n",
    "X = data\n",
    "Y = data[\"doze\"]\n",
    "del X[\"doze\"]\n",
    "print X, Y"
   ]
  },
  {
   "cell_type": "code",
   "execution_count": 29,
   "metadata": {
    "collapsed": false
   },
   "outputs": [
    {
     "name": "stdout",
     "output_type": "stream",
     "text": [
      "           q1        q2        q3        q4        q5        q6        q7  \\\n",
      "0    0.038076  0.050680  0.061696  0.021872 -0.044223 -0.034821 -0.043401   \n",
      "1   -0.001882 -0.044642 -0.051474 -0.026328 -0.008449 -0.019163  0.074412   \n",
      "2    0.085299  0.050680  0.044451 -0.005671 -0.045599 -0.034194 -0.032356   \n",
      "3   -0.089063 -0.044642 -0.011595 -0.036656  0.012191  0.024991 -0.036038   \n",
      "4    0.005383 -0.044642 -0.036385  0.021872  0.003935  0.015596  0.008142   \n",
      "5   -0.092695 -0.044642 -0.040696 -0.019442 -0.068991 -0.079288  0.041277   \n",
      "6   -0.045472  0.050680 -0.047163 -0.015999 -0.040096 -0.024800  0.000779   \n",
      "7    0.063504  0.050680 -0.001895  0.066630  0.090620  0.108914  0.022869   \n",
      "8    0.041708  0.050680  0.061696 -0.040099 -0.013953  0.006202 -0.028674   \n",
      "9   -0.070900 -0.044642  0.039062 -0.033214 -0.012577 -0.034508 -0.024993   \n",
      "10  -0.096328 -0.044642 -0.083808  0.008101 -0.103389 -0.090561 -0.013948   \n",
      "11   0.027178  0.050680  0.017506 -0.033214 -0.007073  0.045972 -0.065491   \n",
      "12   0.016281 -0.044642 -0.028840 -0.009113 -0.004321 -0.009769  0.044958   \n",
      "13   0.005383  0.050680 -0.001895  0.008101 -0.004321 -0.015719 -0.002903   \n",
      "14   0.045341 -0.044642 -0.025607 -0.012556  0.017694 -0.000061  0.081775   \n",
      "15  -0.052738  0.050680 -0.018062  0.080401  0.089244  0.107662 -0.039719   \n",
      "16  -0.005515 -0.044642  0.042296  0.049415  0.024574 -0.023861  0.074412   \n",
      "17   0.070769  0.050680  0.012117  0.056301  0.034206  0.049416 -0.039719   \n",
      "18  -0.038207 -0.044642 -0.010517 -0.036656 -0.037344 -0.019476 -0.028674   \n",
      "19  -0.027310 -0.044642 -0.018062 -0.040099 -0.002945 -0.011335  0.037595   \n",
      "20  -0.049105 -0.044642 -0.056863 -0.043542 -0.045599 -0.043276  0.000779   \n",
      "21  -0.085430  0.050680 -0.022373  0.001215 -0.037344 -0.026366  0.015505   \n",
      "22  -0.085430 -0.044642 -0.004050 -0.009113 -0.002945  0.007767  0.022869   \n",
      "23   0.045341  0.050680  0.060618  0.031053  0.028702 -0.047347 -0.054446   \n",
      "24  -0.063635 -0.044642  0.035829 -0.022885 -0.030464 -0.018850 -0.006584   \n",
      "25  -0.067268  0.050680 -0.012673 -0.040099 -0.015328  0.004636 -0.058127   \n",
      "26  -0.107226 -0.044642 -0.077342 -0.026328 -0.089630 -0.096198  0.026550   \n",
      "27  -0.023677 -0.044642  0.059541 -0.040099 -0.042848 -0.043589  0.011824   \n",
      "28   0.052606 -0.044642 -0.021295 -0.074528 -0.040096 -0.037639 -0.006584   \n",
      "29   0.067136  0.050680 -0.006206  0.063187 -0.042848 -0.095885  0.052322   \n",
      "..        ...       ...       ...       ...       ...       ...       ...   \n",
      "412  0.074401 -0.044642  0.085408  0.063187  0.014942  0.013091  0.015505   \n",
      "413 -0.052738 -0.044642 -0.000817 -0.026328  0.010815  0.007141  0.048640   \n",
      "414  0.081666  0.050680  0.006728 -0.004523  0.109883  0.117056 -0.032356   \n",
      "415 -0.005515 -0.044642  0.008883 -0.050428  0.025950  0.047224 -0.043401   \n",
      "416 -0.027310 -0.044642  0.080019  0.098763 -0.002945  0.018101 -0.017629   \n",
      "417 -0.052738 -0.044642  0.071397 -0.074528 -0.015328 -0.001314  0.004460   \n",
      "418  0.009016 -0.044642 -0.024529 -0.026328  0.098876  0.094196  0.070730   \n",
      "419 -0.020045 -0.044642 -0.054707 -0.053871 -0.066239 -0.057367  0.011824   \n",
      "420  0.023546 -0.044642 -0.036385  0.000068  0.001183  0.034698 -0.043401   \n",
      "421  0.038076  0.050680  0.016428  0.021872  0.039710  0.045032 -0.043401   \n",
      "422 -0.078165  0.050680  0.077863  0.052858  0.078236  0.064447  0.026550   \n",
      "423  0.009016  0.050680 -0.039618  0.028758  0.038334  0.073529 -0.072854   \n",
      "424  0.001751  0.050680  0.011039 -0.019442 -0.016704 -0.003819 -0.047082   \n",
      "425 -0.078165 -0.044642 -0.040696 -0.081414 -0.100638 -0.112795  0.022869   \n",
      "426  0.030811  0.050680 -0.034229  0.043677  0.057597  0.068831 -0.032356   \n",
      "427 -0.034575  0.050680  0.005650 -0.005671 -0.073119 -0.062691 -0.006584   \n",
      "428  0.048974  0.050680  0.088642  0.087287  0.035582  0.021546 -0.024993   \n",
      "429 -0.041840 -0.044642 -0.033151 -0.022885  0.046589  0.041587  0.056003   \n",
      "430 -0.009147 -0.044642 -0.056863 -0.050428  0.021822  0.045345 -0.028674   \n",
      "431  0.070769  0.050680 -0.030996  0.021872 -0.037344 -0.047034  0.033914   \n",
      "432  0.009016 -0.044642  0.055229 -0.005671  0.057597  0.044719 -0.002903   \n",
      "433 -0.027310 -0.044642 -0.060097 -0.029771  0.046589  0.019980  0.122273   \n",
      "434  0.016281 -0.044642  0.001339  0.008101  0.005311  0.010899  0.030232   \n",
      "435 -0.012780 -0.044642 -0.023451 -0.040099 -0.016704  0.004636 -0.017629   \n",
      "436 -0.056370 -0.044642 -0.074108 -0.050428 -0.024960 -0.047034  0.092820   \n",
      "437  0.041708  0.050680  0.019662  0.059744 -0.005697 -0.002566 -0.028674   \n",
      "438 -0.005515  0.050680 -0.015906 -0.067642  0.049341  0.079165 -0.028674   \n",
      "439  0.041708  0.050680 -0.015906  0.017282 -0.037344 -0.013840 -0.024993   \n",
      "440 -0.045472 -0.044642  0.039062  0.001215  0.016318  0.015283 -0.028674   \n",
      "441 -0.045472 -0.044642 -0.073030 -0.081414  0.083740  0.027809  0.173816   \n",
      "\n",
      "           q8        q9       q10  q0  \n",
      "0   -0.002592  0.019908 -0.017646   1  \n",
      "1   -0.039493 -0.068330 -0.092204   1  \n",
      "2   -0.002592  0.002864 -0.025930   1  \n",
      "3    0.034309  0.022692 -0.009362   1  \n",
      "4   -0.002592 -0.031991 -0.046641   1  \n",
      "5   -0.076395 -0.041180 -0.096346   1  \n",
      "6   -0.039493 -0.062913 -0.038357   1  \n",
      "7    0.017703 -0.035817  0.003064   1  \n",
      "8   -0.002592 -0.014956  0.011349   1  \n",
      "9   -0.002592  0.067736 -0.013504   1  \n",
      "10  -0.076395 -0.062913 -0.034215   1  \n",
      "11   0.071210 -0.096433 -0.059067   1  \n",
      "12  -0.039493 -0.030751 -0.042499   1  \n",
      "13  -0.002592  0.038393 -0.013504   1  \n",
      "14  -0.039493 -0.031991 -0.075636   1  \n",
      "15   0.108111  0.036056 -0.042499   1  \n",
      "16  -0.039493  0.052280  0.027917   1  \n",
      "17   0.034309  0.027368 -0.001078   1  \n",
      "18  -0.002592 -0.018118 -0.017646   1  \n",
      "19  -0.039493 -0.008944 -0.054925   1  \n",
      "20  -0.039493 -0.011901  0.015491   1  \n",
      "21  -0.039493 -0.072128 -0.017646   1  \n",
      "22  -0.039493 -0.061177 -0.013504   1  \n",
      "23   0.071210  0.133599  0.135612   1  \n",
      "24  -0.002592 -0.025952 -0.054925   1  \n",
      "25   0.034309  0.019199 -0.034215   1  \n",
      "26  -0.076395 -0.042572 -0.005220   1  \n",
      "27  -0.039493 -0.015998  0.040343   1  \n",
      "28  -0.039493 -0.000609 -0.054925   1  \n",
      "29  -0.076395  0.059424  0.052770   1  \n",
      "..        ...       ...       ...  ..  \n",
      "412 -0.002592  0.006209  0.085907   1  \n",
      "413 -0.039493 -0.035817  0.019633   1  \n",
      "414  0.091875  0.054724  0.007207   1  \n",
      "415  0.071210  0.014823  0.003064   1  \n",
      "416  0.003312 -0.029528  0.036201   1  \n",
      "417 -0.021412 -0.046879  0.003064   1  \n",
      "418 -0.002592 -0.021394  0.007207   1  \n",
      "419 -0.039493 -0.074089 -0.005220   1  \n",
      "420  0.034309 -0.033249  0.061054   1  \n",
      "421  0.071210  0.049769  0.015491   1  \n",
      "422 -0.002592  0.040672 -0.009362   1  \n",
      "423  0.108111  0.015567 -0.046641   1  \n",
      "424  0.034309  0.024053  0.023775   1  \n",
      "425 -0.076395 -0.020289 -0.050783   1  \n",
      "426  0.057557  0.035462  0.085907   1  \n",
      "427 -0.039493 -0.045421  0.032059   1  \n",
      "428  0.034309  0.066048  0.131470   1  \n",
      "429 -0.024733 -0.025952 -0.038357   1  \n",
      "430  0.034309 -0.009919 -0.017646   1  \n",
      "431 -0.039493 -0.014956 -0.001078   1  \n",
      "432  0.023239  0.055684  0.106617   1  \n",
      "433 -0.039493 -0.051401 -0.009362   1  \n",
      "434 -0.039493 -0.045421  0.032059   1  \n",
      "435 -0.002592 -0.038459 -0.038357   1  \n",
      "436 -0.076395 -0.061177 -0.046641   1  \n",
      "437 -0.002592  0.031193  0.007207   1  \n",
      "438  0.034309 -0.018118  0.044485   1  \n",
      "439 -0.011080 -0.046879  0.015491   1  \n",
      "440  0.026560  0.044528 -0.025930   1  \n",
      "441 -0.039493 -0.004220  0.003064   1  \n",
      "\n",
      "[442 rows x 11 columns]\n"
     ]
    }
   ],
   "source": [
    "#добавь в X признак-единицу как колонку \"q0\"\n",
    "X['q0'] = 1\n",
    "print X"
   ]
  },
  {
   "cell_type": "code",
   "execution_count": 15,
   "metadata": {
    "collapsed": false
   },
   "outputs": [
    {
     "name": "stdout",
     "output_type": "stream",
     "text": [
      "[[1, 4, 5], [3, 2], [5, 2, 1], [3, 4]]\n"
     ]
    }
   ],
   "source": [
    "a1 = [1,2,3,4,5]\n",
    "a2 = [5,4,3,2,1]\n",
    "from sklearn.cross_validation import train_test_split\n",
    "\n",
    "print train_test_split(a1,a2, train_size = 0.6)"
   ]
  },
  {
   "cell_type": "code",
   "execution_count": 30,
   "metadata": {
    "collapsed": false
   },
   "outputs": [
    {
     "name": "stdout",
     "output_type": "stream",
     "text": [
      "           q1        q2        q3        q4        q5        q6        q7  \\\n",
      "361  0.041708 -0.044642 -0.007284  0.028758 -0.042848 -0.048286  0.052322   \n",
      "374 -0.107226 -0.044642 -0.034229 -0.067642 -0.063487 -0.070520  0.008142   \n",
      "132  0.016281  0.050680 -0.021295 -0.009113  0.034206  0.047850  0.000779   \n",
      "94  -0.078165 -0.044642 -0.016984 -0.012556 -0.000193 -0.013527  0.070730   \n",
      "397  0.052606 -0.044642 -0.004050 -0.030918 -0.046975 -0.058307 -0.013948   \n",
      "43   0.019913 -0.044642 -0.023451 -0.071085  0.020446 -0.010082  0.118591   \n",
      "109  0.038076  0.050680 -0.009439  0.002363  0.001183  0.037517 -0.054446   \n",
      "36   0.012648 -0.044642  0.022895  0.052858  0.008063 -0.028558  0.037595   \n",
      "389 -0.005515  0.050680  0.001339 -0.084857 -0.011201 -0.016658  0.048640   \n",
      "12   0.016281 -0.044642 -0.028840 -0.009113 -0.004321 -0.009769  0.044958   \n",
      "140  0.041708  0.050680  0.014272  0.042530 -0.030464 -0.001314 -0.043401   \n",
      "219 -0.089063 -0.044642 -0.041774 -0.019442 -0.066239 -0.074277  0.008142   \n",
      "117  0.059871 -0.044642 -0.021295  0.087287  0.045213  0.031567 -0.047082   \n",
      "380  0.016281 -0.044642  0.026128  0.058596 -0.060735 -0.044215 -0.013948   \n",
      "281 -0.092695  0.050680 -0.090275 -0.057314 -0.024960 -0.030437 -0.006584   \n",
      "1   -0.001882 -0.044642 -0.051474 -0.026328 -0.008449 -0.019163  0.074412   \n",
      "113  0.019913  0.050680  0.014272  0.063187  0.014942  0.020293 -0.047082   \n",
      "415 -0.005515 -0.044642  0.008883 -0.050428  0.025950  0.047224 -0.043401   \n",
      "373 -0.074533 -0.044642 -0.010517 -0.005671 -0.066239 -0.057054 -0.002903   \n",
      "128 -0.052738 -0.044642 -0.062252 -0.026328 -0.005697 -0.005072  0.030232   \n",
      "224 -0.027310 -0.044642 -0.066563 -0.112400 -0.049727 -0.041397  0.000779   \n",
      "267  0.059871 -0.044642 -0.000817 -0.084857  0.075484  0.079478  0.004460   \n",
      "313  0.059871  0.050680  0.053074  0.052858  0.032830  0.019667 -0.010266   \n",
      "309 -0.009147  0.050680  0.001339 -0.002228  0.079612  0.070084  0.033914   \n",
      "161 -0.045472  0.050680  0.063852  0.070073  0.133274  0.131461 -0.039719   \n",
      "86  -0.070900  0.050680 -0.075186 -0.040099 -0.051103 -0.015092 -0.039719   \n",
      "405  0.048974  0.050680  0.123131  0.083844 -0.104765 -0.100895 -0.069172   \n",
      "387 -0.045472 -0.044642  0.015350 -0.074528 -0.049727 -0.017284 -0.028674   \n",
      "323  0.070769  0.050680 -0.007284  0.049415  0.060349 -0.004445 -0.054446   \n",
      "390  0.009016  0.050680  0.069241  0.059744  0.017694 -0.023234 -0.047082   \n",
      "..        ...       ...       ...       ...       ...       ...       ...   \n",
      "71  -0.001882 -0.044642  0.033673  0.125158  0.024574  0.026243 -0.010266   \n",
      "356 -0.005515  0.050680 -0.033151 -0.015999  0.008063  0.016222  0.015505   \n",
      "196 -0.023677 -0.044642 -0.046085 -0.033214  0.032830  0.036264  0.037595   \n",
      "298  0.023546  0.050680 -0.037463 -0.046985 -0.091006 -0.075530 -0.032356   \n",
      "220  0.023546  0.050680 -0.039618 -0.005671 -0.048351 -0.033255  0.011824   \n",
      "183  0.045341  0.050680 -0.035307  0.063187 -0.004321 -0.001627 -0.010266   \n",
      "331  0.081666  0.050680 -0.025607 -0.036656 -0.070367 -0.046407 -0.039719   \n",
      "189 -0.001882 -0.044642 -0.066563  0.001215 -0.002945  0.003070  0.011824   \n",
      "168  0.001751  0.050680  0.059541 -0.002228  0.061725  0.063195 -0.058127   \n",
      "301 -0.001882  0.050680 -0.024529  0.052858  0.027326  0.030001  0.030232   \n",
      "305 -0.009147  0.050680 -0.039618 -0.040099 -0.008449  0.016222 -0.065491   \n",
      "274  0.016281 -0.044642 -0.024529  0.035644 -0.007073 -0.003193 -0.013948   \n",
      "420  0.023546 -0.044642 -0.036385  0.000068  0.001183  0.034698 -0.043401   \n",
      "68   0.038076  0.050680 -0.029918 -0.040099 -0.033216 -0.024174 -0.010266   \n",
      "149 -0.049105  0.050680 -0.005128 -0.046985 -0.020832 -0.020416 -0.069172   \n",
      "2    0.085299  0.050680  0.044451 -0.005671 -0.045599 -0.034194 -0.032356   \n",
      "11   0.027178  0.050680  0.017506 -0.033214 -0.007073  0.045972 -0.065491   \n",
      "103  0.059871  0.050680  0.041218  0.011544  0.041086  0.070710 -0.036038   \n",
      "376 -0.001882 -0.044642  0.068163 -0.005671  0.119515  0.130208 -0.024993   \n",
      "80   0.070769 -0.044642  0.012117  0.042530  0.071357  0.053487  0.052322   \n",
      "441 -0.045472 -0.044642 -0.073030 -0.081414  0.083740  0.027809  0.173816   \n",
      "198 -0.052738 -0.044642  0.054152 -0.026328 -0.055231 -0.033881 -0.013948   \n",
      "393 -0.074533 -0.044642 -0.046085 -0.043542 -0.029088 -0.023234  0.015505   \n",
      "277 -0.034575 -0.044642 -0.059019  0.001215 -0.053855 -0.078035  0.067048   \n",
      "178  0.041708 -0.044642 -0.008362 -0.026328  0.024574  0.016222  0.070730   \n",
      "260  0.041708 -0.044642 -0.008362 -0.057314  0.008063 -0.031376  0.151726   \n",
      "10  -0.096328 -0.044642 -0.083808  0.008101 -0.103389 -0.090561 -0.013948   \n",
      "371  0.052606  0.050680 -0.009439  0.049415  0.050717 -0.019163 -0.013948   \n",
      "254  0.030811  0.050680  0.056307  0.076958  0.049341 -0.012274 -0.036038   \n",
      "263 -0.074533  0.050680 -0.077342 -0.046985 -0.046975 -0.032629  0.004460   \n",
      "\n",
      "           q8        q9       q10  q0  \n",
      "361 -0.076395 -0.072128  0.023775   1  \n",
      "374 -0.039493 -0.000609 -0.079778   1  \n",
      "132 -0.002592 -0.012908  0.023775   1  \n",
      "94  -0.039493 -0.041180 -0.092204   1  \n",
      "397 -0.025840  0.036056  0.023775   1  \n",
      "43  -0.076395 -0.042572  0.073480   1  \n",
      "109  0.050176 -0.025952  0.106617   1  \n",
      "36  -0.039493  0.054724 -0.025930   1  \n",
      "389 -0.039493 -0.041180 -0.088062   1  \n",
      "12  -0.039493 -0.030751 -0.042499   1  \n",
      "140 -0.002592 -0.033249  0.015491   1  \n",
      "219 -0.039493  0.001144 -0.030072   1  \n",
      "117  0.071210  0.079121  0.135612   1  \n",
      "380 -0.033958 -0.051401 -0.025930   1  \n",
      "281 -0.002592  0.024053  0.003064   1  \n",
      "1   -0.039493 -0.068330 -0.092204   1  \n",
      "113  0.034309  0.046661  0.090049   1  \n",
      "415  0.071210  0.014823  0.003064   1  \n",
      "373 -0.039493 -0.042572 -0.001078   1  \n",
      "128 -0.039493 -0.030751 -0.071494   1  \n",
      "224 -0.039493 -0.035817 -0.009362   1  \n",
      "267  0.034309  0.023375  0.027917   1  \n",
      "313  0.034309  0.055205 -0.001078   1  \n",
      "309 -0.002592  0.026714  0.081764   1  \n",
      "161  0.108111  0.075738  0.085907   1  \n",
      "86  -0.002592 -0.096433 -0.034215   1  \n",
      "405 -0.002592  0.036646 -0.030072   1  \n",
      "387 -0.002592 -0.104365 -0.075636   1  \n",
      "323  0.108111  0.129019  0.056912   1  \n",
      "390  0.034309  0.103292  0.073480   1  \n",
      "..        ...       ...       ...  ..  \n",
      "71  -0.002592  0.026714  0.061054   1  \n",
      "356 -0.002592 -0.028320 -0.075636   1  \n",
      "196 -0.002592 -0.033249  0.011349   1  \n",
      "298 -0.039493 -0.030751 -0.013504   1  \n",
      "220 -0.039493 -0.101644 -0.067351   1  \n",
      "183 -0.002592  0.015567  0.056912   1  \n",
      "331 -0.002592 -0.041180 -0.005220   1  \n",
      "189 -0.002592 -0.020289 -0.025930   1  \n",
      "168  0.108111  0.068982  0.127328   1  \n",
      "301 -0.002592 -0.021394  0.036201   1  \n",
      "305  0.071210  0.017763 -0.067351   1  \n",
      "274 -0.002592  0.015567  0.015491   1  \n",
      "420  0.034309 -0.033249  0.061054   1  \n",
      "68  -0.002592 -0.012908  0.003064   1  \n",
      "149  0.071210  0.061238 -0.038357   1  \n",
      "2   -0.002592  0.002864 -0.025930   1  \n",
      "11   0.071210 -0.096433 -0.059067   1  \n",
      "103  0.034309 -0.010904 -0.030072   1  \n",
      "376  0.086708  0.046132 -0.001078   1  \n",
      "80  -0.002592  0.025393 -0.005220   1  \n",
      "441 -0.039493 -0.004220  0.003064   1  \n",
      "198 -0.039493 -0.074089 -0.059067   1  \n",
      "393 -0.039493 -0.039810 -0.021788   1  \n",
      "277 -0.076395 -0.021394  0.015491   1  \n",
      "178 -0.039493 -0.048362 -0.030072   1  \n",
      "260 -0.076395 -0.080237 -0.017646   1  \n",
      "10  -0.076395 -0.062913 -0.034215   1  \n",
      "371  0.034309  0.119344 -0.017646   1  \n",
      "254  0.071210  0.120053  0.090049   1  \n",
      "263 -0.039493 -0.072128 -0.017646   1  \n",
      "\n",
      "[309 rows x 11 columns]            q1        q2        q3        q4        q5        q6        q7  \\\n",
      "39  -0.001882  0.050680  0.014272 -0.074528  0.002559  0.006202 -0.013948   \n",
      "204  0.110727  0.050680  0.006728  0.028758 -0.027712 -0.007264 -0.047082   \n",
      "124 -0.005515 -0.044642  0.023973  0.008101 -0.034592 -0.038892  0.022869   \n",
      "62  -0.027310  0.050680 -0.007284 -0.040099 -0.011201 -0.013840  0.059685   \n",
      "340 -0.016412 -0.044642 -0.013751  0.132044 -0.009825 -0.003819  0.019187   \n",
      "150  0.023546 -0.044642  0.070319  0.025315 -0.034592 -0.014466 -0.032356   \n",
      "383  0.005383  0.050680 -0.028840 -0.009113 -0.031840 -0.028871  0.008142   \n",
      "121  0.063504 -0.044642  0.017506  0.021872  0.008063  0.021546 -0.036038   \n",
      "233  0.067136 -0.044642  0.036907 -0.050428 -0.023584 -0.034508  0.048640   \n",
      "166 -0.056370  0.050680 -0.060097 -0.036656 -0.088254 -0.070833 -0.013948   \n",
      "216  0.012648  0.050680  0.035829  0.049415  0.053469  0.074155 -0.069172   \n",
      "378  0.016281  0.050680  0.002417 -0.005671 -0.005697  0.010899 -0.050764   \n",
      "398  0.012648 -0.044642  0.015350 -0.033214  0.041086  0.032193 -0.002903   \n",
      "437  0.041708  0.050680  0.019662  0.059744 -0.005697 -0.002566 -0.028674   \n",
      "426  0.030811  0.050680 -0.034229  0.043677  0.057597  0.068831 -0.032356   \n",
      "92  -0.020045 -0.044642  0.004572  0.097616  0.005311 -0.020729  0.063367   \n",
      "247 -0.081798 -0.044642 -0.081653 -0.040099  0.002559 -0.018537  0.070730   \n",
      "116  0.048974  0.050680  0.058463  0.070073  0.013567  0.020607 -0.021311   \n",
      "230 -0.038207  0.050680  0.071397 -0.057314  0.153914  0.155887  0.000779   \n",
      "258  0.078034  0.050680 -0.024529 -0.042395  0.006687  0.052861 -0.069172   \n",
      "228 -0.052738 -0.044642 -0.012673 -0.060757 -0.000193  0.008081  0.011824   \n",
      "231  0.009016 -0.044642 -0.030996  0.021872  0.008063  0.008707  0.004460   \n",
      "190  0.009016 -0.044642 -0.012673  0.028758 -0.018080 -0.005072 -0.047082   \n",
      "272  0.012648 -0.044642  0.006728 -0.056166 -0.075870 -0.066449 -0.021311   \n",
      "207  0.009016 -0.044642  0.045529  0.028758  0.012191 -0.013840  0.026550   \n",
      "351 -0.085430  0.050680 -0.040696 -0.033214 -0.081374 -0.069580 -0.006584   \n",
      "225  0.030811  0.050680  0.032595  0.049415 -0.040096 -0.043589 -0.069172   \n",
      "95  -0.070900 -0.044642 -0.057941 -0.081414 -0.045599 -0.028871 -0.043401   \n",
      "41  -0.099961 -0.044642 -0.067641 -0.108957 -0.074494 -0.072712  0.015505   \n",
      "319  0.019913 -0.044642  0.004572  0.045972 -0.018080 -0.054549  0.063367   \n",
      "..        ...       ...       ...       ...       ...       ...       ...   \n",
      "119  0.016281 -0.044642 -0.047163 -0.002228 -0.019456 -0.042963  0.033914   \n",
      "104 -0.027310 -0.044642  0.064930 -0.002228 -0.024960 -0.017284  0.022869   \n",
      "294  0.023546  0.050680 -0.030996 -0.005671 -0.016704  0.017788 -0.032356   \n",
      "201 -0.034575  0.050680 -0.055785 -0.015999 -0.009825 -0.007890  0.037595   \n",
      "27  -0.023677 -0.044642  0.059541 -0.040099 -0.042848 -0.043589  0.011824   \n",
      "402  0.110727  0.050680 -0.033151 -0.022885 -0.004321  0.020293 -0.061809   \n",
      "352  0.012648  0.050680 -0.071952 -0.046985 -0.051103 -0.097137  0.118591   \n",
      "129  0.009016 -0.044642  0.016428  0.004658  0.009439  0.010586 -0.028674   \n",
      "73   0.012648  0.050680 -0.020218 -0.002228  0.038334  0.053174 -0.006584   \n",
      "179 -0.023677 -0.044642 -0.015906 -0.012556  0.020446  0.041274 -0.043401   \n",
      "186 -0.081798  0.050680  0.042296 -0.019442  0.039710  0.057558 -0.069172   \n",
      "33   0.030811 -0.044642 -0.050396 -0.002228 -0.044223 -0.089935  0.118591   \n",
      "69   0.016281 -0.044642 -0.046085 -0.005671 -0.075870 -0.061438 -0.013948   \n",
      "19  -0.027310 -0.044642 -0.018062 -0.040099 -0.002945 -0.011335  0.037595   \n",
      "142  0.041708  0.050680  0.012117  0.039087  0.054845  0.044406  0.004460   \n",
      "407  0.027178 -0.044642  0.092953 -0.052723  0.008063  0.039709 -0.028674   \n",
      "105  0.023546  0.050680 -0.032073 -0.040099 -0.031840 -0.021669 -0.013948   \n",
      "81   0.012648  0.050680 -0.022373 -0.029771  0.010815  0.028435 -0.021311   \n",
      "34   0.016281 -0.044642 -0.063330 -0.057314 -0.057983 -0.048912  0.008142   \n",
      "148 -0.060003  0.050680  0.015350 -0.019442  0.036958  0.048164  0.019187   \n",
      "270  0.005383  0.050680  0.030440  0.083844 -0.037344 -0.047347  0.015505   \n",
      "82  -0.016412 -0.044642 -0.035307 -0.026328  0.032830  0.017162  0.100183   \n",
      "131 -0.096328 -0.044642 -0.069797 -0.067642 -0.019456 -0.010708  0.015505   \n",
      "328 -0.038207 -0.044642  0.067085 -0.060757 -0.029088 -0.023234 -0.010266   \n",
      "354 -0.023677  0.050680  0.045529  0.021872  0.109883  0.088873  0.000779   \n",
      "409 -0.052738  0.050680 -0.011595  0.056301  0.056221  0.072902 -0.039719   \n",
      "218 -0.041840 -0.044642 -0.065486 -0.040099 -0.005697  0.014344 -0.043401   \n",
      "308  0.001751 -0.044642 -0.046085 -0.033214 -0.073119 -0.081480  0.044958   \n",
      "364  0.001751  0.050680 -0.006206 -0.019442 -0.009825  0.004949 -0.039719   \n",
      "342  0.056239  0.050680  0.021817  0.056301 -0.007073  0.018101 -0.032356   \n",
      "\n",
      "           q8        q9       q10  q0  \n",
      "39  -0.002592  0.019199  0.003064   1  \n",
      "204  0.034309  0.002008  0.077622   1  \n",
      "124 -0.039493 -0.015998 -0.013504   1  \n",
      "62  -0.039493 -0.082381 -0.025930   1  \n",
      "340 -0.039493 -0.035817 -0.030072   1  \n",
      "150 -0.002592 -0.019197 -0.009362   1  \n",
      "383 -0.039493 -0.018118  0.007207   1  \n",
      "121  0.034309  0.019908  0.011349   1  \n",
      "233 -0.039493 -0.025952 -0.038357   1  \n",
      "166 -0.039493 -0.078141 -0.104630   1  \n",
      "216  0.145012  0.045601  0.048628   1  \n",
      "378  0.034309  0.022692 -0.038357   1  \n",
      "398 -0.002592  0.045066 -0.067351   1  \n",
      "437 -0.002592  0.031193  0.007207   1  \n",
      "426  0.057557  0.035462  0.085907   1  \n",
      "92  -0.039493  0.012553  0.011349   1  \n",
      "247 -0.039493 -0.010904 -0.092204   1  \n",
      "116  0.034309  0.022004  0.027917   1  \n",
      "230  0.071948  0.050276  0.069338   1  \n",
      "258  0.080804 -0.037128  0.056912   1  \n",
      "228 -0.002592 -0.027129 -0.050783   1  \n",
      "231 -0.002592  0.009436  0.011349   1  \n",
      "190  0.034309  0.023375 -0.005220   1  \n",
      "272 -0.037648 -0.018118 -0.092204   1  \n",
      "207 -0.039493  0.046132  0.036201   1  \n",
      "351 -0.039493 -0.057800 -0.042499   1  \n",
      "225  0.034309  0.063017  0.003064   1  \n",
      "95  -0.002592  0.001144 -0.005220   1  \n",
      "41  -0.039493 -0.049868 -0.009362   1  \n",
      "319 -0.039493  0.028661  0.061054   1  \n",
      "..        ...       ...       ...  ..  \n",
      "119 -0.039493  0.027368  0.027917   1  \n",
      "104 -0.039493 -0.061177 -0.063209   1  \n",
      "294 -0.002592 -0.074089 -0.034215   1  \n",
      "201 -0.039493 -0.052959  0.027917   1  \n",
      "27  -0.039493 -0.015998  0.040343   1  \n",
      "402  0.071210  0.015567  0.044485   1  \n",
      "352 -0.076395 -0.020289 -0.038357   1  \n",
      "129  0.034309  0.038968  0.119043   1  \n",
      "73   0.034309 -0.005145 -0.009362   1  \n",
      "179  0.034309  0.014072 -0.009362   1  \n",
      "186  0.108111  0.047186 -0.038357   1  \n",
      "33  -0.076395 -0.018118  0.003064   1  \n",
      "69  -0.039493 -0.051401  0.019633   1  \n",
      "19  -0.039493 -0.008944 -0.054925   1  \n",
      "142 -0.002592  0.045601 -0.001078   1  \n",
      "407  0.021024 -0.048362  0.019633   1  \n",
      "105 -0.002592 -0.010904  0.019633   1  \n",
      "81   0.034309 -0.006080 -0.001078   1  \n",
      "34  -0.039493 -0.059473 -0.067351   1  \n",
      "148 -0.002592 -0.030751 -0.001078   1  \n",
      "270 -0.039493  0.008640  0.015491   1  \n",
      "82  -0.039493 -0.070209 -0.079778   1  \n",
      "131 -0.039493 -0.046879 -0.079778   1  \n",
      "328 -0.002592 -0.001499  0.019633   1  \n",
      "354  0.034309  0.074193  0.061054   1  \n",
      "409  0.071210  0.030566 -0.005220   1  \n",
      "218  0.034309  0.007027 -0.013504   1  \n",
      "308 -0.069383 -0.061177 -0.079778   1  \n",
      "364  0.034309  0.014823  0.098333   1  \n",
      "342 -0.002592 -0.023645  0.023775   1  \n",
      "\n",
      "[133 rows x 11 columns] 361    182\n",
      "374    140\n",
      "132    107\n",
      "94      90\n",
      "397    198\n",
      "43      92\n",
      "109     81\n",
      "36     265\n",
      "389     51\n",
      "12     179\n",
      "140    118\n",
      "219    185\n",
      "117    281\n",
      "380     52\n",
      "281     94\n",
      "...\n",
      "2      141\n",
      "11      69\n",
      "103    198\n",
      "376    121\n",
      "80     143\n",
      "441     57\n",
      "198    142\n",
      "393     69\n",
      "277     64\n",
      "178     81\n",
      "260     39\n",
      "10     101\n",
      "371    197\n",
      "254    310\n",
      "263    116\n",
      "Name: doze, Length: 309, dtype: float64 39      90\n",
      "204    277\n",
      "124    121\n",
      "62      52\n",
      "340    216\n",
      "150    288\n",
      "383     88\n",
      "121    173\n",
      "233     90\n",
      "166     70\n",
      "216    248\n",
      "378    245\n",
      "398    242\n",
      "437    178\n",
      "426    120\n",
      "...\n",
      "407    140\n",
      "105     53\n",
      "81      51\n",
      "34      65\n",
      "148     96\n",
      "270    202\n",
      "82      52\n",
      "131    158\n",
      "328     78\n",
      "354    272\n",
      "409    181\n",
      "218    214\n",
      "308    114\n",
      "364    262\n",
      "342    178\n",
      "Name: doze, Length: 133, dtype: float64\n"
     ]
    }
   ],
   "source": [
    "#раздели данные на обучение и тест (размер обучающей выборки - три четверти)\n",
    "\n",
    "X_train,X_test,Y_train,Y_test = train_test_split(X, Y, train_size = 0.7)\n",
    "print X_train,X_test,Y_train,Y_test"
   ]
  },
  {
   "cell_type": "code",
   "execution_count": 31,
   "metadata": {
    "collapsed": false
   },
   "outputs": [
    {
     "name": "stdout",
     "output_type": "stream",
     "text": [
      "309 133 309 133\n"
     ]
    }
   ],
   "source": [
    "#посчитай размеры обучающих и тестовых данных\n",
    "print len(X_train),len(X_test),len(Y_train),len(Y_test)"
   ]
  },
  {
   "cell_type": "markdown",
   "metadata": {},
   "source": [
    "#обучение модели"
   ]
  },
  {
   "cell_type": "code",
   "execution_count": 32,
   "metadata": {
    "collapsed": false
   },
   "outputs": [],
   "source": [
    "\n",
    "\n",
    "def predict(W,X):\n",
    "    \"\"\"получить прогноз h(X|w)\"\"\"\n",
    "    \n",
    "    size = len(X) #размерность ответа\n",
    "    \n",
    "    pred = [0]*size\n",
    "    for i in range(size):\n",
    "        \n",
    "         #i-тая строчка выборки примеров\n",
    "        pred[i] = numpy.sum(X.irow(i)*W) #прогноз модели для i-той строчки\n",
    "        \n",
    "         #предсказание модели для него\n",
    "        \n",
    "    return numpy.array(pred)"
   ]
  },
  {
   "cell_type": "code",
   "execution_count": null,
   "metadata": {
    "collapsed": true
   },
   "outputs": [],
   "source": [
    "\n"
   ]
  },
  {
   "cell_type": "code",
   "execution_count": 33,
   "metadata": {
    "collapsed": false
   },
   "outputs": [
    {
     "name": "stdout",
     "output_type": "stream",
     "text": [
      "(442,)\n",
      "[ 150.02169303  150.03439558  149.99444961  150.00625197  150.0044503\n",
      "  150.11881714  150.06447049  149.92892871  149.92867767  150.02736125]\n"
     ]
    }
   ],
   "source": [
    "W =  numpy.array([-0.5,0.5,-0.5,0.5,-0.5,-0.5,0.5,0.5,0.5,-0.5,150])\n",
    "pred = predict(W,X)\n",
    "print pred.shape\n",
    "print pred[:10]\n"
   ]
  },
  {
   "cell_type": "code",
   "execution_count": 34,
   "metadata": {
    "collapsed": false
   },
   "outputs": [],
   "source": [
    "def loss(X,Y,W):\n",
    "    \"напиши функцию потерь, J(X,Y,W)\"\n",
    "    \n",
    "    pred = predict(W, X) #предсказание по модели\n",
    "    \n",
    "    error = pred - Y #вектор разностей предсказаний и реальных значений\n",
    "    \n",
    "    squared_error = error*error #вектор из квадратов ошибок\n",
    "    \n",
    "    mean_squared_error = squared_error/len(Y)/2 #среднее по ним\n",
    "    return mean_squared_error\n"
   ]
  },
  {
   "cell_type": "code",
   "execution_count": 35,
   "metadata": {
    "collapsed": false
   },
   "outputs": [
    {
     "name": "stdout",
     "output_type": "stream",
     "text": [
      "(442,)\n",
      "0     0.001083\n",
      "1     6.368960\n",
      "2     0.091516\n",
      "3     3.546719\n",
      "4     0.254676\n",
      "5     3.191865\n",
      "6     0.164651\n",
      "7     8.548234\n",
      "8     1.803506\n",
      "9    28.949372\n",
      "Name: doze, dtype: float64\n"
     ]
    }
   ],
   "source": [
    "mse = loss(X,Y,W)\n",
    "print mse.shape\n",
    "print mse[:10]"
   ]
  },
  {
   "cell_type": "code",
   "execution_count": 36,
   "metadata": {
    "collapsed": true
   },
   "outputs": [],
   "source": [
    "def gradient(X,Y,W):\n",
    "    \"посчитай вектор градиента функции потерь\"\n",
    "    len_gradient = len(W) #размер вектора градиента\n",
    "    for i in range(len_gradient):        \n",
    "        gradient = 1/(m*(predict(W,X)-Y[i])*x[i])\n",
    "    \n",
    "    return gradient"
   ]
  },
  {
   "cell_type": "code",
   "execution_count": 37,
   "metadata": {
    "collapsed": false
   },
   "outputs": [
    {
     "name": "stdout",
     "output_type": "stream",
     "text": [
      "(442,)\n",
      "0      0.001083\n",
      "1      6.368960\n",
      "2      0.091516\n",
      "3      3.546719\n",
      "4      0.254676\n",
      "5      3.191865\n",
      "6      0.164651\n",
      "7      8.548234\n",
      "8      1.803506\n",
      "9     28.949372\n",
      "10     2.728189\n",
      "11     7.412990\n",
      "12     0.951682\n",
      "13     1.380931\n",
      "14     1.158058\n",
      "...\n",
      "427     7.801081\n",
      "428    28.979711\n",
      "429     3.545165\n",
      "430     1.234996\n",
      "431     7.991187\n",
      "432     0.604872\n",
      "433     6.881221\n",
      "434    11.521649\n",
      "435     8.360994\n",
      "436    11.781845\n",
      "437     0.885294\n",
      "438     2.384255\n",
      "439     0.366412\n",
      "440     5.543008\n",
      "441     9.784772\n",
      "Name: doze, Length: 442, dtype: float64\n"
     ]
    }
   ],
   "source": [
    "grad = loss(X,Y,W)\n",
    "print grad.shape\n",
    "print grad"
   ]
  },
  {
   "cell_type": "code",
   "execution_count": 46,
   "metadata": {
    "collapsed": false
   },
   "outputs": [],
   "source": [
    "def train_model(X,Y, step = 0.1,n_steps = 100):\n",
    "    #создадим нулевой вектор весов\n",
    "    len_w = len(gradient) #сколько должно быть весов\n",
    "    W = numpy.zeros(len_w)\n",
    "    \n",
    "    for i in range(n_steps):\n",
    "        \n",
    "        gradient = -gradient #вектор антиградиента\n",
    "        \n",
    "    W = W+gradient #новый вектор весов\n",
    "        \n",
    "    loss = loss(X,Y,W)\n",
    "     \n",
    "    print loss\n",
    "    return W\n"
   ]
  },
  {
   "cell_type": "markdown",
   "metadata": {},
   "source": [
    "#оценка качества модели"
   ]
  },
  {
   "cell_type": "code",
   "execution_count": null,
   "metadata": {
    "collapsed": true
   },
   "outputs": [],
   "source": [
    "#обучи модель на тренировочной выборке\n",
    "W = "
   ]
  },
  {
   "cell_type": "code",
   "execution_count": null,
   "metadata": {
    "collapsed": true
   },
   "outputs": [],
   "source": [
    "#получи прогноз на тренировочной и тестовой выборке\n",
    "Y_train_predict = <твой код>\n",
    "Y_test_predict = <твой код>"
   ]
  },
  {
   "cell_type": "code",
   "execution_count": null,
   "metadata": {
    "collapsed": true
   },
   "outputs": [],
   "source": [
    "#посчитай среднеквадратичные ошибки\n",
    "print \"ошибка на X_train:\",<твой код>\n",
    "print \"ошибка на X_test:\", <твой код>"
   ]
  }
 ],
 "metadata": {
  "kernelspec": {
   "display_name": "Python 2",
   "language": "python",
   "name": "python2"
  },
  "language_info": {
   "codemirror_mode": {
    "name": "ipython",
    "version": 2
   },
   "file_extension": ".py",
   "mimetype": "text/x-python",
   "name": "python",
   "nbconvert_exporter": "python",
   "pygments_lexer": "ipython2",
   "version": "2.7.6"
  }
 },
 "nbformat": 4,
 "nbformat_minor": 0
}
