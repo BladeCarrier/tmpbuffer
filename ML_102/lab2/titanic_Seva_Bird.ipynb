{
 "cells": [
  {
   "cell_type": "markdown",
   "metadata": {},
   "source": [
    "# Как выжить на титанике\n",
    "\n",
    "---\n",
    "\n",
    "Эта тетрадка научит тебя использовать pandas, numpy, строить графики в matplotlib и выживать при кораблекрушении.\n",
    "\n",
    "Начнём!\n",
    "\n"
   ]
  },
  {
   "cell_type": "markdown",
   "metadata": {},
   "source": [
    "##загрузим данные c Pandas"
   ]
  },
  {
   "cell_type": "code",
   "execution_count": 3,
   "metadata": {
    "collapsed": false
   },
   "outputs": [],
   "source": [
    "#подключим модуль Pandas.\n",
    "import pandas\n",
    "\n",
    "#считаем данные\n",
    "data = pandas.DataFrame.from_csv(\"train(1).csv\")\n",
    "\n",
    "import numpy"
   ]
  },
  {
   "cell_type": "code",
   "execution_count": 32,
   "metadata": {
    "collapsed": false
   },
   "outputs": [
    {
     "name": "stdout",
     "output_type": "stream",
     "text": [
      "             Survived  Pclass  \\\n",
      "PassengerId                     \n",
      "1                   0       3   \n",
      "2                   1       1   \n",
      "3                   1       3   \n",
      "4                   1       1   \n",
      "5                   0       3   \n",
      "6                   0       3   \n",
      "7                   0       1   \n",
      "8                   0       3   \n",
      "9                   1       3   \n",
      "10                  1       2   \n",
      "\n",
      "                                                          Name     Sex  \\\n",
      "PassengerId                                                              \n",
      "1                                      Braund, Mr. Owen Harris    male   \n",
      "2            Cumings, Mrs. John Bradley (Florence Briggs Th...  female   \n",
      "3                                       Heikkinen, Miss. Laina  female   \n",
      "4                 Futrelle, Mrs. Jacques Heath (Lily May Peel)  female   \n",
      "5                                     Allen, Mr. William Henry    male   \n",
      "6                                             Moran, Mr. James    male   \n",
      "7                                      McCarthy, Mr. Timothy J    male   \n",
      "8                               Palsson, Master. Gosta Leonard    male   \n",
      "9            Johnson, Mrs. Oscar W (Elisabeth Vilhelmina Berg)  female   \n",
      "10                         Nasser, Mrs. Nicholas (Adele Achem)  female   \n",
      "\n",
      "                   Age  SibSp  Parch            Ticket     Fare Cabin Embarked  \n",
      "PassengerId                                                                     \n",
      "1            22.000000      1      0         A/5 21171   7.2500   NaN        S  \n",
      "2            38.000000      1      0          PC 17599  71.2833   C85        C  \n",
      "3            26.000000      0      0  STON/O2. 3101282   7.9250   NaN        S  \n",
      "4            35.000000      1      0            113803  53.1000  C123        S  \n",
      "5            35.000000      0      0            373450   8.0500   NaN        S  \n",
      "6            29.699118      0      0            330877   8.4583   NaN        Q  \n",
      "7            54.000000      0      0             17463  51.8625   E46        S  \n",
      "8             2.000000      3      1            349909  21.0750   NaN        S  \n",
      "9            27.000000      0      2            347742  11.1333   NaN        S  \n",
      "10           14.000000      1      0            237736  30.0708   NaN        C  \n"
     ]
    }
   ],
   "source": [
    "#Данные - таблица, двумерный массив\n",
    "print data[:10]\n",
    "n = numpy.average(data.Age[numpy.logical_not(numpy.isnan(data.Age))])\n",
    "data.Age[numpy.isnan(data.Age)] = n"
   ]
  },
  {
   "cell_type": "markdown",
   "metadata": {},
   "source": [
    "# Логистическая регрессия"
   ]
  },
  {
   "cell_type": "code",
   "execution_count": 5,
   "metadata": {
    "collapsed": true
   },
   "outputs": [],
   "source": [
    "def predict(W,X):\n",
    "    \"\"\"получить прогноз h(X|w)\"\"\"\n",
    "    \n",
    "    size = len(X) #размерность ответа\n",
    "    X = numpy.array(X)\n",
    "    pred = []\n",
    "    for i in range(size):\n",
    "        \n",
    "        X_i = X[i,:] #i-тая строчка выборки примеров\n",
    "        pred_i = 1/(1+2.718281828**(-sum(X_i*W))) #прогноз модели для i-той строчки\n",
    "        \n",
    "        pred.append(pred_i) #предсказание модели для него\n",
    "        \n",
    "    return numpy.array(pred)\n"
   ]
  },
  {
   "cell_type": "code",
   "execution_count": 6,
   "metadata": {
    "collapsed": false
   },
   "outputs": [],
   "source": [
    "def loss(X,Y,W):\n",
    "    \"напиши функцию потерь, J(X,Y,W)\"\n",
    "    \n",
    "    pred = predict(W,X) #предсказание по модели\n",
    "    \n",
    "    J = -Y*numpy.log(pred)-(1-Y)*numpy.log(1-pred)\n",
    "    \n",
    "    logloss =  numpy.average(J)  #ошибка   \n",
    "\n",
    "    return logloss\n"
   ]
  },
  {
   "cell_type": "code",
   "execution_count": 23,
   "metadata": {
    "collapsed": true
   },
   "outputs": [],
   "source": [
    "def gradient(X,Y,W,a = 0.01):\n",
    "    \"посчитай вектор градиента функции потерь\"\n",
    "    len_gradient = len(W) #размер вектора градиента\n",
    "    X = numpy.array(X)\n",
    "    Y = numpy.array(Y).reshape(len(Y))\n",
    "    grad = []\n",
    "    \n",
    "    predict_cache = predict(W,X)\n",
    "    for i in range(len_gradient):\n",
    "        grad.append(sum(X[:,i]*(predict_cache-Y))/len(Y))\n",
    "       \n",
    "    grad = numpy.array(grad)#.reshape(len(grad))\n",
    "    return grad\n"
   ]
  },
  {
   "cell_type": "code",
   "execution_count": 24,
   "metadata": {
    "collapsed": true
   },
   "outputs": [],
   "source": [
    "def train_model(X,Y, step = 0.1,n_steps = 100):\n",
    "    #создадим нулевой вектор весов\n",
    "    len_w = X.shape[1] #сколько должно быть весов\n",
    "    W = numpy.zeros(len_w)\n",
    "    for i in range(n_steps):\n",
    "        \n",
    "        grad = gradient(X,Y,W) #вектор антиградиента\n",
    "        \n",
    "        W = W-grad*step #новый вектор весов\n",
    "        \n",
    "    return W\n"
   ]
  },
  {
   "cell_type": "code",
   "execution_count": 25,
   "metadata": {
    "collapsed": false
   },
   "outputs": [
    {
     "name": "stdout",
     "output_type": "stream",
     "text": [
      "(891, 4) (891, 1)\n"
     ]
    }
   ],
   "source": [
    "X = pandas.DataFrame()\n",
    "X[\"age\"] = (data.Age - 29)/ numpy.var(data.Age)\n",
    "X[\"pclass\"] = (data.Pclass - 1.5)\n",
    "X[\"fromS\"] = data.Embarked==\"S\"\n",
    "X[\"fromC\"] = data.Embarked==\"C\"\n",
    "X[\"price\"] = (data.Fare - numpy.average(data.Fare)) / numpy.var(data.Age)\n",
    "X[\"fromQ\"] = data.Embarked==\"Q\"\n",
    "X[\"X0\"] = 1\n",
    "\n",
    "Y = pandas.DataFrame(data.Survived)\n",
    "\n",
    "print X.shape, Y.shape"
   ]
  },
  {
   "cell_type": "code",
   "execution_count": 26,
   "metadata": {
    "collapsed": false
   },
   "outputs": [
    {
     "name": "stdout",
     "output_type": "stream",
     "text": [
      "(534, 4) (357, 4)\n"
     ]
    }
   ],
   "source": [
    "from sklearn.cross_validation import train_test_split\n",
    "X_train, X_test, Y_train,Y_test = train_test_split(X,Y,train_size = 0.6)\n",
    "\n",
    "print X_train.shape, X_test.shape"
   ]
  },
  {
   "cell_type": "code",
   "execution_count": 27,
   "metadata": {
    "collapsed": false
   },
   "outputs": [],
   "source": [
    "W = train_model(X,Y,step = 0.05, n_steps = 1000)"
   ]
  },
  {
   "cell_type": "code",
   "execution_count": 28,
   "metadata": {
    "collapsed": true
   },
   "outputs": [],
   "source": [
    "y_pred_train = predict(W,X_train)\n",
    "y_pred_test = predict(W,X_test)"
   ]
  },
  {
   "cell_type": "code",
   "execution_count": 31,
   "metadata": {
    "collapsed": false
   },
   "outputs": [
    {
     "name": "stdout",
     "output_type": "stream",
     "text": [
      "AUC на обучении: 0.894474922684\n",
      "AUC на тесте: 0.857427107959\n"
     ]
    }
   ],
   "source": [
    "from sklearn.metrics import roc_auc_score\n",
    "print \"AUC на обучении:\", roc_auc_score(Y_train,y_pred_train)\n",
    "print \"AUC на тесте:\", roc_auc_score(Y_test,y_pred_test)"
   ]
  },
  {
   "cell_type": "code",
   "execution_count": null,
   "metadata": {
    "collapsed": true
   },
   "outputs": [],
   "source": []
  }
 ],
 "metadata": {
  "kernelspec": {
   "display_name": "Python 2",
   "language": "python",
   "name": "python2"
  },
  "language_info": {
   "codemirror_mode": {
    "name": "ipython",
    "version": 2
   },
   "file_extension": ".py",
   "mimetype": "text/x-python",
   "name": "python",
   "nbconvert_exporter": "python",
   "pygments_lexer": "ipython2",
   "version": "2.7.6"
  }
 },
 "nbformat": 4,
 "nbformat_minor": 0
}
