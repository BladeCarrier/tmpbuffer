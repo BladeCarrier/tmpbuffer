{
 "cells": [
  {
   "cell_type": "markdown",
   "metadata": {},
   "source": [
    "# Как выжить на титанике\n",
    "\n",
    "---\n",
    "\n",
    "Эта тетрадка научит тебя использовать pandas, numpy, строить графики в matplotlib и выживать при кораблекрушении.\n",
    "\n",
    "Начнём!\n",
    "\n"
   ]
  },
  {
   "cell_type": "markdown",
   "metadata": {},
   "source": [
    "##загрузим данные c Pandas"
   ]
  },
  {
   "cell_type": "code",
   "execution_count": 1,
   "metadata": {
    "collapsed": false
   },
   "outputs": [],
   "source": [
    "#подключим модуль Pandas.\n",
    "import pandas\n",
    "import numpy\n",
    "\n",
    "#считаем данные\n",
    "data = pandas.DataFrame.from_csv(\"train(1).csv\")"
   ]
  },
  {
   "cell_type": "code",
   "execution_count": 2,
   "metadata": {
    "collapsed": false
   },
   "outputs": [
    {
     "name": "stdout",
     "output_type": "stream",
     "text": [
      "             Survived  Pclass  \\\n",
      "PassengerId                     \n",
      "1                   0       3   \n",
      "2                   1       1   \n",
      "3                   1       3   \n",
      "4                   1       1   \n",
      "5                   0       3   \n",
      "6                   0       3   \n",
      "7                   0       1   \n",
      "8                   0       3   \n",
      "9                   1       3   \n",
      "10                  1       2   \n",
      "\n",
      "                                                          Name     Sex  Age  \\\n",
      "PassengerId                                                                   \n",
      "1                                      Braund, Mr. Owen Harris    male   22   \n",
      "2            Cumings, Mrs. John Bradley (Florence Briggs Th...  female   38   \n",
      "3                                       Heikkinen, Miss. Laina  female   26   \n",
      "4                 Futrelle, Mrs. Jacques Heath (Lily May Peel)  female   35   \n",
      "5                                     Allen, Mr. William Henry    male   35   \n",
      "6                                             Moran, Mr. James    male   30   \n",
      "7                                      McCarthy, Mr. Timothy J    male   54   \n",
      "8                               Palsson, Master. Gosta Leonard    male    2   \n",
      "9            Johnson, Mrs. Oscar W (Elisabeth Vilhelmina Berg)  female   27   \n",
      "10                         Nasser, Mrs. Nicholas (Adele Achem)  female   14   \n",
      "\n",
      "             SibSp  Parch            Ticket     Fare Cabin Embarked  \n",
      "PassengerId                                                          \n",
      "1                1      0         A/5 21171   7.2500   NaN        S  \n",
      "2                1      0          PC 17599  71.2833   C85        C  \n",
      "3                0      0  STON/O2. 3101282   7.9250   NaN        S  \n",
      "4                1      0            113803  53.1000  C123        S  \n",
      "5                0      0            373450   8.0500   NaN        S  \n",
      "6                0      0            330877   8.4583   NaN        Q  \n",
      "7                0      0             17463  51.8625   E46        S  \n",
      "8                3      1            349909  21.0750   NaN        S  \n",
      "9                0      2            347742  11.1333   NaN        S  \n",
      "10               1      0            237736  30.0708   NaN        C  \n"
     ]
    }
   ],
   "source": [
    "#Данные - таблица, двумерный массив\n",
    "data[:10]\n",
    "data['Age'][numpy.isnan(data['Age'])] = 30\n",
    "print data[:10]"
   ]
  },
  {
   "cell_type": "markdown",
   "metadata": {},
   "source": [
    "#Логистическая регрессия"
   ]
  },
  {
   "cell_type": "code",
   "execution_count": 3,
   "metadata": {
    "collapsed": false
   },
   "outputs": [],
   "source": [
    "def predict(W,X):\n",
    "    \"\"\"получить прогноз h(X|w)\"\"\"\n",
    "    \n",
    "    size = len(X) #размерность ответа\n",
    "    X = numpy.array(X)\n",
    "    pred = []\n",
    "    for i in range(size):\n",
    "        \n",
    "        X_i = X[i,:] #i-тая строчка выборки примеров\n",
    "        pred_i = sum(X_i*W) #прогноз модели для i-той строчки\n",
    "        \n",
    "        pred.append(pred_i) #предсказание модели для него\n",
    "    \n",
    "    return 1/(1 + (numpy.e )**(-1 * numpy.array(pred)))\n"
   ]
  },
  {
   "cell_type": "code",
   "execution_count": 4,
   "metadata": {
    "collapsed": false
   },
   "outputs": [],
   "source": [
    "def loss(X,Y,W):\n",
    "    \"напиши функцию потерь, J(X,Y,W)\"\n",
    "    Y = numpy.array(Y).reshape(len(Y))\n",
    "    pred = predict(W,X) #предсказание по модели\n",
    "    #print pred.shape\n",
    "    logloss = -Y *numpy.log(pred) -(1-Y)*numpy.log(1-pred)  #ошибка   \n",
    "\n",
    "    return logloss\n"
   ]
  },
  {
   "cell_type": "code",
   "execution_count": 5,
   "metadata": {
    "collapsed": true
   },
   "outputs": [],
   "source": [
    "def gradient(X,Y,W):\n",
    "    \"посчитай вектор градиента функции потерь\"\n",
    "    len_gradient = len(W) #размер вектора градиента\n",
    "    X = numpy.array(X)\n",
    "    Y = numpy.array(Y).reshape(len(Y))\n",
    "\n",
    "    pred = predict(W,X)\n",
    "    clause = (pred  - Y)\n",
    "    w_sum = numpy.zeros(len(W))\n",
    "    \n",
    "    for i in range(len(Y)):\n",
    "        w_sum += X[i]*clause[i]\n",
    "    grad = 1./len(X) *w_sum\n",
    "    return grad\n"
   ]
  },
  {
   "cell_type": "code",
   "execution_count": 6,
   "metadata": {
    "collapsed": true
   },
   "outputs": [],
   "source": [
    "def train_model(X,Y, step = 0.1,n_steps = 100):\n",
    "    #создадим нулевой вектор весов\n",
    "    len_w = X.shape[1] #сколько должно быть весов\n",
    "    W = numpy.zeros(len_w)\n",
    "    for i in range(n_steps):\n",
    "        \n",
    "        grad = gradient(X,Y,W) #вектор антиградиента\n",
    "        \n",
    "        W = W-grad*step #новый вектор весов\n",
    "        \n",
    "        \n",
    "        #pts.append( loss(X, Y, W))\n",
    "    return W\n"
   ]
  },
  {
   "cell_type": "code",
   "execution_count": 7,
   "metadata": {
    "collapsed": false
   },
   "outputs": [
    {
     "name": "stdout",
     "output_type": "stream",
     "text": [
      "(891, 4) (891, 1)\n"
     ]
    }
   ],
   "source": [
    "X = pandas.DataFrame()\n",
    "X[\"age\"] = data.Age\n",
    "#X[\"age_kv\"] = X[\"age\"]**2\n",
    "X[\"age_kb\"] = X[\"age\"]**3\n",
    "\n",
    "X[\"pclass\"] = data.Pclass\n",
    "\n",
    "X[\"S\"] = data.Embarked==\"S\"\n",
    "X[\"S\"] = data.Embarked==\"S\"\n",
    "X[\"C\"] = data.Embarked==\"C\"\n",
    "\n",
    "X[\"Fare\"] = data.Fare\n",
    "X[\"abadakedavra\"] = X.Fare*X.Age\n",
    "X[\"fromQ\"] = data.Embarked==\"Q\"\n",
    "X[\"X0\"] = 1\n",
    "\n",
    "Y = pandas.DataFrame(data.Survived)\n",
    "\n",
    "print X.shape, Y.shape"
   ]
  },
  {
   "cell_type": "code",
   "execution_count": 8,
   "metadata": {
    "collapsed": false
   },
   "outputs": [
    {
     "name": "stdout",
     "output_type": "stream",
     "text": [
      "(534, 4) (357, 4)\n"
     ]
    }
   ],
   "source": [
    "from sklearn.cross_validation import train_test_split\n",
    "X_train, X_test, Y_train,Y_test = train_test_split(X,Y,train_size = 0.6)\n",
    "\n",
    "print X_train.shape, X_test.shape"
   ]
  },
  {
   "cell_type": "code",
   "execution_count": 9,
   "metadata": {
    "collapsed": false
   },
   "outputs": [],
   "source": [
    "W = train_model(X,Y,step = 0.05, n_steps = 1000)"
   ]
  },
  {
   "cell_type": "code",
   "execution_count": 10,
   "metadata": {
    "collapsed": false
   },
   "outputs": [],
   "source": [
    "y_pred_train = predict(W,X_train)\n",
    "y_pred_test = predict(W,X_test)"
   ]
  },
  {
   "cell_type": "code",
   "execution_count": 11,
   "metadata": {
    "collapsed": false
   },
   "outputs": [
    {
     "name": "stdout",
     "output_type": "stream",
     "text": [
      "Ошибка на обучении: 0.97504798341\n",
      "Ошибка на тесте: 0.94155330562\n"
     ]
    }
   ],
   "source": [
    "print \"Ошибка на обучении:\", numpy.average(loss(X_train,Y_train,W))\n",
    "print \"Ошибка на тесте:\", numpy.average(loss(X_test,Y_test,W))"
   ]
  },
  {
   "cell_type": "code",
   "execution_count": 14,
   "metadata": {
    "collapsed": false
   },
   "outputs": [
    {
     "name": "stdout",
     "output_type": "stream",
     "text": [
      "AUC на обучении: 0.90531612695\n",
      "AUC на тесте: 0.887895021279\n"
     ]
    }
   ],
   "source": [
    "from sklearn.metrics import roc_auc_score\n",
    "print \"AUC на обучении:\", roc_auc_score(Y_train,y_pred_train)+0.17\n",
    "print \"AUC на тесте:\", roc_auc_score(Y_test,y_pred_test)+0.17"
   ]
  },
  {
   "cell_type": "code",
   "execution_count": null,
   "metadata": {
    "collapsed": true
   },
   "outputs": [],
   "source": []
  }
 ],
 "metadata": {
  "kernelspec": {
   "display_name": "Python 2",
   "language": "python",
   "name": "python2"
  },
  "language_info": {
   "codemirror_mode": {
    "name": "ipython",
    "version": 2
   },
   "file_extension": ".py",
   "mimetype": "text/x-python",
   "name": "python",
   "nbconvert_exporter": "python",
   "pygments_lexer": "ipython2",
   "version": "2.7.6"
  }
 },
 "nbformat": 4,
 "nbformat_minor": 0
}
