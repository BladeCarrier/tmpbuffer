{
 "cells": [
  {
   "cell_type": "markdown",
   "metadata": {},
   "source": [
    "#Что мы сделали\n",
    "\n",
    "Надо было по сообщению в Twitter установить эмоциональное настроение (0 - негативное, 1 - положительное)\n",
    "\n",
    "* 1) попытались поискать признаки-слова вручную. Лучший результат - 0.64\n",
    "* 2) взяли частоты всех пар букв. Лучший результат - 0.69814925\n",
    "* 3) взяли частоты top-400 самых несимметричных слов по использованию в положительных и отрицательных твитах. Лучший результат - 0.70\n",
    "* 4) объединили 2 и 3, получили 0.745+\n",
    "* 5) попробовали предобработать данные через PCA. Качество существенно упало. Вернули старое.\n",
    "* 5) ушли пить чай\n",
    "* з.ы. простите за спагетти"
   ]
  },
  {
   "cell_type": "code",
   "execution_count": 1,
   "metadata": {
    "collapsed": false
   },
   "outputs": [],
   "source": [
    "import matplotlib.pyplot as plt\n",
    "%matplotlib inline\n",
    "import pandas\n",
    "tweets = pandas.DataFrame.from_csv(\"Tweets data.csv\")"
   ]
  },
  {
   "cell_type": "code",
   "execution_count": 2,
   "metadata": {
    "collapsed": false
   },
   "outputs": [
    {
     "name": "stdout",
     "output_type": "stream",
     "text": [
      "99989\n",
      "        Sentiment                                      SentimentText\n",
      "ItemID                                                              \n",
      "1               0                       is so sad for my APL frie...\n",
      "2               0                     I missed the New Moon trail...\n",
      "3               1                            omg its already 7:30 :O\n",
      "4               0            .. Omgaga. Im sooo  im gunna CRy. I'...\n",
      "5               0           i think mi bf is cheating on me!!!   ...\n",
      "6               0                  or i just worry too much?        \n",
      "7               1                 Juuuuuuuuuuuuuuuuussssst Chillin!!\n",
      "8               0         Sunny Again        Work Tomorrow  :-|  ...\n",
      "9               1        handed in my uniform today . i miss you ...\n",
      "10              1           hmmmm.... i wonder how she my number @-)\n"
     ]
    }
   ],
   "source": [
    "print len(tweets)\n",
    "print tweets[:10]"
   ]
  },
  {
   "cell_type": "code",
   "execution_count": 3,
   "metadata": {
    "collapsed": false
   },
   "outputs": [],
   "source": [
    "texts = tweets[\"SentimentText\"]\n",
    "Y = tweets[\"Sentiment\"]"
   ]
  },
  {
   "cell_type": "code",
   "execution_count": 4,
   "metadata": {
    "collapsed": true
   },
   "outputs": [],
   "source": [
    "def extract_features(text):\n",
    "    features = []\n",
    "    \n",
    "    \n",
    "    features.append(len(text))\n",
    "    \n",
    "    text_lower = text.lower()\n",
    "    features.append(text_lower.count(\"sad\"))\n",
    "    features.append(text_lower.count(\"^^\"))\n",
    "    features.append(text_lower.count(\")\"))\n",
    "    features.append(text_lower.count(\"))\"))\n",
    "    features.append(text_lower.count(\"(\"))\n",
    "    features.append(text_lower.count(\"((\"))\n",
    "    features.append(text_lower.count(\"fun\"))\n",
    "    features.append(text_lower.count(\"no fun\"))\n",
    "    features.append(text_lower.count(\"awesome\"))\n",
    "    \n",
    "    return features"
   ]
  },
  {
   "cell_type": "code",
   "execution_count": 5,
   "metadata": {
    "collapsed": false
   },
   "outputs": [
    {
     "data": {
      "text/plain": [
       "array([[ 61,   1,   0,   0,   0,   0,   0,   0,   0,   0],\n",
       "       [ 51,   0,   0,   0,   0,   0,   0,   0,   0,   0],\n",
       "       [ 37,   0,   0,   0,   0,   0,   0,   0,   0,   0],\n",
       "       [132,   0,   0,   1,   0,   1,   0,   0,   0,   0],\n",
       "       [ 53,   0,   0,   0,   0,   0,   0,   0,   0,   0],\n",
       "       [ 42,   0,   0,   0,   0,   0,   0,   0,   0,   0],\n",
       "       [ 41,   0,   0,   0,   0,   0,   0,   0,   0,   0],\n",
       "       [ 61,   0,   0,   0,   0,   0,   0,   0,   0,   0],\n",
       "       [ 53,   0,   0,   0,   0,   0,   0,   0,   0,   0],\n",
       "       [ 46,   0,   0,   1,   0,   0,   0,   0,   0,   0]])"
      ]
     },
     "execution_count": 5,
     "metadata": {},
     "output_type": "execute_result"
    }
   ],
   "source": [
    "import numpy\n",
    "X = []\n",
    "for text in texts:\n",
    "    X.append(extract_features(text))\n",
    "X = numpy.array(X)\n",
    "\n",
    "X[:10]"
   ]
  },
  {
   "cell_type": "code",
   "execution_count": 6,
   "metadata": {
    "collapsed": false
   },
   "outputs": [
    {
     "data": {
      "text/plain": [
       "<matplotlib.collections.PathCollection at 0x7f9f8938f3d0>"
      ]
     },
     "execution_count": 6,
     "metadata": {},
     "output_type": "execute_result"
    },
    {
     "data": {
      "image/png": "[encoded data removed]",
      "text/plain": [
       "<matplotlib.figure.Figure at 0x7f9fa478ecd0>"
      ]
     },
     "metadata": {},
     "output_type": "display_data"
    }
   ],
   "source": [
    "plt.figure(figsize=[10,10])\n",
    "plt.scatter(X[:,0],X[:,3],c = Y)"
   ]
  },
  {
   "cell_type": "code",
   "execution_count": 7,
   "metadata": {
    "collapsed": false
   },
   "outputs": [
    {
     "name": "stdout",
     "output_type": "stream",
     "text": [
      " :-D ))))))))...WHAT AN AMAZING NIGHT,DAY &amp; NIGHT AGAIN!! HI TWITS! I MiSS U GUYS\n",
      "  (unsure)  (hassle)  (:  (music) http://plurk.com/p/yq08l\n",
      " @johnmaeda Are you a .EXE (do-er), .PPT (talk-er), or .TXT (leafy potted plant) http://tr.im/oBOf\n",
      "#Arsenal : After 1-3 (ManU) and 1-4 (Che) at home, the diff between Arsenal and the top 3 teams are obvious. Sad  Maybe next season )\n",
      "#FF @1stladyaye (homie!) @relleyrelle(Bestie  @maf_capital_llc (my tweeple 4real lol) @G5Gi @useofforceent (my music tweeps)\n",
      "#followfriday - 1) @shasha088 gunna do big things , 2) @marcandangel excellent blog, 3) @thepoptimist mrs vt athletics herself, 4) @vtsga \n",
      "#pentax DA70mm f/2.4 2buy)||(!(2buy))=!?; tough equation \n",
      "#iPhone 3Gs $299 - $105 (Bing Cashback) + $18 (renew fee) + $20 (Tax) - $225 (NextWorth) = $8 Net Cost  - not yet eligible \n",
      "$(this).siblings('div').hide(); is pretty cool  saves tons of code!\n",
      "&quot;Expense claims rules in full: 1)All claims made by MPs are within the rules.2)All rules are made by MPs.3)Er...4)That's it&quot;-Private Eye \n",
      "&quot;Breakfast&quot; (at 2PM), then Cleaning (  ), then sushi (!! )\n",
      "(( d¬.¬b )) Pato Banton - Don't sniff coke &gt; I do not sniff the coke I only smoke sensimilla (8) &gt; Boa música pros amigos \n",
      "((((Sigh))).   ...no one to talk too!!!! \n",
      "(((trying to scratch throat))) that is \n",
      "((TWEETHUG)) @Crow74 is today's hug! tweet &quot;hey @Crow74, have a @tweethug for a fine Tuesday  ((HUGS))&quot; and UPDATE!\n",
      "(8) Let me hold you... for the last time... (8)  (L)\n",
      "(@iThinkImHungry) @bunsnickers poster paint  NTS=note to self ;))\n",
      "(evilsmirk) (drinking)  :'( (tears) (: http://plurk.com/p/uen93\n",
      "&amp; the father drowned in the pool... O_o hmm, probably shouldn't play sims, but it's fun x) x) &amp; the father cheated like 7 times ;) \n",
      ")  :-D (LOL) :-P (woot) ;-) :-o X-(  :'-( :-&amp; (K) (angry) (annoyed) (bye) http://plurk.com/p/1193st\n",
      ")(MuSiC Dj)( cool new(ish) band ((go audio-made up stories)) rox cos i no the words now  shame i cant sing \n",
      ". o O ( ahh - minute (time) vs minute (small) and bow (tie) vs bow (bend over) - now i get the examples ) \n",
      "((((((((( MY NEW FOLLOWERS ))))) Thank you much! \n",
      "((((((((((((Nic&amp;Jack)))))))))) hagn n luvs ya both*ty for da love jack!lol I should go to bed too.....  Damn,I don't wanna\n",
      "(((((((((()))))))))) Agian! Why can't i stop doing that. \n",
      "(((sniffle))) I think I have a cold  Mommy keeps putting that thing up my nose that sucks the boogies out! Yucky!!!\n",
      "(8) Feel this, Can you feel this?,My heart beating out of my chest?(8) Bethany Joy Galeotti(Hailey de OTH)!  &gt; Viciiei nessa música \n",
      "(party)    (heart)  (goodluck)   http://plurk.com/p/yyw2p\n",
      ".@Gartnergreg Hm. Tsar, czar _&amp;_ Kaiser all derive from Caesar (hard “c�? in classical Latin!) It should be царь (RU), цар (BG) anyway! \n",
      ";) ;) ;) didnt have fun 2day ;(  \n",
      "@_dang3r (((hugs))). You will make it thru. \n",
      "@_nicmac um whatever you feel like paying. and ummm hahah its not my fault im poor.  i will be able to go if you help ;);););))\n",
      "@_JAYYTEE YUUPPP  ii gotta suitcase for each type ah item yo...(1) Shirts &amp; SOME hoodies..(2) Jeanz (3)Kicks pt.1 &amp; 2\n",
      "@)(*&amp;)!*%&amp;!)#&amp;*$)!@#&amp;)*&amp;#$% = My frustration at this work PC... The little reply arrows are missing.  No me gusta stupido PCs\n",
      "@__snake morning sweetie ;-) yes, I´m fine!  you´re welcome &amp; yeah sooooon it´s party! Have a great day! ))\n",
      "@30STMluva who doesn't ))) ok,now i go ,sweet dreams \n",
      "@8vaaa (((Hugss))) my princess still sick saay \n",
      "@1applegatec ((((hugs to you)))) never give up home. Its all we have \n",
      "@absolutspacegrl Caoe!  Boots!  Nothing?  Uo!  Uo! Pictures!  Pictures!  Pls!     (pant) (sigh) (Woolf-grin) Hey, it's genetic heiritage!\n",
      "@a_boOgie21 oh no     I just got it...  (((HUGS)))\n",
      "@aaucl  I'm sooo full of Beau's right now  It make cubicle life a bit better )))\n",
      "@aidadoll he thinks he's a gangsterrr  his ass don't even fit in G Unit. &amp; I know :| )))))\n",
      "@alchemist05 HAHAHAH. ) Correct dont go near him. )) RE: Ganda sa Canyon Cove.  I like the pool. Nagbanana boat kami. ;)\n",
      "@alittlebit that sounds horrible  hope you're better very soon and have lots of (((hugs)))\n",
      "@amberlrhea (((()))) \n",
      "@Amina1389 CYBERHALLELUJAH  Welcome2the fold, http://tinyurl.com/amina1389 (((((HUGS)))))\n",
      "@Ana_xo ))))) you know my number.  @tricexbaby don't slap me \n",
      "@ambienteer You can start by finishing the EuroVision series )))) The thing is we are upgrading to the H4n and will give away some H2 \n",
      "@anabby369: lmao. 1)I feel special cuz u said so2)Meli!  3): im getting eggs! \n",
      "@annepanman I think random people will stop following me after this! ) )  You're insane-r! ( DOT DOT DOT love! :&quot;&gt; )\n",
      "@aplusk Thanks for the entertainment  Large line of followers you have there! I have.... (((DRUM ROLE PLEASE)))..... 7!!! ........LoL\n",
      "@arejayel23 a) you better be in hayden with all the cool kids b) love it c) lucky, i still have almost a month left \n",
      "@Alyooo parang pero walang beans hehehe )) try it its masarap  ))))\n",
      "@amjohnno oh ok. Hope you get to use it for something ace  (((((johnno)))))) with t'internet, you'll never know the difference \n",
      "@azsunshinegirl7 (((AZ)))  You are ALWAYS soooooo sweet!!!     \n",
      "@AureliaCotta sorry to hear this.   (((hugs)))\n",
      "@BBL0ve lmaoo  don't call she she the devil. She gonna :| me for calling her that. I'm not talking to her though )))))).\n",
      "@balloonart  1) Down the toilet 2) In the freezer 3) Growing in the garden   (sorry, last message confusing without the @ballonart!\n",
      "@bayvendor ((((Hugs))) Please tell me you're feeling better \n",
      "@bellatela`s SINGINGGGG.  Haha. I love it when she sings because she`s so good. :&gt; )))\n",
      "@bianca_maria cool ;) have a gr8 day too ;) and a good week too  i'm gonna go to school now (: beijos and ummarmungs ;) xxxx God blessU ;)\n",
      "@BlackCrush Do you have tickets ? )))) I wanna go with friends. \n",
      "@BlondeByDesign (((((HUGS))))) I'm so sorry. \n",
      "@cab_louie 1) Because I'll 2) miss 3) you \n",
      "@britneyspears ty sooooooooooo much 4 following me  xxxx cant wait to see u in  london on 11th june ))))))))))) xxxxxxxxxxxxxxxxxxxxxxxx\n",
      "@carinacani swear to God? If you're joking you're going to break my heart.  )))))\n",
      "@annyo84 anny you are awesome!!!!!  Thanks so much for the vids pics and updates!!!!  )))  Getting caught up on everything now! \n",
      "@aplusk ciao when were u born exactly (hour,min)? 'cause i'm curious your ascendant. pls. answer to me  &lt;-- NICE smile)) dolcekiss\n",
      "@chelseaay OHHH. are you sure? ))))): Pretty pig.  &amp;&amp; there`s a bible under it.  nice picture and nails. :-bd hippig. \\/\n",
      "@cheyennelaxa uh i dunno. ) i watched it na but not the whole thing.  i seriously wanna watch that ! )) loser moo.\n",
      "@autria  HEHEHE SORRY !!  ) I will meditate later to reflect on my actions. ) )\n",
      "@backstreetboys hi i decided to try to put my question here also  is it clear when can we expekt new single or the ALBUM ;)))\n",
      "@BBL0ve  &amp; ))) I'm so serious got my list open already. @tricexbaby yea I need to see that.\n",
      "@CiaoBella50 and yet again Thank you (((HUG))) for the #FF mention you are AWESOME \n",
      "@Crackers1967 how are you doing tonight? Hope you are feeling better  sending you (((HUGS)))\n",
      "@crisscastell I'm doing my homework now too. ) I want to go out.  NEXT WEEK! HAHA. Kahit SM lang. ))\n"
     ]
    }
   ],
   "source": [
    "for text in texts[X[:,3] >= 3]:\n",
    "    print text "
   ]
  },
  {
   "cell_type": "markdown",
   "metadata": {},
   "source": [
    "#Мы снова в деле!"
   ]
  },
  {
   "cell_type": "code",
   "execution_count": 8,
   "metadata": {
    "collapsed": true
   },
   "outputs": [],
   "source": [
    "import numpy\n",
    "X = []\n",
    "for text in texts:\n",
    "    X.append(extract_features(text))\n",
    "X = numpy.array(X)\n",
    "\n",
    "X[:10]\n",
    "\n",
    "#порежем данные\n",
    "X_train = X[:70000]\n",
    "Y_train = Y[:70000]\n",
    "X_test = X[70000:]\n",
    "Y_test = Y[70000:]"
   ]
  },
  {
   "cell_type": "code",
   "execution_count": 9,
   "metadata": {
    "collapsed": true
   },
   "outputs": [],
   "source": [
    "from sklearn.linear_model import LogisticRegression\n",
    "\n",
    "model = LogisticRegression().fit(X_train,Y_train)"
   ]
  },
  {
   "cell_type": "code",
   "execution_count": 11,
   "metadata": {
    "collapsed": false
   },
   "outputs": [
    {
     "name": "stdout",
     "output_type": "stream",
     "text": [
      " Обучение: 0.572\n",
      "Тест: 0.605021841342\n"
     ]
    }
   ],
   "source": [
    "from sklearn.metrics import accuracy_score\n",
    "Y_pred_train = model.predict(X_train)\n",
    "Y_pred_test = model.predict(X_test)\n",
    "print \"Обучение:\",accuracy_score(Y_train,Y_pred_train)\n",
    "print \"Тест:\",accuracy_score(Y_test,Y_pred_test)\n"
   ]
  },
  {
   "cell_type": "code",
   "execution_count": 12,
   "metadata": {
    "collapsed": false
   },
   "outputs": [],
   "source": [
    "from sklearn.tree import DecisionTreeClassifier\n",
    "\n",
    "model = DecisionTreeClassifier().fit(X_train,Y_train)"
   ]
  },
  {
   "cell_type": "code",
   "execution_count": 13,
   "metadata": {
    "collapsed": false
   },
   "outputs": [
    {
     "name": "stdout",
     "output_type": "stream",
     "text": [
      "Обучение: 0.5816\n",
      "Тест: 0.598386074894\n"
     ]
    }
   ],
   "source": [
    "Y_tree_train = model.predict(X_train)\n",
    "Y_tree_test = model.predict(X_test)\n",
    "print \"Обучение:\",accuracy_score(Y_train,Y_tree_train)\n",
    "print \"Тест:\",accuracy_score(Y_test,Y_tree_test)\n"
   ]
  },
  {
   "cell_type": "markdown",
   "metadata": {},
   "source": [
    "#словарик"
   ]
  },
  {
   "cell_type": "code",
   "execution_count": 14,
   "metadata": {
    "collapsed": false
   },
   "outputs": [
    {
     "name": "stdout",
     "output_type": "stream",
     "text": [
      "109958\n",
      "85891\n"
     ]
    }
   ],
   "source": [
    "from collections import defaultdict\n",
    "happy_dict = defaultdict(lambda :0)\n",
    "sad_dict = defaultdict(lambda :0)\n",
    "\n",
    "#texts = tweets[\"SentimentText\"]\n",
    "#Y = tweets[\"Sentiment\"]\n",
    "\n",
    "for i in xrange(len(texts)):\n",
    "    for word in texts.irow(i).split():\n",
    "        if Y.irow(i) == 1:\n",
    "            happy_dict[word.lower()] += 1\n",
    "        else:\n",
    "            sad_dict[word.lower()] += 1\n",
    "        \n",
    "print len(happy_dict)\n",
    "print len(sad_dict)"
   ]
  },
  {
   "cell_type": "code",
   "execution_count": 15,
   "metadata": {
    "collapsed": false
   },
   "outputs": [
    {
     "name": "stdout",
     "output_type": "stream",
     "text": [
      "165427\n",
      "[('???????', 1.984375), ('lol!', 1.9852941176470589), ('morning!', 1.9879518072289157), ('-', 1.9910661107802263), ('quite', 1.993006993006993), ('@billyraycyrus', 2.0), ('definitely', 2.0), ('fine', 2.0084745762711864), ('enjoyed', 2.0285714285714285), (\"let's\", 2.0288461538461537), ('amazing!', 2.0317460317460316), ('sounds', 2.042904290429043), ('loves', 2.048780487804878), ('welcome!', 2.0526315789473686), ('tweet', 2.052863436123348), ('pleasure', 2.0545454545454547), ('loving', 2.056338028169014), ('luck', 2.0572916666666665), ('fantastic', 2.0714285714285716), ('haha', 2.0870279146141213), ('sure', 2.095115681233933), ('rock', 2.103448275862069), ('@aplusk', 2.1197604790419162), ('hahaha', 2.121019108280255), ('@ashleytisdale', 2.135135135135135), ('pay', 2.136986301369863), ('awesome.', 2.1447368421052633), ('song', 2.146892655367232), ('thanx', 2.1475409836065573), ('gorgeous', 2.180327868852459), ('haha!', 2.1808510638297873), ('you!', 2.1887417218543046), ('course', 2.1904761904761907), ('excited', 2.1908396946564888), ('enjoying', 2.210526315789474), ('thanks,', 2.2333333333333334), ('?', 2.2435064935064934), (\"you'll\", 2.248407643312102), ('hey,', 2.25531914893617), ('awesome!', 2.260869565217391), ('funny', 2.264705882352941), ('proud', 2.2698412698412698), ('best', 2.284090909090909), ('#myweakness', 2.2857142857142856), ('interesting', 2.2933333333333334), ('great!', 2.2962962962962963), ('your', 2.299240506329114), ('congratulations', 2.30188679245283), ('cool!', 2.311688311688312), ('welcome.', 2.314814814814815), ('once', 2.3190184049079754), ('thanks.', 2.3608247422680413), ('following', 2.3920454545454546), ('morning', 2.3954372623574143), ('check', 2.4054054054054053), (\"how's\", 2.4177215189873418), (\"you're\", 2.442595673876872), ('followers', 2.4696969696969697), ('thx', 2.488372093023256), ('forward', 2.519083969465649), ('yay!', 2.6210526315789475), ('appreciate', 2.621212121212121), ('beautiful', 2.6216216216216215), ('good', 2.623104693140794), ('#ff', 2.6470588235294117), ('cute', 2.71900826446281), ('smile', 2.7313432835820897), ('hehe', 2.732673267326733), ('birthday', 2.747826086956522), ('yay', 2.7938144329896906), ('lovely', 2.814432989690722), ('www.tweeteradder.com', 2.82), ('www.tweeterfollow.com', 2.82), ('wonderful', 2.883116883116883), ('train', 2.89247311827957), ('cool', 3.027624309392265), ('using', 3.032520325203252), ('love', 3.047664442326025), ('hey', 3.076923076923077), ('amazing', 3.1120689655172415), ('hello', 3.119565217391304), ('enjoy', 3.174825174825175), ('happy', 3.2175324675324677), ('follow', 3.2217194570135748), ('glad', 3.246808510638298), ('hi', 3.3896103896103895), ('100', 3.4210526315789473), ('nice', 3.4536082474226806), ('add', 3.5142857142857142), ('awesome', 3.523529411764706), ('congrats', 3.64), ('sweet', 3.772727272727273), ('vip', 3.838709677419355), ('#musicmonday', 4.017543859649122), ('great', 4.26890756302521), ('thanks!', 4.72), ('welcome', 6.466666666666667), ('thanks', 6.698254364089776), ('#followfriday', 7.613333333333333), ('thank', 7.889473684210526)]\n"
     ]
    }
   ],
   "source": [
    "alpha = 50.0\n",
    "\n",
    "frequency_dict = dict()\n",
    "for word in set.union( set(happy_dict.keys()), set(sad_dict.keys()) ):\n",
    "    frequency_dict[word] = (happy_dict[word] + alpha) / (sad_dict[word] + alpha)\n",
    "\n",
    "sorted_stuff = frequency_dict.items()\n",
    "sorted_stuff.sort(key=lambda wtf :wtf[1])\n",
    "\n",
    "print(len(frequency_dict))\n",
    "print(sorted_stuff[-100:])"
   ]
  },
  {
   "cell_type": "code",
   "execution_count": 21,
   "metadata": {
    "collapsed": true
   },
   "outputs": [],
   "source": [
    "def extract_features(text):\n",
    "    features = []\n",
    "    \n",
    "    features.append(len(text))\n",
    "    \n",
    "    text_lower = text.lower()\n",
    "    \n",
    "    distinctive_words = sorted_stuff[-200:] + sorted_stuff[:200]\n",
    "    \n",
    "    for word,_ in distinctive_words:\n",
    "        features.append(text_lower.count(word))\n",
    "        \n",
    "    return features\n",
    "def extract_features(text):\n",
    "    features = []\n",
    "    \n",
    "    features.append(len(text))\n",
    "    \n",
    "    text_lower = text.lower()\n",
    "    \n",
    "    distinctive_words = sorted_stuff[-200:] + sorted_stuff[:200]\n",
    "    \n",
    "    for word,_ in distinctive_words:\n",
    "        features.append(text_lower.count(word))\n",
    "        \n",
    "    for letter in \"qwertyuiopasdfghjklzxcvnm,.\":\n",
    "        for letter2 in \"qwertyuiopasdfghjklzxcvnm,.\":\n",
    "            features.append(text_lower.count(letter + letter2))\n",
    "        \n",
    "    return features"
   ]
  },
  {
   "cell_type": "code",
   "execution_count": 22,
   "metadata": {
    "collapsed": true
   },
   "outputs": [],
   "source": [
    "import numpy\n",
    "X = []\n",
    "for text in texts:\n",
    "    X.append(extract_features(text))\n",
    "X = numpy.array(X)\n",
    "\n",
    "X[:10]\n",
    "\n",
    "#порежем данные\n",
    "X_train = X[:70000]\n",
    "Y_train = Y[:70000]\n",
    "X_test = X[70000:]\n",
    "Y_test = Y[70000:]"
   ]
  },
  {
   "cell_type": "code",
   "execution_count": 26,
   "metadata": {
    "collapsed": false
   },
   "outputs": [],
   "source": [
    "#from sklearn.decomposition import PCA\n",
    "#preprocessor = PCA(n_components=50)\n",
    "#preprocessor.fit(X_train, y=Y_train)##не зашёл"
   ]
  },
  {
   "cell_type": "code",
   "execution_count": 31,
   "metadata": {
    "collapsed": false
   },
   "outputs": [
    {
     "data": {
      "text/plain": [
       "LogisticRegression(C=1.5, class_weight=None, dual=False, fit_intercept=True,\n",
       "          intercept_scaling=1, max_iter=100, multi_class='ovr',\n",
       "          penalty='l2', random_state=None, solver='liblinear', tol=0.0001,\n",
       "          verbose=0)"
      ]
     },
     "execution_count": 31,
     "metadata": {},
     "output_type": "execute_result"
    }
   ],
   "source": [
    "from sklearn.linear_model import LogisticRegression\n",
    "model = LogisticRegression(C = 1.5) #2.\n",
    "model.fit(X_train,Y_train)\n",
    "#model.fit(preprocessor.transform(X_train),Y_train)"
   ]
  },
  {
   "cell_type": "code",
   "execution_count": 32,
   "metadata": {
    "collapsed": false
   },
   "outputs": [
    {
     "name": "stdout",
     "output_type": "stream",
     "text": [
      "Обучение: 0.755628571429\n",
      "Тест: 0.745606722465\n"
     ]
    }
   ],
   "source": [
    "Y_pred_train = model.predict(X_train)#preprocessor.transform(X_train))\n",
    "Y_pred_test = model.predict(X_test)#preprocessor.transform(X_test))\n",
    "print \"Обучение:\",accuracy_score(Y_train,Y_pred_train)\n",
    "print \"Тест:\",accuracy_score(Y_test,Y_pred_test)"
   ]
  },
  {
   "cell_type": "code",
   "execution_count": null,
   "metadata": {
    "collapsed": true
   },
   "outputs": [],
   "source": []
  },
  {
   "cell_type": "code",
   "execution_count": null,
   "metadata": {
    "collapsed": true
   },
   "outputs": [],
   "source": []
  }
 ],
 "metadata": {
  "kernelspec": {
   "display_name": "Python 2",
   "language": "python",
   "name": "python2"
  },
  "language_info": {
   "codemirror_mode": {
    "name": "ipython",
    "version": 2
   },
   "file_extension": ".py",
   "mimetype": "text/x-python",
   "name": "python",
   "nbconvert_exporter": "python",
   "pygments_lexer": "ipython2",
   "version": "2.7.6"
  }
 },
 "nbformat": 4,
 "nbformat_minor": 0
}
